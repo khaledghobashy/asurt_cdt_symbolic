{
 "cells": [
  {
   "cell_type": "markdown",
   "metadata": {},
   "source": [
    "# STANDALONE STUDY\n",
    "## **SPATIAL FOURBAR**\n",
    "-----------------"
   ]
  },
  {
   "cell_type": "markdown",
   "metadata": {},
   "source": [
    "## Environment Setup\n",
    "--------------------"
   ]
  },
  {
   "cell_type": "markdown",
   "metadata": {},
   "source": [
    "### Colab Session\n",
    "*Run if in a Colab Session Only!*"
   ]
  },
  {
   "cell_type": "markdown",
   "metadata": {},
   "source": [
    "#### Setting-up Colab Virtual Machine\n",
    "This will clone the package repository and install the needed modules into the Virtual Machine dedicated for the running notebook session."
   ]
  },
  {
   "cell_type": "code",
   "execution_count": null,
   "metadata": {},
   "outputs": [],
   "source": [
    "!git clone https://github.com/khaledghobashy/smbd.git\n",
    "!cd smbd/smbd/numenv/python/numerics/core/math_funcs/_cython_definitions && python setup.py build_ext -if\n",
    "!pip install sympy==1.4"
   ]
  },
  {
   "cell_type": "markdown",
   "metadata": {},
   "source": [
    "Adding package path to the python system path and creating a new folder, **smbd_project**, where we can store the model files and results."
   ]
  },
  {
   "cell_type": "code",
   "execution_count": null,
   "metadata": {},
   "outputs": [],
   "source": [
    "import os\n",
    "import sys\n",
    "\n",
    "pkg_path = '/content/smbd'\n",
    "sys.path.append(pkg_path)\n",
    "\n",
    "os.mkdir('smbd_project')\n",
    "os.chdir('smbd_project')"
   ]
  },
  {
   "cell_type": "markdown",
   "metadata": {},
   "source": [
    "#### Rendering SymPy in Colab\n",
    "Rendering SymPy equations in Colab requires the MathJax javascript library to be available within each cell output. The following defines an execution hook that loads it automatically each time you execute a cell."
   ]
  },
  {
   "cell_type": "code",
   "execution_count": null,
   "metadata": {},
   "outputs": [],
   "source": [
    "from IPython.display import Math, HTML\n",
    "\n",
    "def load_mathjax_in_cell_output():\n",
    "  display(HTML(\"<script src='https://www.gstatic.com/external_hosted/\"\n",
    "               \"mathjax/latest/MathJax.js?config=default'></script>\"))\n",
    "get_ipython().events.register('pre_run_cell', load_mathjax_in_cell_output)"
   ]
  },
  {
   "cell_type": "markdown",
   "metadata": {},
   "source": [
    "---------------------------------------------------------------"
   ]
  },
  {
   "cell_type": "markdown",
   "metadata": {},
   "source": [
    "### Local Session\n",
    "*Run if on your Local Machine!*</br>\n",
    "\n",
    "The ```pkg_path``` variable is where you have the repository on your machine and should be changed to where you cloned the repository.</br>\n",
    "*Uncomment the code below and change the ```pkg_path``` variable!*"
   ]
  },
  {
   "cell_type": "code",
   "execution_count": 1,
   "metadata": {},
   "outputs": [],
   "source": [
    "#import sys\n",
    "#pkg_path = '/path/to/smbd'\n",
    "#sys.path.append(pkg_path)"
   ]
  },
  {
   "cell_type": "markdown",
   "metadata": {},
   "source": [
    "---------------------------------------------------------------\n",
    "---------------------------------------------------------------"
   ]
  },
  {
   "cell_type": "markdown",
   "metadata": {},
   "source": [
    "Creating Project Directory"
   ]
  },
  {
   "cell_type": "code",
   "execution_count": 1,
   "metadata": {},
   "outputs": [],
   "source": [
    "from smbd.systems import standalone_project"
   ]
  },
  {
   "cell_type": "code",
   "execution_count": 3,
   "metadata": {},
   "outputs": [],
   "source": [
    "project = standalone_project()\n",
    "project.create()"
   ]
  },
  {
   "cell_type": "markdown",
   "metadata": {},
   "source": [
    "---------------------------------------------------------------\n",
    "---------------------------------------------------------------"
   ]
  },
  {
   "cell_type": "markdown",
   "metadata": {},
   "source": [
    "## **SYSTEM DESCRIPTION**\n",
    "-------------------------"
   ]
  },
  {
   "cell_type": "markdown",
   "metadata": {},
   "source": [
    "### **Important Note**\n",
    "The tool uses [euler-parameters](https://en.wikibooks.org/wiki/Multibody_Mechanics/Euler_Parameters) -which is a 4D unit quaternion- to represents bodies orientation in space. This makes the generalized coordinates used to fully define a body in space to be **7,** instead of **6**, it also adds an algebraic equation to the constraints that ensures the unity/normalization of the body quaternion. This is an important remark as the calculations of the degrees-of-freedom depends on it."
   ]
  },
  {
   "cell_type": "markdown",
   "metadata": {},
   "source": [
    "### **Summary**\n",
    "A four-bar linkage is the simplest movable closed chain linkage. It consists of four bodies, called bars or links, connected in a loop by four joints that gives the mechanism only 1 degree-of-freedom. More general information can be found on [wikipedia](https://en.wikipedia.org/wiki/Four-bar_linkage)."
   ]
  },
  {
   "cell_type": "markdown",
   "metadata": {},
   "source": [
    "### **Topology Layout**\n",
    "The mechanism consists of 3 Bodies + 1 Ground. Therefore, total system coordinates -including the ground- is $$n=n_b\\times7 = 4\\times7 = 28$$ \n",
    "where $n_b$ is the total number of bodies. The list of bodies is given below:\n",
    "- Crank $l_1$.\n",
    "- Connecting-Rod $l_2$.\n",
    "- Rocker $l_3$.\n",
    "\n",
    "The system connectivity is as follows:\n",
    "- Crank $l_1$ is connected to the ground by a revolute joint, resulting in constraint equations $n_{c,rev} = 5$\n",
    "- Connecting-Rod $l_2$ is connected to the Crank $l_1$ by a spherical joint, resulting in constraint equations $n_{c,sph} = 3$\n",
    "- Rocker $l_3$ is connected to Connecting-Rod $l_2$ by a universal joint, resulting in constraint equations $n_{c,uni} = 4$\n",
    "- Rocker $l_3$ is connected to the ground by a revolute joint, resulting in constraint equations $n_{c,tri} = 5$\n",
    "- Total free DOF is $$n-( n_{c,rev}+n_{c,sph}+n_{c,uni}+n_{c,P}+n_{c,g}) = 28-(10+3+4+(3\\times1)+7) = 28-27 = 1$$, where the $n_{c,P}$ and $n_{c,g}$ represents the constraints due to euler-parameters normalization equations and the ground-constraints respectively.\n",
    "- The Crank revolute joint is actuated by a rotational actuator, resulting in constraint equations $n_{c,act} = 1$\n",
    "\n",
    "| Joint Name  | Body i         | Body j         | Joint Type | $n_c$ |\n",
    "|:-----------:|:-------------- |:-------------- | ---------- | ----- |\n",
    "| a           | Ground         | Crank          | Revolute   | 5     |\n",
    "| b           | Crank          | Connecting-Rod | Spherical  | 3     |\n",
    "| c           | Connecting-Rod | Rocker         | Universal  | 4     |\n",
    "| d           | Rocker         | Ground         | Revolute   | 5     |"
   ]
  },
  {
   "cell_type": "markdown",
   "metadata": {},
   "source": [
    "---------------------------------------------------------------\n",
    "---------------------------------------------------------------"
   ]
  },
  {
   "cell_type": "markdown",
   "metadata": {},
   "source": [
    "## **SYMBOLIC TOPOLOGY**\n",
    "------------------------"
   ]
  },
  {
   "cell_type": "markdown",
   "metadata": {},
   "source": [
    "In this section, we create the symbolic topology that captures the topological layout that we just discussed.</br>\n",
    "Defining the topology is very simple. We start by importing the ```standalone_topology``` class and create a new instance that represents our symbolic model. Then we start adding the components we discussed earlier, starting by the bodies, then the joints, actuators and forces, and thats it.</br>\n",
    "These components will be represented symbolically, and therefore there is no need for any numerical inputs at this step.\n",
    "\n",
    "The system is stored in a form of a network graph that stores all the data needed for the assemblage of the system equations later. But even before the assemblage process, we can gain helpful insights about our system as well be shown.\n"
   ]
  },
  {
   "cell_type": "code",
   "execution_count": 1,
   "metadata": {},
   "outputs": [],
   "source": [
    "from smbd.systems import standalone_topology, configuration"
   ]
  },
  {
   "cell_type": "code",
   "execution_count": 2,
   "metadata": {},
   "outputs": [],
   "source": [
    "project_name = 'spatial_fourbar'"
   ]
  },
  {
   "cell_type": "code",
   "execution_count": 3,
   "metadata": {},
   "outputs": [],
   "source": [
    "sym_model = standalone_topology(project_name)"
   ]
  },
  {
   "cell_type": "markdown",
   "metadata": {},
   "source": [
    "### Adding Bodies"
   ]
  },
  {
   "cell_type": "code",
   "execution_count": 4,
   "metadata": {},
   "outputs": [],
   "source": [
    "sym_model.add_body('l1')\n",
    "sym_model.add_body('l2')\n",
    "sym_model.add_body('l3')"
   ]
  },
  {
   "cell_type": "markdown",
   "metadata": {},
   "source": [
    "### Adding Joints"
   ]
  },
  {
   "cell_type": "code",
   "execution_count": 5,
   "metadata": {},
   "outputs": [],
   "source": [
    "sym_model.add_joint.revolute('a','ground','rbs_l1')\n",
    "sym_model.add_joint.spherical('b','rbs_l1','rbs_l2')\n",
    "sym_model.add_joint.universal('c','rbs_l2','rbs_l3')\n",
    "sym_model.add_joint.revolute('d','rbs_l3','ground')"
   ]
  },
  {
   "cell_type": "markdown",
   "metadata": {},
   "source": [
    "### Adding Actuators"
   ]
  },
  {
   "cell_type": "code",
   "execution_count": 6,
   "metadata": {},
   "outputs": [],
   "source": [
    "sym_model.add_actuator.rotational_actuator('act', 'jcs_a')"
   ]
  },
  {
   "cell_type": "markdown",
   "metadata": {},
   "source": [
    "### Adding Forces"
   ]
  },
  {
   "cell_type": "code",
   "execution_count": 7,
   "metadata": {},
   "outputs": [],
   "source": [
    "#model.add_force.internal_force('force_name', 'body_1', 'body_2', mirror=False)"
   ]
  },
  {
   "cell_type": "markdown",
   "metadata": {
    "colab_type": "text",
    "id": "goKtOBuLd1Kh"
   },
   "source": [
    "### **SYMBOLIC CHARACTERISTICS**"
   ]
  },
  {
   "cell_type": "markdown",
   "metadata": {},
   "source": [
    "#### Topology Graph\n",
    "Visualizing the connectivity of the system as a network graph, where the nodes represent the bodies, and the edges represent the joints, forces and/or actuators between the bodies."
   ]
  },
  {
   "cell_type": "code",
   "execution_count": 8,
   "metadata": {},
   "outputs": [
    {
     "data": {
      "image/png": "[encoded data removed]",
      "text/plain": [
       "<Figure size 720x432 with 1 Axes>"
      ]
     },
     "metadata": {},
     "output_type": "display_data"
    }
   ],
   "source": [
    "sym_model.topology.draw_constraints_topology()"
   ]
  },
  {
   "cell_type": "markdown",
   "metadata": {},
   "source": [
    "Checking the system's number of generalized coordinates $n$ and number of constraints $n_c$."
   ]
  },
  {
   "cell_type": "code",
   "execution_count": 7,
   "metadata": {},
   "outputs": [
    {
     "data": {
      "text/latex": [
       "$\\displaystyle \\left( 28, \\  28\\right)$"
      ],
      "text/plain": [
       "(28, 28)"
      ]
     },
     "execution_count": 7,
     "metadata": {},
     "output_type": "execute_result"
    }
   ],
   "source": [
    "sym_model.topology.n, sym_model.topology.nc "
   ]
  },
  {
   "cell_type": "markdown",
   "metadata": {},
   "source": [
    "### **ASSEMBLING**"
   ]
  },
  {
   "cell_type": "markdown",
   "metadata": {},
   "source": [
    "This is the last step of the symbolic building process, where we make the system starts the assemblage process of the governing equations, which will be used then in the code generation for the numerical simulation, and also can be used for further symbolic manipulations.</br>\n",
    "\n",
    "*Note: The equations' notations will be discussed in the tool documentation files.*"
   ]
  },
  {
   "cell_type": "code",
   "execution_count": 8,
   "metadata": {},
   "outputs": [],
   "source": [
    "sym_model.assemble()"
   ]
  },
  {
   "cell_type": "markdown",
   "metadata": {},
   "source": [
    "#### Checking the System Equations"
   ]
  },
  {
   "cell_type": "code",
   "execution_count": 10,
   "metadata": {},
   "outputs": [
    {
     "data": {
      "text/latex": [
       "$\\displaystyle \\left[\\begin{matrix}{A({P_{ground}})} {\\bar{u}^{ground}_{jcs_a}} - {A({P_{rbs_l1}})} {\\bar{u}^{rbs_l1}_{jcs_a}} + {R_{ground}} - {R_{rbs_l1}}\\\\\\left({\\hat{i}_{{\\bar{M}^{ground}_{jcs_a}}}}\\right)^{T} \\left({A({P_{ground}})}\\right)^{T} {A({P_{rbs_l1}})} {\\hat{k}_{{\\bar{M}^{rbs_l1}_{jcs_a}}}}\\\\\\left({\\hat{j}_{{\\bar{M}^{ground}_{jcs_a}}}}\\right)^{T} \\left({A({P_{ground}})}\\right)^{T} {A({P_{rbs_l1}})} {\\hat{k}_{{\\bar{M}^{rbs_l1}_{jcs_a}}}}\\\\- \\sin{\\left(\\operatorname{UF_{mcs act}}{\\left(t \\right)} \\right)} \\left({\\hat{i}_{{\\bar{M}^{ground}_{jcs_a}}}}\\right)^{T} \\left({A({P_{ground}})}\\right)^{T} {A({P_{rbs_l1}})} {\\hat{i}_{{\\bar{M}^{rbs_l1}_{jcs_a}}}} + \\cos{\\left(\\operatorname{UF_{mcs act}}{\\left(t \\right)} \\right)} \\left({\\hat{j}_{{\\bar{M}^{ground}_{jcs_a}}}}\\right)^{T} \\left({A({P_{ground}})}\\right)^{T} {A({P_{rbs_l1}})} {\\hat{i}_{{\\bar{M}^{rbs_l1}_{jcs_a}}}}\\\\{A({P_{rbs_l1}})} {\\bar{u}^{rbs_l1}_{jcs_b}} - {A({P_{rbs_l2}})} {\\bar{u}^{rbs_l2}_{jcs_b}} + {R_{rbs_l1}} - {R_{rbs_l2}}\\\\{A({P_{rbs_l2}})} {\\bar{u}^{rbs_l2}_{jcs_c}} - {A({P_{rbs_l3}})} {\\bar{u}^{rbs_l3}_{jcs_c}} + {R_{rbs_l2}} - {R_{rbs_l3}}\\\\\\left({\\hat{i}_{{\\bar{M}^{rbs_l2}_{jcs_c}}}}\\right)^{T} \\left({A({P_{rbs_l2}})}\\right)^{T} {A({P_{rbs_l3}})} {\\hat{i}_{{\\bar{M}^{rbs_l3}_{jcs_c}}}}\\\\- {A({P_{ground}})} {\\bar{u}^{ground}_{jcs_d}} + {A({P_{rbs_l3}})} {\\bar{u}^{rbs_l3}_{jcs_d}} - {R_{ground}} + {R_{rbs_l3}}\\\\\\left({\\hat{i}_{{\\bar{M}^{rbs_l3}_{jcs_d}}}}\\right)^{T} \\left({A({P_{rbs_l3}})}\\right)^{T} {A({P_{ground}})} {\\hat{k}_{{\\bar{M}^{ground}_{jcs_d}}}}\\\\\\left({\\hat{j}_{{\\bar{M}^{rbs_l3}_{jcs_d}}}}\\right)^{T} \\left({A({P_{rbs_l3}})}\\right)^{T} {A({P_{ground}})} {\\hat{k}_{{\\bar{M}^{ground}_{jcs_d}}}}\\\\{R_{ground}}\\\\{P_{ground}} - {Pg_{ground}}\\\\- \\mathbb{I} + {P_{rbs_l1}}^{T} {P_{rbs_l1}}\\\\- \\mathbb{I} + {P_{rbs_l2}}^{T} {P_{rbs_l2}}\\\\- \\mathbb{I} + {P_{rbs_l3}}^{T} {P_{rbs_l3}}\\end{matrix}\\right]$"
      ],
      "text/plain": [
       "Matrix([\n",
       "[                                                                                                             A({P_{ground}})*{\\bar{u}^{ground}_{jcs_a}} - A({P_{rbs_l1}})*{\\bar{u}^{rbs_l1}_{jcs_a}} + {R_{ground}} - {R_{rbs_l1}}],\n",
       "[                                                                                                                                       Mbar_ground_jcs_a[:,(0, 1)].T*A({P_{ground}}).T*A({P_{rbs_l1}})*Mbar_rbs_l1_jcs_a[:,(2, 3)]],\n",
       "[                                                                                                                                       Mbar_ground_jcs_a[:,(1, 2)].T*A({P_{ground}}).T*A({P_{rbs_l1}})*Mbar_rbs_l1_jcs_a[:,(2, 3)]],\n",
       "[(-sin(UF_mcs_act(t)))*Mbar_ground_jcs_a[:,(0, 1)].T*A({P_{ground}}).T*A({P_{rbs_l1}})*Mbar_rbs_l1_jcs_a[:,(0, 1)] + cos(UF_mcs_act(t))*Mbar_ground_jcs_a[:,(1, 2)].T*A({P_{ground}}).T*A({P_{rbs_l1}})*Mbar_rbs_l1_jcs_a[:,(0, 1)]],\n",
       "[                                                                                                             A({P_{rbs_l1}})*{\\bar{u}^{rbs_l1}_{jcs_b}} - A({P_{rbs_l2}})*{\\bar{u}^{rbs_l2}_{jcs_b}} + {R_{rbs_l1}} - {R_{rbs_l2}}],\n",
       "[                                                                                                             A({P_{rbs_l2}})*{\\bar{u}^{rbs_l2}_{jcs_c}} - A({P_{rbs_l3}})*{\\bar{u}^{rbs_l3}_{jcs_c}} + {R_{rbs_l2}} - {R_{rbs_l3}}],\n",
       "[                                                                                                                                       Mbar_rbs_l2_jcs_c[:,(0, 1)].T*A({P_{rbs_l2}}).T*A({P_{rbs_l3}})*Mbar_rbs_l3_jcs_c[:,(0, 1)]],\n",
       "[                                                                                                            -A({P_{ground}})*{\\bar{u}^{ground}_{jcs_d}} + A({P_{rbs_l3}})*{\\bar{u}^{rbs_l3}_{jcs_d}} - {R_{ground}} + {R_{rbs_l3}}],\n",
       "[                                                                                                                                       Mbar_rbs_l3_jcs_d[:,(0, 1)].T*A({P_{rbs_l3}}).T*A({P_{ground}})*Mbar_ground_jcs_d[:,(2, 3)]],\n",
       "[                                                                                                                                       Mbar_rbs_l3_jcs_d[:,(1, 2)].T*A({P_{rbs_l3}}).T*A({P_{ground}})*Mbar_ground_jcs_d[:,(2, 3)]],\n",
       "[                                                                                                                                                                                                                      {R_{ground}}],\n",
       "[                                                                                                                                                                                                      {P_{ground}} - {Pg_{ground}}],\n",
       "[                                                                                                                                                                                                  -I + {P_{rbs_l1}}.T*{P_{rbs_l1}}],\n",
       "[                                                                                                                                                                                                  -I + {P_{rbs_l2}}.T*{P_{rbs_l2}}],\n",
       "[                                                                                                                                                                                                  -I + {P_{rbs_l3}}.T*{P_{rbs_l3}}]])"
      ]
     },
     "execution_count": 10,
     "metadata": {},
     "output_type": "execute_result"
    }
   ],
   "source": [
    "sym_model.topology.pos_equations"
   ]
  },
  {
   "cell_type": "markdown",
   "metadata": {},
   "source": [
    "---------------------------------------------------------------\n",
    "---------------------------------------------------------------"
   ]
  },
  {
   "cell_type": "markdown",
   "metadata": {},
   "source": [
    "## **SYSTEM CONFIGURATION**\n",
    "---------------------------"
   ]
  },
  {
   "cell_type": "markdown",
   "metadata": {},
   "source": [
    "In this step we define a symbolic configuration of our symbolic topology. As you may have noticed in the symbolic topology building step, we only cared about the **_topology_**, thats is the system bodies and their connectivity, and we did not care explicitly with how these components are configured in space.</br>\n",
    "\n",
    "In order to create a valid numerical simulation session, we have to provide the system with its numerical configuration needed, for example, the joints' locations and orientations. The symbolic topology in its raw form will require you to manually enter all these numerical arguments, which can be cumbersome even for smaller systems. This can be checked by checking the configuration inputs of the symbolic configuration as ```sym_config.config.input_nodes```\n",
    "\n",
    "Here we start by stating the symbolic inputs we wish to use instead of the default inputs set, and then we define the relation between these newly defined arguments and the original ones. \n",
    "\n",
    "**_The details of this process will be provided in the documentation._**"
   ]
  },
  {
   "cell_type": "code",
   "execution_count": 9,
   "metadata": {},
   "outputs": [],
   "source": [
    "# Symbolic configuration name.\n",
    "config_name = '%s_cfg'%project_name\n",
    "\n",
    "# Symbolic configuration instance.\n",
    "sym_config = configuration(config_name, sym_model)"
   ]
  },
  {
   "cell_type": "code",
   "execution_count": 10,
   "metadata": {},
   "outputs": [
    {
     "data": {
      "text/plain": [
       "['ax1_jcs_a',\n",
       " 'pt1_jcs_a',\n",
       " 'UF_mcs_act',\n",
       " 'ax1_jcs_b',\n",
       " 'pt1_jcs_b',\n",
       " 'ax1_jcs_c',\n",
       " 'ax2_jcs_c',\n",
       " 'pt1_jcs_c',\n",
       " 'ax1_jcs_d',\n",
       " 'pt1_jcs_d',\n",
       " 'R_rbs_l1',\n",
       " 'P_rbs_l1',\n",
       " 'Rd_rbs_l1',\n",
       " 'Pd_rbs_l1',\n",
       " 'Rdd_rbs_l1',\n",
       " 'Pdd_rbs_l1',\n",
       " 'm_rbs_l1',\n",
       " 'Jbar_rbs_l1',\n",
       " 'R_rbs_l2',\n",
       " 'P_rbs_l2',\n",
       " 'Rd_rbs_l2',\n",
       " 'Pd_rbs_l2',\n",
       " 'Rdd_rbs_l2',\n",
       " 'Pdd_rbs_l2',\n",
       " 'm_rbs_l2',\n",
       " 'Jbar_rbs_l2',\n",
       " 'R_rbs_l3',\n",
       " 'P_rbs_l3',\n",
       " 'Rd_rbs_l3',\n",
       " 'Pd_rbs_l3',\n",
       " 'Rdd_rbs_l3',\n",
       " 'Pdd_rbs_l3',\n",
       " 'm_rbs_l3',\n",
       " 'Jbar_rbs_l3']"
      ]
     },
     "execution_count": 10,
     "metadata": {},
     "output_type": "execute_result"
    }
   ],
   "source": [
    "sym_config.config.input_nodes"
   ]
  },
  {
   "cell_type": "markdown",
   "metadata": {},
   "source": [
    "### CONFIGURATION INPUTS"
   ]
  },
  {
   "cell_type": "code",
   "execution_count": 10,
   "metadata": {},
   "outputs": [],
   "source": [
    "# Adding the desired set of UserInputs\n",
    "# ====================================\n",
    "\n",
    "sym_config.add_point.UserInput('a')\n",
    "sym_config.add_point.UserInput('b')\n",
    "sym_config.add_point.UserInput('c')\n",
    "sym_config.add_point.UserInput('d')\n",
    "\n",
    "sym_config.add_vector.UserInput('x')\n",
    "sym_config.add_vector.UserInput('y')\n",
    "sym_config.add_vector.UserInput('z')"
   ]
  },
  {
   "cell_type": "markdown",
   "metadata": {},
   "source": [
    "### CONFIGURATION RELATIONS"
   ]
  },
  {
   "cell_type": "code",
   "execution_count": 11,
   "metadata": {},
   "outputs": [],
   "source": [
    "# Defining Relations between original topology inputs\n",
    "# and our desired UserInputs.\n",
    "# ===================================================\n",
    "\n",
    "# Revolute Joint (a) location and orientation\n",
    "sym_config.add_relation.Equal_to('pt1_jcs_a', ('hps_a',))\n",
    "sym_config.add_relation.Equal_to('ax1_jcs_a', ('vcs_x',))\n",
    "\n",
    "# Spherical Joint (b) location and orientation\n",
    "sym_config.add_relation.Equal_to('pt1_jcs_b', ('hps_b',))\n",
    "sym_config.add_relation.Equal_to('ax1_jcs_b', ('vcs_z',))\n",
    "\n",
    "# Universal Joint (c) location and orientation\n",
    "sym_config.add_relation.Equal_to('pt1_jcs_c', ('hps_c',))\n",
    "sym_config.add_relation.Oriented('ax1_jcs_c', ('hps_b', 'hps_c'))\n",
    "sym_config.add_relation.Oriented('ax2_jcs_c', ('hps_c', 'hps_b'))\n",
    "\n",
    "# Revolute Joint (d) location and orientation\n",
    "sym_config.add_relation.Equal_to('pt1_jcs_d', ('hps_d',))\n",
    "sym_config.add_relation.Equal_to('ax1_jcs_d', ('vcs_y',))\n"
   ]
  },
  {
   "cell_type": "markdown",
   "metadata": {},
   "source": [
    "### GEOMETRIES"
   ]
  },
  {
   "cell_type": "markdown",
   "metadata": {},
   "source": [
    "Here we start defining basic geometric shapes that can represents the shapes of the bodies in our system. This serves two points:\n",
    "- Visualization and Animation in blender.\n",
    "- Evaluating the bodies inertia properties from these basic geometries instead of explicit definition."
   ]
  },
  {
   "cell_type": "code",
   "execution_count": 12,
   "metadata": {},
   "outputs": [],
   "source": [
    "# links radius\n",
    "sym_config.add_scalar.UserInput('links_ro')\n",
    "\n",
    "# Link 1 geometry\n",
    "sym_config.add_geometry.Cylinder_Geometry('l1', ('hps_a','hps_b','s_links_ro'))\n",
    "sym_config.assign_geometry_to_body('rbs_l1', 'gms_l1')\n",
    "\n",
    "# Link 2 geometry\n",
    "sym_config.add_geometry.Cylinder_Geometry('l2', ('hps_b','hps_c','s_links_ro'))\n",
    "sym_config.assign_geometry_to_body('rbs_l2', 'gms_l2')\n",
    "\n",
    "# Link 3 geometry\n",
    "sym_config.add_geometry.Cylinder_Geometry('l3', ('hps_c','hps_d','s_links_ro'))\n",
    "sym_config.assign_geometry_to_body('rbs_l3', 'gms_l3')"
   ]
  },
  {
   "cell_type": "markdown",
   "metadata": {},
   "source": [
    "Now lets check the current ```input_nodes```."
   ]
  },
  {
   "cell_type": "code",
   "execution_count": 16,
   "metadata": {},
   "outputs": [
    {
     "data": {
      "text/plain": [
       "['UF_mcs_act',\n",
       " 'Rd_rbs_l1',\n",
       " 'Pd_rbs_l1',\n",
       " 'Rdd_rbs_l1',\n",
       " 'Pdd_rbs_l1',\n",
       " 'Rd_rbs_l2',\n",
       " 'Pd_rbs_l2',\n",
       " 'Rdd_rbs_l2',\n",
       " 'Pdd_rbs_l2',\n",
       " 'Rd_rbs_l3',\n",
       " 'Pd_rbs_l3',\n",
       " 'Rdd_rbs_l3',\n",
       " 'Pdd_rbs_l3',\n",
       " 'hps_a',\n",
       " 'hps_b',\n",
       " 'hps_c',\n",
       " 'hps_d',\n",
       " 'vcs_x',\n",
       " 'vcs_y',\n",
       " 'vcs_z',\n",
       " 's_links_ro']"
      ]
     },
     "execution_count": 16,
     "metadata": {},
     "output_type": "execute_result"
    }
   ],
   "source": [
    "sym_config.config.input_nodes"
   ]
  },
  {
   "cell_type": "markdown",
   "metadata": {},
   "source": [
    "### ASSEMBLING"
   ]
  },
  {
   "cell_type": "code",
   "execution_count": 13,
   "metadata": {},
   "outputs": [],
   "source": [
    "sym_config.assemble()"
   ]
  },
  {
   "cell_type": "markdown",
   "metadata": {},
   "source": [
    "---------------------------------------------------------------\n",
    "---------------------------------------------------------------"
   ]
  },
  {
   "cell_type": "code",
   "execution_count": 15,
   "metadata": {},
   "outputs": [
    {
     "data": {
      "text/plain": [
       "NodeDataView({'ax1_jcs_a': Eq(ax1_jcs_a, vcs_x), 'pt1_jcs_a': Eq(pt1_jcs_a, hps_a), 'UF_mcs_act': None, 'ax1_jcs_b': Eq(ax1_jcs_b, vcs_z), 'pt1_jcs_b': Eq(pt1_jcs_b, hps_b), 'ax1_jcs_c': Eq(ax1_jcs_c, Oriented(hps_b, hps_c)), 'ax2_jcs_c': Eq(ax2_jcs_c, Oriented(hps_c, hps_b)), 'pt1_jcs_c': Eq(pt1_jcs_c, hps_c), 'ax1_jcs_d': Eq(ax1_jcs_d, vcs_y), 'pt1_jcs_d': Eq(pt1_jcs_d, hps_d), 'R_rbs_l1': Eq({R_{rbs_l1}}, gms_l1.R), 'P_rbs_l1': Eq({P_{rbs_l1}}, gms_l1.P), 'Rd_rbs_l1': None, 'Pd_rbs_l1': None, 'Rdd_rbs_l1': None, 'Pdd_rbs_l1': None, 'm_rbs_l1': Eq(m_rbs_l1, gms_l1.m), 'Jbar_rbs_l1': Eq({\\bar{J}_{rbs_l1}}, gms_l1.J), 'R_rbs_l2': Eq({R_{rbs_l2}}, gms_l2.R), 'P_rbs_l2': Eq({P_{rbs_l2}}, gms_l2.P), 'Rd_rbs_l2': None, 'Pd_rbs_l2': None, 'Rdd_rbs_l2': None, 'Pdd_rbs_l2': None, 'm_rbs_l2': Eq(m_rbs_l2, gms_l2.m), 'Jbar_rbs_l2': Eq({\\bar{J}_{rbs_l2}}, gms_l2.J), 'R_rbs_l3': Eq({R_{rbs_l3}}, gms_l3.R), 'P_rbs_l3': Eq({P_{rbs_l3}}, gms_l3.P), 'Rd_rbs_l3': None, 'Pd_rbs_l3': None, 'Rdd_rbs_l3': None, 'Pdd_rbs_l3': None, 'm_rbs_l3': Eq(m_rbs_l3, gms_l3.m), 'Jbar_rbs_l3': Eq({\\bar{J}_{rbs_l3}}, gms_l3.J), 'hps_a': None, 'hps_b': None, 'hps_c': None, 'hps_d': None, 'vcs_x': None, 'vcs_y': None, 'vcs_z': None, 's_links_ro': None, 'gms_l1': Eq(gms_l1, Cylinder_Geometry(hps_a, hps_b, s_links_ro)), 'gms_l2': Eq(gms_l2, Cylinder_Geometry(hps_b, hps_c, s_links_ro)), 'gms_l3': Eq(gms_l3, Cylinder_Geometry(hps_c, hps_d, s_links_ro))}, data='equality')"
      ]
     },
     "execution_count": 15,
     "metadata": {},
     "output_type": "execute_result"
    }
   ],
   "source": [
    "sym_config.config.graph.nodes(data='equality')"
   ]
  },
  {
   "cell_type": "code",
   "execution_count": null,
   "metadata": {},
   "outputs": [],
   "source": []
  },
  {
   "cell_type": "code",
   "execution_count": null,
   "metadata": {},
   "outputs": [],
   "source": []
  },
  {
   "cell_type": "code",
   "execution_count": null,
   "metadata": {},
   "outputs": [],
   "source": []
  },
  {
   "cell_type": "markdown",
   "metadata": {},
   "source": [
    "---------------------------------------------------------------\n",
    "---------------------------------------------------------------"
   ]
  },
  {
   "cell_type": "code",
   "execution_count": 14,
   "metadata": {},
   "outputs": [],
   "source": [
    "import sys\n",
    "import yaml\n",
    "import json\n",
    "\n",
    "import sympy as sm\n",
    "from smbd.symbolic.components.matrices import AbstractMatrix, vector, quatrenion\n",
    "from smbd.symbolic.systems.configuration_classes import Simple_geometry"
   ]
  },
  {
   "cell_type": "code",
   "execution_count": 15,
   "metadata": {},
   "outputs": [],
   "source": [
    "def geometry_representer(dumper, data):\n",
    "    tag_name = data.__class__.__name__\n",
    "    args = [str(arg) for arg in data.args]\n",
    "    return dumper.represent_sequence(u'!%s'%tag_name, args, flow_style=None)"
   ]
  },
  {
   "cell_type": "code",
   "execution_count": 16,
   "metadata": {},
   "outputs": [],
   "source": [
    "class numerical_array(object):\n",
    "    \n",
    "    def __init__(self, sympy_matrix):\n",
    "        \n",
    "        if 1 in sympy_matrix.shape:\n",
    "            alias = [get_type_alias(value) for value in sympy_matrix]\n",
    "        else:\n",
    "            alias = [get_type_alias(value) for value in sympy_matrix.tolist()]\n",
    "            \n",
    "        self.array = alias\n",
    "    \n",
    "    def __repr__(self):\n",
    "        return str(self.array)\n",
    "    \n",
    "    @staticmethod\n",
    "    def yaml_representer(dumper, data):\n",
    "        return dumper.represent_sequence(u'!array', data.array, flow_style=None)\n",
    "    \n",
    "    @staticmethod\n",
    "    def yaml_constructor(loader, node):\n",
    "        value = loader.construct_sequence(node)\n",
    "        return value\n",
    "\n",
    "\n"
   ]
  },
  {
   "cell_type": "code",
   "execution_count": 17,
   "metadata": {},
   "outputs": [],
   "source": [
    "yaml.add_multi_representer(Simple_geometry, geometry_representer)\n",
    "yaml.add_representer(numerical_array, numerical_array.yaml_representer)\n",
    "yaml.add_constructor(u'!array', numerical_array.yaml_constructor)"
   ]
  },
  {
   "cell_type": "code",
   "execution_count": 18,
   "metadata": {},
   "outputs": [],
   "source": [
    "class smbd_JSONEncoder(json.JSONEncoder):\n",
    "    \n",
    "    def default(self, obj):\n",
    "        if isinstance(obj, numerical_array):\n",
    "            data_object = {'constructor': 'array', 'args':  obj.array}\n",
    "            return data_object"
   ]
  },
  {
   "cell_type": "code",
   "execution_count": 19,
   "metadata": {},
   "outputs": [],
   "source": [
    "def get_alias_class(cls):\n",
    "    \n",
    "    if issubclass(cls, Simple_geometry):\n",
    "        constructor = cls.__name__\n",
    "        return constructor\n",
    "    \n",
    "    elif issubclass(cls, (sm.Function, sm.Lambda)):\n",
    "        return cls.__name__\n",
    "    \n",
    "    else:\n",
    "        return cls.__name__\n",
    "    "
   ]
  },
  {
   "cell_type": "code",
   "execution_count": 20,
   "metadata": {},
   "outputs": [],
   "source": [
    "\n",
    "def get_type_alias(instance):\n",
    "    \n",
    "    if isinstance(instance, (str, float, int, bool)):\n",
    "        return instance\n",
    "    \n",
    "    elif isinstance(instance, dict):\n",
    "        return {k: get_type_alias(v) for k,v in instance.items()}\n",
    "    \n",
    "    elif isinstance(instance, list):\n",
    "        alias = [get_type_alias(value) for value in instance]\n",
    "        return alias\n",
    "    \n",
    "    elif isinstance(instance, tuple):\n",
    "        alias = tuple(get_type_alias(value) for value in instance)\n",
    "        return alias\n",
    "    \n",
    "    elif isinstance(instance, (sm.ImmutableDenseMatrix, sm.MutableDenseMatrix)):\n",
    "        alias = numerical_array(instance)\n",
    "        return alias\n",
    "    \n",
    "    elif isinstance(instance, (vector, quatrenion, sm.Symbol)):\n",
    "        text = str(instance)\n",
    "        if '.' in text:\n",
    "            splitted = text.split('.')\n",
    "            object_data = {'object': splitted[0], 'attribute': splitted[1]}\n",
    "            return object_data\n",
    "        else:\n",
    "            return text\n",
    "    \n",
    "    elif isinstance(instance, (sm.Number,)):\n",
    "        return float(instance)\n",
    "    \n",
    "    elif isinstance(instance, tuple(Simple_geometry.__subclasses__())):\n",
    "        return instance\n",
    "        '''constructor = instance.__class__.__name__\n",
    "        args = [get_type_alias(arg) for arg in instance.args]\n",
    "        data_object = {'constructor': constructor, 'args': args}\n",
    "        return data_object'''\n",
    "    \n",
    "    elif isinstance(instance, (sm.Function, sm.Lambda)):\n",
    "        return instance.__class__.__name__\n",
    "    \n",
    "    elif isinstance(instance, tuple(AbstractMatrix.__subclasses__())):\n",
    "        return instance.__class__.__name__\n",
    "    \n",
    "    else:\n",
    "        #print(instance)\n",
    "        return instance#'Data type not supported'\n",
    "        \n"
   ]
  },
  {
   "cell_type": "code",
   "execution_count": 21,
   "metadata": {},
   "outputs": [],
   "source": [
    "def check_attribute_access(graph, edge):\n",
    "    attribute = graph.edges[edge]['passed_attr']\n",
    "    if attribute:\n",
    "        data_dict = {'constructor': 'getattribute', 'args': [edge[0], attribute]}\n",
    "        return data_dict\n",
    "    else:\n",
    "        return edge[0]\n",
    "    \n",
    "\n",
    "def construct_from_graph(configuraion_instance, use_keys=True):\n",
    "    \n",
    "    graph = configuraion_instance.graph\n",
    "    \n",
    "    input_equalities = configuraion_instance.input_equalities\n",
    "    \n",
    "    input_nodes = configuraion_instance.input_nodes\n",
    "    intermediat_nodes = configuraion_instance.intermediat_nodes\n",
    "    output_nodes = configuraion_instance.output_nodes\n",
    "    \n",
    "    \n",
    "    def update_dict(storage, nodes):\n",
    "         for node in nodes:\n",
    "            feeding_nodes = list(graph.predecessors(node))\n",
    "\n",
    "            if len(feeding_nodes) == 1:\n",
    "                n = feeding_nodes[0]\n",
    "                if use_keys:\n",
    "                    storage[node] = check_attribute_access(graph, (n, node))\n",
    "                else:\n",
    "                    storage[node] = (inputs_dict[n] if n in inputs_dict else storage[n])\n",
    "            else:\n",
    "                symbolic_constructor = graph.node[node]['rhs_function']\n",
    "                alias_constructor = get_alias_class(symbolic_constructor)\n",
    "\n",
    "                if use_keys:\n",
    "                    args = feeding_nodes\n",
    "                else:\n",
    "                    args = [(inputs_dict[n] if n in inputs_dict else storage[n]) for n in feeding_nodes ]\n",
    "\n",
    "                data_dict = {'constructor': alias_constructor, 'args': args}\n",
    "                storage[node] = data_dict\n",
    "        \n",
    "    \n",
    "    \n",
    "    inputs_dict = {}\n",
    "    for equality in input_equalities:\n",
    "        inputs_dict[str(equality.lhs)] = get_type_alias(equality.rhs)\n",
    "    \n",
    "    \n",
    "    evals_dict = {}\n",
    "    update_dict(evals_dict, intermediat_nodes)\n",
    "    \n",
    "    outputs_dict = {}\n",
    "    update_dict(outputs_dict, output_nodes)\n",
    "    \n",
    "    data = {}\n",
    "    data['user_inputs'] = inputs_dict\n",
    "    data['evaluations'] = evals_dict\n",
    "    data['outputs'] = outputs_dict\n",
    "    \n",
    "    return data\n",
    "    "
   ]
  },
  {
   "cell_type": "code",
   "execution_count": 43,
   "metadata": {
    "jupyter": {
     "source_hidden": true
    }
   },
   "outputs": [],
   "source": [
    "def check_attribute_access(graph, edge):\n",
    "    attribute = graph.edges[edge]['passed_attr']\n",
    "    if attribute:\n",
    "        data_dict = {'constructor': 'getattribute', 'args': [edge[0], attribute]}\n",
    "        return data_dict\n",
    "    else:\n",
    "        return edge[0]\n",
    "    \n",
    "\n",
    "def construct_from_graph(configuraion_instance, use_keys=True):\n",
    "    \n",
    "    graph = configuraion_instance.graph\n",
    "    \n",
    "    input_equalities = configuraion_instance.input_equalities\n",
    "    \n",
    "    input_nodes = configuraion_instance.input_nodes\n",
    "    intermediat_nodes = configuraion_instance.intermediat_nodes\n",
    "    output_nodes = configuraion_instance.output_nodes\n",
    "    \n",
    "    \n",
    "    def update_dict(storage, nodes):\n",
    "         for node in nodes:\n",
    "            feeding_nodes = list(graph.predecessors(node))\n",
    "\n",
    "            if len(feeding_nodes) == 1:\n",
    "                n = feeding_nodes[0]\n",
    "                if use_keys:\n",
    "                    storage[node] = check_attribute_access(graph, (n, node))\n",
    "                else:\n",
    "                    storage[node] = (inputs_dict[n] if n in inputs_dict else storage[n])\n",
    "            else:\n",
    "                symbolic_constructor = graph.node[node]['rhs_function']\n",
    "                alias_constructor = get_alias_class(symbolic_constructor)\n",
    "\n",
    "                if use_keys:\n",
    "                    args = feeding_nodes\n",
    "                else:\n",
    "                    args = [(inputs_dict[n] if n in inputs_dict else storage[n]) for n in feeding_nodes ]\n",
    "\n",
    "                data_dict = {'constructor': alias_constructor, 'args': args}\n",
    "                storage[node] = data_dict\n",
    "        \n",
    "    \n",
    "    \n",
    "    inputs_dict = {}\n",
    "    for equality in input_equalities:\n",
    "        inputs_dict[str(equality.lhs)] = get_type_alias(equality.rhs)\n",
    "    \n",
    "    \n",
    "    evals_dict = {}\n",
    "    for node in intermediat_nodes:\n",
    "        feeding_nodes = list(graph.predecessors(node))\n",
    "        \n",
    "        if len(feeding_nodes) == 1:\n",
    "            n = feeding_nodes[0]\n",
    "            if use_keys:\n",
    "                evals_dict[node] = check_attribute_access(graph, (n, node))\n",
    "            else:\n",
    "                evals_dict[node] = (inputs_dict[n] if n in inputs_dict else evals_dict[n])\n",
    "        else:\n",
    "            symbolic_constructor = graph.node[node]['rhs_function']\n",
    "            alias_constructor = get_alias_class(symbolic_constructor)\n",
    "            \n",
    "            if use_keys:\n",
    "                args = feeding_nodes\n",
    "            else:\n",
    "                args = [(inputs_dict[n] if n in inputs_dict else evals_dict[n]) for n in feeding_nodes ]\n",
    "\n",
    "            data_dict = {'constructor': alias_constructor, 'args': args}\n",
    "            evals_dict[node] = data_dict\n",
    "    \n",
    "    \n",
    "    outputs_dict = {}\n",
    "    for node in output_nodes:\n",
    "        feeding_nodes = list(graph.predecessors(node))\n",
    "        \n",
    "        if len(feeding_nodes) == 1:\n",
    "            n = feeding_nodes[0]\n",
    "            if use_keys:\n",
    "                outputs_dict[node] = check_attribute_access(graph, (n, node))\n",
    "            else:\n",
    "                outputs_dict[node] = (inputs_dict[n] if n in inputs_dict else evals_dict[n])\n",
    "        else:\n",
    "            symbolic_constructor = graph.node[node]['rhs_function']\n",
    "            alias_constructor = get_alias_class(symbolic_constructor)\n",
    "\n",
    "            if use_keys:\n",
    "                args = feeding_nodes\n",
    "            else:\n",
    "                args = [(inputs_dict[n] if n in inputs_dict else evals_dict[n]) for n in feeding_nodes ]\n",
    "\n",
    "            data_dict = {'constructor': alias_constructor, 'args': args}\n",
    "            outputs_dict[node] = data_dict\n",
    "    \n",
    "    data = {}\n",
    "    data['user_inputs'] = inputs_dict\n",
    "    data['evaluations'] = evals_dict\n",
    "    data['outputs'] = outputs_dict\n",
    "    \n",
    "    return data\n",
    "    "
   ]
  },
  {
   "cell_type": "code",
   "execution_count": 22,
   "metadata": {
    "jupyter": {
     "source_hidden": true
    }
   },
   "outputs": [],
   "source": [
    "def construct_from_equalities(configuraion_instance):\n",
    "    \n",
    "    input_equalities = configuraion_instance.input_equalities\n",
    "    intermediat_equalities = configuraion_instance.intermediat_equalities\n",
    "    output_equalities = configuraion_instance.output_equalities\n",
    "    \n",
    "    inputs_dict = {}\n",
    "    for equality in input_equalities:\n",
    "        inputs_dict[str(equality.lhs)] = get_type_alias(equality.rhs)\n",
    "        \n",
    "    evals_dict = {}\n",
    "    for equality in intermediat_equalities:\n",
    "        evals_dict[str(equality.lhs)] = get_type_alias(equality.rhs)\n",
    "        \n",
    "    outputs_dict = {}\n",
    "    for equality in output_equalities:\n",
    "        if str(equality.rhs) in inputs_dict.keys():\n",
    "            outputs_dict[str(equality.lhs)] = inputs_dict[str(equality.rhs)]\n",
    "        else:\n",
    "            outputs_dict[str(equality.lhs)] = get_type_alias(equality.rhs)\n",
    "    \n",
    "    data = {}\n",
    "    data['user_inputs'] = inputs_dict\n",
    "    data['evaluations'] = evals_dict\n",
    "    data['outputs'] = outputs_dict\n",
    "    \n",
    "    return data\n",
    "    "
   ]
  },
  {
   "cell_type": "code",
   "execution_count": null,
   "metadata": {},
   "outputs": [],
   "source": []
  },
  {
   "cell_type": "code",
   "execution_count": 23,
   "metadata": {},
   "outputs": [
    {
     "data": {
      "text/plain": [
       "{'user_inputs': {'UF_mcs_act': 'Lambda',\n",
       "  'Rd_rbs_l1': [0.0, 0.0, 0.0],\n",
       "  'Pd_rbs_l1': [0.0, 0.0, 0.0, 0.0],\n",
       "  'Rdd_rbs_l1': [0.0, 0.0, 0.0],\n",
       "  'Pdd_rbs_l1': [0.0, 0.0, 0.0, 0.0],\n",
       "  'Rd_rbs_l2': [0.0, 0.0, 0.0],\n",
       "  'Pd_rbs_l2': [0.0, 0.0, 0.0, 0.0],\n",
       "  'Rdd_rbs_l2': [0.0, 0.0, 0.0],\n",
       "  'Pdd_rbs_l2': [0.0, 0.0, 0.0, 0.0],\n",
       "  'Rd_rbs_l3': [0.0, 0.0, 0.0],\n",
       "  'Pd_rbs_l3': [0.0, 0.0, 0.0, 0.0],\n",
       "  'Rdd_rbs_l3': [0.0, 0.0, 0.0],\n",
       "  'Pdd_rbs_l3': [0.0, 0.0, 0.0, 0.0],\n",
       "  'hps_a': [0.0, 0.0, 0.0],\n",
       "  'hps_b': [0.0, 0.0, 0.0],\n",
       "  'hps_c': [0.0, 0.0, 0.0],\n",
       "  'hps_d': [0.0, 0.0, 0.0],\n",
       "  'vcs_x': [0.0, 0.0, 0.0],\n",
       "  'vcs_y': [0.0, 0.0, 0.0],\n",
       "  'vcs_z': [0.0, 0.0, 0.0],\n",
       "  's_links_ro': 1.0},\n",
       " 'evaluations': {'gms_l1': {'constructor': 'Cylinder_Geometry',\n",
       "   'args': ['hps_a', 'hps_b', 's_links_ro']},\n",
       "  'gms_l2': {'constructor': 'Cylinder_Geometry',\n",
       "   'args': ['hps_b', 'hps_c', 's_links_ro']},\n",
       "  'gms_l3': {'constructor': 'Cylinder_Geometry',\n",
       "   'args': ['hps_c', 'hps_d', 's_links_ro']}},\n",
       " 'outputs': {'ax1_jcs_a': 'vcs_x',\n",
       "  'pt1_jcs_a': 'hps_a',\n",
       "  'ax1_jcs_b': 'vcs_z',\n",
       "  'pt1_jcs_b': 'hps_b',\n",
       "  'ax1_jcs_c': {'constructor': 'Oriented', 'args': ['hps_b', 'hps_c']},\n",
       "  'ax2_jcs_c': {'constructor': 'Oriented', 'args': ['hps_c', 'hps_b']},\n",
       "  'pt1_jcs_c': 'hps_c',\n",
       "  'ax1_jcs_d': 'vcs_y',\n",
       "  'pt1_jcs_d': 'hps_d',\n",
       "  'R_rbs_l1': {'constructor': 'getattribute', 'args': ['gms_l1', 'R']},\n",
       "  'P_rbs_l1': {'constructor': 'getattribute', 'args': ['gms_l1', 'P']},\n",
       "  'm_rbs_l1': {'constructor': 'getattribute', 'args': ['gms_l1', 'm']},\n",
       "  'Jbar_rbs_l1': {'constructor': 'getattribute', 'args': ['gms_l1', 'J']},\n",
       "  'R_rbs_l2': {'constructor': 'getattribute', 'args': ['gms_l2', 'R']},\n",
       "  'P_rbs_l2': {'constructor': 'getattribute', 'args': ['gms_l2', 'P']},\n",
       "  'm_rbs_l2': {'constructor': 'getattribute', 'args': ['gms_l2', 'm']},\n",
       "  'Jbar_rbs_l2': {'constructor': 'getattribute', 'args': ['gms_l2', 'J']},\n",
       "  'R_rbs_l3': {'constructor': 'getattribute', 'args': ['gms_l3', 'R']},\n",
       "  'P_rbs_l3': {'constructor': 'getattribute', 'args': ['gms_l3', 'P']},\n",
       "  'm_rbs_l3': {'constructor': 'getattribute', 'args': ['gms_l3', 'm']},\n",
       "  'Jbar_rbs_l3': {'constructor': 'getattribute', 'args': ['gms_l3', 'J']}}}"
      ]
     },
     "execution_count": 23,
     "metadata": {},
     "output_type": "execute_result"
    }
   ],
   "source": [
    "constructed_dict = construct_from_graph(sym_config.config)\n",
    "constructed_dict"
   ]
  },
  {
   "cell_type": "code",
   "execution_count": 24,
   "metadata": {},
   "outputs": [
    {
     "name": "stdout",
     "output_type": "stream",
     "text": [
      "user_inputs:\n",
      "    UF_mcs_act: Lambda\n",
      "    Rd_rbs_l1: !array\n",
      "    - 0.0\n",
      "    - 0.0\n",
      "    - 0.0\n",
      "    Pd_rbs_l1: !array\n",
      "    - 0.0\n",
      "    - 0.0\n",
      "    - 0.0\n",
      "    - 0.0\n",
      "    Rdd_rbs_l1: !array\n",
      "    - 0.0\n",
      "    - 0.0\n",
      "    - 0.0\n",
      "    Pdd_rbs_l1: !array\n",
      "    - 0.0\n",
      "    - 0.0\n",
      "    - 0.0\n",
      "    - 0.0\n",
      "    Rd_rbs_l2: !array\n",
      "    - 0.0\n",
      "    - 0.0\n",
      "    - 0.0\n",
      "    Pd_rbs_l2: !array\n",
      "    - 0.0\n",
      "    - 0.0\n",
      "    - 0.0\n",
      "    - 0.0\n",
      "    Rdd_rbs_l2: !array\n",
      "    - 0.0\n",
      "    - 0.0\n",
      "    - 0.0\n",
      "    Pdd_rbs_l2: !array\n",
      "    - 0.0\n",
      "    - 0.0\n",
      "    - 0.0\n",
      "    - 0.0\n",
      "    Rd_rbs_l3: !array\n",
      "    - 0.0\n",
      "    - 0.0\n",
      "    - 0.0\n",
      "    Pd_rbs_l3: !array\n",
      "    - 0.0\n",
      "    - 0.0\n",
      "    - 0.0\n",
      "    - 0.0\n",
      "    Rdd_rbs_l3: !array\n",
      "    - 0.0\n",
      "    - 0.0\n",
      "    - 0.0\n",
      "    Pdd_rbs_l3: !array\n",
      "    - 0.0\n",
      "    - 0.0\n",
      "    - 0.0\n",
      "    - 0.0\n",
      "    hps_a: !array\n",
      "    - 0.0\n",
      "    - 0.0\n",
      "    - 0.0\n",
      "    hps_b: !array\n",
      "    - 0.0\n",
      "    - 0.0\n",
      "    - 0.0\n",
      "    hps_c: !array\n",
      "    - 0.0\n",
      "    - 0.0\n",
      "    - 0.0\n",
      "    hps_d: !array\n",
      "    - 0.0\n",
      "    - 0.0\n",
      "    - 0.0\n",
      "    vcs_x: !array\n",
      "    - 0.0\n",
      "    - 0.0\n",
      "    - 0.0\n",
      "    vcs_y: !array\n",
      "    - 0.0\n",
      "    - 0.0\n",
      "    - 0.0\n",
      "    vcs_z: !array\n",
      "    - 0.0\n",
      "    - 0.0\n",
      "    - 0.0\n",
      "    s_links_ro: 1.0\n",
      "evaluations:\n",
      "    gms_l1:\n",
      "        constructor: Cylinder_Geometry\n",
      "        args:\n",
      "        - hps_a\n",
      "        - hps_b\n",
      "        - s_links_ro\n",
      "    gms_l2:\n",
      "        constructor: Cylinder_Geometry\n",
      "        args:\n",
      "        - hps_b\n",
      "        - hps_c\n",
      "        - s_links_ro\n",
      "    gms_l3:\n",
      "        constructor: Cylinder_Geometry\n",
      "        args:\n",
      "        - hps_c\n",
      "        - hps_d\n",
      "        - s_links_ro\n",
      "outputs:\n",
      "    ax1_jcs_a: vcs_x\n",
      "    pt1_jcs_a: hps_a\n",
      "    ax1_jcs_b: vcs_z\n",
      "    pt1_jcs_b: hps_b\n",
      "    ax1_jcs_c:\n",
      "        constructor: Oriented\n",
      "        args:\n",
      "        - hps_b\n",
      "        - hps_c\n",
      "    ax2_jcs_c:\n",
      "        constructor: Oriented\n",
      "        args:\n",
      "        - hps_c\n",
      "        - hps_b\n",
      "    pt1_jcs_c: hps_c\n",
      "    ax1_jcs_d: vcs_y\n",
      "    pt1_jcs_d: hps_d\n",
      "    R_rbs_l1:\n",
      "        constructor: getattribute\n",
      "        args:\n",
      "        - gms_l1\n",
      "        - R\n",
      "    P_rbs_l1:\n",
      "        constructor: getattribute\n",
      "        args:\n",
      "        - gms_l1\n",
      "        - P\n",
      "    m_rbs_l1:\n",
      "        constructor: getattribute\n",
      "        args:\n",
      "        - gms_l1\n",
      "        - m\n",
      "    Jbar_rbs_l1:\n",
      "        constructor: getattribute\n",
      "        args:\n",
      "        - gms_l1\n",
      "        - J\n",
      "    R_rbs_l2:\n",
      "        constructor: getattribute\n",
      "        args:\n",
      "        - gms_l2\n",
      "        - R\n",
      "    P_rbs_l2:\n",
      "        constructor: getattribute\n",
      "        args:\n",
      "        - gms_l2\n",
      "        - P\n",
      "    m_rbs_l2:\n",
      "        constructor: getattribute\n",
      "        args:\n",
      "        - gms_l2\n",
      "        - m\n",
      "    Jbar_rbs_l2:\n",
      "        constructor: getattribute\n",
      "        args:\n",
      "        - gms_l2\n",
      "        - J\n",
      "    R_rbs_l3:\n",
      "        constructor: getattribute\n",
      "        args:\n",
      "        - gms_l3\n",
      "        - R\n",
      "    P_rbs_l3:\n",
      "        constructor: getattribute\n",
      "        args:\n",
      "        - gms_l3\n",
      "        - P\n",
      "    m_rbs_l3:\n",
      "        constructor: getattribute\n",
      "        args:\n",
      "        - gms_l3\n",
      "        - m\n",
      "    Jbar_rbs_l3:\n",
      "        constructor: getattribute\n",
      "        args:\n",
      "        - gms_l3\n",
      "        - J\n",
      "\n"
     ]
    }
   ],
   "source": [
    "yaml_text = yaml.dump(constructed_dict, default_flow_style=False, sort_keys=False, indent=4)\n",
    "print(yaml_text)"
   ]
  },
  {
   "cell_type": "code",
   "execution_count": 25,
   "metadata": {},
   "outputs": [
    {
     "name": "stdout",
     "output_type": "stream",
     "text": [
      "{\n",
      "    \"user_inputs\": {\n",
      "        \"UF_mcs_act\": \"Lambda\",\n",
      "        \"Rd_rbs_l1\": {\n",
      "            \"constructor\": \"array\",\n",
      "            \"args\": [\n",
      "                0.0,\n",
      "                0.0,\n",
      "                0.0\n",
      "            ]\n",
      "        },\n",
      "        \"Pd_rbs_l1\": {\n",
      "            \"constructor\": \"array\",\n",
      "            \"args\": [\n",
      "                0.0,\n",
      "                0.0,\n",
      "                0.0,\n",
      "                0.0\n",
      "            ]\n",
      "        },\n",
      "        \"Rdd_rbs_l1\": {\n",
      "            \"constructor\": \"array\",\n",
      "            \"args\": [\n",
      "                0.0,\n",
      "                0.0,\n",
      "                0.0\n",
      "            ]\n",
      "        },\n",
      "        \"Pdd_rbs_l1\": {\n",
      "            \"constructor\": \"array\",\n",
      "            \"args\": [\n",
      "                0.0,\n",
      "                0.0,\n",
      "                0.0,\n",
      "                0.0\n",
      "            ]\n",
      "        },\n",
      "        \"Rd_rbs_l2\": {\n",
      "            \"constructor\": \"array\",\n",
      "            \"args\": [\n",
      "                0.0,\n",
      "                0.0,\n",
      "                0.0\n",
      "            ]\n",
      "        },\n",
      "        \"Pd_rbs_l2\": {\n",
      "            \"constructor\": \"array\",\n",
      "            \"args\": [\n",
      "                0.0,\n",
      "                0.0,\n",
      "                0.0,\n",
      "                0.0\n",
      "            ]\n",
      "        },\n",
      "        \"Rdd_rbs_l2\": {\n",
      "            \"constructor\": \"array\",\n",
      "            \"args\": [\n",
      "                0.0,\n",
      "                0.0,\n",
      "                0.0\n",
      "            ]\n",
      "        },\n",
      "        \"Pdd_rbs_l2\": {\n",
      "            \"constructor\": \"array\",\n",
      "            \"args\": [\n",
      "                0.0,\n",
      "                0.0,\n",
      "                0.0,\n",
      "                0.0\n",
      "            ]\n",
      "        },\n",
      "        \"Rd_rbs_l3\": {\n",
      "            \"constructor\": \"array\",\n",
      "            \"args\": [\n",
      "                0.0,\n",
      "                0.0,\n",
      "                0.0\n",
      "            ]\n",
      "        },\n",
      "        \"Pd_rbs_l3\": {\n",
      "            \"constructor\": \"array\",\n",
      "            \"args\": [\n",
      "                0.0,\n",
      "                0.0,\n",
      "                0.0,\n",
      "                0.0\n",
      "            ]\n",
      "        },\n",
      "        \"Rdd_rbs_l3\": {\n",
      "            \"constructor\": \"array\",\n",
      "            \"args\": [\n",
      "                0.0,\n",
      "                0.0,\n",
      "                0.0\n",
      "            ]\n",
      "        },\n",
      "        \"Pdd_rbs_l3\": {\n",
      "            \"constructor\": \"array\",\n",
      "            \"args\": [\n",
      "                0.0,\n",
      "                0.0,\n",
      "                0.0,\n",
      "                0.0\n",
      "            ]\n",
      "        },\n",
      "        \"hps_a\": {\n",
      "            \"constructor\": \"array\",\n",
      "            \"args\": [\n",
      "                0.0,\n",
      "                0.0,\n",
      "                0.0\n",
      "            ]\n",
      "        },\n",
      "        \"hps_b\": {\n",
      "            \"constructor\": \"array\",\n",
      "            \"args\": [\n",
      "                0.0,\n",
      "                0.0,\n",
      "                0.0\n",
      "            ]\n",
      "        },\n",
      "        \"hps_c\": {\n",
      "            \"constructor\": \"array\",\n",
      "            \"args\": [\n",
      "                0.0,\n",
      "                0.0,\n",
      "                0.0\n",
      "            ]\n",
      "        },\n",
      "        \"hps_d\": {\n",
      "            \"constructor\": \"array\",\n",
      "            \"args\": [\n",
      "                0.0,\n",
      "                0.0,\n",
      "                0.0\n",
      "            ]\n",
      "        },\n",
      "        \"vcs_x\": {\n",
      "            \"constructor\": \"array\",\n",
      "            \"args\": [\n",
      "                0.0,\n",
      "                0.0,\n",
      "                0.0\n",
      "            ]\n",
      "        },\n",
      "        \"vcs_y\": {\n",
      "            \"constructor\": \"array\",\n",
      "            \"args\": [\n",
      "                0.0,\n",
      "                0.0,\n",
      "                0.0\n",
      "            ]\n",
      "        },\n",
      "        \"vcs_z\": {\n",
      "            \"constructor\": \"array\",\n",
      "            \"args\": [\n",
      "                0.0,\n",
      "                0.0,\n",
      "                0.0\n",
      "            ]\n",
      "        },\n",
      "        \"s_links_ro\": 1.0\n",
      "    },\n",
      "    \"evaluations\": {\n",
      "        \"gms_l1\": {\n",
      "            \"constructor\": \"Cylinder_Geometry\",\n",
      "            \"args\": [\n",
      "                \"hps_a\",\n",
      "                \"hps_b\",\n",
      "                \"s_links_ro\"\n",
      "            ]\n",
      "        },\n",
      "        \"gms_l2\": {\n",
      "            \"constructor\": \"Cylinder_Geometry\",\n",
      "            \"args\": [\n",
      "                \"hps_b\",\n",
      "                \"hps_c\",\n",
      "                \"s_links_ro\"\n",
      "            ]\n",
      "        },\n",
      "        \"gms_l3\": {\n",
      "            \"constructor\": \"Cylinder_Geometry\",\n",
      "            \"args\": [\n",
      "                \"hps_c\",\n",
      "                \"hps_d\",\n",
      "                \"s_links_ro\"\n",
      "            ]\n",
      "        }\n",
      "    },\n",
      "    \"outputs\": {\n",
      "        \"ax1_jcs_a\": \"vcs_x\",\n",
      "        \"pt1_jcs_a\": \"hps_a\",\n",
      "        \"ax1_jcs_b\": \"vcs_z\",\n",
      "        \"pt1_jcs_b\": \"hps_b\",\n",
      "        \"ax1_jcs_c\": {\n",
      "            \"constructor\": \"Oriented\",\n",
      "            \"args\": [\n",
      "                \"hps_b\",\n",
      "                \"hps_c\"\n",
      "            ]\n",
      "        },\n",
      "        \"ax2_jcs_c\": {\n",
      "            \"constructor\": \"Oriented\",\n",
      "            \"args\": [\n",
      "                \"hps_c\",\n",
      "                \"hps_b\"\n",
      "            ]\n",
      "        },\n",
      "        \"pt1_jcs_c\": \"hps_c\",\n",
      "        \"ax1_jcs_d\": \"vcs_y\",\n",
      "        \"pt1_jcs_d\": \"hps_d\",\n",
      "        \"R_rbs_l1\": {\n",
      "            \"constructor\": \"getattribute\",\n",
      "            \"args\": [\n",
      "                \"gms_l1\",\n",
      "                \"R\"\n",
      "            ]\n",
      "        },\n",
      "        \"P_rbs_l1\": {\n",
      "            \"constructor\": \"getattribute\",\n",
      "            \"args\": [\n",
      "                \"gms_l1\",\n",
      "                \"P\"\n",
      "            ]\n",
      "        },\n",
      "        \"m_rbs_l1\": {\n",
      "            \"constructor\": \"getattribute\",\n",
      "            \"args\": [\n",
      "                \"gms_l1\",\n",
      "                \"m\"\n",
      "            ]\n",
      "        },\n",
      "        \"Jbar_rbs_l1\": {\n",
      "            \"constructor\": \"getattribute\",\n",
      "            \"args\": [\n",
      "                \"gms_l1\",\n",
      "                \"J\"\n",
      "            ]\n",
      "        },\n",
      "        \"R_rbs_l2\": {\n",
      "            \"constructor\": \"getattribute\",\n",
      "            \"args\": [\n",
      "                \"gms_l2\",\n",
      "                \"R\"\n",
      "            ]\n",
      "        },\n",
      "        \"P_rbs_l2\": {\n",
      "            \"constructor\": \"getattribute\",\n",
      "            \"args\": [\n",
      "                \"gms_l2\",\n",
      "                \"P\"\n",
      "            ]\n",
      "        },\n",
      "        \"m_rbs_l2\": {\n",
      "            \"constructor\": \"getattribute\",\n",
      "            \"args\": [\n",
      "                \"gms_l2\",\n",
      "                \"m\"\n",
      "            ]\n",
      "        },\n",
      "        \"Jbar_rbs_l2\": {\n",
      "            \"constructor\": \"getattribute\",\n",
      "            \"args\": [\n",
      "                \"gms_l2\",\n",
      "                \"J\"\n",
      "            ]\n",
      "        },\n",
      "        \"R_rbs_l3\": {\n",
      "            \"constructor\": \"getattribute\",\n",
      "            \"args\": [\n",
      "                \"gms_l3\",\n",
      "                \"R\"\n",
      "            ]\n",
      "        },\n",
      "        \"P_rbs_l3\": {\n",
      "            \"constructor\": \"getattribute\",\n",
      "            \"args\": [\n",
      "                \"gms_l3\",\n",
      "                \"P\"\n",
      "            ]\n",
      "        },\n",
      "        \"m_rbs_l3\": {\n",
      "            \"constructor\": \"getattribute\",\n",
      "            \"args\": [\n",
      "                \"gms_l3\",\n",
      "                \"m\"\n",
      "            ]\n",
      "        },\n",
      "        \"Jbar_rbs_l3\": {\n",
      "            \"constructor\": \"getattribute\",\n",
      "            \"args\": [\n",
      "                \"gms_l3\",\n",
      "                \"J\"\n",
      "            ]\n",
      "        }\n",
      "    }\n",
      "}\n"
     ]
    }
   ],
   "source": [
    "json_text = json.dumps(constructed_dict, cls=smbd_JSONEncoder, indent=4)\n",
    "print(json_text)"
   ]
  },
  {
   "cell_type": "code",
   "execution_count": null,
   "metadata": {},
   "outputs": [],
   "source": []
  },
  {
   "cell_type": "code",
   "execution_count": null,
   "metadata": {},
   "outputs": [],
   "source": []
  },
  {
   "cell_type": "code",
   "execution_count": null,
   "metadata": {},
   "outputs": [],
   "source": []
  },
  {
   "cell_type": "code",
   "execution_count": 38,
   "metadata": {},
   "outputs": [
    {
     "data": {
      "text/plain": [
       "{'user_inputs': {'UF_mcs_act': 'Lambda',\n",
       "  'Rd_rbs_l1': [0.0, 0.0, 0.0],\n",
       "  'Pd_rbs_l1': [0.0, 0.0, 0.0, 0.0],\n",
       "  'Rdd_rbs_l1': [0.0, 0.0, 0.0],\n",
       "  'Pdd_rbs_l1': [0.0, 0.0, 0.0, 0.0],\n",
       "  'Rd_rbs_l2': [0.0, 0.0, 0.0],\n",
       "  'Pd_rbs_l2': [0.0, 0.0, 0.0, 0.0],\n",
       "  'Rdd_rbs_l2': [0.0, 0.0, 0.0],\n",
       "  'Pdd_rbs_l2': [0.0, 0.0, 0.0, 0.0],\n",
       "  'Rd_rbs_l3': [0.0, 0.0, 0.0],\n",
       "  'Pd_rbs_l3': [0.0, 0.0, 0.0, 0.0],\n",
       "  'Rdd_rbs_l3': [0.0, 0.0, 0.0],\n",
       "  'Pdd_rbs_l3': [0.0, 0.0, 0.0, 0.0],\n",
       "  'hps_a': [0.0, 0.0, 0.0],\n",
       "  'hps_b': [0.0, 0.0, 0.0],\n",
       "  'hps_c': [0.0, 0.0, 0.0],\n",
       "  'hps_d': [0.0, 0.0, 0.0],\n",
       "  'vcs_x': [0.0, 0.0, 0.0],\n",
       "  'vcs_y': [0.0, 0.0, 0.0],\n",
       "  'vcs_z': [0.0, 0.0, 0.0],\n",
       "  's_links_ro': 1.0},\n",
       " 'evaluations': {'gms_l1': {'constructor': 'Cylinder_Geometry',\n",
       "   'args': ['hps_a', 'hps_b', 's_links_ro']},\n",
       "  'gms_l2': {'constructor': 'Cylinder_Geometry',\n",
       "   'args': ['hps_b', 'hps_c', 's_links_ro']},\n",
       "  'gms_l3': {'constructor': 'Cylinder_Geometry',\n",
       "   'args': ['hps_c', 'hps_d', 's_links_ro']}},\n",
       " 'outputs': {'ax1_jcs_a': 'vcs_x',\n",
       "  'pt1_jcs_a': 'hps_a',\n",
       "  'ax1_jcs_b': 'vcs_z',\n",
       "  'pt1_jcs_b': 'hps_b',\n",
       "  'ax1_jcs_c': {'constructor': 'Oriented', 'args': ['hps_b', 'hps_c']},\n",
       "  'ax2_jcs_c': {'constructor': 'Oriented', 'args': ['hps_c', 'hps_b']},\n",
       "  'pt1_jcs_c': 'hps_c',\n",
       "  'ax1_jcs_d': 'vcs_y',\n",
       "  'pt1_jcs_d': 'hps_d',\n",
       "  'R_rbs_l1': {'constructor': 'getattribute', 'args': ['gms_l1', 'R']},\n",
       "  'P_rbs_l1': {'constructor': 'getattribute', 'args': ['gms_l1', 'P']},\n",
       "  'm_rbs_l1': {'constructor': 'getattribute', 'args': ['gms_l1', 'm']},\n",
       "  'Jbar_rbs_l1': {'constructor': 'getattribute', 'args': ['gms_l1', 'J']},\n",
       "  'R_rbs_l2': {'constructor': 'getattribute', 'args': ['gms_l2', 'R']},\n",
       "  'P_rbs_l2': {'constructor': 'getattribute', 'args': ['gms_l2', 'P']},\n",
       "  'm_rbs_l2': {'constructor': 'getattribute', 'args': ['gms_l2', 'm']},\n",
       "  'Jbar_rbs_l2': {'constructor': 'getattribute', 'args': ['gms_l2', 'J']},\n",
       "  'R_rbs_l3': {'constructor': 'getattribute', 'args': ['gms_l3', 'R']},\n",
       "  'P_rbs_l3': {'constructor': 'getattribute', 'args': ['gms_l3', 'P']},\n",
       "  'm_rbs_l3': {'constructor': 'getattribute', 'args': ['gms_l3', 'm']},\n",
       "  'Jbar_rbs_l3': {'constructor': 'getattribute', 'args': ['gms_l3', 'J']}}}"
      ]
     },
     "execution_count": 38,
     "metadata": {},
     "output_type": "execute_result"
    }
   ],
   "source": [
    "parse_json_configuration(json_text)"
   ]
  },
  {
   "cell_type": "code",
   "execution_count": null,
   "metadata": {},
   "outputs": [],
   "source": []
  },
  {
   "cell_type": "code",
   "execution_count": 40,
   "metadata": {},
   "outputs": [],
   "source": [
    "import numpy as np\n",
    "from smbd.utilities.numerics.spatial_alg import centered, oriented, mirrored\n",
    "from smbd.utilities.numerics.geometries import cylinder_geometry\n",
    "\n",
    "class configuration(object):\n",
    "    \n",
    "    _construction_map = {'array': np.array,\n",
    "                         'getattribute': getattr,\n",
    "                         'Oriented': oriented,\n",
    "                         'Mirrored': mirrored,\n",
    "                         'Centered': centered,\n",
    "                         'Cylinder_Geometry': cylinder_geometry,}\n",
    "    \n",
    "    def __init__(self, name):\n",
    "        \n",
    "        self.name = name\n",
    "        \n",
    "        self.R_ground = np.array([[0], [0], [0]], dtype=np.float64)\n",
    "        self.P_ground = np.array([[1], [0], [0], [0]], dtype=np.float64)\n",
    "\n",
    "        self.Rd_ground = np.array([[0], [0], [0]], dtype=np.float64)\n",
    "        self.Pd_ground = np.array([[0], [0], [0], [0]], dtype=np.float64)\n",
    "        \n",
    "        \n",
    "    def read_JSON(self, json_text):\n",
    "        data_dict = json.loads(json_text)\n",
    "\n",
    "        self.user_inputs = data_dict['user_inputs']\n",
    "        self.evaluations = data_dict['evaluations']\n",
    "        self.outputs     = data_dict['outputs']\n",
    "        \n",
    "        self.construct_inputs(self.user_inputs)\n",
    "        \n",
    "    \n",
    "    def construct_inputs(self, user_inputs_dict):\n",
    "        for key, data in user_inputs_dict.items():\n",
    "            if isinstance(data, dict):\n",
    "                constructor = self._construction_map[data['constructor']]\n",
    "                args = data['args']\n",
    "                value = constructor(args)[:, None]\n",
    "                setattr(self, key, value)\n",
    "            elif isinstance(data, (int, float, str, bool)):\n",
    "                setattr(self, key, data)\n",
    "    \n",
    "    def perform_evaluations(self):\n",
    "        \n",
    "        evaluations_dict = self.evaluations\n",
    "        outputs_dict = self.outputs\n",
    "        \n",
    "        for key, data in evaluations_dict.items():\n",
    "            if isinstance(data, dict):\n",
    "                constructor = self._construction_map[data['constructor']]\n",
    "                args = [getattr(self, arg) for arg in data['args']]\n",
    "                value = constructor(*args)\n",
    "                setattr(self, key, value)\n",
    "            elif isinstance(data, (int, float, str, bool)):\n",
    "                setattr(self, key, data)\n",
    "        \n",
    "        for key, data in outputs_dict.items():\n",
    "            if isinstance(data, dict):\n",
    "                constructor = self._construction_map[data['constructor']]\n",
    "                if constructor is getattr:\n",
    "                    args = [getattr(self, data['args'][0]), data['args'][1]]\n",
    "                else:\n",
    "                    args = [getattr(self, arg) for arg in data['args']]\n",
    "                value = constructor(*args)\n",
    "                setattr(self, key, value)\n",
    "            elif isinstance(data, (int, float, str, bool)):\n",
    "                if isinstance(data, str):\n",
    "                    value = getattr(self, data)\n",
    "                else:\n",
    "                    value = data\n",
    "                \n",
    "                setattr(self, key, value)\n",
    "    \n",
    "    \n",
    "        "
   ]
  },
  {
   "cell_type": "code",
   "execution_count": 65,
   "metadata": {},
   "outputs": [],
   "source": [
    "import itertools\n",
    "\n",
    "class JSON_configuration(object):\n",
    "\n",
    "    _construction_map = {'array': np.array,\n",
    "                         'getattribute': getattr,\n",
    "                         'Oriented': oriented,\n",
    "                         'Mirrored': mirrored,\n",
    "                         'Centered': centered,\n",
    "                         'Cylinder_Geometry': cylinder_geometry,}\n",
    "\n",
    "    def __init__(self, json_file):\n",
    "        self.file = json_file\n",
    "        self.construct_toplevel_dicts()\n",
    "        self.construct_inputs()\n",
    "\n",
    "    def construct_toplevel_dicts(self):\n",
    "        json_text = self.file\n",
    "        data_dict = json.loads(json_text)\n",
    "\n",
    "        self.user_inputs = data_dict['user_inputs']\n",
    "        self.evaluations = data_dict['evaluations']\n",
    "        self.outputs     = data_dict['outputs']\n",
    "    \n",
    "    def construct_inputs(self):\n",
    "        user_inputs_dict = self.user_inputs\n",
    "        for key, data in user_inputs_dict.items():\n",
    "            if isinstance(data, dict):\n",
    "                constructor = self._construction_map[data['constructor']]\n",
    "                args = data['args']\n",
    "                value = constructor(args)[:, None]\n",
    "                setattr(self, key, value)\n",
    "            elif isinstance(data, (int, float, str, bool)):\n",
    "                setattr(self, key, data)\n",
    "    \n",
    "    def perform_evaluations(self):\n",
    "        \n",
    "        evaluations_dict = self.evaluations\n",
    "        outputs_dict = self.outputs\n",
    "        \n",
    "        for key, data in evaluations_dict.items():\n",
    "            if isinstance(data, dict):\n",
    "                constructor = self._construction_map[data['constructor']]\n",
    "                args = [getattr(self, arg) for arg in data['args']]\n",
    "                value = constructor(*args)\n",
    "                setattr(self, key, value)\n",
    "            elif isinstance(data, (int, float, str, bool)):\n",
    "                setattr(self, key, data)\n",
    "        \n",
    "        for key, data in outputs_dict.items():\n",
    "            if isinstance(data, dict):\n",
    "                constructor = self._construction_map[data['constructor']]\n",
    "                if constructor is getattr:\n",
    "                    args = [getattr(self, data['args'][0]), data['args'][1]]\n",
    "                else:\n",
    "                    args = [getattr(self, arg) for arg in data['args']]\n",
    "                value = constructor(*args)\n",
    "                setattr(self, key, value)\n",
    "            elif isinstance(data, (int, float, str, bool)):\n",
    "                if isinstance(data, str):\n",
    "                    value = getattr(self, data)\n",
    "                else:\n",
    "                    value = data\n",
    "                setattr(self, key, value)\n",
    "\n",
    "\n",
    "class configuration(object):\n",
    "\n",
    "    \n",
    "    def __init__(self, name):\n",
    "        self.name = name\n",
    "\n",
    "        self.R_ground = np.array([[0], [0], [0]], dtype=np.float64)\n",
    "        self.P_ground = np.array([[1], [0], [0], [0]], dtype=np.float64)\n",
    "\n",
    "        self.Rd_ground = np.array([[0], [0], [0]], dtype=np.float64)\n",
    "        self.Pd_ground = np.array([[0], [0], [0], [0]], dtype=np.float64)\n",
    "    \n",
    "    def construct_from_json(self, json_file, assemble=False):\n",
    "\n",
    "        json_config = JSON_configuration(json_file)\n",
    "        self.json_config = json_config\n",
    "\n",
    "        if not assemble:\n",
    "            _attributes = json_config.user_inputs.keys()\n",
    "            for key in _attributes:\n",
    "                value = getattr(json_config, key)\n",
    "                setattr(self, key, value)\n",
    "        else:\n",
    "            self.assemble()\n",
    "        \n",
    "        \n",
    "    \n",
    "    def assemble(self):\n",
    "        self.json_config.perform_evaluations()\n",
    "\n",
    "        _attributes = itertools.chain(self.json_config.evaluations.keys(),\n",
    "                                      self.json_config.outputs.keys())\n",
    "        \n",
    "        for key in _attributes:\n",
    "            value = getattr(self.json_config, key)\n",
    "            setattr(self, key, value)\n",
    "\n"
   ]
  },
  {
   "cell_type": "code",
   "execution_count": 66,
   "metadata": {},
   "outputs": [],
   "source": [
    "dummy = configuration(json_text)\n"
   ]
  },
  {
   "cell_type": "code",
   "execution_count": 67,
   "metadata": {},
   "outputs": [],
   "source": [
    "dummy.construct_from_json(json_text)"
   ]
  },
  {
   "cell_type": "code",
   "execution_count": 68,
   "metadata": {},
   "outputs": [],
   "source": [
    "dummy.hps_a.flat[:] = 0, 0, 0\n",
    "dummy.hps_b.flat[:] = 0, 0, 200\n",
    "dummy.hps_c.flat[:] = -750, -850, 650\n",
    "dummy.hps_d.flat[:] = -400, -850, 0\n",
    "\n",
    "dummy.vcs_x.flat[:] = 1, 0, 0\n",
    "dummy.vcs_y.flat[:] = 0, 1, 0\n",
    "dummy.vcs_z.flat[:] = 0, 0, 1\n",
    "\n",
    "dummy.s_links_ro = 20"
   ]
  },
  {
   "cell_type": "code",
   "execution_count": 69,
   "metadata": {},
   "outputs": [],
   "source": [
    "dummy.assemble()"
   ]
  },
  {
   "cell_type": "code",
   "execution_count": 70,
   "metadata": {},
   "outputs": [],
   "source": [
    "dummy.UF_mcs_act = lambda t : -np.deg2rad(360)*t"
   ]
  },
  {
   "cell_type": "code",
   "execution_count": 73,
   "metadata": {},
   "outputs": [
    {
     "data": {
      "text/plain": [
       "array([[1.],\n",
       "       [0.],\n",
       "       [0.]])"
      ]
     },
     "execution_count": 73,
     "metadata": {},
     "output_type": "execute_result"
    }
   ],
   "source": [
    "dummy.ax1_jcs_a"
   ]
  },
  {
   "cell_type": "markdown",
   "metadata": {},
   "source": [
    "---------------------------------------------------------------\n",
    "---------------------------------------------------------------"
   ]
  },
  {
   "cell_type": "markdown",
   "metadata": {},
   "source": [
    "## **CODE GENERATION**\n",
    "----------------------"
   ]
  },
  {
   "cell_type": "markdown",
   "metadata": {},
   "source": [
    "This step aims to create a valid code that can be used for numerical simulation. We will use both the ***python code generator*** and the **C++ code generator** to create a valid numerical simulation environment in python and C++.</br>\n",
    "\n",
    "Theoretically, the symbolic environment is uncoupled from the simulation environment, which opens the door to create various simulation environments that can be in any language."
   ]
  },
  {
   "cell_type": "markdown",
   "metadata": {
    "colab_type": "text",
    "id": "udnBb6lvi9fo"
   },
   "source": [
    "### Generating Python Numerical Environment"
   ]
  },
  {
   "cell_type": "code",
   "execution_count": 33,
   "metadata": {},
   "outputs": [],
   "source": [
    "from smbd.numenv.python.codegen import projects as py_numenv"
   ]
  },
  {
   "cell_type": "code",
   "execution_count": 34,
   "metadata": {},
   "outputs": [],
   "source": [
    "# Creating the needed directories structure for the source code.\n",
    "py_project = py_numenv.standalone_project(parent_dir='')\n",
    "py_project.create_dirs()"
   ]
  },
  {
   "cell_type": "code",
   "execution_count": 35,
   "metadata": {},
   "outputs": [
    {
     "name": "stdout",
     "output_type": "stream",
     "text": [
      "File full path : numenv\\python\\src\\spatial_fourbar.py\n",
      "File full path : numenv\\python\\src\\spatial_fourbar_cfg.py\n"
     ]
    }
   ],
   "source": [
    "# Generating the source code.\n",
    "py_project.write_topology_code(sym_model.topology)\n",
    "py_project.write_configuration_code(sym_config.config)"
   ]
  },
  {
   "cell_type": "markdown",
   "metadata": {
    "colab_type": "text",
    "id": "udnBb6lvi9fo"
   },
   "source": [
    "### Generating C++ Numerical Environment"
   ]
  },
  {
   "cell_type": "code",
   "execution_count": 20,
   "metadata": {},
   "outputs": [],
   "source": [
    "from smbd.numenv.cpp_eigen.codegen import projects as cpp_numenv"
   ]
  },
  {
   "cell_type": "code",
   "execution_count": 21,
   "metadata": {},
   "outputs": [],
   "source": [
    "cpp_project = cpp_numenv.standalone_project(parent_dir='')\n",
    "cpp_project.create_dirs()"
   ]
  },
  {
   "cell_type": "code",
   "execution_count": 22,
   "metadata": {},
   "outputs": [
    {
     "name": "stdout",
     "output_type": "stream",
     "text": [
      "File full path : numenv\\cpp_eigen\\src\\spatial_fourbar.hpp\n",
      "File full path : numenv\\cpp_eigen\\src\\spatial_fourbar.cpp\n",
      "File full path : numenv\\cpp_eigen\\src\\spatial_fourbar_cfg.hpp\n"
     ]
    }
   ],
   "source": [
    "# Generating the source code.\n",
    "cpp_project.write_topology_code(sym_model.topology)\n",
    "cpp_project.write_configuration_code(sym_config.config)"
   ]
  },
  {
   "cell_type": "code",
   "execution_count": 19,
   "metadata": {},
   "outputs": [
    {
     "name": "stdout",
     "output_type": "stream",
     "text": [
      "File full path : numenv\\cpp_eigen\\main.cpp\n",
      "File full path : numenv\\cpp_eigen\\Makefile\n"
     ]
    }
   ],
   "source": [
    "# Generating the makefile and main.cpp files.\n",
    "cpp_project.write_mainfile()\n",
    "cpp_project.write_makefile()"
   ]
  },
  {
   "cell_type": "markdown",
   "metadata": {},
   "source": [
    "### Generating Blender Script"
   ]
  },
  {
   "cell_type": "code",
   "execution_count": 20,
   "metadata": {},
   "outputs": [],
   "source": [
    "from smbd.utilities.blender import codegen"
   ]
  },
  {
   "cell_type": "code",
   "execution_count": 21,
   "metadata": {},
   "outputs": [],
   "source": [
    "blender_code = codegen.script_generator(sym_config.config)\n",
    "blender_code.write_code_file('numenv/')"
   ]
  },
  {
   "cell_type": "markdown",
   "metadata": {},
   "source": [
    "---------------------------------------------------------------\n",
    "---------------------------------------------------------------"
   ]
  },
  {
   "cell_type": "markdown",
   "metadata": {},
   "source": [
    "## **PYTHON NUMERICAL SIMULATION**\n",
    "---------------------------"
   ]
  },
  {
   "cell_type": "markdown",
   "metadata": {},
   "source": [
    "The **numerical simulation** step is also a straight forward one. We start by importing helper libraries like **numpy** and **pandas**, then we import the ```multibody_system``` class and the ```simulation``` class that will be used to create a numerical system and a simulation instance respectively. And finally we import the generated code files from the previous step.\n",
    "\n",
    "The steps then can be summarized as follows:\n",
    "1. Create a numerical model instance by passing the generated topology code to the ```multibody_system``` class.\n",
    "2. Make the configuration of that instance refers to the generated configuration code.\n",
    "3. Setting the numerical data of the configuration.\n",
    "4. Setting the **user-defined functions** that will be used for the actuators/forces.\n",
    "5. Creating a **simulation instance**, set the desired time-sampling and run the simulation.\n",
    "6. Plotting the results."
   ]
  },
  {
   "cell_type": "markdown",
   "metadata": {
    "colab_type": "text",
    "id": "w-7fcrPBjUie"
   },
   "source": [
    "###  Imports"
   ]
  },
  {
   "cell_type": "code",
   "execution_count": 36,
   "metadata": {},
   "outputs": [],
   "source": [
    "import numpy as np\n",
    "from smbd.numenv.python.numerics.core.systems import multibody_system, simulation"
   ]
  },
  {
   "cell_type": "code",
   "execution_count": 37,
   "metadata": {},
   "outputs": [],
   "source": [
    "# Importing the generated modules/souce-code of the model.\n",
    "from numenv.python.src import spatial_fourbar, spatial_fourbar_cfg"
   ]
  },
  {
   "cell_type": "markdown",
   "metadata": {
    "colab_type": "text",
    "id": "vkHoR9CCjb6u"
   },
   "source": [
    "### Creating Numerical Model"
   ]
  },
  {
   "cell_type": "code",
   "execution_count": 46,
   "metadata": {},
   "outputs": [],
   "source": [
    "num_model  = multibody_system(spatial_fourbar)\n",
    "num_config = spatial_fourbar_cfg.configuration()\n",
    "\n",
    "num_model.topology.config = dummy"
   ]
  },
  {
   "cell_type": "markdown",
   "metadata": {
    "colab_type": "text",
    "id": "85ZRAWmRjitu"
   },
   "source": [
    "### Setting Configuration Numerical Data"
   ]
  },
  {
   "cell_type": "code",
   "execution_count": 19,
   "metadata": {},
   "outputs": [],
   "source": [
    "# Creating numerical inputs instance.\n",
    "num_inputs = spatial_fourbar_cfg.inputs('base_config')"
   ]
  },
  {
   "cell_type": "code",
   "execution_count": 20,
   "metadata": {},
   "outputs": [],
   "source": [
    "# Specifying the Numerical Configuration of the System.\n",
    "# ====================================================\n",
    "\n",
    "#num_inputs.P_ground.flat[:] = [1, 0, 0, 0]\n",
    "\n",
    "num_inputs.hps_a.flat[:] = 0, 0, 0\n",
    "num_inputs.hps_b.flat[:] = 0, 0, 200\n",
    "num_inputs.hps_c.flat[:] = -750, -850, 650\n",
    "num_inputs.hps_d.flat[:] = -400, -850, 0\n",
    "\n",
    "num_inputs.vcs_x.flat[:] = 1, 0, 0\n",
    "num_inputs.vcs_y.flat[:] = 0, 1, 0\n",
    "num_inputs.vcs_z.flat[:] = 0, 0, 1\n",
    "\n",
    "num_inputs.s_links_ro = 20\n",
    "\n",
    "# Saving the numerical data to a new csv file\n",
    "#num_inputs.to_csv('config_inputs')"
   ]
  },
  {
   "cell_type": "markdown",
   "metadata": {},
   "source": [
    "### Setting User Functions."
   ]
  },
  {
   "cell_type": "markdown",
   "metadata": {},
   "source": [
    "#### Actuators"
   ]
  },
  {
   "cell_type": "markdown",
   "metadata": {},
   "source": [
    "Here we set the actuation functions of the system actuators."
   ]
  },
  {
   "cell_type": "code",
   "execution_count": 21,
   "metadata": {},
   "outputs": [],
   "source": [
    "num_inputs.UF_mcs_act = lambda t : -np.deg2rad(360)*t"
   ]
  },
  {
   "cell_type": "markdown",
   "metadata": {},
   "source": [
    "### Assembling the numerical configuration.\n",
    "Here, we pass the numerical inputs instance ```num_inputs``` to the ```assemble()``` method of the ```num_config``` instance of our model."
   ]
  },
  {
   "cell_type": "code",
   "execution_count": 22,
   "metadata": {},
   "outputs": [],
   "source": [
    "num_config.assemble(num_inputs)"
   ]
  },
  {
   "cell_type": "markdown",
   "metadata": {
    "colab_type": "text",
    "id": "APxcuvdMjq4-"
   },
   "source": [
    "### Creating Simulation Instance"
   ]
  },
  {
   "cell_type": "markdown",
   "metadata": {},
   "source": [
    "A simulation instance takes in three arguments, the simulation ```name```, the numerical ```model``` and the simulation ```typ```. The simulation ```typ``` argument should be either *kds* for kinematically driven systems or *dds* for dynamically driven systems. For our case, the system is fully defined kinematically, and therefore we will set the ```typ``` as *kds*."
   ]
  },
  {
   "cell_type": "code",
   "execution_count": 49,
   "metadata": {},
   "outputs": [
    {
     "name": "stdout",
     "output_type": "stream",
     "text": [
      "\n",
      "Running System Kinematic Analysis:\n",
      "[=========================] 100%, (249/249) steps. ET = 0.651 (s)\n",
      "\n"
     ]
    }
   ],
   "source": [
    "sim = simulation('sim', num_model, 'kds')\n",
    "sim.set_time_array(5, 2e-2)\n",
    "sim.solve()"
   ]
  },
  {
   "cell_type": "code",
   "execution_count": 24,
   "metadata": {},
   "outputs": [
    {
     "ename": "FileNotFoundError",
     "evalue": "[Errno 2] No such file or directory: 'C:\\\\khaledghobashy\\\\github\\\\smbd\\\\smbd\\\\utilities\\\\serialization\\\\json\\\\results\\\\kinSim.csv'",
     "output_type": "error",
     "traceback": [
      "\u001b[1;31m---------------------------------------------------------------------------\u001b[0m",
      "\u001b[1;31mFileNotFoundError\u001b[0m                         Traceback (most recent call last)",
      "\u001b[1;32m<ipython-input-24-115e8e92ba02>\u001b[0m in \u001b[0;36m<module>\u001b[1;34m\u001b[0m\n\u001b[1;32m----> 1\u001b[1;33m \u001b[0msim\u001b[0m\u001b[1;33m.\u001b[0m\u001b[0msave_results\u001b[0m\u001b[1;33m(\u001b[0m\u001b[1;34m'results'\u001b[0m\u001b[1;33m,\u001b[0m \u001b[1;34m'kinSim'\u001b[0m\u001b[1;33m)\u001b[0m\u001b[1;33m\u001b[0m\u001b[1;33m\u001b[0m\u001b[0m\n\u001b[0m",
      "\u001b[1;32mC:\\khaledghobashy\\github\\smbd\\smbd\\numenv\\python\\numerics\\core\\systems.py\u001b[0m in \u001b[0;36msave_results\u001b[1;34m(self, path, filename)\u001b[0m\n\u001b[0;32m     59\u001b[0m         \u001b[0mpath\u001b[0m \u001b[1;33m=\u001b[0m \u001b[0mos\u001b[0m\u001b[1;33m.\u001b[0m\u001b[0mpath\u001b[0m\u001b[1;33m.\u001b[0m\u001b[0mabspath\u001b[0m\u001b[1;33m(\u001b[0m\u001b[0mpath\u001b[0m\u001b[1;33m)\u001b[0m\u001b[1;33m\u001b[0m\u001b[1;33m\u001b[0m\u001b[0m\n\u001b[0;32m     60\u001b[0m         \u001b[0mfilepath\u001b[0m \u001b[1;33m=\u001b[0m \u001b[0mos\u001b[0m\u001b[1;33m.\u001b[0m\u001b[0mpath\u001b[0m\u001b[1;33m.\u001b[0m\u001b[0mjoin\u001b[0m\u001b[1;33m(\u001b[0m\u001b[0mpath\u001b[0m\u001b[1;33m,\u001b[0m \u001b[0mfilename\u001b[0m\u001b[1;33m)\u001b[0m\u001b[1;33m\u001b[0m\u001b[1;33m\u001b[0m\u001b[0m\n\u001b[1;32m---> 61\u001b[1;33m         \u001b[0mself\u001b[0m\u001b[1;33m.\u001b[0m\u001b[0msoln\u001b[0m\u001b[1;33m.\u001b[0m\u001b[0mpos_dataframe\u001b[0m\u001b[1;33m.\u001b[0m\u001b[0mto_csv\u001b[0m\u001b[1;33m(\u001b[0m\u001b[1;34m'%s.csv'\u001b[0m\u001b[1;33m%\u001b[0m\u001b[0mfilepath\u001b[0m\u001b[1;33m,\u001b[0m \u001b[0mindex\u001b[0m\u001b[1;33m=\u001b[0m\u001b[1;32mTrue\u001b[0m\u001b[1;33m)\u001b[0m\u001b[1;33m\u001b[0m\u001b[1;33m\u001b[0m\u001b[0m\n\u001b[0m\u001b[0;32m     62\u001b[0m         \u001b[0mprint\u001b[0m\u001b[1;33m(\u001b[0m\u001b[1;34m'results saved as %s.csv at %s'\u001b[0m\u001b[1;33m%\u001b[0m\u001b[1;33m(\u001b[0m\u001b[0mfilename\u001b[0m\u001b[1;33m,\u001b[0m \u001b[0mpath\u001b[0m\u001b[1;33m)\u001b[0m\u001b[1;33m)\u001b[0m\u001b[1;33m\u001b[0m\u001b[1;33m\u001b[0m\u001b[0m\n\u001b[0;32m     63\u001b[0m \u001b[1;33m\u001b[0m\u001b[0m\n",
      "\u001b[1;32m~\\AppData\\Local\\Continuum\\anaconda3\\lib\\site-packages\\pandas\\core\\generic.py\u001b[0m in \u001b[0;36mto_csv\u001b[1;34m(self, path_or_buf, sep, na_rep, float_format, columns, header, index, index_label, mode, encoding, compression, quoting, quotechar, line_terminator, chunksize, tupleize_cols, date_format, doublequote, escapechar, decimal)\u001b[0m\n\u001b[0;32m   3018\u001b[0m                                  \u001b[0mdoublequote\u001b[0m\u001b[1;33m=\u001b[0m\u001b[0mdoublequote\u001b[0m\u001b[1;33m,\u001b[0m\u001b[1;33m\u001b[0m\u001b[1;33m\u001b[0m\u001b[0m\n\u001b[0;32m   3019\u001b[0m                                  escapechar=escapechar, decimal=decimal)\n\u001b[1;32m-> 3020\u001b[1;33m         \u001b[0mformatter\u001b[0m\u001b[1;33m.\u001b[0m\u001b[0msave\u001b[0m\u001b[1;33m(\u001b[0m\u001b[1;33m)\u001b[0m\u001b[1;33m\u001b[0m\u001b[1;33m\u001b[0m\u001b[0m\n\u001b[0m\u001b[0;32m   3021\u001b[0m \u001b[1;33m\u001b[0m\u001b[0m\n\u001b[0;32m   3022\u001b[0m         \u001b[1;32mif\u001b[0m \u001b[0mpath_or_buf\u001b[0m \u001b[1;32mis\u001b[0m \u001b[1;32mNone\u001b[0m\u001b[1;33m:\u001b[0m\u001b[1;33m\u001b[0m\u001b[1;33m\u001b[0m\u001b[0m\n",
      "\u001b[1;32m~\\AppData\\Local\\Continuum\\anaconda3\\lib\\site-packages\\pandas\\io\\formats\\csvs.py\u001b[0m in \u001b[0;36msave\u001b[1;34m(self)\u001b[0m\n\u001b[0;32m    155\u001b[0m             f, handles = _get_handle(self.path_or_buf, self.mode,\n\u001b[0;32m    156\u001b[0m                                      \u001b[0mencoding\u001b[0m\u001b[1;33m=\u001b[0m\u001b[0mself\u001b[0m\u001b[1;33m.\u001b[0m\u001b[0mencoding\u001b[0m\u001b[1;33m,\u001b[0m\u001b[1;33m\u001b[0m\u001b[1;33m\u001b[0m\u001b[0m\n\u001b[1;32m--> 157\u001b[1;33m                                      compression=self.compression)\n\u001b[0m\u001b[0;32m    158\u001b[0m             \u001b[0mclose\u001b[0m \u001b[1;33m=\u001b[0m \u001b[1;32mTrue\u001b[0m\u001b[1;33m\u001b[0m\u001b[1;33m\u001b[0m\u001b[0m\n\u001b[0;32m    159\u001b[0m \u001b[1;33m\u001b[0m\u001b[0m\n",
      "\u001b[1;32m~\\AppData\\Local\\Continuum\\anaconda3\\lib\\site-packages\\pandas\\io\\common.py\u001b[0m in \u001b[0;36m_get_handle\u001b[1;34m(path_or_buf, mode, encoding, compression, memory_map, is_text)\u001b[0m\n\u001b[0;32m    422\u001b[0m         \u001b[1;32melif\u001b[0m \u001b[0mencoding\u001b[0m\u001b[1;33m:\u001b[0m\u001b[1;33m\u001b[0m\u001b[1;33m\u001b[0m\u001b[0m\n\u001b[0;32m    423\u001b[0m             \u001b[1;31m# Python 3 and encoding\u001b[0m\u001b[1;33m\u001b[0m\u001b[1;33m\u001b[0m\u001b[1;33m\u001b[0m\u001b[0m\n\u001b[1;32m--> 424\u001b[1;33m             \u001b[0mf\u001b[0m \u001b[1;33m=\u001b[0m \u001b[0mopen\u001b[0m\u001b[1;33m(\u001b[0m\u001b[0mpath_or_buf\u001b[0m\u001b[1;33m,\u001b[0m \u001b[0mmode\u001b[0m\u001b[1;33m,\u001b[0m \u001b[0mencoding\u001b[0m\u001b[1;33m=\u001b[0m\u001b[0mencoding\u001b[0m\u001b[1;33m,\u001b[0m \u001b[0mnewline\u001b[0m\u001b[1;33m=\u001b[0m\u001b[1;34m\"\"\u001b[0m\u001b[1;33m)\u001b[0m\u001b[1;33m\u001b[0m\u001b[1;33m\u001b[0m\u001b[0m\n\u001b[0m\u001b[0;32m    425\u001b[0m         \u001b[1;32melif\u001b[0m \u001b[0mis_text\u001b[0m\u001b[1;33m:\u001b[0m\u001b[1;33m\u001b[0m\u001b[1;33m\u001b[0m\u001b[0m\n\u001b[0;32m    426\u001b[0m             \u001b[1;31m# Python 3 and no explicit encoding\u001b[0m\u001b[1;33m\u001b[0m\u001b[1;33m\u001b[0m\u001b[1;33m\u001b[0m\u001b[0m\n",
      "\u001b[1;31mFileNotFoundError\u001b[0m: [Errno 2] No such file or directory: 'C:\\\\khaledghobashy\\\\github\\\\smbd\\\\smbd\\\\utilities\\\\serialization\\\\json\\\\results\\\\kinSim.csv'"
     ]
    }
   ],
   "source": [
    "sim.save_results('results', 'kinSim')"
   ]
  },
  {
   "cell_type": "code",
   "execution_count": 50,
   "metadata": {},
   "outputs": [
    {
     "data": {
      "text/plain": [
       "<matplotlib.axes._subplots.AxesSubplot at 0x28362aa27f0>"
      ]
     },
     "execution_count": 50,
     "metadata": {},
     "output_type": "execute_result"
    },
    {
     "data": {
      "image/png": "[encoded data removed]",
      "text/plain": [
       "<Figure size 720x288 with 1 Axes>"
      ]
     },
     "metadata": {
      "needs_background": "light"
     },
     "output_type": "display_data"
    },
    {
     "data": {
      "image/png": "[encoded data removed]",
      "text/plain": [
       "<Figure size 720x288 with 1 Axes>"
      ]
     },
     "metadata": {
      "needs_background": "light"
     },
     "output_type": "display_data"
    },
    {
     "data": {
      "image/png": "[encoded data removed]",
      "text/plain": [
       "<Figure size 720x288 with 1 Axes>"
      ]
     },
     "metadata": {
      "needs_background": "light"
     },
     "output_type": "display_data"
    }
   ],
   "source": [
    "sim.soln.pos_dataframe.plot(x='time', y='rbs_l3.x', grid=True, figsize=(10,4))\n",
    "sim.soln.vel_dataframe.plot(x='time', y='rbs_l3.x', grid=True, figsize=(10,4))\n",
    "sim.soln.acc_dataframe.plot(x='time', y='rbs_l3.x', grid=True, figsize=(10,4))\n"
   ]
  },
  {
   "cell_type": "markdown",
   "metadata": {},
   "source": [
    "### Evaluating System Reactions"
   ]
  },
  {
   "cell_type": "markdown",
   "metadata": {},
   "source": [
    "Here we take the simulation a step further by making it an inverse dynamics problem and evaluating the reactions resulted due the imposed constraints, either by joints or actuators. This step is only valid if you have defined the numerical values of the inertia properties of the system."
   ]
  },
  {
   "cell_type": "code",
   "execution_count": 43,
   "metadata": {},
   "outputs": [
    {
     "name": "stdout",
     "output_type": "stream",
     "text": [
      "\n",
      "Evaluating System Constraints' Forces.\n",
      "[=========================] 100%, (250/250) steps. ET = 1.875 (s)"
     ]
    }
   ],
   "source": [
    "sim.eval_reactions()"
   ]
  },
  {
   "cell_type": "code",
   "execution_count": 44,
   "metadata": {},
   "outputs": [
    {
     "data": {
      "text/plain": [
       "<matplotlib.axes._subplots.AxesSubplot at 0x7f4e48429550>"
      ]
     },
     "execution_count": 44,
     "metadata": {},
     "output_type": "execute_result"
    },
    {
     "data": {
      "image/png": "[encoded data removed]",
      "text/plain": [
       "<Figure size 720x288 with 1 Axes>"
      ]
     },
     "metadata": {
      "needs_background": "light"
     },
     "output_type": "display_data"
    }
   ],
   "source": [
    "sim.soln.reactions_dataframe.plot(x='time', y=['T_ground_mcs_act.x', 'T_ground_jcs_a.x'],\n",
    "                                   grid=True, figsize=(10,4))"
   ]
  },
  {
   "cell_type": "markdown",
   "metadata": {},
   "source": [
    "---------------------------------------------------------------\n",
    "---------------------------------------------------------------"
   ]
  },
  {
   "cell_type": "markdown",
   "metadata": {},
   "source": [
    "## **C++ NUMERICAL SIMULATION**\n",
    "\n",
    "_Only for Linux Machines_\n",
    "\n",
    "\n",
    "-------------------------------\n"
   ]
  },
  {
   "cell_type": "markdown",
   "metadata": {},
   "source": [
    "***TO DO BRIEF***"
   ]
  },
  {
   "cell_type": "markdown",
   "metadata": {},
   "source": [
    "The C++ numerical environment provides samples of **Makefile** and **main.cpp** files that can be used to create, compile and run an executable of the created model.\n",
    "\n",
    "In order to create a valid environment, we have to edit the **Makefile** and the **main.cpp** files to match the model variables as shown below. These edits can be carried out on the text files using any text editor normally, but for completeness and compatibility with the **Jupyter Notebook** environment the files can be edited here locally using the *Jupyter magic functions*.\n",
    "\n",
    "First, we check the current working directory, it should be the parent directory that contains [numenv, config_inputs, results, ..], then we use the command```%cd numenv/cpp_eigen/``` to change the working directory."
   ]
  },
  {
   "cell_type": "code",
   "execution_count": 45,
   "metadata": {},
   "outputs": [
    {
     "name": "stdout",
     "output_type": "stream",
     "text": [
      "/home/khaledghobashy/Documents/smbd/examples/standalone_models/notebooks/spatial_fourbar/numenv/cpp_eigen\n"
     ]
    }
   ],
   "source": [
    "# Changing the current working directory to 'numenv/cpp_eigen/'\n",
    "%cd numenv/cpp_eigen/"
   ]
  },
  {
   "cell_type": "markdown",
   "metadata": {},
   "source": [
    "---------------------------------------------------"
   ]
  },
  {
   "cell_type": "markdown",
   "metadata": {},
   "source": [
    "### **Editing the main.cpp file**\n",
    "#### Using the ```%load ``` magic function.\n",
    "-------------------------------------------\n",
    "Then we use the command ```%load main.cpp```, this will load the generated **main.cpp** content in the current cell where we can edit the content. The edits are as follows:\n",
    "- Remove the first line ```# %load main.cpp``` and insert the line ```%%writefile new_main.cpp```.\n",
    "- Change the variables topology and configuration in the include directive to match the names of the model generated source files.\n",
    "- Start specifying the configuration numerical data via the ```Config``` class.\n",
    "    \n",
    "After these edits, just run the cell like any normal cell via Shift+Enter."
   ]
  },
  {
   "cell_type": "markdown",
   "metadata": {},
   "source": [
    "#### Using the ```%cat ``` magic function.\n",
    "-------------------------------------------\n",
    "Then we use the command ```%cat main.cpp```, this will load the generated **main.cpp** content as the output of the current cell, we can then copy the content and past and edit it in another cell. The edits are as follows:\n",
    "- Insert the line ```%%writefile new_main.cpp``` at the top of the cell.\n",
    "- Change the variables topology and configuration in the include directive to match the names of the model generated source files.\n",
    "- Start specifying the configuration numerical data via the ```Config``` class.\n",
    "    \n",
    "After these edits, just run the cell like any normal cell via Shift+Enter."
   ]
  },
  {
   "cell_type": "code",
   "execution_count": 46,
   "metadata": {},
   "outputs": [
    {
     "name": "stdout",
     "output_type": "stream",
     "text": [
      "\n",
      "#include <iostream>\n",
      "\n",
      "#include \"smbd/solvers.hpp\"\n",
      "\n",
      "#include \"src/topology.hpp\"\n",
      "#include \"src/configuration.hpp\"\n",
      "\n",
      "\n",
      "int main()\n",
      "{\n",
      "    Topology model(\"\");\n",
      "    auto Config = ConfigurationInputs<Configuration>(model.config);\n",
      "\n",
      "    // assign the configuration inputs needed ...\n",
      "\n",
      "    Config.assemble();\n",
      "\n",
      "    Solver<Topology> Soln(model);\n",
      "    Soln.set_time_array(1, 100);\n",
      "    Soln.Solve();\n",
      "    Soln.ExportResultsCSV(\"../results/\", 0);\n",
      "\n",
      "};\n"
     ]
    }
   ],
   "source": [
    "%cat main.cpp"
   ]
  },
  {
   "cell_type": "code",
   "execution_count": 47,
   "metadata": {},
   "outputs": [
    {
     "name": "stdout",
     "output_type": "stream",
     "text": [
      "Overwriting new_main.cpp\n"
     ]
    }
   ],
   "source": [
    "%%writefile new_main.cpp\n",
    "\n",
    "#include <iostream>\n",
    "\n",
    "#include \"smbd/solvers.hpp\"\n",
    "\n",
    "#include \"src/spatial_fourbar.hpp\"\n",
    "#include \"src/spatial_fourbar_cfg.hpp\"\n",
    "\n",
    "\n",
    "int main()\n",
    "{\n",
    "    Topology model(\"\");\n",
    "    auto Config = ConfigurationInputs<Configuration>(model.config);\n",
    "\n",
    "    // assign the configuration inputs needed ...\n",
    "    \n",
    "    Config.R_ground << 0, 0, 0 ;\n",
    "\tConfig.P_ground << 1, 0, 0, 0 ;\n",
    "\n",
    "\tConfig.hps_a << 0, 0, 0 ;\n",
    "\tConfig.hps_b << 0, 0, 200 ;\n",
    "\tConfig.hps_c << -750, -850, 650 ;\n",
    "\tConfig.hps_d << -400, -850, 0 ;\n",
    "\n",
    "\tConfig.vcs_x << 1, 0, 0 ;\n",
    "\tConfig.vcs_y << 0, 1, 0 ;\n",
    "\tConfig.vcs_z << 0, 0, 1 ;\n",
    "\n",
    "\tConfig.s_links_ro = 20 ;\n",
    "\tConfig.UF_mcs_act = [](double t)->double{return 2*(22/7)*t;};\n",
    "\n",
    "    Config.assemble();\n",
    "\n",
    "    Solver<Topology> Soln(model);\n",
    "    Soln.set_time_array(5, 250);\n",
    "    Soln.Solve();\n",
    "    Soln.ExportResultsCSV(\"../../results/\", 0);\n",
    "\n",
    "};\n"
   ]
  },
  {
   "cell_type": "markdown",
   "metadata": {},
   "source": [
    "---------------------------------------------------"
   ]
  },
  {
   "cell_type": "markdown",
   "metadata": {},
   "source": [
    "### **Editing the Makefile file**\n",
    "Following the same steps done for the main.cpp file, then apply the following edits:\n",
    "- Change the variables MODEL, CONFIG and MAIN to match the generated source files of the topology, configuration and the edited new_main.cpp file.\n",
    "    \n",
    "After these edits, just run the cell like any normal cell via Shift+Enter."
   ]
  },
  {
   "cell_type": "code",
   "execution_count": 48,
   "metadata": {},
   "outputs": [
    {
     "name": "stdout",
     "output_type": "stream",
     "text": [
      "\n",
      "# Change MODEL, CONFG and MAIN to match the source files you want to build\n",
      "# ========================================================================\n",
      "MODEL := topology\n",
      "CONFG := configuration\n",
      "MAIN := main.cpp\n",
      "# ========================================================================\n",
      "\n",
      "\n",
      "M_BUILD := build/\n",
      "M_SRC := src/\n",
      "M_BIN := bin/\n",
      "\n",
      "NUM_DIR := /home/khaledghobashy/Documents/smbd/smbd/numenv/cpp_eigen/numerics\n",
      "\n",
      "SMBD_SRC := $(NUM_DIR)/src\n",
      "SMBD_BUILD := $(NUM_DIR)/build\n",
      "\n",
      "SMBD_OBJS = $(SMBD_BUILD)/*.o\n",
      "\n",
      "DEPS := $(M_BUILD)$(MODEL).o $(MAIN) $(M_SRC)$(CONFG).hpp $(SMBD_SRC)/smbd/solvers.hpp\n",
      "\n",
      "INC := -I $(SMBD_SRC)\n",
      "CC := g++\n",
      "\n",
      "\n",
      "$(M_BIN)$(MODEL): $(DEPS) $(SMBD_OBJS)\n",
      "\t$(CC) $(INC) $(M_BUILD)$(MODEL).o $(MAIN) $(SMBD_OBJS) -o $@\n",
      "\n",
      "$(M_BUILD)$(MODEL).o: $(M_SRC)$(MODEL).cpp $(M_SRC)$(MODEL).hpp\n",
      "\t$(CC) $(INC) -c -o $@ $<\n",
      "\n",
      "\n",
      "$(SMBD_BUILD)/%.o: $(SMBD_SRC)/smbd/%.cpp $(SMBD_SRC)/smbd/%.hpp\n",
      "\tcd $(SMBD_SRC)/../ && make\n",
      "\n",
      "\n",
      "clear:\n",
      "\trm $(M_BUILD)*.o $(M_BIN)$(MODEL)\n"
     ]
    }
   ],
   "source": [
    "%cat Makefile"
   ]
  },
  {
   "cell_type": "code",
   "execution_count": 51,
   "metadata": {},
   "outputs": [
    {
     "name": "stdout",
     "output_type": "stream",
     "text": [
      "Overwriting Makefile\n"
     ]
    }
   ],
   "source": [
    "%%writefile Makefile\n",
    "\n",
    "# Change MODEL, CONFG and MAIN to match the source files you want to build\n",
    "# ========================================================================\n",
    "MODEL := spatial_fourbar\n",
    "CONFG := spatial_fourbar_cfg\n",
    "MAIN := new_main.cpp\n",
    "# ========================================================================\n",
    "\n",
    "M_BUILD := build/\n",
    "M_SRC := src/\n",
    "M_BIN := bin/\n",
    "\n",
    "NUM_DIR := /home/khaledghobashy/Documents/smbd/smbd/numenv/cpp_eigen/numerics\n",
    "\n",
    "SMBD_SRC := $(NUM_DIR)/src\n",
    "SMBD_BUILD := $(NUM_DIR)/build\n",
    "\n",
    "SMBD_OBJS = $(SMBD_BUILD)/*.o\n",
    "\n",
    "DEPS := $(M_BUILD)$(MODEL).o $(MAIN) $(M_SRC)$(CONFG).hpp $(SMBD_SRC)/smbd/solvers.hpp\n",
    "\n",
    "INC := -I $(SMBD_SRC)\n",
    "CC := g++\n",
    "\n",
    "\n",
    "$(M_BIN)$(MODEL): $(DEPS) $(SMBD_OBJS)\n",
    "\t$(CC) $(INC) $(M_BUILD)$(MODEL).o $(MAIN) $(SMBD_OBJS) -o $@\n",
    "\n",
    "$(M_BUILD)$(MODEL).o: $(M_SRC)$(MODEL).cpp $(M_SRC)$(MODEL).hpp\n",
    "\t$(CC) $(INC) -c -o $@ $<\n",
    "\n",
    "\n",
    "$(SMBD_BUILD)/%.o: $(SMBD_SRC)/smbd/%.cpp $(SMBD_SRC)/smbd/%.hpp\n",
    "\tcd $(SMBD_SRC)/../ && make\n",
    "\n",
    "\n",
    "clear:\n",
    "\trm $(M_BUILD)*.o $(M_BIN)$(MODEL)"
   ]
  },
  {
   "cell_type": "markdown",
   "metadata": {},
   "source": [
    "### Running ```make``` command"
   ]
  },
  {
   "cell_type": "code",
   "execution_count": 52,
   "metadata": {},
   "outputs": [
    {
     "name": "stdout",
     "output_type": "stream",
     "text": [
      "g++ -I /home/khaledghobashy/Documents/smbd/smbd/numenv/cpp_eigen/numerics/src -c -o build/spatial_fourbar.o src/spatial_fourbar.cpp\n",
      "g++ -I /home/khaledghobashy/Documents/smbd/smbd/numenv/cpp_eigen/numerics/src build/spatial_fourbar.o new_main.cpp /home/khaledghobashy/Documents/smbd/smbd/numenv/cpp_eigen/numerics/build/*.o -o bin/spatial_fourbar\n"
     ]
    }
   ],
   "source": [
    "!make"
   ]
  },
  {
   "cell_type": "markdown",
   "metadata": {},
   "source": [
    "### Running the executable."
   ]
  },
  {
   "cell_type": "code",
   "execution_count": 53,
   "metadata": {},
   "outputs": [
    {
     "name": "stdout",
     "output_type": "stream",
     "text": [
      "Starting Solver ...\n",
      "[=================================================>] 249 \n",
      "\n",
      "Positions results saved as : ../../results/Positions.csv\n"
     ]
    }
   ],
   "source": [
    "!bin/spatial_fourbar"
   ]
  },
  {
   "cell_type": "markdown",
   "metadata": {},
   "source": [
    "### Loading and Plotting Results."
   ]
  },
  {
   "cell_type": "code",
   "execution_count": 54,
   "metadata": {},
   "outputs": [],
   "source": [
    "import pandas as pd\n",
    "import matplotlib.pyplot as plt"
   ]
  },
  {
   "cell_type": "code",
   "execution_count": 55,
   "metadata": {},
   "outputs": [],
   "source": [
    "data = pd.read_csv('../../results/Positions.csv')"
   ]
  },
  {
   "cell_type": "code",
   "execution_count": 56,
   "metadata": {},
   "outputs": [
    {
     "data": {
      "text/plain": [
       "<matplotlib.axes._subplots.AxesSubplot at 0x7f4e48804588>"
      ]
     },
     "execution_count": 56,
     "metadata": {},
     "output_type": "execute_result"
    },
    {
     "data": {
      "image/png": "[encoded data removed]",
      "text/plain": [
       "<Figure size 720x288 with 1 Axes>"
      ]
     },
     "metadata": {
      "needs_background": "light"
     },
     "output_type": "display_data"
    },
    {
     "data": {
      "image/png": "[encoded data removed]",
      "text/plain": [
       "<Figure size 720x288 with 1 Axes>"
      ]
     },
     "metadata": {
      "needs_background": "light"
     },
     "output_type": "display_data"
    }
   ],
   "source": [
    "data.plot(x='time', y='rbs_l3.x', grid=True, figsize=(10,4))\n",
    "data.plot(x='time', y='rbs_l1.y', grid=True, figsize=(10,4))"
   ]
  },
  {
   "cell_type": "code",
   "execution_count": null,
   "metadata": {},
   "outputs": [],
   "source": []
  }
 ],
 "metadata": {
  "kernelspec": {
   "display_name": "Python 3",
   "language": "python",
   "name": "python3"
  },
  "language_info": {
   "codemirror_mode": {
    "name": "ipython",
    "version": 3
   },
   "file_extension": ".py",
   "mimetype": "text/x-python",
   "name": "python",
   "nbconvert_exporter": "python",
   "pygments_lexer": "ipython3",
   "version": "3.7.3"
  }
 },
 "nbformat": 4,
 "nbformat_minor": 4
}
