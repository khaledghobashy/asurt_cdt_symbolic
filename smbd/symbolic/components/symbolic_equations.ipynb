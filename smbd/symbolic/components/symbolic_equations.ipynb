{
 "cells": [
  {
   "cell_type": "code",
   "execution_count": 1,
   "metadata": {},
   "outputs": [],
   "source": [
    "import sympy as sm\n",
    "import networkx as nx\n",
    "import matplotlib.pyplot as plt\n",
    "from sympy.physics.vector import dynamicsymbols\n",
    "\n",
    "sm.init_printing(pretty_print=False, use_latex='mathjax', forecolor='White')"
   ]
  },
  {
   "cell_type": "code",
   "execution_count": 2,
   "metadata": {},
   "outputs": [],
   "source": [
    "from matrices import vector ,quatrenion, A"
   ]
  },
  {
   "cell_type": "code",
   "execution_count": 9,
   "metadata": {},
   "outputs": [],
   "source": [
    "class AbstractMatrix(sm.MatrixExpr):\n",
    "    \"\"\"\n",
    "    **Abstract Class**\n",
    "    \n",
    "    Base class of symbolic matrices which their values are evaluated based \n",
    "    on given parameters. Can be thought of as an undefind functions that\n",
    "    returns a matrix\n",
    "\n",
    "    Class Attributes\n",
    "    ----------------\n",
    "    is_commutative : False\n",
    "        \n",
    "    is_Matrix : True\n",
    "    \n",
    "    \"\"\"\n",
    "    \n",
    "    is_commutative = False\n",
    "    is_Matrix = True\n",
    "    shape = (3,3)\n",
    "    \n",
    "    def __init__(self,*args):\n",
    "        pass\n",
    "    \n",
    "    def _latex(self,expr):\n",
    "        name = self.__class__.__name__\n",
    "        return r'{%s%s}'%(name,self.args,)\n",
    "    \n",
    "    def _entry(self,i,j, *args):\n",
    "        v = sm.MatrixSlice(self,i,j)\n",
    "        return v\n",
    "    \n",
    "    \n",
    "class A(AbstractMatrix):\n",
    "    \"\"\"\n",
    "    Representaion of symbolic transformation matrix which represents the \n",
    "    orientation of a rigid body in 3D space. The matrix is a function of \n",
    "    the orientation parameters used, e.g. Euler-Parameters.\n",
    "    \n",
    "    Parameters\n",
    "    ----------\n",
    "    P : quatrenion or vector\n",
    "        Orientation parameters of the rigid body.\n",
    "    \"\"\"\n",
    "    shape = (3,3)\n",
    "    \n",
    "    def __init__(self, P):\n",
    "        e0, e1, e2, e3 = P.as_explicit()\n",
    "    \n",
    "        a00 = (e0**2+e1**2-e2**2-e3**2)\n",
    "        a01 = 2*((e1*e2)-(e0*e3))              \n",
    "        a02 = 2*((e1*e3)+(e0*e2))\n",
    "\n",
    "        a10 = 2*((e1*e2)+(e0*e3))\n",
    "        a11 = e0**2-e1**2+e2**2-e3**2\n",
    "        a12 = 2*((e2*e3)-(e0*e1))\n",
    "\n",
    "        a20 = 2*((e1*e3)-(e0*e2))\n",
    "        a21 = 2*((e2*e3)+(e0*e1))\n",
    "        a22 = e0**2-e1**2-e2**2+e3**2\n",
    "\n",
    "        mat = sm.Matrix([[a00, a01, a02],\n",
    "                         [a10, a11, a12],\n",
    "                         [a20, a21, a22]])\n",
    "        self._data = mat\n",
    "\n",
    "    def _latex(self,expr):\n",
    "        p = self.args[0]\n",
    "        return r'{A(%s)}'%p.name\n",
    "    \n",
    "    def _entry(self, i, j, *args):\n",
    "        v = self._data[i,j]\n",
    "        return v\n"
   ]
  },
  {
   "cell_type": "code",
   "execution_count": 5,
   "metadata": {},
   "outputs": [],
   "source": [
    "from sympy.matrices.expressions.matexpr import MatrixElement\n",
    "class mat_element(MatrixElement):\n",
    "    \n",
    "    @property\n",
    "    def name(self):\n",
    "        \"\"\"\n",
    "        Returns the formated name of the instance which is suitable for Latex\n",
    "        printings.\n",
    "        \"\"\"\n",
    "        n = r'{{%s}_{(%s,%s)}}'%(self._args[0].name, self._args[1], self._args[2])\n",
    "        return n\n",
    "\n",
    "    def _latex(self,expr):\n",
    "        return r'{{%s}_{(%s,%s)}}'%(self._args[0].name, self._args[1], self._args[2])\n",
    "    \n",
    "    def _sympystr (self,expr):\n",
    "        return '%s[%s, %s]'%(self._args[0].name, self._args[1], self._args[2])\n",
    "        \n",
    "def _entry(self, i, j, **args):\n",
    "    return mat_element(self, i, j)\n",
    "\n",
    "vector._entry = _entry\n",
    "quatrenion._entry = _entry"
   ]
  },
  {
   "cell_type": "code",
   "execution_count": 3,
   "metadata": {},
   "outputs": [
    {
     "data": {
      "text/latex": [
       "$\\displaystyle \\left[\\begin{matrix}\\left(2 {{P}^{i}}_{0, 0} {{P}^{i}}_{2, 0} + 2 {{P}^{i}}_{1, 0} {{P}^{i}}_{3, 0}\\right) {{u}^{i}_{1}}_{2, 0} + \\left(- 2 {{P}^{i}}_{0, 0} {{P}^{i}}_{3, 0} + 2 {{P}^{i}}_{1, 0} {{P}^{i}}_{2, 0}\\right) {{u}^{i}_{1}}_{1, 0} - \\left(2 {{P}^{j}}_{0, 0} {{P}^{j}}_{2, 0} + 2 {{P}^{j}}_{1, 0} {{P}^{j}}_{3, 0}\\right) {{u}^{j}_{2}}_{2, 0} - \\left(- 2 {{P}^{j}}_{0, 0} {{P}^{j}}_{3, 0} + 2 {{P}^{j}}_{1, 0} {{P}^{j}}_{2, 0}\\right) {{u}^{j}_{2}}_{1, 0} + \\left({{P}^{i}}_{0, 0}^{2} + {{P}^{i}}_{1, 0}^{2} - {{P}^{i}}_{2, 0}^{2} - {{P}^{i}}_{3, 0}^{2}\\right) {{u}^{i}_{1}}_{0, 0} - \\left({{P}^{j}}_{0, 0}^{2} + {{P}^{j}}_{1, 0}^{2} - {{P}^{j}}_{2, 0}^{2} - {{P}^{j}}_{3, 0}^{2}\\right) {{u}^{j}_{2}}_{0, 0} + {{R}^{i}}_{0, 0} - {{R}^{j}}_{0, 0}\\\\\\left(- 2 {{P}^{i}}_{0, 0} {{P}^{i}}_{1, 0} + 2 {{P}^{i}}_{2, 0} {{P}^{i}}_{3, 0}\\right) {{u}^{i}_{1}}_{2, 0} + \\left(2 {{P}^{i}}_{0, 0} {{P}^{i}}_{3, 0} + 2 {{P}^{i}}_{1, 0} {{P}^{i}}_{2, 0}\\right) {{u}^{i}_{1}}_{0, 0} - \\left(- 2 {{P}^{j}}_{0, 0} {{P}^{j}}_{1, 0} + 2 {{P}^{j}}_{2, 0} {{P}^{j}}_{3, 0}\\right) {{u}^{j}_{2}}_{2, 0} - \\left(2 {{P}^{j}}_{0, 0} {{P}^{j}}_{3, 0} + 2 {{P}^{j}}_{1, 0} {{P}^{j}}_{2, 0}\\right) {{u}^{j}_{2}}_{0, 0} + \\left({{P}^{i}}_{0, 0}^{2} - {{P}^{i}}_{1, 0}^{2} + {{P}^{i}}_{2, 0}^{2} - {{P}^{i}}_{3, 0}^{2}\\right) {{u}^{i}_{1}}_{1, 0} - \\left({{P}^{j}}_{0, 0}^{2} - {{P}^{j}}_{1, 0}^{2} + {{P}^{j}}_{2, 0}^{2} - {{P}^{j}}_{3, 0}^{2}\\right) {{u}^{j}_{2}}_{1, 0} + {{R}^{i}}_{1, 0} - {{R}^{j}}_{1, 0}\\\\\\left(2 {{P}^{i}}_{0, 0} {{P}^{i}}_{1, 0} + 2 {{P}^{i}}_{2, 0} {{P}^{i}}_{3, 0}\\right) {{u}^{i}_{1}}_{1, 0} + \\left(- 2 {{P}^{i}}_{0, 0} {{P}^{i}}_{2, 0} + 2 {{P}^{i}}_{1, 0} {{P}^{i}}_{3, 0}\\right) {{u}^{i}_{1}}_{0, 0} - \\left(2 {{P}^{j}}_{0, 0} {{P}^{j}}_{1, 0} + 2 {{P}^{j}}_{2, 0} {{P}^{j}}_{3, 0}\\right) {{u}^{j}_{2}}_{1, 0} - \\left(- 2 {{P}^{j}}_{0, 0} {{P}^{j}}_{2, 0} + 2 {{P}^{j}}_{1, 0} {{P}^{j}}_{3, 0}\\right) {{u}^{j}_{2}}_{0, 0} + \\left({{P}^{i}}_{0, 0}^{2} - {{P}^{i}}_{1, 0}^{2} - {{P}^{i}}_{2, 0}^{2} + {{P}^{i}}_{3, 0}^{2}\\right) {{u}^{i}_{1}}_{2, 0} - \\left({{P}^{j}}_{0, 0}^{2} - {{P}^{j}}_{1, 0}^{2} - {{P}^{j}}_{2, 0}^{2} + {{P}^{j}}_{3, 0}^{2}\\right) {{u}^{j}_{2}}_{2, 0} + {{R}^{i}}_{2, 0} - {{R}^{j}}_{2, 0}\\end{matrix}\\right]$"
      ],
      "text/plain": [
       "Matrix([\n",
       "[(2*{{P}^{i}}[0, 0]*{{P}^{i}}[2, 0] + 2*{{P}^{i}}[1, 0]*{{P}^{i}}[3, 0])*{{u}^{i}_{1}}[2, 0] + (-2*{{P}^{i}}[0, 0]*{{P}^{i}}[3, 0] + 2*{{P}^{i}}[1, 0]*{{P}^{i}}[2, 0])*{{u}^{i}_{1}}[1, 0] - (2*{{P}^{j}}[0, 0]*{{P}^{j}}[2, 0] + 2*{{P}^{j}}[1, 0]*{{P}^{j}}[3, 0])*{{u}^{j}_{2}}[2, 0] - (-2*{{P}^{j}}[0, 0]*{{P}^{j}}[3, 0] + 2*{{P}^{j}}[1, 0]*{{P}^{j}}[2, 0])*{{u}^{j}_{2}}[1, 0] + ({{P}^{i}}[0, 0]**2 + {{P}^{i}}[1, 0]**2 - {{P}^{i}}[2, 0]**2 - {{P}^{i}}[3, 0]**2)*{{u}^{i}_{1}}[0, 0] - ({{P}^{j}}[0, 0]**2 + {{P}^{j}}[1, 0]**2 - {{P}^{j}}[2, 0]**2 - {{P}^{j}}[3, 0]**2)*{{u}^{j}_{2}}[0, 0] + {{R}^{i}}[0, 0] - {{R}^{j}}[0, 0]],\n",
       "[(-2*{{P}^{i}}[0, 0]*{{P}^{i}}[1, 0] + 2*{{P}^{i}}[2, 0]*{{P}^{i}}[3, 0])*{{u}^{i}_{1}}[2, 0] + (2*{{P}^{i}}[0, 0]*{{P}^{i}}[3, 0] + 2*{{P}^{i}}[1, 0]*{{P}^{i}}[2, 0])*{{u}^{i}_{1}}[0, 0] - (-2*{{P}^{j}}[0, 0]*{{P}^{j}}[1, 0] + 2*{{P}^{j}}[2, 0]*{{P}^{j}}[3, 0])*{{u}^{j}_{2}}[2, 0] - (2*{{P}^{j}}[0, 0]*{{P}^{j}}[3, 0] + 2*{{P}^{j}}[1, 0]*{{P}^{j}}[2, 0])*{{u}^{j}_{2}}[0, 0] + ({{P}^{i}}[0, 0]**2 - {{P}^{i}}[1, 0]**2 + {{P}^{i}}[2, 0]**2 - {{P}^{i}}[3, 0]**2)*{{u}^{i}_{1}}[1, 0] - ({{P}^{j}}[0, 0]**2 - {{P}^{j}}[1, 0]**2 + {{P}^{j}}[2, 0]**2 - {{P}^{j}}[3, 0]**2)*{{u}^{j}_{2}}[1, 0] + {{R}^{i}}[1, 0] - {{R}^{j}}[1, 0]],\n",
       "[(2*{{P}^{i}}[0, 0]*{{P}^{i}}[1, 0] + 2*{{P}^{i}}[2, 0]*{{P}^{i}}[3, 0])*{{u}^{i}_{1}}[1, 0] + (-2*{{P}^{i}}[0, 0]*{{P}^{i}}[2, 0] + 2*{{P}^{i}}[1, 0]*{{P}^{i}}[3, 0])*{{u}^{i}_{1}}[0, 0] - (2*{{P}^{j}}[0, 0]*{{P}^{j}}[1, 0] + 2*{{P}^{j}}[2, 0]*{{P}^{j}}[3, 0])*{{u}^{j}_{2}}[1, 0] - (-2*{{P}^{j}}[0, 0]*{{P}^{j}}[2, 0] + 2*{{P}^{j}}[1, 0]*{{P}^{j}}[3, 0])*{{u}^{j}_{2}}[0, 0] + ({{P}^{i}}[0, 0]**2 - {{P}^{i}}[1, 0]**2 - {{P}^{i}}[2, 0]**2 + {{P}^{i}}[3, 0]**2)*{{u}^{i}_{1}}[2, 0] - ({{P}^{j}}[0, 0]**2 - {{P}^{j}}[1, 0]**2 - {{P}^{j}}[2, 0]**2 + {{P}^{j}}[3, 0]**2)*{{u}^{j}_{2}}[2, 0] + {{R}^{i}}[2, 0] - {{R}^{j}}[2, 0]]])"
      ]
     },
     "execution_count": 3,
     "metadata": {},
     "output_type": "execute_result"
    }
   ],
   "source": [
    "Ri = vector('R_i', format_as= r'{{R}^{i}}')\n",
    "Pi = quatrenion('P_i', format_as= r'{{P}^{i}}')\n",
    "ui = vector('u_i', format_as= r'{{u}^{i}_{1}}')\n",
    "\n",
    "Rj = vector('R_j', format_as= r'{{R}^{j}}')\n",
    "Pj = quatrenion('Pji', format_as= r'{{P}^{j}}')\n",
    "uj = vector('u_j', format_as= r'{{u}^{j}_{2}}')\n",
    "\n",
    "dij = Ri + A(Pi)*ui - Rj - A(Pj)*uj\n",
    "dij_exp = dij.as_explicit()\n",
    "\n",
    "dij_exp"
   ]
  },
  {
   "cell_type": "code",
   "execution_count": 4,
   "metadata": {},
   "outputs": [
    {
     "data": {
      "text/latex": [
       "$\\displaystyle \\left[\\begin{matrix}{{R}^{i}}_{0, 0}\\\\{{R}^{i}}_{1, 0}\\\\{{R}^{i}}_{2, 0}\\\\{{P}^{i}}_{0, 0}\\\\{{P}^{i}}_{1, 0}\\\\{{P}^{i}}_{2, 0}\\\\{{P}^{i}}_{3, 0}\\\\{{R}^{j}}_{0, 0}\\\\{{R}^{j}}_{1, 0}\\\\{{R}^{j}}_{2, 0}\\\\{{P}^{j}}_{0, 0}\\\\{{P}^{j}}_{1, 0}\\\\{{P}^{j}}_{2, 0}\\\\{{P}^{j}}_{3, 0}\\end{matrix}\\right]$"
      ],
      "text/plain": [
       "Matrix([\n",
       "[{{R}^{i}}[0, 0]],\n",
       "[{{R}^{i}}[1, 0]],\n",
       "[{{R}^{i}}[2, 0]],\n",
       "[{{P}^{i}}[0, 0]],\n",
       "[{{P}^{i}}[1, 0]],\n",
       "[{{P}^{i}}[2, 0]],\n",
       "[{{P}^{i}}[3, 0]],\n",
       "[{{R}^{j}}[0, 0]],\n",
       "[{{R}^{j}}[1, 0]],\n",
       "[{{R}^{j}}[2, 0]],\n",
       "[{{P}^{j}}[0, 0]],\n",
       "[{{P}^{j}}[1, 0]],\n",
       "[{{P}^{j}}[2, 0]],\n",
       "[{{P}^{j}}[3, 0]]])"
      ]
     },
     "execution_count": 4,
     "metadata": {},
     "output_type": "execute_result"
    }
   ],
   "source": [
    "states = sm.Matrix([*Ri.as_explicit(), *Pi.as_explicit(), *Rj.as_explicit(), *Pj.as_explicit()])\n",
    "states"
   ]
  },
  {
   "cell_type": "code",
   "execution_count": 5,
   "metadata": {},
   "outputs": [
    {
     "data": {
      "text/latex": [
       "$\\displaystyle \\left[\\begin{array}{cccccccccccccc}1 & 0 & 0 & 2 {{P}^{i}}_{0, 0} {{u}^{i}_{1}}_{0, 0} + 2 {{P}^{i}}_{2, 0} {{u}^{i}_{1}}_{2, 0} - 2 {{P}^{i}}_{3, 0} {{u}^{i}_{1}}_{1, 0} & 2 {{P}^{i}}_{1, 0} {{u}^{i}_{1}}_{0, 0} + 2 {{P}^{i}}_{2, 0} {{u}^{i}_{1}}_{1, 0} + 2 {{P}^{i}}_{3, 0} {{u}^{i}_{1}}_{2, 0} & 2 {{P}^{i}}_{0, 0} {{u}^{i}_{1}}_{2, 0} + 2 {{P}^{i}}_{1, 0} {{u}^{i}_{1}}_{1, 0} - 2 {{P}^{i}}_{2, 0} {{u}^{i}_{1}}_{0, 0} & - 2 {{P}^{i}}_{0, 0} {{u}^{i}_{1}}_{1, 0} + 2 {{P}^{i}}_{1, 0} {{u}^{i}_{1}}_{2, 0} - 2 {{P}^{i}}_{3, 0} {{u}^{i}_{1}}_{0, 0} & -1 & 0 & 0 & - 2 {{P}^{j}}_{0, 0} {{u}^{j}_{2}}_{0, 0} - 2 {{P}^{j}}_{2, 0} {{u}^{j}_{2}}_{2, 0} + 2 {{P}^{j}}_{3, 0} {{u}^{j}_{2}}_{1, 0} & - 2 {{P}^{j}}_{1, 0} {{u}^{j}_{2}}_{0, 0} - 2 {{P}^{j}}_{2, 0} {{u}^{j}_{2}}_{1, 0} - 2 {{P}^{j}}_{3, 0} {{u}^{j}_{2}}_{2, 0} & - 2 {{P}^{j}}_{0, 0} {{u}^{j}_{2}}_{2, 0} - 2 {{P}^{j}}_{1, 0} {{u}^{j}_{2}}_{1, 0} + 2 {{P}^{j}}_{2, 0} {{u}^{j}_{2}}_{0, 0} & 2 {{P}^{j}}_{0, 0} {{u}^{j}_{2}}_{1, 0} - 2 {{P}^{j}}_{1, 0} {{u}^{j}_{2}}_{2, 0} + 2 {{P}^{j}}_{3, 0} {{u}^{j}_{2}}_{0, 0}\\\\0 & 1 & 0 & 2 {{P}^{i}}_{0, 0} {{u}^{i}_{1}}_{1, 0} - 2 {{P}^{i}}_{1, 0} {{u}^{i}_{1}}_{2, 0} + 2 {{P}^{i}}_{3, 0} {{u}^{i}_{1}}_{0, 0} & - 2 {{P}^{i}}_{0, 0} {{u}^{i}_{1}}_{2, 0} - 2 {{P}^{i}}_{1, 0} {{u}^{i}_{1}}_{1, 0} + 2 {{P}^{i}}_{2, 0} {{u}^{i}_{1}}_{0, 0} & 2 {{P}^{i}}_{1, 0} {{u}^{i}_{1}}_{0, 0} + 2 {{P}^{i}}_{2, 0} {{u}^{i}_{1}}_{1, 0} + 2 {{P}^{i}}_{3, 0} {{u}^{i}_{1}}_{2, 0} & 2 {{P}^{i}}_{0, 0} {{u}^{i}_{1}}_{0, 0} + 2 {{P}^{i}}_{2, 0} {{u}^{i}_{1}}_{2, 0} - 2 {{P}^{i}}_{3, 0} {{u}^{i}_{1}}_{1, 0} & 0 & -1 & 0 & - 2 {{P}^{j}}_{0, 0} {{u}^{j}_{2}}_{1, 0} + 2 {{P}^{j}}_{1, 0} {{u}^{j}_{2}}_{2, 0} - 2 {{P}^{j}}_{3, 0} {{u}^{j}_{2}}_{0, 0} & 2 {{P}^{j}}_{0, 0} {{u}^{j}_{2}}_{2, 0} + 2 {{P}^{j}}_{1, 0} {{u}^{j}_{2}}_{1, 0} - 2 {{P}^{j}}_{2, 0} {{u}^{j}_{2}}_{0, 0} & - 2 {{P}^{j}}_{1, 0} {{u}^{j}_{2}}_{0, 0} - 2 {{P}^{j}}_{2, 0} {{u}^{j}_{2}}_{1, 0} - 2 {{P}^{j}}_{3, 0} {{u}^{j}_{2}}_{2, 0} & - 2 {{P}^{j}}_{0, 0} {{u}^{j}_{2}}_{0, 0} - 2 {{P}^{j}}_{2, 0} {{u}^{j}_{2}}_{2, 0} + 2 {{P}^{j}}_{3, 0} {{u}^{j}_{2}}_{1, 0}\\\\0 & 0 & 1 & 2 {{P}^{i}}_{0, 0} {{u}^{i}_{1}}_{2, 0} + 2 {{P}^{i}}_{1, 0} {{u}^{i}_{1}}_{1, 0} - 2 {{P}^{i}}_{2, 0} {{u}^{i}_{1}}_{0, 0} & 2 {{P}^{i}}_{0, 0} {{u}^{i}_{1}}_{1, 0} - 2 {{P}^{i}}_{1, 0} {{u}^{i}_{1}}_{2, 0} + 2 {{P}^{i}}_{3, 0} {{u}^{i}_{1}}_{0, 0} & - 2 {{P}^{i}}_{0, 0} {{u}^{i}_{1}}_{0, 0} - 2 {{P}^{i}}_{2, 0} {{u}^{i}_{1}}_{2, 0} + 2 {{P}^{i}}_{3, 0} {{u}^{i}_{1}}_{1, 0} & 2 {{P}^{i}}_{1, 0} {{u}^{i}_{1}}_{0, 0} + 2 {{P}^{i}}_{2, 0} {{u}^{i}_{1}}_{1, 0} + 2 {{P}^{i}}_{3, 0} {{u}^{i}_{1}}_{2, 0} & 0 & 0 & -1 & - 2 {{P}^{j}}_{0, 0} {{u}^{j}_{2}}_{2, 0} - 2 {{P}^{j}}_{1, 0} {{u}^{j}_{2}}_{1, 0} + 2 {{P}^{j}}_{2, 0} {{u}^{j}_{2}}_{0, 0} & - 2 {{P}^{j}}_{0, 0} {{u}^{j}_{2}}_{1, 0} + 2 {{P}^{j}}_{1, 0} {{u}^{j}_{2}}_{2, 0} - 2 {{P}^{j}}_{3, 0} {{u}^{j}_{2}}_{0, 0} & 2 {{P}^{j}}_{0, 0} {{u}^{j}_{2}}_{0, 0} + 2 {{P}^{j}}_{2, 0} {{u}^{j}_{2}}_{2, 0} - 2 {{P}^{j}}_{3, 0} {{u}^{j}_{2}}_{1, 0} & - 2 {{P}^{j}}_{1, 0} {{u}^{j}_{2}}_{0, 0} - 2 {{P}^{j}}_{2, 0} {{u}^{j}_{2}}_{1, 0} - 2 {{P}^{j}}_{3, 0} {{u}^{j}_{2}}_{2, 0}\\end{array}\\right]$"
      ],
      "text/plain": [
       "Matrix([\n",
       "[1, 0, 0, 2*{{P}^{i}}[0, 0]*{{u}^{i}_{1}}[0, 0] + 2*{{P}^{i}}[2, 0]*{{u}^{i}_{1}}[2, 0] - 2*{{P}^{i}}[3, 0]*{{u}^{i}_{1}}[1, 0],  2*{{P}^{i}}[1, 0]*{{u}^{i}_{1}}[0, 0] + 2*{{P}^{i}}[2, 0]*{{u}^{i}_{1}}[1, 0] + 2*{{P}^{i}}[3, 0]*{{u}^{i}_{1}}[2, 0],  2*{{P}^{i}}[0, 0]*{{u}^{i}_{1}}[2, 0] + 2*{{P}^{i}}[1, 0]*{{u}^{i}_{1}}[1, 0] - 2*{{P}^{i}}[2, 0]*{{u}^{i}_{1}}[0, 0], -2*{{P}^{i}}[0, 0]*{{u}^{i}_{1}}[1, 0] + 2*{{P}^{i}}[1, 0]*{{u}^{i}_{1}}[2, 0] - 2*{{P}^{i}}[3, 0]*{{u}^{i}_{1}}[0, 0], -1,  0,  0, -2*{{P}^{j}}[0, 0]*{{u}^{j}_{2}}[0, 0] - 2*{{P}^{j}}[2, 0]*{{u}^{j}_{2}}[2, 0] + 2*{{P}^{j}}[3, 0]*{{u}^{j}_{2}}[1, 0], -2*{{P}^{j}}[1, 0]*{{u}^{j}_{2}}[0, 0] - 2*{{P}^{j}}[2, 0]*{{u}^{j}_{2}}[1, 0] - 2*{{P}^{j}}[3, 0]*{{u}^{j}_{2}}[2, 0], -2*{{P}^{j}}[0, 0]*{{u}^{j}_{2}}[2, 0] - 2*{{P}^{j}}[1, 0]*{{u}^{j}_{2}}[1, 0] + 2*{{P}^{j}}[2, 0]*{{u}^{j}_{2}}[0, 0],  2*{{P}^{j}}[0, 0]*{{u}^{j}_{2}}[1, 0] - 2*{{P}^{j}}[1, 0]*{{u}^{j}_{2}}[2, 0] + 2*{{P}^{j}}[3, 0]*{{u}^{j}_{2}}[0, 0]],\n",
       "[0, 1, 0, 2*{{P}^{i}}[0, 0]*{{u}^{i}_{1}}[1, 0] - 2*{{P}^{i}}[1, 0]*{{u}^{i}_{1}}[2, 0] + 2*{{P}^{i}}[3, 0]*{{u}^{i}_{1}}[0, 0], -2*{{P}^{i}}[0, 0]*{{u}^{i}_{1}}[2, 0] - 2*{{P}^{i}}[1, 0]*{{u}^{i}_{1}}[1, 0] + 2*{{P}^{i}}[2, 0]*{{u}^{i}_{1}}[0, 0],  2*{{P}^{i}}[1, 0]*{{u}^{i}_{1}}[0, 0] + 2*{{P}^{i}}[2, 0]*{{u}^{i}_{1}}[1, 0] + 2*{{P}^{i}}[3, 0]*{{u}^{i}_{1}}[2, 0],  2*{{P}^{i}}[0, 0]*{{u}^{i}_{1}}[0, 0] + 2*{{P}^{i}}[2, 0]*{{u}^{i}_{1}}[2, 0] - 2*{{P}^{i}}[3, 0]*{{u}^{i}_{1}}[1, 0],  0, -1,  0, -2*{{P}^{j}}[0, 0]*{{u}^{j}_{2}}[1, 0] + 2*{{P}^{j}}[1, 0]*{{u}^{j}_{2}}[2, 0] - 2*{{P}^{j}}[3, 0]*{{u}^{j}_{2}}[0, 0],  2*{{P}^{j}}[0, 0]*{{u}^{j}_{2}}[2, 0] + 2*{{P}^{j}}[1, 0]*{{u}^{j}_{2}}[1, 0] - 2*{{P}^{j}}[2, 0]*{{u}^{j}_{2}}[0, 0], -2*{{P}^{j}}[1, 0]*{{u}^{j}_{2}}[0, 0] - 2*{{P}^{j}}[2, 0]*{{u}^{j}_{2}}[1, 0] - 2*{{P}^{j}}[3, 0]*{{u}^{j}_{2}}[2, 0], -2*{{P}^{j}}[0, 0]*{{u}^{j}_{2}}[0, 0] - 2*{{P}^{j}}[2, 0]*{{u}^{j}_{2}}[2, 0] + 2*{{P}^{j}}[3, 0]*{{u}^{j}_{2}}[1, 0]],\n",
       "[0, 0, 1, 2*{{P}^{i}}[0, 0]*{{u}^{i}_{1}}[2, 0] + 2*{{P}^{i}}[1, 0]*{{u}^{i}_{1}}[1, 0] - 2*{{P}^{i}}[2, 0]*{{u}^{i}_{1}}[0, 0],  2*{{P}^{i}}[0, 0]*{{u}^{i}_{1}}[1, 0] - 2*{{P}^{i}}[1, 0]*{{u}^{i}_{1}}[2, 0] + 2*{{P}^{i}}[3, 0]*{{u}^{i}_{1}}[0, 0], -2*{{P}^{i}}[0, 0]*{{u}^{i}_{1}}[0, 0] - 2*{{P}^{i}}[2, 0]*{{u}^{i}_{1}}[2, 0] + 2*{{P}^{i}}[3, 0]*{{u}^{i}_{1}}[1, 0],  2*{{P}^{i}}[1, 0]*{{u}^{i}_{1}}[0, 0] + 2*{{P}^{i}}[2, 0]*{{u}^{i}_{1}}[1, 0] + 2*{{P}^{i}}[3, 0]*{{u}^{i}_{1}}[2, 0],  0,  0, -1, -2*{{P}^{j}}[0, 0]*{{u}^{j}_{2}}[2, 0] - 2*{{P}^{j}}[1, 0]*{{u}^{j}_{2}}[1, 0] + 2*{{P}^{j}}[2, 0]*{{u}^{j}_{2}}[0, 0], -2*{{P}^{j}}[0, 0]*{{u}^{j}_{2}}[1, 0] + 2*{{P}^{j}}[1, 0]*{{u}^{j}_{2}}[2, 0] - 2*{{P}^{j}}[3, 0]*{{u}^{j}_{2}}[0, 0],  2*{{P}^{j}}[0, 0]*{{u}^{j}_{2}}[0, 0] + 2*{{P}^{j}}[2, 0]*{{u}^{j}_{2}}[2, 0] - 2*{{P}^{j}}[3, 0]*{{u}^{j}_{2}}[1, 0], -2*{{P}^{j}}[1, 0]*{{u}^{j}_{2}}[0, 0] - 2*{{P}^{j}}[2, 0]*{{u}^{j}_{2}}[1, 0] - 2*{{P}^{j}}[3, 0]*{{u}^{j}_{2}}[2, 0]]])"
      ]
     },
     "execution_count": 5,
     "metadata": {},
     "output_type": "execute_result"
    }
   ],
   "source": [
    "dij_exp.jacobian(states)"
   ]
  },
  {
   "cell_type": "code",
   "execution_count": 6,
   "metadata": {},
   "outputs": [
    {
     "data": {
      "text/latex": [
       "$\\displaystyle \\left[\\begin{matrix}\\frac{d}{d t} {{R}^{i}}_{0, 0}\\\\\\frac{d}{d t} {{R}^{i}}_{1, 0}\\\\\\frac{d}{d t} {{R}^{i}}_{2, 0}\\\\\\frac{d}{d t} {{P}^{i}}_{0, 0}\\\\\\frac{d}{d t} {{P}^{i}}_{1, 0}\\\\\\frac{d}{d t} {{P}^{i}}_{2, 0}\\\\\\frac{d}{d t} {{P}^{i}}_{3, 0}\\\\\\frac{d}{d t} {{R}^{j}}_{0, 0}\\\\\\frac{d}{d t} {{R}^{j}}_{1, 0}\\\\\\frac{d}{d t} {{R}^{j}}_{2, 0}\\\\\\frac{d}{d t} {{P}^{j}}_{0, 0}\\\\\\frac{d}{d t} {{P}^{j}}_{1, 0}\\\\\\frac{d}{d t} {{P}^{j}}_{2, 0}\\\\\\frac{d}{d t} {{P}^{j}}_{3, 0}\\end{matrix}\\right]$"
      ],
      "text/plain": [
       "Matrix([\n",
       "[Derivative({{R}^{i}}[0, 0], t)],\n",
       "[Derivative({{R}^{i}}[1, 0], t)],\n",
       "[Derivative({{R}^{i}}[2, 0], t)],\n",
       "[Derivative({{P}^{i}}[0, 0], t)],\n",
       "[Derivative({{P}^{i}}[1, 0], t)],\n",
       "[Derivative({{P}^{i}}[2, 0], t)],\n",
       "[Derivative({{P}^{i}}[3, 0], t)],\n",
       "[Derivative({{R}^{j}}[0, 0], t)],\n",
       "[Derivative({{R}^{j}}[1, 0], t)],\n",
       "[Derivative({{R}^{j}}[2, 0], t)],\n",
       "[Derivative({{P}^{j}}[0, 0], t)],\n",
       "[Derivative({{P}^{j}}[1, 0], t)],\n",
       "[Derivative({{P}^{j}}[2, 0], t)],\n",
       "[Derivative({{P}^{j}}[3, 0], t)]])"
      ]
     },
     "execution_count": 6,
     "metadata": {},
     "output_type": "execute_result"
    }
   ],
   "source": [
    "def Der(i):\n",
    "    return sm.Derivative(i, 't')\n",
    "\n",
    "states.applyfunc(Der)"
   ]
  },
  {
   "cell_type": "code",
   "execution_count": 7,
   "metadata": {},
   "outputs": [
    {
     "data": {
      "text/latex": [
       "$\\displaystyle \\left[\\begin{array}{cccccccccccccc}1 & 0 & 0 & x_{11} & x_{13} & x_{17} & - x_{18} + x_{19} - x_{20} & -1 & 0 & 0 & x_{34} & x_{36} & x_{42} & x_{43} - x_{44} + x_{45}\\\\0 & 1 & 0 & x_{46} & - x_{14} - x_{15} + x_{16} & x_{13} & x_{11} & 0 & -1 & 0 & x_{47} & x_{38} + x_{40} - x_{41} & x_{36} & x_{34}\\\\0 & 0 & 1 & x_{17} & x_{46} & x_{10} - x_{4} - x_{7} & x_{13} & 0 & 0 & -1 & x_{42} & x_{47} & x_{25} + x_{29} - x_{33} & x_{36}\\end{array}\\right]$"
      ],
      "text/plain": [
       "Matrix([\n",
       "[1, 0, 0, x11,              x13,           x17, -x18 + x19 - x20, -1,  0,  0, x34,             x36,             x42, x43 - x44 + x45],\n",
       "[0, 1, 0, x46, -x14 - x15 + x16,           x13,              x11,  0, -1,  0, x47, x38 + x40 - x41,             x36,             x34],\n",
       "[0, 0, 1, x17,              x46, x10 - x4 - x7,              x13,  0,  0, -1, x42,             x47, x25 + x29 - x33,             x36]])"
      ]
     },
     "execution_count": 7,
     "metadata": {},
     "output_type": "execute_result"
    }
   ],
   "source": [
    "sm.cse(dij_exp.jacobian(states))[1][0]"
   ]
  },
  {
   "cell_type": "code",
   "execution_count": 18,
   "metadata": {},
   "outputs": [
    {
     "data": {
      "text/latex": [
       "$\\displaystyle \\left[\\begin{matrix}\\frac{\\partial}{\\partial t} \\left(\\left(2 {{P}^{i}}_{0, 0} {{P}^{i}}_{2, 0} + 2 {{P}^{i}}_{1, 0} {{P}^{i}}_{3, 0}\\right) {{u}^{i}_{1}}_{2, 0} + \\left(- 2 {{P}^{i}}_{0, 0} {{P}^{i}}_{3, 0} + 2 {{P}^{i}}_{1, 0} {{P}^{i}}_{2, 0}\\right) {{u}^{i}_{1}}_{1, 0} - \\left(2 {{P}^{j}}_{0, 0} {{P}^{j}}_{2, 0} + 2 {{P}^{j}}_{1, 0} {{P}^{j}}_{3, 0}\\right) {{u}^{j}_{2}}_{2, 0} - \\left(- 2 {{P}^{j}}_{0, 0} {{P}^{j}}_{3, 0} + 2 {{P}^{j}}_{1, 0} {{P}^{j}}_{2, 0}\\right) {{u}^{j}_{2}}_{1, 0} + \\left({{P}^{i}}_{0, 0}^{2} + {{P}^{i}}_{1, 0}^{2} - {{P}^{i}}_{2, 0}^{2} - {{P}^{i}}_{3, 0}^{2}\\right) {{u}^{i}_{1}}_{0, 0} - \\left({{P}^{j}}_{0, 0}^{2} + {{P}^{j}}_{1, 0}^{2} - {{P}^{j}}_{2, 0}^{2} - {{P}^{j}}_{3, 0}^{2}\\right) {{u}^{j}_{2}}_{0, 0} + {{R}^{i}}_{0, 0} - {{R}^{j}}_{0, 0}\\right)\\\\\\frac{\\partial}{\\partial t} \\left(\\left(- 2 {{P}^{i}}_{0, 0} {{P}^{i}}_{1, 0} + 2 {{P}^{i}}_{2, 0} {{P}^{i}}_{3, 0}\\right) {{u}^{i}_{1}}_{2, 0} + \\left(2 {{P}^{i}}_{0, 0} {{P}^{i}}_{3, 0} + 2 {{P}^{i}}_{1, 0} {{P}^{i}}_{2, 0}\\right) {{u}^{i}_{1}}_{0, 0} - \\left(- 2 {{P}^{j}}_{0, 0} {{P}^{j}}_{1, 0} + 2 {{P}^{j}}_{2, 0} {{P}^{j}}_{3, 0}\\right) {{u}^{j}_{2}}_{2, 0} - \\left(2 {{P}^{j}}_{0, 0} {{P}^{j}}_{3, 0} + 2 {{P}^{j}}_{1, 0} {{P}^{j}}_{2, 0}\\right) {{u}^{j}_{2}}_{0, 0} + \\left({{P}^{i}}_{0, 0}^{2} - {{P}^{i}}_{1, 0}^{2} + {{P}^{i}}_{2, 0}^{2} - {{P}^{i}}_{3, 0}^{2}\\right) {{u}^{i}_{1}}_{1, 0} - \\left({{P}^{j}}_{0, 0}^{2} - {{P}^{j}}_{1, 0}^{2} + {{P}^{j}}_{2, 0}^{2} - {{P}^{j}}_{3, 0}^{2}\\right) {{u}^{j}_{2}}_{1, 0} + {{R}^{i}}_{1, 0} - {{R}^{j}}_{1, 0}\\right)\\\\\\frac{\\partial}{\\partial t} \\left(\\left(2 {{P}^{i}}_{0, 0} {{P}^{i}}_{1, 0} + 2 {{P}^{i}}_{2, 0} {{P}^{i}}_{3, 0}\\right) {{u}^{i}_{1}}_{1, 0} + \\left(- 2 {{P}^{i}}_{0, 0} {{P}^{i}}_{2, 0} + 2 {{P}^{i}}_{1, 0} {{P}^{i}}_{3, 0}\\right) {{u}^{i}_{1}}_{0, 0} - \\left(2 {{P}^{j}}_{0, 0} {{P}^{j}}_{1, 0} + 2 {{P}^{j}}_{2, 0} {{P}^{j}}_{3, 0}\\right) {{u}^{j}_{2}}_{1, 0} - \\left(- 2 {{P}^{j}}_{0, 0} {{P}^{j}}_{2, 0} + 2 {{P}^{j}}_{1, 0} {{P}^{j}}_{3, 0}\\right) {{u}^{j}_{2}}_{0, 0} + \\left({{P}^{i}}_{0, 0}^{2} - {{P}^{i}}_{1, 0}^{2} - {{P}^{i}}_{2, 0}^{2} + {{P}^{i}}_{3, 0}^{2}\\right) {{u}^{i}_{1}}_{2, 0} - \\left({{P}^{j}}_{0, 0}^{2} - {{P}^{j}}_{1, 0}^{2} - {{P}^{j}}_{2, 0}^{2} + {{P}^{j}}_{3, 0}^{2}\\right) {{u}^{j}_{2}}_{2, 0} + {{R}^{i}}_{2, 0} - {{R}^{j}}_{2, 0}\\right)\\end{matrix}\\right]$"
      ],
      "text/plain": [
       "Matrix([\n",
       "[Derivative((2*{{P}^{i}}[0, 0]*{{P}^{i}}[2, 0] + 2*{{P}^{i}}[1, 0]*{{P}^{i}}[3, 0])*{{u}^{i}_{1}}[2, 0] + (-2*{{P}^{i}}[0, 0]*{{P}^{i}}[3, 0] + 2*{{P}^{i}}[1, 0]*{{P}^{i}}[2, 0])*{{u}^{i}_{1}}[1, 0] - (2*{{P}^{j}}[0, 0]*{{P}^{j}}[2, 0] + 2*{{P}^{j}}[1, 0]*{{P}^{j}}[3, 0])*{{u}^{j}_{2}}[2, 0] - (-2*{{P}^{j}}[0, 0]*{{P}^{j}}[3, 0] + 2*{{P}^{j}}[1, 0]*{{P}^{j}}[2, 0])*{{u}^{j}_{2}}[1, 0] + ({{P}^{i}}[0, 0]**2 + {{P}^{i}}[1, 0]**2 - {{P}^{i}}[2, 0]**2 - {{P}^{i}}[3, 0]**2)*{{u}^{i}_{1}}[0, 0] - ({{P}^{j}}[0, 0]**2 + {{P}^{j}}[1, 0]**2 - {{P}^{j}}[2, 0]**2 - {{P}^{j}}[3, 0]**2)*{{u}^{j}_{2}}[0, 0] + {{R}^{i}}[0, 0] - {{R}^{j}}[0, 0], t)],\n",
       "[Derivative((-2*{{P}^{i}}[0, 0]*{{P}^{i}}[1, 0] + 2*{{P}^{i}}[2, 0]*{{P}^{i}}[3, 0])*{{u}^{i}_{1}}[2, 0] + (2*{{P}^{i}}[0, 0]*{{P}^{i}}[3, 0] + 2*{{P}^{i}}[1, 0]*{{P}^{i}}[2, 0])*{{u}^{i}_{1}}[0, 0] - (-2*{{P}^{j}}[0, 0]*{{P}^{j}}[1, 0] + 2*{{P}^{j}}[2, 0]*{{P}^{j}}[3, 0])*{{u}^{j}_{2}}[2, 0] - (2*{{P}^{j}}[0, 0]*{{P}^{j}}[3, 0] + 2*{{P}^{j}}[1, 0]*{{P}^{j}}[2, 0])*{{u}^{j}_{2}}[0, 0] + ({{P}^{i}}[0, 0]**2 - {{P}^{i}}[1, 0]**2 + {{P}^{i}}[2, 0]**2 - {{P}^{i}}[3, 0]**2)*{{u}^{i}_{1}}[1, 0] - ({{P}^{j}}[0, 0]**2 - {{P}^{j}}[1, 0]**2 + {{P}^{j}}[2, 0]**2 - {{P}^{j}}[3, 0]**2)*{{u}^{j}_{2}}[1, 0] + {{R}^{i}}[1, 0] - {{R}^{j}}[1, 0], t)],\n",
       "[Derivative((2*{{P}^{i}}[0, 0]*{{P}^{i}}[1, 0] + 2*{{P}^{i}}[2, 0]*{{P}^{i}}[3, 0])*{{u}^{i}_{1}}[1, 0] + (-2*{{P}^{i}}[0, 0]*{{P}^{i}}[2, 0] + 2*{{P}^{i}}[1, 0]*{{P}^{i}}[3, 0])*{{u}^{i}_{1}}[0, 0] - (2*{{P}^{j}}[0, 0]*{{P}^{j}}[1, 0] + 2*{{P}^{j}}[2, 0]*{{P}^{j}}[3, 0])*{{u}^{j}_{2}}[1, 0] - (-2*{{P}^{j}}[0, 0]*{{P}^{j}}[2, 0] + 2*{{P}^{j}}[1, 0]*{{P}^{j}}[3, 0])*{{u}^{j}_{2}}[0, 0] + ({{P}^{i}}[0, 0]**2 - {{P}^{i}}[1, 0]**2 - {{P}^{i}}[2, 0]**2 + {{P}^{i}}[3, 0]**2)*{{u}^{i}_{1}}[2, 0] - ({{P}^{j}}[0, 0]**2 - {{P}^{j}}[1, 0]**2 - {{P}^{j}}[2, 0]**2 + {{P}^{j}}[3, 0]**2)*{{u}^{j}_{2}}[2, 0] + {{R}^{i}}[2, 0] - {{R}^{j}}[2, 0], t)]])"
      ]
     },
     "execution_count": 18,
     "metadata": {},
     "output_type": "execute_result"
    }
   ],
   "source": [
    "dij_exp.applyfunc(Der)"
   ]
  },
  {
   "cell_type": "code",
   "execution_count": 22,
   "metadata": {},
   "outputs": [
    {
     "ename": "TypeError",
     "evalue": "name should be a string, not <class 'sympy.core.function.Derivative'>",
     "output_type": "error",
     "traceback": [
      "\u001b[1;31m---------------------------------------------------------------------------\u001b[0m",
      "\u001b[1;31mTypeError\u001b[0m                                 Traceback (most recent call last)",
      "\u001b[1;32m<ipython-input-22-5f6e7716ee89>\u001b[0m in \u001b[0;36m<module>\u001b[1;34m\u001b[0m\n\u001b[1;32m----> 1\u001b[1;33m \u001b[0msm\u001b[0m\u001b[1;33m.\u001b[0m\u001b[0mlinear_eq_to_matrix\u001b[0m\u001b[1;33m(\u001b[0m\u001b[0mdij_exp\u001b[0m\u001b[1;33m.\u001b[0m\u001b[0mapplyfunc\u001b[0m\u001b[1;33m(\u001b[0m\u001b[0mDer\u001b[0m\u001b[1;33m)\u001b[0m\u001b[1;33m,\u001b[0m \u001b[1;33m*\u001b[0m\u001b[1;33m[\u001b[0m\u001b[0msm\u001b[0m\u001b[1;33m.\u001b[0m\u001b[0mSymbol\u001b[0m\u001b[1;33m(\u001b[0m\u001b[0mi\u001b[0m\u001b[1;33m)\u001b[0m \u001b[1;32mfor\u001b[0m \u001b[0mi\u001b[0m \u001b[1;32min\u001b[0m \u001b[0mstates\u001b[0m\u001b[1;33m.\u001b[0m\u001b[0mapplyfunc\u001b[0m\u001b[1;33m(\u001b[0m\u001b[0mDer\u001b[0m\u001b[1;33m)\u001b[0m\u001b[1;33m]\u001b[0m\u001b[1;33m)\u001b[0m\u001b[1;33m\u001b[0m\u001b[1;33m\u001b[0m\u001b[0m\n\u001b[0m",
      "\u001b[1;32m<ipython-input-22-5f6e7716ee89>\u001b[0m in \u001b[0;36m<listcomp>\u001b[1;34m(.0)\u001b[0m\n\u001b[1;32m----> 1\u001b[1;33m \u001b[0msm\u001b[0m\u001b[1;33m.\u001b[0m\u001b[0mlinear_eq_to_matrix\u001b[0m\u001b[1;33m(\u001b[0m\u001b[0mdij_exp\u001b[0m\u001b[1;33m.\u001b[0m\u001b[0mapplyfunc\u001b[0m\u001b[1;33m(\u001b[0m\u001b[0mDer\u001b[0m\u001b[1;33m)\u001b[0m\u001b[1;33m,\u001b[0m \u001b[1;33m*\u001b[0m\u001b[1;33m[\u001b[0m\u001b[0msm\u001b[0m\u001b[1;33m.\u001b[0m\u001b[0mSymbol\u001b[0m\u001b[1;33m(\u001b[0m\u001b[0mi\u001b[0m\u001b[1;33m)\u001b[0m \u001b[1;32mfor\u001b[0m \u001b[0mi\u001b[0m \u001b[1;32min\u001b[0m \u001b[0mstates\u001b[0m\u001b[1;33m.\u001b[0m\u001b[0mapplyfunc\u001b[0m\u001b[1;33m(\u001b[0m\u001b[0mDer\u001b[0m\u001b[1;33m)\u001b[0m\u001b[1;33m]\u001b[0m\u001b[1;33m)\u001b[0m\u001b[1;33m\u001b[0m\u001b[1;33m\u001b[0m\u001b[0m\n\u001b[0m",
      "\u001b[1;32m~\\AppData\\Local\\Continuum\\anaconda3\\lib\\site-packages\\sympy\\core\\symbol.py\u001b[0m in \u001b[0;36m__new__\u001b[1;34m(cls, name, **assumptions)\u001b[0m\n\u001b[0;32m    211\u001b[0m         \"\"\"\n\u001b[0;32m    212\u001b[0m         \u001b[0mcls\u001b[0m\u001b[1;33m.\u001b[0m\u001b[0m_sanitize\u001b[0m\u001b[1;33m(\u001b[0m\u001b[0massumptions\u001b[0m\u001b[1;33m,\u001b[0m \u001b[0mcls\u001b[0m\u001b[1;33m)\u001b[0m\u001b[1;33m\u001b[0m\u001b[1;33m\u001b[0m\u001b[0m\n\u001b[1;32m--> 213\u001b[1;33m         \u001b[1;32mreturn\u001b[0m \u001b[0mSymbol\u001b[0m\u001b[1;33m.\u001b[0m\u001b[0m__xnew_cached_\u001b[0m\u001b[1;33m(\u001b[0m\u001b[0mcls\u001b[0m\u001b[1;33m,\u001b[0m \u001b[0mname\u001b[0m\u001b[1;33m,\u001b[0m \u001b[1;33m**\u001b[0m\u001b[0massumptions\u001b[0m\u001b[1;33m)\u001b[0m\u001b[1;33m\u001b[0m\u001b[1;33m\u001b[0m\u001b[0m\n\u001b[0m\u001b[0;32m    214\u001b[0m \u001b[1;33m\u001b[0m\u001b[0m\n\u001b[0;32m    215\u001b[0m     \u001b[1;32mdef\u001b[0m \u001b[0m__new_stage2__\u001b[0m\u001b[1;33m(\u001b[0m\u001b[0mcls\u001b[0m\u001b[1;33m,\u001b[0m \u001b[0mname\u001b[0m\u001b[1;33m,\u001b[0m \u001b[1;33m**\u001b[0m\u001b[0massumptions\u001b[0m\u001b[1;33m)\u001b[0m\u001b[1;33m:\u001b[0m\u001b[1;33m\u001b[0m\u001b[1;33m\u001b[0m\u001b[0m\n",
      "\u001b[1;32m~\\AppData\\Local\\Continuum\\anaconda3\\lib\\site-packages\\sympy\\core\\symbol.py\u001b[0m in \u001b[0;36m__new_stage2__\u001b[1;34m(cls, name, **assumptions)\u001b[0m\n\u001b[0;32m    215\u001b[0m     \u001b[1;32mdef\u001b[0m \u001b[0m__new_stage2__\u001b[0m\u001b[1;33m(\u001b[0m\u001b[0mcls\u001b[0m\u001b[1;33m,\u001b[0m \u001b[0mname\u001b[0m\u001b[1;33m,\u001b[0m \u001b[1;33m**\u001b[0m\u001b[0massumptions\u001b[0m\u001b[1;33m)\u001b[0m\u001b[1;33m:\u001b[0m\u001b[1;33m\u001b[0m\u001b[1;33m\u001b[0m\u001b[0m\n\u001b[0;32m    216\u001b[0m         \u001b[1;32mif\u001b[0m \u001b[1;32mnot\u001b[0m \u001b[0misinstance\u001b[0m\u001b[1;33m(\u001b[0m\u001b[0mname\u001b[0m\u001b[1;33m,\u001b[0m \u001b[0mstring_types\u001b[0m\u001b[1;33m)\u001b[0m\u001b[1;33m:\u001b[0m\u001b[1;33m\u001b[0m\u001b[1;33m\u001b[0m\u001b[0m\n\u001b[1;32m--> 217\u001b[1;33m             \u001b[1;32mraise\u001b[0m \u001b[0mTypeError\u001b[0m\u001b[1;33m(\u001b[0m\u001b[1;34m\"name should be a string, not %s\"\u001b[0m \u001b[1;33m%\u001b[0m \u001b[0mrepr\u001b[0m\u001b[1;33m(\u001b[0m\u001b[0mtype\u001b[0m\u001b[1;33m(\u001b[0m\u001b[0mname\u001b[0m\u001b[1;33m)\u001b[0m\u001b[1;33m)\u001b[0m\u001b[1;33m)\u001b[0m\u001b[1;33m\u001b[0m\u001b[1;33m\u001b[0m\u001b[0m\n\u001b[0m\u001b[0;32m    218\u001b[0m \u001b[1;33m\u001b[0m\u001b[0m\n\u001b[0;32m    219\u001b[0m         \u001b[0mobj\u001b[0m \u001b[1;33m=\u001b[0m \u001b[0mExpr\u001b[0m\u001b[1;33m.\u001b[0m\u001b[0m__new__\u001b[0m\u001b[1;33m(\u001b[0m\u001b[0mcls\u001b[0m\u001b[1;33m)\u001b[0m\u001b[1;33m\u001b[0m\u001b[1;33m\u001b[0m\u001b[0m\n",
      "\u001b[1;31mTypeError\u001b[0m: name should be a string, not <class 'sympy.core.function.Derivative'>"
     ]
    }
   ],
   "source": [
    "sm.linear_eq_to_matrix(dij_exp.applyfunc(Der), *[sm.Symbol(i) for i in states.applyfunc(Der)])"
   ]
  },
  {
   "cell_type": "code",
   "execution_count": 20,
   "metadata": {},
   "outputs": [
    {
     "data": {
      "text/latex": [
       "$\\displaystyle \\frac{\\partial}{\\partial t} \\left[\\begin{matrix}\\left(2 {{P}^{i}}_{0, 0} {{P}^{i}}_{2, 0} + 2 {{P}^{i}}_{1, 0} {{P}^{i}}_{3, 0}\\right) {{u}^{i}_{1}}_{2, 0} + \\left(- 2 {{P}^{i}}_{0, 0} {{P}^{i}}_{3, 0} + 2 {{P}^{i}}_{1, 0} {{P}^{i}}_{2, 0}\\right) {{u}^{i}_{1}}_{1, 0} - \\left(2 {{P}^{j}}_{0, 0} {{P}^{j}}_{2, 0} + 2 {{P}^{j}}_{1, 0} {{P}^{j}}_{3, 0}\\right) {{u}^{j}_{2}}_{2, 0} - \\left(- 2 {{P}^{j}}_{0, 0} {{P}^{j}}_{3, 0} + 2 {{P}^{j}}_{1, 0} {{P}^{j}}_{2, 0}\\right) {{u}^{j}_{2}}_{1, 0} + \\left({{P}^{i}}_{0, 0}^{2} + {{P}^{i}}_{1, 0}^{2} - {{P}^{i}}_{2, 0}^{2} - {{P}^{i}}_{3, 0}^{2}\\right) {{u}^{i}_{1}}_{0, 0} - \\left({{P}^{j}}_{0, 0}^{2} + {{P}^{j}}_{1, 0}^{2} - {{P}^{j}}_{2, 0}^{2} - {{P}^{j}}_{3, 0}^{2}\\right) {{u}^{j}_{2}}_{0, 0} + {{R}^{i}}_{0, 0} - {{R}^{j}}_{0, 0}\\\\\\left(- 2 {{P}^{i}}_{0, 0} {{P}^{i}}_{1, 0} + 2 {{P}^{i}}_{2, 0} {{P}^{i}}_{3, 0}\\right) {{u}^{i}_{1}}_{2, 0} + \\left(2 {{P}^{i}}_{0, 0} {{P}^{i}}_{3, 0} + 2 {{P}^{i}}_{1, 0} {{P}^{i}}_{2, 0}\\right) {{u}^{i}_{1}}_{0, 0} - \\left(- 2 {{P}^{j}}_{0, 0} {{P}^{j}}_{1, 0} + 2 {{P}^{j}}_{2, 0} {{P}^{j}}_{3, 0}\\right) {{u}^{j}_{2}}_{2, 0} - \\left(2 {{P}^{j}}_{0, 0} {{P}^{j}}_{3, 0} + 2 {{P}^{j}}_{1, 0} {{P}^{j}}_{2, 0}\\right) {{u}^{j}_{2}}_{0, 0} + \\left({{P}^{i}}_{0, 0}^{2} - {{P}^{i}}_{1, 0}^{2} + {{P}^{i}}_{2, 0}^{2} - {{P}^{i}}_{3, 0}^{2}\\right) {{u}^{i}_{1}}_{1, 0} - \\left({{P}^{j}}_{0, 0}^{2} - {{P}^{j}}_{1, 0}^{2} + {{P}^{j}}_{2, 0}^{2} - {{P}^{j}}_{3, 0}^{2}\\right) {{u}^{j}_{2}}_{1, 0} + {{R}^{i}}_{1, 0} - {{R}^{j}}_{1, 0}\\\\\\left(2 {{P}^{i}}_{0, 0} {{P}^{i}}_{1, 0} + 2 {{P}^{i}}_{2, 0} {{P}^{i}}_{3, 0}\\right) {{u}^{i}_{1}}_{1, 0} + \\left(- 2 {{P}^{i}}_{0, 0} {{P}^{i}}_{2, 0} + 2 {{P}^{i}}_{1, 0} {{P}^{i}}_{3, 0}\\right) {{u}^{i}_{1}}_{0, 0} - \\left(2 {{P}^{j}}_{0, 0} {{P}^{j}}_{1, 0} + 2 {{P}^{j}}_{2, 0} {{P}^{j}}_{3, 0}\\right) {{u}^{j}_{2}}_{1, 0} - \\left(- 2 {{P}^{j}}_{0, 0} {{P}^{j}}_{2, 0} + 2 {{P}^{j}}_{1, 0} {{P}^{j}}_{3, 0}\\right) {{u}^{j}_{2}}_{0, 0} + \\left({{P}^{i}}_{0, 0}^{2} - {{P}^{i}}_{1, 0}^{2} - {{P}^{i}}_{2, 0}^{2} + {{P}^{i}}_{3, 0}^{2}\\right) {{u}^{i}_{1}}_{2, 0} - \\left({{P}^{j}}_{0, 0}^{2} - {{P}^{j}}_{1, 0}^{2} - {{P}^{j}}_{2, 0}^{2} + {{P}^{j}}_{3, 0}^{2}\\right) {{u}^{j}_{2}}_{2, 0} + {{R}^{i}}_{2, 0} - {{R}^{j}}_{2, 0}\\end{matrix}\\right]$"
      ],
      "text/plain": [
       "Derivative(Matrix([\n",
       "[(2*{{P}^{i}}[0, 0]*{{P}^{i}}[2, 0] + 2*{{P}^{i}}[1, 0]*{{P}^{i}}[3, 0])*{{u}^{i}_{1}}[2, 0] + (-2*{{P}^{i}}[0, 0]*{{P}^{i}}[3, 0] + 2*{{P}^{i}}[1, 0]*{{P}^{i}}[2, 0])*{{u}^{i}_{1}}[1, 0] - (2*{{P}^{j}}[0, 0]*{{P}^{j}}[2, 0] + 2*{{P}^{j}}[1, 0]*{{P}^{j}}[3, 0])*{{u}^{j}_{2}}[2, 0] - (-2*{{P}^{j}}[0, 0]*{{P}^{j}}[3, 0] + 2*{{P}^{j}}[1, 0]*{{P}^{j}}[2, 0])*{{u}^{j}_{2}}[1, 0] + ({{P}^{i}}[0, 0]**2 + {{P}^{i}}[1, 0]**2 - {{P}^{i}}[2, 0]**2 - {{P}^{i}}[3, 0]**2)*{{u}^{i}_{1}}[0, 0] - ({{P}^{j}}[0, 0]**2 + {{P}^{j}}[1, 0]**2 - {{P}^{j}}[2, 0]**2 - {{P}^{j}}[3, 0]**2)*{{u}^{j}_{2}}[0, 0] + {{R}^{i}}[0, 0] - {{R}^{j}}[0, 0]],\n",
       "[(-2*{{P}^{i}}[0, 0]*{{P}^{i}}[1, 0] + 2*{{P}^{i}}[2, 0]*{{P}^{i}}[3, 0])*{{u}^{i}_{1}}[2, 0] + (2*{{P}^{i}}[0, 0]*{{P}^{i}}[3, 0] + 2*{{P}^{i}}[1, 0]*{{P}^{i}}[2, 0])*{{u}^{i}_{1}}[0, 0] - (-2*{{P}^{j}}[0, 0]*{{P}^{j}}[1, 0] + 2*{{P}^{j}}[2, 0]*{{P}^{j}}[3, 0])*{{u}^{j}_{2}}[2, 0] - (2*{{P}^{j}}[0, 0]*{{P}^{j}}[3, 0] + 2*{{P}^{j}}[1, 0]*{{P}^{j}}[2, 0])*{{u}^{j}_{2}}[0, 0] + ({{P}^{i}}[0, 0]**2 - {{P}^{i}}[1, 0]**2 + {{P}^{i}}[2, 0]**2 - {{P}^{i}}[3, 0]**2)*{{u}^{i}_{1}}[1, 0] - ({{P}^{j}}[0, 0]**2 - {{P}^{j}}[1, 0]**2 + {{P}^{j}}[2, 0]**2 - {{P}^{j}}[3, 0]**2)*{{u}^{j}_{2}}[1, 0] + {{R}^{i}}[1, 0] - {{R}^{j}}[1, 0]],\n",
       "[(2*{{P}^{i}}[0, 0]*{{P}^{i}}[1, 0] + 2*{{P}^{i}}[2, 0]*{{P}^{i}}[3, 0])*{{u}^{i}_{1}}[1, 0] + (-2*{{P}^{i}}[0, 0]*{{P}^{i}}[2, 0] + 2*{{P}^{i}}[1, 0]*{{P}^{i}}[3, 0])*{{u}^{i}_{1}}[0, 0] - (2*{{P}^{j}}[0, 0]*{{P}^{j}}[1, 0] + 2*{{P}^{j}}[2, 0]*{{P}^{j}}[3, 0])*{{u}^{j}_{2}}[1, 0] - (-2*{{P}^{j}}[0, 0]*{{P}^{j}}[2, 0] + 2*{{P}^{j}}[1, 0]*{{P}^{j}}[3, 0])*{{u}^{j}_{2}}[0, 0] + ({{P}^{i}}[0, 0]**2 - {{P}^{i}}[1, 0]**2 - {{P}^{i}}[2, 0]**2 + {{P}^{i}}[3, 0]**2)*{{u}^{i}_{1}}[2, 0] - ({{P}^{j}}[0, 0]**2 - {{P}^{j}}[1, 0]**2 - {{P}^{j}}[2, 0]**2 + {{P}^{j}}[3, 0]**2)*{{u}^{j}_{2}}[2, 0] + {{R}^{i}}[2, 0] - {{R}^{j}}[2, 0]]]), t)"
      ]
     },
     "execution_count": 20,
     "metadata": {},
     "output_type": "execute_result"
    }
   ],
   "source": [
    "sm.Derivative(dij_exp, 't')"
   ]
  },
  {
   "cell_type": "code",
   "execution_count": 19,
   "metadata": {},
   "outputs": [
    {
     "data": {
      "text/latex": [
       "$\\displaystyle \\frac{d}{d t} \\left[\\begin{matrix}{{R}^{i}}_{0, 0}\\\\{{R}^{i}}_{1, 0}\\\\{{R}^{i}}_{2, 0}\\end{matrix}\\right]$"
      ],
      "text/plain": [
       "Derivative(Matrix([\n",
       "[{{R}^{i}}[0, 0]],\n",
       "[{{R}^{i}}[1, 0]],\n",
       "[{{R}^{i}}[2, 0]]]), t)"
      ]
     },
     "execution_count": 19,
     "metadata": {},
     "output_type": "execute_result"
    }
   ],
   "source": [
    "sm.Derivative(Ri.as_explicit(), 't')"
   ]
  },
  {
   "cell_type": "code",
   "execution_count": 13,
   "metadata": {
    "collapsed": true,
    "jupyter": {
     "outputs_hidden": true
    }
   },
   "outputs": [
    {
     "data": {
      "text/plain": [
       "\u001b[1;31mInit signature:\u001b[0m \u001b[0msm\u001b[0m\u001b[1;33m.\u001b[0m\u001b[0mDerivative\u001b[0m\u001b[1;33m(\u001b[0m\u001b[0mexpr\u001b[0m\u001b[1;33m,\u001b[0m \u001b[1;33m*\u001b[0m\u001b[0mvariables\u001b[0m\u001b[1;33m,\u001b[0m \u001b[1;33m**\u001b[0m\u001b[0mkwargs\u001b[0m\u001b[1;33m)\u001b[0m\u001b[1;33m\u001b[0m\u001b[1;33m\u001b[0m\u001b[0m\n",
       "\u001b[1;31mSource:\u001b[0m        \n",
       "\u001b[1;32mclass\u001b[0m \u001b[0mDerivative\u001b[0m\u001b[1;33m(\u001b[0m\u001b[0mExpr\u001b[0m\u001b[1;33m)\u001b[0m\u001b[1;33m:\u001b[0m\u001b[1;33m\n",
       "\u001b[0m    \u001b[1;34m\"\"\"\n",
       "    Carries out differentiation of the given expression with respect to symbols.\n",
       "\n",
       "    Examples\n",
       "    ========\n",
       "\n",
       "    >>> from sympy import Derivative, Function, symbols, Subs\n",
       "    >>> from sympy.abc import x, y\n",
       "    >>> f, g = symbols('f g', cls=Function)\n",
       "\n",
       "    >>> Derivative(x**2, x, evaluate=True)\n",
       "    2*x\n",
       "\n",
       "    Denesting of derivatives retains the ordering of variables:\n",
       "\n",
       "        >>> Derivative(Derivative(f(x, y), y), x)\n",
       "        Derivative(f(x, y), y, x)\n",
       "\n",
       "    Contiguously identical symbols are merged into a tuple giving\n",
       "    the symbol and the count:\n",
       "\n",
       "        >>> Derivative(f(x), x, x, y, x)\n",
       "        Derivative(f(x), (x, 2), y, x)\n",
       "\n",
       "    If the derivative cannot be performed, and evaluate is True, the\n",
       "    order of the variables of differentiation will be made canonical:\n",
       "\n",
       "        >>> Derivative(f(x, y), y, x, evaluate=True)\n",
       "        Derivative(f(x, y), x, y)\n",
       "\n",
       "    Derivatives with respect to undefined functions can be calculated:\n",
       "\n",
       "        >>> Derivative(f(x)**2, f(x), evaluate=True)\n",
       "        2*f(x)\n",
       "\n",
       "    Such derivatives will show up when the chain rule is used to\n",
       "    evalulate a derivative:\n",
       "\n",
       "        >>> f(g(x)).diff(x)\n",
       "        Derivative(f(g(x)), g(x))*Derivative(g(x), x)\n",
       "\n",
       "    Substitution is used to represent derivatives of functions with\n",
       "    arguments that are not symbols or functions:\n",
       "\n",
       "        >>> f(2*x + 3).diff(x) == 2*Subs(f(y).diff(y), y, 2*x + 3)\n",
       "        True\n",
       "\n",
       "    Notes\n",
       "    =====\n",
       "\n",
       "    Simplification of high-order derivatives:\n",
       "\n",
       "    Because there can be a significant amount of simplification that can be\n",
       "    done when multiple differentiations are performed, results will be\n",
       "    automatically simplified in a fairly conservative fashion unless the\n",
       "    keyword ``simplify`` is set to False.\n",
       "\n",
       "        >>> from sympy import cos, sin, sqrt, diff, Function, symbols\n",
       "        >>> from sympy.abc import x, y, z\n",
       "        >>> f, g = symbols('f,g', cls=Function)\n",
       "\n",
       "        >>> e = sqrt((x + 1)**2 + x)\n",
       "        >>> diff(e, (x, 5), simplify=False).count_ops()\n",
       "        136\n",
       "        >>> diff(e, (x, 5)).count_ops()\n",
       "        30\n",
       "\n",
       "    Ordering of variables:\n",
       "\n",
       "    If evaluate is set to True and the expression cannot be evaluated, the\n",
       "    list of differentiation symbols will be sorted, that is, the expression is\n",
       "    assumed to have continuous derivatives up to the order asked.\n",
       "\n",
       "    Derivative wrt non-Symbols:\n",
       "\n",
       "    For the most part, one may not differentiate wrt non-symbols.\n",
       "    For example, we do not allow differentiation wrt `x*y` because\n",
       "    there are multiple ways of structurally defining where x*y appears\n",
       "    in an expression: a very strict definition would make\n",
       "    (x*y*z).diff(x*y) == 0. Derivatives wrt defined functions (like\n",
       "    cos(x)) are not allowed, either:\n",
       "\n",
       "        >>> (x*y*z).diff(x*y)\n",
       "        Traceback (most recent call last):\n",
       "        ...\n",
       "        ValueError: Can't calculate derivative wrt x*y.\n",
       "\n",
       "    To make it easier to work with variational calculus, however,\n",
       "    derivatives wrt AppliedUndef and Derivatives are allowed.\n",
       "    For example, in the Euler-Lagrange method one may write\n",
       "    F(t, u, v) where u = f(t) and v = f'(t). These variables can be\n",
       "    written explicity as functions of time::\n",
       "\n",
       "        >>> from sympy.abc import t\n",
       "        >>> F = Function('F')\n",
       "        >>> U = f(t)\n",
       "        >>> V = U.diff(t)\n",
       "\n",
       "    The derivative wrt f(t) can be obtained directly:\n",
       "\n",
       "        >>> direct = F(t, U, V).diff(U)\n",
       "\n",
       "    When differentiation wrt a non-Symbol is attempted, the non-Symbol\n",
       "    is temporarily converted to a Symbol while the differentiation\n",
       "    is performed and the same answer is obtained:\n",
       "\n",
       "        >>> indirect = F(t, U, V).subs(U, x).diff(x).subs(x, U)\n",
       "        >>> assert direct == indirect\n",
       "\n",
       "    The implication of this non-symbol replacement is that all\n",
       "    functions are treated as independent of other functions and the\n",
       "    symbols are independent of the functions that contain them::\n",
       "\n",
       "        >>> x.diff(f(x))\n",
       "        0\n",
       "        >>> g(x).diff(f(x))\n",
       "        0\n",
       "\n",
       "    It also means that derivatives are assumed to depend only\n",
       "    on the variables of differentiation, not on anything contained\n",
       "    within the expression being differentiated::\n",
       "\n",
       "        >>> F = f(x)\n",
       "        >>> Fx = F.diff(x)\n",
       "        >>> Fx.diff(F)  # derivative depends on x, not F\n",
       "        0\n",
       "        >>> Fxx = Fx.diff(x)\n",
       "        >>> Fxx.diff(Fx)  # derivative depends on x, not Fx\n",
       "        0\n",
       "\n",
       "    The last example can be made explicit by showing the replacement\n",
       "    of Fx in Fxx with y:\n",
       "\n",
       "        >>> Fxx.subs(Fx, y)\n",
       "        Derivative(y, x)\n",
       "\n",
       "        Since that in itself will evaluate to zero, differentiating\n",
       "        wrt Fx will also be zero:\n",
       "\n",
       "        >>> _.doit()\n",
       "        0\n",
       "\n",
       "    Replacing undefined functions with concrete expressions\n",
       "\n",
       "    One must be careful to replace undefined functions with expressions\n",
       "    that contain variables consistent with the function definition and\n",
       "    the variables of differentiation or else insconsistent result will\n",
       "    be obtained. Consider the following example:\n",
       "\n",
       "    >>> eq = f(x)*g(y)\n",
       "    >>> eq.subs(f(x), x*y).diff(x, y).doit()\n",
       "    y*Derivative(g(y), y) + g(y)\n",
       "    >>> eq.diff(x, y).subs(f(x), x*y).doit()\n",
       "    y*Derivative(g(y), y)\n",
       "\n",
       "    The results differ because `f(x)` was replaced with an expression\n",
       "    that involved both variables of differentiation. In the abstract\n",
       "    case, differentiation of `f(x)` by `y` is 0; in the concrete case,\n",
       "    the presence of `y` made that derivative nonvanishing and produced\n",
       "    the extra `g(y)` term.\n",
       "\n",
       "    Defining differentiation for an object\n",
       "\n",
       "    An object must define ._eval_derivative(symbol) method that returns\n",
       "    the differentiation result. This function only needs to consider the\n",
       "    non-trivial case where expr contains symbol and it should call the diff()\n",
       "    method internally (not _eval_derivative); Derivative should be the only\n",
       "    one to call _eval_derivative.\n",
       "\n",
       "    Any class can allow derivatives to be taken with respect to\n",
       "    itself (while indicating its scalar nature). See the\n",
       "    docstring of Expr._diff_wrt.\n",
       "\n",
       "    See Also\n",
       "    ========\n",
       "    _sort_variable_count\n",
       "    \"\"\"\u001b[0m\u001b[1;33m\n",
       "\u001b[0m\u001b[1;33m\n",
       "\u001b[0m    \u001b[0mis_Derivative\u001b[0m \u001b[1;33m=\u001b[0m \u001b[1;32mTrue\u001b[0m\u001b[1;33m\n",
       "\u001b[0m\u001b[1;33m\n",
       "\u001b[0m    \u001b[1;33m@\u001b[0m\u001b[0mproperty\u001b[0m\u001b[1;33m\n",
       "\u001b[0m    \u001b[1;32mdef\u001b[0m \u001b[0m_diff_wrt\u001b[0m\u001b[1;33m(\u001b[0m\u001b[0mself\u001b[0m\u001b[1;33m)\u001b[0m\u001b[1;33m:\u001b[0m\u001b[1;33m\n",
       "\u001b[0m        \u001b[1;34m\"\"\"An expression may be differentiated wrt a Derivative if\n",
       "        it is in elementary form.\n",
       "\n",
       "        Examples\n",
       "        ========\n",
       "\n",
       "        >>> from sympy import Function, Derivative, cos\n",
       "        >>> from sympy.abc import x\n",
       "        >>> f = Function('f')\n",
       "\n",
       "        >>> Derivative(f(x), x)._diff_wrt\n",
       "        True\n",
       "        >>> Derivative(cos(x), x)._diff_wrt\n",
       "        False\n",
       "        >>> Derivative(x + 1, x)._diff_wrt\n",
       "        False\n",
       "\n",
       "        A Derivative might be an unevaluated form of what will not be\n",
       "        a valid variable of differentiation if evaluated. For example,\n",
       "\n",
       "        >>> Derivative(f(f(x)), x).doit()\n",
       "        Derivative(f(x), x)*Derivative(f(f(x)), f(x))\n",
       "\n",
       "        Such an expression will present the same ambiguities as arise\n",
       "        when dealing with any other product, like `2*x`, so `_diff_wrt`\n",
       "        is False:\n",
       "\n",
       "        >>> Derivative(f(f(x)), x)._diff_wrt\n",
       "        False\n",
       "        \"\"\"\u001b[0m\u001b[1;33m\n",
       "\u001b[0m        \u001b[1;32mreturn\u001b[0m \u001b[0mself\u001b[0m\u001b[1;33m.\u001b[0m\u001b[0mexpr\u001b[0m\u001b[1;33m.\u001b[0m\u001b[0m_diff_wrt\u001b[0m \u001b[1;32mand\u001b[0m \u001b[0misinstance\u001b[0m\u001b[1;33m(\u001b[0m\u001b[0mself\u001b[0m\u001b[1;33m.\u001b[0m\u001b[0mdoit\u001b[0m\u001b[1;33m(\u001b[0m\u001b[1;33m)\u001b[0m\u001b[1;33m,\u001b[0m \u001b[0mDerivative\u001b[0m\u001b[1;33m)\u001b[0m\u001b[1;33m\n",
       "\u001b[0m\u001b[1;33m\n",
       "\u001b[0m    \u001b[1;32mdef\u001b[0m \u001b[0m__new__\u001b[0m\u001b[1;33m(\u001b[0m\u001b[0mcls\u001b[0m\u001b[1;33m,\u001b[0m \u001b[0mexpr\u001b[0m\u001b[1;33m,\u001b[0m \u001b[1;33m*\u001b[0m\u001b[0mvariables\u001b[0m\u001b[1;33m,\u001b[0m \u001b[1;33m**\u001b[0m\u001b[0mkwargs\u001b[0m\u001b[1;33m)\u001b[0m\u001b[1;33m:\u001b[0m\u001b[1;33m\n",
       "\u001b[0m\u001b[1;33m\n",
       "\u001b[0m        \u001b[1;32mfrom\u001b[0m \u001b[0msympy\u001b[0m\u001b[1;33m.\u001b[0m\u001b[0mmatrices\u001b[0m\u001b[1;33m.\u001b[0m\u001b[0mcommon\u001b[0m \u001b[1;32mimport\u001b[0m \u001b[0mMatrixCommon\u001b[0m\u001b[1;33m\n",
       "\u001b[0m        \u001b[1;32mfrom\u001b[0m \u001b[0msympy\u001b[0m \u001b[1;32mimport\u001b[0m \u001b[0mInteger\u001b[0m\u001b[1;33m,\u001b[0m \u001b[0mMatrixExpr\u001b[0m\u001b[1;33m\n",
       "\u001b[0m        \u001b[1;32mfrom\u001b[0m \u001b[0msympy\u001b[0m\u001b[1;33m.\u001b[0m\u001b[0mtensor\u001b[0m\u001b[1;33m.\u001b[0m\u001b[0marray\u001b[0m \u001b[1;32mimport\u001b[0m \u001b[0mArray\u001b[0m\u001b[1;33m,\u001b[0m \u001b[0mNDimArray\u001b[0m\u001b[1;33m,\u001b[0m \u001b[0mderive_by_array\u001b[0m\u001b[1;33m\n",
       "\u001b[0m        \u001b[1;32mfrom\u001b[0m \u001b[0msympy\u001b[0m\u001b[1;33m.\u001b[0m\u001b[0mutilities\u001b[0m\u001b[1;33m.\u001b[0m\u001b[0mmisc\u001b[0m \u001b[1;32mimport\u001b[0m \u001b[0mfilldedent\u001b[0m\u001b[1;33m\n",
       "\u001b[0m\u001b[1;33m\n",
       "\u001b[0m        \u001b[0mexpr\u001b[0m \u001b[1;33m=\u001b[0m \u001b[0msympify\u001b[0m\u001b[1;33m(\u001b[0m\u001b[0mexpr\u001b[0m\u001b[1;33m)\u001b[0m\u001b[1;33m\n",
       "\u001b[0m        \u001b[0msymbols_or_none\u001b[0m \u001b[1;33m=\u001b[0m \u001b[0mgetattr\u001b[0m\u001b[1;33m(\u001b[0m\u001b[0mexpr\u001b[0m\u001b[1;33m,\u001b[0m \u001b[1;34m\"free_symbols\"\u001b[0m\u001b[1;33m,\u001b[0m \u001b[1;32mNone\u001b[0m\u001b[1;33m)\u001b[0m\u001b[1;33m\n",
       "\u001b[0m        \u001b[0mhas_symbol_set\u001b[0m \u001b[1;33m=\u001b[0m \u001b[0misinstance\u001b[0m\u001b[1;33m(\u001b[0m\u001b[0msymbols_or_none\u001b[0m\u001b[1;33m,\u001b[0m \u001b[0mset\u001b[0m\u001b[1;33m)\u001b[0m\u001b[1;33m\n",
       "\u001b[0m\u001b[1;33m\n",
       "\u001b[0m        \u001b[1;32mif\u001b[0m \u001b[1;32mnot\u001b[0m \u001b[0mhas_symbol_set\u001b[0m\u001b[1;33m:\u001b[0m\u001b[1;33m\n",
       "\u001b[0m            \u001b[1;32mraise\u001b[0m \u001b[0mValueError\u001b[0m\u001b[1;33m(\u001b[0m\u001b[0mfilldedent\u001b[0m\u001b[1;33m(\u001b[0m\u001b[1;34m'''\n",
       "                Since there are no variables in the expression %s,\n",
       "                it cannot be differentiated.'''\u001b[0m \u001b[1;33m%\u001b[0m \u001b[0mexpr\u001b[0m\u001b[1;33m)\u001b[0m\u001b[1;33m)\u001b[0m\u001b[1;33m\n",
       "\u001b[0m\u001b[1;33m\n",
       "\u001b[0m        \u001b[1;31m# determine value for variables if it wasn't given\u001b[0m\u001b[1;33m\n",
       "\u001b[0m        \u001b[1;32mif\u001b[0m \u001b[1;32mnot\u001b[0m \u001b[0mvariables\u001b[0m\u001b[1;33m:\u001b[0m\u001b[1;33m\n",
       "\u001b[0m            \u001b[0mvariables\u001b[0m \u001b[1;33m=\u001b[0m \u001b[0mexpr\u001b[0m\u001b[1;33m.\u001b[0m\u001b[0mfree_symbols\u001b[0m\u001b[1;33m\n",
       "\u001b[0m            \u001b[1;32mif\u001b[0m \u001b[0mlen\u001b[0m\u001b[1;33m(\u001b[0m\u001b[0mvariables\u001b[0m\u001b[1;33m)\u001b[0m \u001b[1;33m!=\u001b[0m \u001b[1;36m1\u001b[0m\u001b[1;33m:\u001b[0m\u001b[1;33m\n",
       "\u001b[0m                \u001b[1;32mif\u001b[0m \u001b[0mexpr\u001b[0m\u001b[1;33m.\u001b[0m\u001b[0mis_number\u001b[0m\u001b[1;33m:\u001b[0m\u001b[1;33m\n",
       "\u001b[0m                    \u001b[1;32mreturn\u001b[0m \u001b[0mS\u001b[0m\u001b[1;33m.\u001b[0m\u001b[0mZero\u001b[0m\u001b[1;33m\n",
       "\u001b[0m                \u001b[1;32mif\u001b[0m \u001b[0mlen\u001b[0m\u001b[1;33m(\u001b[0m\u001b[0mvariables\u001b[0m\u001b[1;33m)\u001b[0m \u001b[1;33m==\u001b[0m \u001b[1;36m0\u001b[0m\u001b[1;33m:\u001b[0m\u001b[1;33m\n",
       "\u001b[0m                    \u001b[1;32mraise\u001b[0m \u001b[0mValueError\u001b[0m\u001b[1;33m(\u001b[0m\u001b[0mfilldedent\u001b[0m\u001b[1;33m(\u001b[0m\u001b[1;34m'''\n",
       "                        Since there are no variables in the expression,\n",
       "                        the variable(s) of differentiation must be supplied\n",
       "                        to differentiate %s'''\u001b[0m \u001b[1;33m%\u001b[0m \u001b[0mexpr\u001b[0m\u001b[1;33m)\u001b[0m\u001b[1;33m)\u001b[0m\u001b[1;33m\n",
       "\u001b[0m                \u001b[1;32melse\u001b[0m\u001b[1;33m:\u001b[0m\u001b[1;33m\n",
       "\u001b[0m                    \u001b[1;32mraise\u001b[0m \u001b[0mValueError\u001b[0m\u001b[1;33m(\u001b[0m\u001b[0mfilldedent\u001b[0m\u001b[1;33m(\u001b[0m\u001b[1;34m'''\n",
       "                        Since there is more than one variable in the\n",
       "                        expression, the variable(s) of differentiation\n",
       "                        must be supplied to differentiate %s'''\u001b[0m \u001b[1;33m%\u001b[0m \u001b[0mexpr\u001b[0m\u001b[1;33m)\u001b[0m\u001b[1;33m)\u001b[0m\u001b[1;33m\n",
       "\u001b[0m\u001b[1;33m\n",
       "\u001b[0m        \u001b[1;31m# Standardize the variables by sympifying them:\u001b[0m\u001b[1;33m\n",
       "\u001b[0m        \u001b[0mvariables\u001b[0m \u001b[1;33m=\u001b[0m \u001b[0mlist\u001b[0m\u001b[1;33m(\u001b[0m\u001b[0msympify\u001b[0m\u001b[1;33m(\u001b[0m\u001b[0mvariables\u001b[0m\u001b[1;33m)\u001b[0m\u001b[1;33m)\u001b[0m\u001b[1;33m\n",
       "\u001b[0m\u001b[1;33m\n",
       "\u001b[0m        \u001b[1;31m# Split the list of variables into a list of the variables we are diff\u001b[0m\u001b[1;33m\n",
       "\u001b[0m        \u001b[1;31m# wrt, where each element of the list has the form (s, count) where\u001b[0m\u001b[1;33m\n",
       "\u001b[0m        \u001b[1;31m# s is the entity to diff wrt and count is the order of the\u001b[0m\u001b[1;33m\n",
       "\u001b[0m        \u001b[1;31m# derivative.\u001b[0m\u001b[1;33m\n",
       "\u001b[0m        \u001b[0mvariable_count\u001b[0m \u001b[1;33m=\u001b[0m \u001b[1;33m[\u001b[0m\u001b[1;33m]\u001b[0m\u001b[1;33m\n",
       "\u001b[0m        \u001b[0marray_likes\u001b[0m \u001b[1;33m=\u001b[0m \u001b[1;33m(\u001b[0m\u001b[0mtuple\u001b[0m\u001b[1;33m,\u001b[0m \u001b[0mlist\u001b[0m\u001b[1;33m,\u001b[0m \u001b[0mTuple\u001b[0m\u001b[1;33m)\u001b[0m\u001b[1;33m\n",
       "\u001b[0m\u001b[1;33m\n",
       "\u001b[0m        \u001b[1;32mfor\u001b[0m \u001b[0mi\u001b[0m\u001b[1;33m,\u001b[0m \u001b[0mv\u001b[0m \u001b[1;32min\u001b[0m \u001b[0menumerate\u001b[0m\u001b[1;33m(\u001b[0m\u001b[0mvariables\u001b[0m\u001b[1;33m)\u001b[0m\u001b[1;33m:\u001b[0m\u001b[1;33m\n",
       "\u001b[0m            \u001b[1;32mif\u001b[0m \u001b[0misinstance\u001b[0m\u001b[1;33m(\u001b[0m\u001b[0mv\u001b[0m\u001b[1;33m,\u001b[0m \u001b[0mInteger\u001b[0m\u001b[1;33m)\u001b[0m\u001b[1;33m:\u001b[0m\u001b[1;33m\n",
       "\u001b[0m                \u001b[1;32mif\u001b[0m \u001b[0mi\u001b[0m \u001b[1;33m==\u001b[0m \u001b[1;36m0\u001b[0m\u001b[1;33m:\u001b[0m\u001b[1;33m\n",
       "\u001b[0m                    \u001b[1;32mraise\u001b[0m \u001b[0mValueError\u001b[0m\u001b[1;33m(\u001b[0m\u001b[1;34m\"First variable cannot be a number: %i\"\u001b[0m \u001b[1;33m%\u001b[0m \u001b[0mv\u001b[0m\u001b[1;33m)\u001b[0m\u001b[1;33m\n",
       "\u001b[0m                \u001b[0mcount\u001b[0m \u001b[1;33m=\u001b[0m \u001b[0mv\u001b[0m\u001b[1;33m\n",
       "\u001b[0m                \u001b[0mprev\u001b[0m\u001b[1;33m,\u001b[0m \u001b[0mprevcount\u001b[0m \u001b[1;33m=\u001b[0m \u001b[0mvariable_count\u001b[0m\u001b[1;33m[\u001b[0m\u001b[1;33m-\u001b[0m\u001b[1;36m1\u001b[0m\u001b[1;33m]\u001b[0m\u001b[1;33m\n",
       "\u001b[0m                \u001b[1;32mif\u001b[0m \u001b[0mprevcount\u001b[0m \u001b[1;33m!=\u001b[0m \u001b[1;36m1\u001b[0m\u001b[1;33m:\u001b[0m\u001b[1;33m\n",
       "\u001b[0m                    \u001b[1;32mraise\u001b[0m \u001b[0mTypeError\u001b[0m\u001b[1;33m(\u001b[0m\u001b[1;34m\"tuple {0} followed by number {1}\"\u001b[0m\u001b[1;33m.\u001b[0m\u001b[0mformat\u001b[0m\u001b[1;33m(\u001b[0m\u001b[1;33m(\u001b[0m\u001b[0mprev\u001b[0m\u001b[1;33m,\u001b[0m \u001b[0mprevcount\u001b[0m\u001b[1;33m)\u001b[0m\u001b[1;33m,\u001b[0m \u001b[0mv\u001b[0m\u001b[1;33m)\u001b[0m\u001b[1;33m)\u001b[0m\u001b[1;33m\n",
       "\u001b[0m                \u001b[1;32mif\u001b[0m \u001b[0mcount\u001b[0m \u001b[1;33m==\u001b[0m \u001b[1;36m0\u001b[0m\u001b[1;33m:\u001b[0m\u001b[1;33m\n",
       "\u001b[0m                    \u001b[0mvariable_count\u001b[0m\u001b[1;33m.\u001b[0m\u001b[0mpop\u001b[0m\u001b[1;33m(\u001b[0m\u001b[1;33m)\u001b[0m\u001b[1;33m\n",
       "\u001b[0m                \u001b[1;32melse\u001b[0m\u001b[1;33m:\u001b[0m\u001b[1;33m\n",
       "\u001b[0m                    \u001b[0mvariable_count\u001b[0m\u001b[1;33m[\u001b[0m\u001b[1;33m-\u001b[0m\u001b[1;36m1\u001b[0m\u001b[1;33m]\u001b[0m \u001b[1;33m=\u001b[0m \u001b[0mTuple\u001b[0m\u001b[1;33m(\u001b[0m\u001b[0mprev\u001b[0m\u001b[1;33m,\u001b[0m \u001b[0mcount\u001b[0m\u001b[1;33m)\u001b[0m\u001b[1;33m\n",
       "\u001b[0m            \u001b[1;32melse\u001b[0m\u001b[1;33m:\u001b[0m\u001b[1;33m\n",
       "\u001b[0m                \u001b[1;32mif\u001b[0m \u001b[0misinstance\u001b[0m\u001b[1;33m(\u001b[0m\u001b[0mv\u001b[0m\u001b[1;33m,\u001b[0m \u001b[0marray_likes\u001b[0m\u001b[1;33m)\u001b[0m\u001b[1;33m:\u001b[0m\u001b[1;33m\n",
       "\u001b[0m                    \u001b[1;32mif\u001b[0m \u001b[0mlen\u001b[0m\u001b[1;33m(\u001b[0m\u001b[0mv\u001b[0m\u001b[1;33m)\u001b[0m \u001b[1;33m==\u001b[0m \u001b[1;36m0\u001b[0m\u001b[1;33m:\u001b[0m\u001b[1;33m\n",
       "\u001b[0m                        \u001b[1;31m# Ignore empty tuples: Derivative(expr, ... , (), ... )\u001b[0m\u001b[1;33m\n",
       "\u001b[0m                        \u001b[1;32mcontinue\u001b[0m\u001b[1;33m\n",
       "\u001b[0m                    \u001b[1;32mif\u001b[0m \u001b[0misinstance\u001b[0m\u001b[1;33m(\u001b[0m\u001b[0mv\u001b[0m\u001b[1;33m[\u001b[0m\u001b[1;36m0\u001b[0m\u001b[1;33m]\u001b[0m\u001b[1;33m,\u001b[0m \u001b[0marray_likes\u001b[0m\u001b[1;33m)\u001b[0m\u001b[1;33m:\u001b[0m\u001b[1;33m\n",
       "\u001b[0m                        \u001b[1;31m# Derive by array: Derivative(expr, ... , [[x, y, z]], ... )\u001b[0m\u001b[1;33m\n",
       "\u001b[0m                        \u001b[1;32mif\u001b[0m \u001b[0mlen\u001b[0m\u001b[1;33m(\u001b[0m\u001b[0mv\u001b[0m\u001b[1;33m)\u001b[0m \u001b[1;33m==\u001b[0m \u001b[1;36m1\u001b[0m\u001b[1;33m:\u001b[0m\u001b[1;33m\n",
       "\u001b[0m                            \u001b[0mv\u001b[0m \u001b[1;33m=\u001b[0m \u001b[0mArray\u001b[0m\u001b[1;33m(\u001b[0m\u001b[0mv\u001b[0m\u001b[1;33m[\u001b[0m\u001b[1;36m0\u001b[0m\u001b[1;33m]\u001b[0m\u001b[1;33m)\u001b[0m\u001b[1;33m\n",
       "\u001b[0m                            \u001b[0mcount\u001b[0m \u001b[1;33m=\u001b[0m \u001b[1;36m1\u001b[0m\u001b[1;33m\n",
       "\u001b[0m                        \u001b[1;32melse\u001b[0m\u001b[1;33m:\u001b[0m\u001b[1;33m\n",
       "\u001b[0m                            \u001b[0mv\u001b[0m\u001b[1;33m,\u001b[0m \u001b[0mcount\u001b[0m \u001b[1;33m=\u001b[0m \u001b[0mv\u001b[0m\u001b[1;33m\n",
       "\u001b[0m                            \u001b[0mv\u001b[0m \u001b[1;33m=\u001b[0m \u001b[0mArray\u001b[0m\u001b[1;33m(\u001b[0m\u001b[0mv\u001b[0m\u001b[1;33m)\u001b[0m\u001b[1;33m\n",
       "\u001b[0m                    \u001b[1;32melse\u001b[0m\u001b[1;33m:\u001b[0m\u001b[1;33m\n",
       "\u001b[0m                        \u001b[0mv\u001b[0m\u001b[1;33m,\u001b[0m \u001b[0mcount\u001b[0m \u001b[1;33m=\u001b[0m \u001b[0mv\u001b[0m\u001b[1;33m\n",
       "\u001b[0m                    \u001b[1;32mif\u001b[0m \u001b[0mcount\u001b[0m \u001b[1;33m==\u001b[0m \u001b[1;36m0\u001b[0m\u001b[1;33m:\u001b[0m\u001b[1;33m\n",
       "\u001b[0m                        \u001b[1;32mcontinue\u001b[0m\u001b[1;33m\n",
       "\u001b[0m                \u001b[1;32melse\u001b[0m\u001b[1;33m:\u001b[0m\u001b[1;33m\n",
       "\u001b[0m                    \u001b[0mcount\u001b[0m \u001b[1;33m=\u001b[0m \u001b[1;36m1\u001b[0m\u001b[1;33m\n",
       "\u001b[0m                \u001b[0mvariable_count\u001b[0m\u001b[1;33m.\u001b[0m\u001b[0mappend\u001b[0m\u001b[1;33m(\u001b[0m\u001b[0mTuple\u001b[0m\u001b[1;33m(\u001b[0m\u001b[0mv\u001b[0m\u001b[1;33m,\u001b[0m \u001b[0mcount\u001b[0m\u001b[1;33m)\u001b[0m\u001b[1;33m)\u001b[0m\u001b[1;33m\n",
       "\u001b[0m\u001b[1;33m\n",
       "\u001b[0m        \u001b[1;31m# light evaluation of contiguous, identical\u001b[0m\u001b[1;33m\n",
       "\u001b[0m        \u001b[1;31m# items: (x, 1), (x, 1) -> (x, 2)\u001b[0m\u001b[1;33m\n",
       "\u001b[0m        \u001b[0mmerged\u001b[0m \u001b[1;33m=\u001b[0m \u001b[1;33m[\u001b[0m\u001b[1;33m]\u001b[0m\u001b[1;33m\n",
       "\u001b[0m        \u001b[1;32mfor\u001b[0m \u001b[0mt\u001b[0m \u001b[1;32min\u001b[0m \u001b[0mvariable_count\u001b[0m\u001b[1;33m:\u001b[0m\u001b[1;33m\n",
       "\u001b[0m            \u001b[0mv\u001b[0m\u001b[1;33m,\u001b[0m \u001b[0mc\u001b[0m \u001b[1;33m=\u001b[0m \u001b[0mt\u001b[0m\u001b[1;33m\n",
       "\u001b[0m            \u001b[1;32mif\u001b[0m \u001b[0mc\u001b[0m\u001b[1;33m.\u001b[0m\u001b[0mis_negative\u001b[0m\u001b[1;33m:\u001b[0m\u001b[1;33m\n",
       "\u001b[0m                \u001b[1;32mraise\u001b[0m \u001b[0mValueError\u001b[0m\u001b[1;33m(\u001b[0m\u001b[1;33m\n",
       "\u001b[0m                    \u001b[1;34m'order of differentiation must be nonnegative'\u001b[0m\u001b[1;33m)\u001b[0m\u001b[1;33m\n",
       "\u001b[0m            \u001b[1;32mif\u001b[0m \u001b[0mmerged\u001b[0m \u001b[1;32mand\u001b[0m \u001b[0mmerged\u001b[0m\u001b[1;33m[\u001b[0m\u001b[1;33m-\u001b[0m\u001b[1;36m1\u001b[0m\u001b[1;33m]\u001b[0m\u001b[1;33m[\u001b[0m\u001b[1;36m0\u001b[0m\u001b[1;33m]\u001b[0m \u001b[1;33m==\u001b[0m \u001b[0mv\u001b[0m\u001b[1;33m:\u001b[0m\u001b[1;33m\n",
       "\u001b[0m                \u001b[0mc\u001b[0m \u001b[1;33m+=\u001b[0m \u001b[0mmerged\u001b[0m\u001b[1;33m[\u001b[0m\u001b[1;33m-\u001b[0m\u001b[1;36m1\u001b[0m\u001b[1;33m]\u001b[0m\u001b[1;33m[\u001b[0m\u001b[1;36m1\u001b[0m\u001b[1;33m]\u001b[0m\u001b[1;33m\n",
       "\u001b[0m                \u001b[1;32mif\u001b[0m \u001b[1;32mnot\u001b[0m \u001b[0mc\u001b[0m\u001b[1;33m:\u001b[0m\u001b[1;33m\n",
       "\u001b[0m                    \u001b[0mmerged\u001b[0m\u001b[1;33m.\u001b[0m\u001b[0mpop\u001b[0m\u001b[1;33m(\u001b[0m\u001b[1;33m)\u001b[0m\u001b[1;33m\n",
       "\u001b[0m                \u001b[1;32melse\u001b[0m\u001b[1;33m:\u001b[0m\u001b[1;33m\n",
       "\u001b[0m                    \u001b[0mmerged\u001b[0m\u001b[1;33m[\u001b[0m\u001b[1;33m-\u001b[0m\u001b[1;36m1\u001b[0m\u001b[1;33m]\u001b[0m \u001b[1;33m=\u001b[0m \u001b[0mTuple\u001b[0m\u001b[1;33m(\u001b[0m\u001b[0mv\u001b[0m\u001b[1;33m,\u001b[0m \u001b[0mc\u001b[0m\u001b[1;33m)\u001b[0m\u001b[1;33m\n",
       "\u001b[0m            \u001b[1;32melse\u001b[0m\u001b[1;33m:\u001b[0m\u001b[1;33m\n",
       "\u001b[0m                \u001b[0mmerged\u001b[0m\u001b[1;33m.\u001b[0m\u001b[0mappend\u001b[0m\u001b[1;33m(\u001b[0m\u001b[0mt\u001b[0m\u001b[1;33m)\u001b[0m\u001b[1;33m\n",
       "\u001b[0m        \u001b[0mvariable_count\u001b[0m \u001b[1;33m=\u001b[0m \u001b[0mmerged\u001b[0m\u001b[1;33m\n",
       "\u001b[0m\u001b[1;33m\n",
       "\u001b[0m        \u001b[1;31m# sanity check of variables of differentation; we waited\u001b[0m\u001b[1;33m\n",
       "\u001b[0m        \u001b[1;31m# until the counts were computed since some variables may\u001b[0m\u001b[1;33m\n",
       "\u001b[0m        \u001b[1;31m# have been removed because the count was 0\u001b[0m\u001b[1;33m\n",
       "\u001b[0m        \u001b[1;32mfor\u001b[0m \u001b[0mv\u001b[0m\u001b[1;33m,\u001b[0m \u001b[0mc\u001b[0m \u001b[1;32min\u001b[0m \u001b[0mvariable_count\u001b[0m\u001b[1;33m:\u001b[0m\u001b[1;33m\n",
       "\u001b[0m            \u001b[1;31m# v must have _diff_wrt True\u001b[0m\u001b[1;33m\n",
       "\u001b[0m            \u001b[1;32mif\u001b[0m \u001b[1;32mnot\u001b[0m \u001b[0mv\u001b[0m\u001b[1;33m.\u001b[0m\u001b[0m_diff_wrt\u001b[0m\u001b[1;33m:\u001b[0m\u001b[1;33m\n",
       "\u001b[0m                \u001b[0m__\u001b[0m \u001b[1;33m=\u001b[0m \u001b[1;34m''\u001b[0m  \u001b[1;31m# filler to make error message neater\u001b[0m\u001b[1;33m\n",
       "\u001b[0m                \u001b[1;32mraise\u001b[0m \u001b[0mValueError\u001b[0m\u001b[1;33m(\u001b[0m\u001b[0mfilldedent\u001b[0m\u001b[1;33m(\u001b[0m\u001b[1;34m'''\n",
       "                    Can't calculate derivative wrt %s.%s'''\u001b[0m \u001b[1;33m%\u001b[0m \u001b[1;33m(\u001b[0m\u001b[0mv\u001b[0m\u001b[1;33m,\u001b[0m\u001b[1;33m\n",
       "\u001b[0m                    \u001b[0m__\u001b[0m\u001b[1;33m)\u001b[0m\u001b[1;33m)\u001b[0m\u001b[1;33m)\u001b[0m\u001b[1;33m\n",
       "\u001b[0m\u001b[1;33m\n",
       "\u001b[0m        \u001b[1;31m# We make a special case for 0th derivative, because there is no\u001b[0m\u001b[1;33m\n",
       "\u001b[0m        \u001b[1;31m# good way to unambiguously print this.\u001b[0m\u001b[1;33m\n",
       "\u001b[0m        \u001b[1;32mif\u001b[0m \u001b[0mlen\u001b[0m\u001b[1;33m(\u001b[0m\u001b[0mvariable_count\u001b[0m\u001b[1;33m)\u001b[0m \u001b[1;33m==\u001b[0m \u001b[1;36m0\u001b[0m\u001b[1;33m:\u001b[0m\u001b[1;33m\n",
       "\u001b[0m            \u001b[1;32mreturn\u001b[0m \u001b[0mexpr\u001b[0m\u001b[1;33m\n",
       "\u001b[0m\u001b[1;33m\n",
       "\u001b[0m        \u001b[0mevaluate\u001b[0m \u001b[1;33m=\u001b[0m \u001b[0mkwargs\u001b[0m\u001b[1;33m.\u001b[0m\u001b[0mget\u001b[0m\u001b[1;33m(\u001b[0m\u001b[1;34m'evaluate'\u001b[0m\u001b[1;33m,\u001b[0m \u001b[1;32mFalse\u001b[0m\u001b[1;33m)\u001b[0m\u001b[1;33m\n",
       "\u001b[0m\u001b[1;33m\n",
       "\u001b[0m        \u001b[1;32mif\u001b[0m \u001b[0mevaluate\u001b[0m\u001b[1;33m:\u001b[0m\u001b[1;33m\n",
       "\u001b[0m            \u001b[1;32mif\u001b[0m \u001b[0misinstance\u001b[0m\u001b[1;33m(\u001b[0m\u001b[0mexpr\u001b[0m\u001b[1;33m,\u001b[0m \u001b[0mDerivative\u001b[0m\u001b[1;33m)\u001b[0m\u001b[1;33m:\u001b[0m\u001b[1;33m\n",
       "\u001b[0m                \u001b[0mexpr\u001b[0m \u001b[1;33m=\u001b[0m \u001b[0mexpr\u001b[0m\u001b[1;33m.\u001b[0m\u001b[0mcanonical\u001b[0m\u001b[1;33m\n",
       "\u001b[0m            \u001b[0mvariable_count\u001b[0m \u001b[1;33m=\u001b[0m \u001b[1;33m[\u001b[0m\u001b[1;33m\n",
       "\u001b[0m                \u001b[1;33m(\u001b[0m\u001b[0mv\u001b[0m\u001b[1;33m.\u001b[0m\u001b[0mcanonical\u001b[0m \u001b[1;32mif\u001b[0m \u001b[0misinstance\u001b[0m\u001b[1;33m(\u001b[0m\u001b[0mv\u001b[0m\u001b[1;33m,\u001b[0m \u001b[0mDerivative\u001b[0m\u001b[1;33m)\u001b[0m \u001b[1;32melse\u001b[0m \u001b[0mv\u001b[0m\u001b[1;33m,\u001b[0m \u001b[0mc\u001b[0m\u001b[1;33m)\u001b[0m\u001b[1;33m\n",
       "\u001b[0m                \u001b[1;32mfor\u001b[0m \u001b[0mv\u001b[0m\u001b[1;33m,\u001b[0m \u001b[0mc\u001b[0m \u001b[1;32min\u001b[0m \u001b[0mvariable_count\u001b[0m\u001b[1;33m]\u001b[0m\u001b[1;33m\n",
       "\u001b[0m\u001b[1;33m\n",
       "\u001b[0m            \u001b[1;31m# Look for a quick exit if there are symbols that don't appear in\u001b[0m\u001b[1;33m\n",
       "\u001b[0m            \u001b[1;31m# expression at all. Note, this cannot check non-symbols like\u001b[0m\u001b[1;33m\n",
       "\u001b[0m            \u001b[1;31m# Derivatives as those can be created by intermediate\u001b[0m\u001b[1;33m\n",
       "\u001b[0m            \u001b[1;31m# derivatives.\u001b[0m\u001b[1;33m\n",
       "\u001b[0m            \u001b[0mzero\u001b[0m \u001b[1;33m=\u001b[0m \u001b[1;32mFalse\u001b[0m\u001b[1;33m\n",
       "\u001b[0m            \u001b[0mfree\u001b[0m \u001b[1;33m=\u001b[0m \u001b[0mexpr\u001b[0m\u001b[1;33m.\u001b[0m\u001b[0mfree_symbols\u001b[0m\u001b[1;33m\n",
       "\u001b[0m            \u001b[1;32mfor\u001b[0m \u001b[0mv\u001b[0m\u001b[1;33m,\u001b[0m \u001b[0mc\u001b[0m \u001b[1;32min\u001b[0m \u001b[0mvariable_count\u001b[0m\u001b[1;33m:\u001b[0m\u001b[1;33m\n",
       "\u001b[0m                \u001b[0mvfree\u001b[0m \u001b[1;33m=\u001b[0m \u001b[0mv\u001b[0m\u001b[1;33m.\u001b[0m\u001b[0mfree_symbols\u001b[0m\u001b[1;33m\n",
       "\u001b[0m                \u001b[1;32mif\u001b[0m \u001b[0mc\u001b[0m\u001b[1;33m.\u001b[0m\u001b[0mis_positive\u001b[0m \u001b[1;32mand\u001b[0m \u001b[0mvfree\u001b[0m\u001b[1;33m:\u001b[0m\u001b[1;33m\n",
       "\u001b[0m                    \u001b[1;32mif\u001b[0m \u001b[0misinstance\u001b[0m\u001b[1;33m(\u001b[0m\u001b[0mv\u001b[0m\u001b[1;33m,\u001b[0m \u001b[0mAppliedUndef\u001b[0m\u001b[1;33m)\u001b[0m\u001b[1;33m:\u001b[0m\u001b[1;33m\n",
       "\u001b[0m                        \u001b[1;31m# these match exactly since\u001b[0m\u001b[1;33m\n",
       "\u001b[0m                        \u001b[1;31m# x.diff(f(x)) == g(x).diff(f(x)) == 0\u001b[0m\u001b[1;33m\n",
       "\u001b[0m                        \u001b[1;31m# and are not created by differentiation\u001b[0m\u001b[1;33m\n",
       "\u001b[0m                        \u001b[0mD\u001b[0m \u001b[1;33m=\u001b[0m \u001b[0mDummy\u001b[0m\u001b[1;33m(\u001b[0m\u001b[1;33m)\u001b[0m\u001b[1;33m\n",
       "\u001b[0m                        \u001b[1;32mif\u001b[0m \u001b[1;32mnot\u001b[0m \u001b[0mexpr\u001b[0m\u001b[1;33m.\u001b[0m\u001b[0mxreplace\u001b[0m\u001b[1;33m(\u001b[0m\u001b[1;33m{\u001b[0m\u001b[0mv\u001b[0m\u001b[1;33m:\u001b[0m \u001b[0mD\u001b[0m\u001b[1;33m}\u001b[0m\u001b[1;33m)\u001b[0m\u001b[1;33m.\u001b[0m\u001b[0mhas\u001b[0m\u001b[1;33m(\u001b[0m\u001b[0mD\u001b[0m\u001b[1;33m)\u001b[0m\u001b[1;33m:\u001b[0m\u001b[1;33m\n",
       "\u001b[0m                            \u001b[0mzero\u001b[0m \u001b[1;33m=\u001b[0m \u001b[1;32mTrue\u001b[0m\u001b[1;33m\n",
       "\u001b[0m                            \u001b[1;32mbreak\u001b[0m\u001b[1;33m\n",
       "\u001b[0m                    \u001b[1;32melif\u001b[0m \u001b[0misinstance\u001b[0m\u001b[1;33m(\u001b[0m\u001b[0mv\u001b[0m\u001b[1;33m,\u001b[0m \u001b[0mMatrixExpr\u001b[0m\u001b[1;33m)\u001b[0m\u001b[1;33m:\u001b[0m\u001b[1;33m\n",
       "\u001b[0m                        \u001b[0mzero\u001b[0m \u001b[1;33m=\u001b[0m \u001b[1;32mFalse\u001b[0m\u001b[1;33m\n",
       "\u001b[0m                        \u001b[1;32mbreak\u001b[0m\u001b[1;33m\n",
       "\u001b[0m                    \u001b[1;32melif\u001b[0m \u001b[0misinstance\u001b[0m\u001b[1;33m(\u001b[0m\u001b[0mv\u001b[0m\u001b[1;33m,\u001b[0m \u001b[0mSymbol\u001b[0m\u001b[1;33m)\u001b[0m \u001b[1;32mand\u001b[0m \u001b[0mv\u001b[0m \u001b[1;32mnot\u001b[0m \u001b[1;32min\u001b[0m \u001b[0mfree\u001b[0m\u001b[1;33m:\u001b[0m\u001b[1;33m\n",
       "\u001b[0m                        \u001b[0mzero\u001b[0m \u001b[1;33m=\u001b[0m \u001b[1;32mTrue\u001b[0m\u001b[1;33m\n",
       "\u001b[0m                        \u001b[1;32mbreak\u001b[0m\u001b[1;33m\n",
       "\u001b[0m                    \u001b[1;32melse\u001b[0m\u001b[1;33m:\u001b[0m\u001b[1;33m\n",
       "\u001b[0m                        \u001b[1;32mif\u001b[0m \u001b[1;32mnot\u001b[0m \u001b[0mfree\u001b[0m \u001b[1;33m&\u001b[0m \u001b[0mvfree\u001b[0m\u001b[1;33m:\u001b[0m\u001b[1;33m\n",
       "\u001b[0m                            \u001b[1;31m# e.g. v is IndexedBase or Matrix\u001b[0m\u001b[1;33m\n",
       "\u001b[0m                            \u001b[0mzero\u001b[0m \u001b[1;33m=\u001b[0m \u001b[1;32mTrue\u001b[0m\u001b[1;33m\n",
       "\u001b[0m                            \u001b[1;32mbreak\u001b[0m\u001b[1;33m\n",
       "\u001b[0m            \u001b[1;32mif\u001b[0m \u001b[0mzero\u001b[0m\u001b[1;33m:\u001b[0m\u001b[1;33m\n",
       "\u001b[0m                \u001b[1;32mif\u001b[0m \u001b[0misinstance\u001b[0m\u001b[1;33m(\u001b[0m\u001b[0mexpr\u001b[0m\u001b[1;33m,\u001b[0m \u001b[1;33m(\u001b[0m\u001b[0mMatrixCommon\u001b[0m\u001b[1;33m,\u001b[0m \u001b[0mNDimArray\u001b[0m\u001b[1;33m)\u001b[0m\u001b[1;33m)\u001b[0m\u001b[1;33m:\u001b[0m\u001b[1;33m\n",
       "\u001b[0m                    \u001b[1;32mreturn\u001b[0m \u001b[0mexpr\u001b[0m\u001b[1;33m.\u001b[0m\u001b[0mzeros\u001b[0m\u001b[1;33m(\u001b[0m\u001b[1;33m*\u001b[0m\u001b[0mexpr\u001b[0m\u001b[1;33m.\u001b[0m\u001b[0mshape\u001b[0m\u001b[1;33m)\u001b[0m\u001b[1;33m\n",
       "\u001b[0m                \u001b[1;32melse\u001b[0m\u001b[1;33m:\u001b[0m\u001b[1;33m\n",
       "\u001b[0m                    \u001b[1;32mreturn\u001b[0m \u001b[0mS\u001b[0m\u001b[1;33m.\u001b[0m\u001b[0mZero\u001b[0m\u001b[1;33m\n",
       "\u001b[0m\u001b[1;33m\n",
       "\u001b[0m            \u001b[1;31m# make the order of symbols canonical\u001b[0m\u001b[1;33m\n",
       "\u001b[0m            \u001b[1;31m#TODO: check if assumption of discontinuous derivatives exist\u001b[0m\u001b[1;33m\n",
       "\u001b[0m            \u001b[0mvariable_count\u001b[0m \u001b[1;33m=\u001b[0m \u001b[0mcls\u001b[0m\u001b[1;33m.\u001b[0m\u001b[0m_sort_variable_count\u001b[0m\u001b[1;33m(\u001b[0m\u001b[0mvariable_count\u001b[0m\u001b[1;33m)\u001b[0m\u001b[1;33m\n",
       "\u001b[0m\u001b[1;33m\n",
       "\u001b[0m        \u001b[1;31m# denest\u001b[0m\u001b[1;33m\n",
       "\u001b[0m        \u001b[1;32mif\u001b[0m \u001b[0misinstance\u001b[0m\u001b[1;33m(\u001b[0m\u001b[0mexpr\u001b[0m\u001b[1;33m,\u001b[0m \u001b[0mDerivative\u001b[0m\u001b[1;33m)\u001b[0m\u001b[1;33m:\u001b[0m\u001b[1;33m\n",
       "\u001b[0m            \u001b[0mvariable_count\u001b[0m \u001b[1;33m=\u001b[0m \u001b[0mlist\u001b[0m\u001b[1;33m(\u001b[0m\u001b[0mexpr\u001b[0m\u001b[1;33m.\u001b[0m\u001b[0mvariable_count\u001b[0m\u001b[1;33m)\u001b[0m \u001b[1;33m+\u001b[0m \u001b[0mvariable_count\u001b[0m\u001b[1;33m\n",
       "\u001b[0m            \u001b[0mexpr\u001b[0m \u001b[1;33m=\u001b[0m \u001b[0mexpr\u001b[0m\u001b[1;33m.\u001b[0m\u001b[0mexpr\u001b[0m\u001b[1;33m\n",
       "\u001b[0m            \u001b[1;32mreturn\u001b[0m \u001b[0mDerivative\u001b[0m\u001b[1;33m(\u001b[0m\u001b[0mexpr\u001b[0m\u001b[1;33m,\u001b[0m \u001b[1;33m*\u001b[0m\u001b[0mvariable_count\u001b[0m\u001b[1;33m,\u001b[0m \u001b[1;33m**\u001b[0m\u001b[0mkwargs\u001b[0m\u001b[1;33m)\u001b[0m\u001b[1;33m\n",
       "\u001b[0m\u001b[1;33m\n",
       "\u001b[0m        \u001b[1;31m# we return here if evaluate is False or if there is no\u001b[0m\u001b[1;33m\n",
       "\u001b[0m        \u001b[1;31m# _eval_derivative method\u001b[0m\u001b[1;33m\n",
       "\u001b[0m        \u001b[1;32mif\u001b[0m \u001b[1;32mnot\u001b[0m \u001b[0mevaluate\u001b[0m \u001b[1;32mor\u001b[0m \u001b[1;32mnot\u001b[0m \u001b[0mhasattr\u001b[0m\u001b[1;33m(\u001b[0m\u001b[0mexpr\u001b[0m\u001b[1;33m,\u001b[0m \u001b[1;34m'_eval_derivative'\u001b[0m\u001b[1;33m)\u001b[0m\u001b[1;33m:\u001b[0m\u001b[1;33m\n",
       "\u001b[0m            \u001b[1;31m# return an unevaluated Derivative\u001b[0m\u001b[1;33m\n",
       "\u001b[0m            \u001b[1;32mif\u001b[0m \u001b[0mevaluate\u001b[0m \u001b[1;32mand\u001b[0m \u001b[0mvariable_count\u001b[0m \u001b[1;33m==\u001b[0m \u001b[1;33m[\u001b[0m\u001b[1;33m(\u001b[0m\u001b[0mexpr\u001b[0m\u001b[1;33m,\u001b[0m \u001b[1;36m1\u001b[0m\u001b[1;33m)\u001b[0m\u001b[1;33m]\u001b[0m \u001b[1;32mand\u001b[0m \u001b[0mexpr\u001b[0m\u001b[1;33m.\u001b[0m\u001b[0mis_scalar\u001b[0m\u001b[1;33m:\u001b[0m\u001b[1;33m\n",
       "\u001b[0m                \u001b[1;31m# special hack providing evaluation for classes\u001b[0m\u001b[1;33m\n",
       "\u001b[0m                \u001b[1;31m# that have defined is_scalar=True but have no\u001b[0m\u001b[1;33m\n",
       "\u001b[0m                \u001b[1;31m# _eval_derivative defined\u001b[0m\u001b[1;33m\n",
       "\u001b[0m                \u001b[1;32mreturn\u001b[0m \u001b[0mS\u001b[0m\u001b[1;33m.\u001b[0m\u001b[0mOne\u001b[0m\u001b[1;33m\n",
       "\u001b[0m            \u001b[1;32mreturn\u001b[0m \u001b[0mExpr\u001b[0m\u001b[1;33m.\u001b[0m\u001b[0m__new__\u001b[0m\u001b[1;33m(\u001b[0m\u001b[0mcls\u001b[0m\u001b[1;33m,\u001b[0m \u001b[0mexpr\u001b[0m\u001b[1;33m,\u001b[0m \u001b[1;33m*\u001b[0m\u001b[0mvariable_count\u001b[0m\u001b[1;33m)\u001b[0m\u001b[1;33m\n",
       "\u001b[0m\u001b[1;33m\n",
       "\u001b[0m        \u001b[1;31m# evaluate the derivative by calling _eval_derivative method\u001b[0m\u001b[1;33m\n",
       "\u001b[0m        \u001b[1;31m# of expr for each variable\u001b[0m\u001b[1;33m\n",
       "\u001b[0m        \u001b[1;31m# -------------------------------------------------------------\u001b[0m\u001b[1;33m\n",
       "\u001b[0m        \u001b[0mnderivs\u001b[0m \u001b[1;33m=\u001b[0m \u001b[1;36m0\u001b[0m  \u001b[1;31m# how many derivatives were performed\u001b[0m\u001b[1;33m\n",
       "\u001b[0m        \u001b[0munhandled\u001b[0m \u001b[1;33m=\u001b[0m \u001b[1;33m[\u001b[0m\u001b[1;33m]\u001b[0m\u001b[1;33m\n",
       "\u001b[0m        \u001b[1;32mfor\u001b[0m \u001b[0mi\u001b[0m\u001b[1;33m,\u001b[0m \u001b[1;33m(\u001b[0m\u001b[0mv\u001b[0m\u001b[1;33m,\u001b[0m \u001b[0mcount\u001b[0m\u001b[1;33m)\u001b[0m \u001b[1;32min\u001b[0m \u001b[0menumerate\u001b[0m\u001b[1;33m(\u001b[0m\u001b[0mvariable_count\u001b[0m\u001b[1;33m)\u001b[0m\u001b[1;33m:\u001b[0m\u001b[1;33m\n",
       "\u001b[0m\u001b[1;33m\n",
       "\u001b[0m            \u001b[0mold_expr\u001b[0m \u001b[1;33m=\u001b[0m \u001b[0mexpr\u001b[0m\u001b[1;33m\n",
       "\u001b[0m            \u001b[0mold_v\u001b[0m \u001b[1;33m=\u001b[0m \u001b[1;32mNone\u001b[0m\u001b[1;33m\n",
       "\u001b[0m\u001b[1;33m\n",
       "\u001b[0m            \u001b[0mis_symbol\u001b[0m \u001b[1;33m=\u001b[0m \u001b[0mv\u001b[0m\u001b[1;33m.\u001b[0m\u001b[0mis_symbol\u001b[0m \u001b[1;32mor\u001b[0m \u001b[0misinstance\u001b[0m\u001b[1;33m(\u001b[0m\u001b[0mv\u001b[0m\u001b[1;33m,\u001b[0m\u001b[1;33m\n",
       "\u001b[0m                \u001b[1;33m(\u001b[0m\u001b[0mIterable\u001b[0m\u001b[1;33m,\u001b[0m \u001b[0mTuple\u001b[0m\u001b[1;33m,\u001b[0m \u001b[0mMatrixCommon\u001b[0m\u001b[1;33m,\u001b[0m \u001b[0mNDimArray\u001b[0m\u001b[1;33m)\u001b[0m\u001b[1;33m)\u001b[0m\u001b[1;33m\n",
       "\u001b[0m\u001b[1;33m\n",
       "\u001b[0m            \u001b[1;32mif\u001b[0m \u001b[1;32mnot\u001b[0m \u001b[0mis_symbol\u001b[0m\u001b[1;33m:\u001b[0m\u001b[1;33m\n",
       "\u001b[0m                \u001b[0mold_v\u001b[0m \u001b[1;33m=\u001b[0m \u001b[0mv\u001b[0m\u001b[1;33m\n",
       "\u001b[0m                \u001b[0mv\u001b[0m \u001b[1;33m=\u001b[0m \u001b[0mDummy\u001b[0m\u001b[1;33m(\u001b[0m\u001b[1;34m'xi'\u001b[0m\u001b[1;33m)\u001b[0m\u001b[1;33m\n",
       "\u001b[0m                \u001b[0mexpr\u001b[0m \u001b[1;33m=\u001b[0m \u001b[0mexpr\u001b[0m\u001b[1;33m.\u001b[0m\u001b[0mxreplace\u001b[0m\u001b[1;33m(\u001b[0m\u001b[1;33m{\u001b[0m\u001b[0mold_v\u001b[0m\u001b[1;33m:\u001b[0m \u001b[0mv\u001b[0m\u001b[1;33m}\u001b[0m\u001b[1;33m)\u001b[0m\u001b[1;33m\n",
       "\u001b[0m                \u001b[1;31m# Derivatives and UndefinedFunctions are independent\u001b[0m\u001b[1;33m\n",
       "\u001b[0m                \u001b[1;31m# of all others\u001b[0m\u001b[1;33m\n",
       "\u001b[0m                \u001b[0mclashing\u001b[0m \u001b[1;33m=\u001b[0m \u001b[1;32mnot\u001b[0m \u001b[1;33m(\u001b[0m\u001b[0misinstance\u001b[0m\u001b[1;33m(\u001b[0m\u001b[0mold_v\u001b[0m\u001b[1;33m,\u001b[0m \u001b[0mDerivative\u001b[0m\u001b[1;33m)\u001b[0m \u001b[1;32mor\u001b[0m \\\n",
       "                    \u001b[0misinstance\u001b[0m\u001b[1;33m(\u001b[0m\u001b[0mold_v\u001b[0m\u001b[1;33m,\u001b[0m \u001b[0mAppliedUndef\u001b[0m\u001b[1;33m)\u001b[0m\u001b[1;33m)\u001b[0m\u001b[1;33m\n",
       "\u001b[0m                \u001b[1;32mif\u001b[0m \u001b[1;32mnot\u001b[0m \u001b[0mv\u001b[0m \u001b[1;32min\u001b[0m \u001b[0mexpr\u001b[0m\u001b[1;33m.\u001b[0m\u001b[0mfree_symbols\u001b[0m \u001b[1;32mand\u001b[0m \u001b[1;32mnot\u001b[0m \u001b[0mclashing\u001b[0m\u001b[1;33m:\u001b[0m\u001b[1;33m\n",
       "\u001b[0m                    \u001b[1;32mreturn\u001b[0m \u001b[0mexpr\u001b[0m\u001b[1;33m.\u001b[0m\u001b[0mdiff\u001b[0m\u001b[1;33m(\u001b[0m\u001b[0mv\u001b[0m\u001b[1;33m)\u001b[0m  \u001b[1;31m# expr's version of 0\u001b[0m\u001b[1;33m\n",
       "\u001b[0m                \u001b[1;32mif\u001b[0m \u001b[1;32mnot\u001b[0m \u001b[0mold_v\u001b[0m\u001b[1;33m.\u001b[0m\u001b[0mis_scalar\u001b[0m \u001b[1;32mand\u001b[0m \u001b[1;32mnot\u001b[0m \u001b[0mhasattr\u001b[0m\u001b[1;33m(\u001b[0m\u001b[1;33m\n",
       "\u001b[0m                        \u001b[0mold_v\u001b[0m\u001b[1;33m,\u001b[0m \u001b[1;34m'_eval_derivative'\u001b[0m\u001b[1;33m)\u001b[0m\u001b[1;33m:\u001b[0m\u001b[1;33m\n",
       "\u001b[0m                    \u001b[1;31m# special hack providing evaluation for classes\u001b[0m\u001b[1;33m\n",
       "\u001b[0m                    \u001b[1;31m# that have defined is_scalar=True but have no\u001b[0m\u001b[1;33m\n",
       "\u001b[0m                    \u001b[1;31m# _eval_derivative defined\u001b[0m\u001b[1;33m\n",
       "\u001b[0m                    \u001b[0mexpr\u001b[0m \u001b[1;33m*=\u001b[0m \u001b[0mold_v\u001b[0m\u001b[1;33m.\u001b[0m\u001b[0mdiff\u001b[0m\u001b[1;33m(\u001b[0m\u001b[0mold_v\u001b[0m\u001b[1;33m)\u001b[0m\u001b[1;33m\n",
       "\u001b[0m\u001b[1;33m\n",
       "\u001b[0m            \u001b[1;31m# Evaluate the derivative `n` times.  If\u001b[0m\u001b[1;33m\n",
       "\u001b[0m            \u001b[1;31m# `_eval_derivative_n_times` is not overridden by the current\u001b[0m\u001b[1;33m\n",
       "\u001b[0m            \u001b[1;31m# object, the default in `Basic` will call a loop over\u001b[0m\u001b[1;33m\n",
       "\u001b[0m            \u001b[1;31m# `_eval_derivative`:\u001b[0m\u001b[1;33m\n",
       "\u001b[0m            \u001b[0mobj\u001b[0m \u001b[1;33m=\u001b[0m \u001b[0mexpr\u001b[0m\u001b[1;33m.\u001b[0m\u001b[0m_eval_derivative_n_times\u001b[0m\u001b[1;33m(\u001b[0m\u001b[0mv\u001b[0m\u001b[1;33m,\u001b[0m \u001b[0mcount\u001b[0m\u001b[1;33m)\u001b[0m\u001b[1;33m\n",
       "\u001b[0m            \u001b[1;32mif\u001b[0m \u001b[0mobj\u001b[0m \u001b[1;32mis\u001b[0m \u001b[1;32mnot\u001b[0m \u001b[1;32mNone\u001b[0m \u001b[1;32mand\u001b[0m \u001b[0mobj\u001b[0m\u001b[1;33m.\u001b[0m\u001b[0mis_zero\u001b[0m\u001b[1;33m:\u001b[0m\u001b[1;33m\n",
       "\u001b[0m                \u001b[1;32mreturn\u001b[0m \u001b[0mobj\u001b[0m\u001b[1;33m\n",
       "\u001b[0m\u001b[1;33m\n",
       "\u001b[0m            \u001b[0mnderivs\u001b[0m \u001b[1;33m+=\u001b[0m \u001b[0mcount\u001b[0m\u001b[1;33m\n",
       "\u001b[0m\u001b[1;33m\n",
       "\u001b[0m            \u001b[1;32mif\u001b[0m \u001b[0mold_v\u001b[0m \u001b[1;32mis\u001b[0m \u001b[1;32mnot\u001b[0m \u001b[1;32mNone\u001b[0m\u001b[1;33m:\u001b[0m\u001b[1;33m\n",
       "\u001b[0m                \u001b[1;32mif\u001b[0m \u001b[0mobj\u001b[0m \u001b[1;32mis\u001b[0m \u001b[1;32mnot\u001b[0m \u001b[1;32mNone\u001b[0m\u001b[1;33m:\u001b[0m\u001b[1;33m\n",
       "\u001b[0m                    \u001b[1;31m# remove the dummy that was used\u001b[0m\u001b[1;33m\n",
       "\u001b[0m                    \u001b[0mobj\u001b[0m \u001b[1;33m=\u001b[0m \u001b[0mobj\u001b[0m\u001b[1;33m.\u001b[0m\u001b[0msubs\u001b[0m\u001b[1;33m(\u001b[0m\u001b[0mv\u001b[0m\u001b[1;33m,\u001b[0m \u001b[0mold_v\u001b[0m\u001b[1;33m)\u001b[0m\u001b[1;33m\n",
       "\u001b[0m                \u001b[1;31m# restore expr\u001b[0m\u001b[1;33m\n",
       "\u001b[0m                \u001b[0mexpr\u001b[0m \u001b[1;33m=\u001b[0m \u001b[0mold_expr\u001b[0m\u001b[1;33m\n",
       "\u001b[0m\u001b[1;33m\n",
       "\u001b[0m            \u001b[1;32mif\u001b[0m \u001b[0mobj\u001b[0m \u001b[1;32mis\u001b[0m \u001b[1;32mNone\u001b[0m\u001b[1;33m:\u001b[0m\u001b[1;33m\n",
       "\u001b[0m                \u001b[1;31m# we've already checked for quick-exit conditions\u001b[0m\u001b[1;33m\n",
       "\u001b[0m                \u001b[1;31m# that give 0 so the remaining variables\u001b[0m\u001b[1;33m\n",
       "\u001b[0m                \u001b[1;31m# are contained in the expression but the expression\u001b[0m\u001b[1;33m\n",
       "\u001b[0m                \u001b[1;31m# did not compute a derivative so we stop taking\u001b[0m\u001b[1;33m\n",
       "\u001b[0m                \u001b[1;31m# derivatives\u001b[0m\u001b[1;33m\n",
       "\u001b[0m                \u001b[0munhandled\u001b[0m \u001b[1;33m=\u001b[0m \u001b[0mvariable_count\u001b[0m\u001b[1;33m[\u001b[0m\u001b[0mi\u001b[0m\u001b[1;33m:\u001b[0m\u001b[1;33m]\u001b[0m\u001b[1;33m\n",
       "\u001b[0m                \u001b[1;32mbreak\u001b[0m\u001b[1;33m\n",
       "\u001b[0m\u001b[1;33m\n",
       "\u001b[0m            \u001b[0mexpr\u001b[0m \u001b[1;33m=\u001b[0m \u001b[0mobj\u001b[0m\u001b[1;33m\n",
       "\u001b[0m\u001b[1;33m\n",
       "\u001b[0m        \u001b[1;31m# what we have so far can be made canonical\u001b[0m\u001b[1;33m\n",
       "\u001b[0m        \u001b[0mexpr\u001b[0m \u001b[1;33m=\u001b[0m \u001b[0mexpr\u001b[0m\u001b[1;33m.\u001b[0m\u001b[0mreplace\u001b[0m\u001b[1;33m(\u001b[0m\u001b[1;33m\n",
       "\u001b[0m            \u001b[1;32mlambda\u001b[0m \u001b[0mx\u001b[0m\u001b[1;33m:\u001b[0m \u001b[0misinstance\u001b[0m\u001b[1;33m(\u001b[0m\u001b[0mx\u001b[0m\u001b[1;33m,\u001b[0m \u001b[0mDerivative\u001b[0m\u001b[1;33m)\u001b[0m\u001b[1;33m,\u001b[0m\u001b[1;33m\n",
       "\u001b[0m            \u001b[1;32mlambda\u001b[0m \u001b[0mx\u001b[0m\u001b[1;33m:\u001b[0m \u001b[0mx\u001b[0m\u001b[1;33m.\u001b[0m\u001b[0mcanonical\u001b[0m\u001b[1;33m)\u001b[0m\u001b[1;33m\n",
       "\u001b[0m\u001b[1;33m\n",
       "\u001b[0m        \u001b[1;32mif\u001b[0m \u001b[0munhandled\u001b[0m\u001b[1;33m:\u001b[0m\u001b[1;33m\n",
       "\u001b[0m            \u001b[1;32mif\u001b[0m \u001b[0misinstance\u001b[0m\u001b[1;33m(\u001b[0m\u001b[0mexpr\u001b[0m\u001b[1;33m,\u001b[0m \u001b[0mDerivative\u001b[0m\u001b[1;33m)\u001b[0m\u001b[1;33m:\u001b[0m\u001b[1;33m\n",
       "\u001b[0m                \u001b[0munhandled\u001b[0m \u001b[1;33m=\u001b[0m \u001b[0mlist\u001b[0m\u001b[1;33m(\u001b[0m\u001b[0mexpr\u001b[0m\u001b[1;33m.\u001b[0m\u001b[0mvariable_count\u001b[0m\u001b[1;33m)\u001b[0m \u001b[1;33m+\u001b[0m \u001b[0munhandled\u001b[0m\u001b[1;33m\n",
       "\u001b[0m                \u001b[0mexpr\u001b[0m \u001b[1;33m=\u001b[0m \u001b[0mexpr\u001b[0m\u001b[1;33m.\u001b[0m\u001b[0mexpr\u001b[0m\u001b[1;33m\n",
       "\u001b[0m            \u001b[0mexpr\u001b[0m \u001b[1;33m=\u001b[0m \u001b[0mExpr\u001b[0m\u001b[1;33m.\u001b[0m\u001b[0m__new__\u001b[0m\u001b[1;33m(\u001b[0m\u001b[0mcls\u001b[0m\u001b[1;33m,\u001b[0m \u001b[0mexpr\u001b[0m\u001b[1;33m,\u001b[0m \u001b[1;33m*\u001b[0m\u001b[0munhandled\u001b[0m\u001b[1;33m)\u001b[0m\u001b[1;33m\n",
       "\u001b[0m\u001b[1;33m\n",
       "\u001b[0m        \u001b[1;32mif\u001b[0m \u001b[1;33m(\u001b[0m\u001b[0mnderivs\u001b[0m \u001b[1;33m>\u001b[0m \u001b[1;36m1\u001b[0m\u001b[1;33m)\u001b[0m \u001b[1;33m==\u001b[0m \u001b[1;32mTrue\u001b[0m \u001b[1;32mand\u001b[0m \u001b[0mkwargs\u001b[0m\u001b[1;33m.\u001b[0m\u001b[0mget\u001b[0m\u001b[1;33m(\u001b[0m\u001b[1;34m'simplify'\u001b[0m\u001b[1;33m,\u001b[0m \u001b[1;32mTrue\u001b[0m\u001b[1;33m)\u001b[0m\u001b[1;33m:\u001b[0m\u001b[1;33m\n",
       "\u001b[0m            \u001b[1;32mfrom\u001b[0m \u001b[0msympy\u001b[0m\u001b[1;33m.\u001b[0m\u001b[0mcore\u001b[0m\u001b[1;33m.\u001b[0m\u001b[0mexprtools\u001b[0m \u001b[1;32mimport\u001b[0m \u001b[0mfactor_terms\u001b[0m\u001b[1;33m\n",
       "\u001b[0m            \u001b[1;32mfrom\u001b[0m \u001b[0msympy\u001b[0m\u001b[1;33m.\u001b[0m\u001b[0msimplify\u001b[0m\u001b[1;33m.\u001b[0m\u001b[0msimplify\u001b[0m \u001b[1;32mimport\u001b[0m \u001b[0msignsimp\u001b[0m\u001b[1;33m\n",
       "\u001b[0m            \u001b[0mexpr\u001b[0m \u001b[1;33m=\u001b[0m \u001b[0mfactor_terms\u001b[0m\u001b[1;33m(\u001b[0m\u001b[0msignsimp\u001b[0m\u001b[1;33m(\u001b[0m\u001b[0mexpr\u001b[0m\u001b[1;33m)\u001b[0m\u001b[1;33m)\u001b[0m\u001b[1;33m\n",
       "\u001b[0m        \u001b[1;32mreturn\u001b[0m \u001b[0mexpr\u001b[0m\u001b[1;33m\n",
       "\u001b[0m\u001b[1;33m\n",
       "\u001b[0m    \u001b[1;33m@\u001b[0m\u001b[0mproperty\u001b[0m\u001b[1;33m\n",
       "\u001b[0m    \u001b[1;32mdef\u001b[0m \u001b[0mcanonical\u001b[0m\u001b[1;33m(\u001b[0m\u001b[0mcls\u001b[0m\u001b[1;33m)\u001b[0m\u001b[1;33m:\u001b[0m\u001b[1;33m\n",
       "\u001b[0m        \u001b[1;32mreturn\u001b[0m \u001b[0mcls\u001b[0m\u001b[1;33m.\u001b[0m\u001b[0mfunc\u001b[0m\u001b[1;33m(\u001b[0m\u001b[0mcls\u001b[0m\u001b[1;33m.\u001b[0m\u001b[0mexpr\u001b[0m\u001b[1;33m,\u001b[0m\u001b[1;33m\n",
       "\u001b[0m            \u001b[1;33m*\u001b[0m\u001b[0mDerivative\u001b[0m\u001b[1;33m.\u001b[0m\u001b[0m_sort_variable_count\u001b[0m\u001b[1;33m(\u001b[0m\u001b[0mcls\u001b[0m\u001b[1;33m.\u001b[0m\u001b[0mvariable_count\u001b[0m\u001b[1;33m)\u001b[0m\u001b[1;33m)\u001b[0m\u001b[1;33m\n",
       "\u001b[0m\u001b[1;33m\n",
       "\u001b[0m    \u001b[1;33m@\u001b[0m\u001b[0mclassmethod\u001b[0m\u001b[1;33m\n",
       "\u001b[0m    \u001b[1;32mdef\u001b[0m \u001b[0m_sort_variable_count\u001b[0m\u001b[1;33m(\u001b[0m\u001b[0mcls\u001b[0m\u001b[1;33m,\u001b[0m \u001b[0mvc\u001b[0m\u001b[1;33m)\u001b[0m\u001b[1;33m:\u001b[0m\u001b[1;33m\n",
       "\u001b[0m        \u001b[1;34m\"\"\"\n",
       "        Sort (variable, count) pairs into canonical order while\n",
       "        retaining order of variables that do not commute during\n",
       "        differentiation:\n",
       "\n",
       "        * symbols and functions commute with each other\n",
       "        * derivatives commute with each other\n",
       "        * a derivative doesn't commute with anything it contains\n",
       "        * any other object is not allowed to commute if it has\n",
       "          free symbols in common with another object\n",
       "\n",
       "        Examples\n",
       "        ========\n",
       "\n",
       "        >>> from sympy import Derivative, Function, symbols, cos\n",
       "        >>> vsort = Derivative._sort_variable_count\n",
       "        >>> x, y, z = symbols('x y z')\n",
       "        >>> f, g, h = symbols('f g h', cls=Function)\n",
       "\n",
       "        Contiguous items are collapsed into one pair:\n",
       "\n",
       "        >>> vsort([(x, 1), (x, 1)])\n",
       "        [(x, 2)]\n",
       "        >>> vsort([(y, 1), (f(x), 1), (y, 1), (f(x), 1)])\n",
       "        [(y, 2), (f(x), 2)]\n",
       "\n",
       "        Ordering is canonical.\n",
       "\n",
       "        >>> def vsort0(*v):\n",
       "        ...     # docstring helper to\n",
       "        ...     # change vi -> (vi, 0), sort, and return vi vals\n",
       "        ...     return [i[0] for i in vsort([(i, 0) for i in v])]\n",
       "\n",
       "        >>> vsort0(y, x)\n",
       "        [x, y]\n",
       "        >>> vsort0(g(y), g(x), f(y))\n",
       "        [f(y), g(x), g(y)]\n",
       "\n",
       "        Symbols are sorted as far to the left as possible but never\n",
       "        move to the left of a derivative having the same symbol in\n",
       "        its variables; the same applies to AppliedUndef which are\n",
       "        always sorted after Symbols:\n",
       "\n",
       "        >>> dfx = f(x).diff(x)\n",
       "        >>> assert vsort0(dfx, y) == [y, dfx]\n",
       "        >>> assert vsort0(dfx, x) == [dfx, x]\n",
       "        \"\"\"\u001b[0m\u001b[1;33m\n",
       "\u001b[0m        \u001b[1;32mfrom\u001b[0m \u001b[0msympy\u001b[0m\u001b[1;33m.\u001b[0m\u001b[0mutilities\u001b[0m\u001b[1;33m.\u001b[0m\u001b[0miterables\u001b[0m \u001b[1;32mimport\u001b[0m \u001b[0muniq\u001b[0m\u001b[1;33m,\u001b[0m \u001b[0mtopological_sort\u001b[0m\u001b[1;33m\n",
       "\u001b[0m        \u001b[1;32mif\u001b[0m \u001b[1;32mnot\u001b[0m \u001b[0mvc\u001b[0m\u001b[1;33m:\u001b[0m\u001b[1;33m\n",
       "\u001b[0m            \u001b[1;32mreturn\u001b[0m \u001b[1;33m[\u001b[0m\u001b[1;33m]\u001b[0m\u001b[1;33m\n",
       "\u001b[0m        \u001b[0mvc\u001b[0m \u001b[1;33m=\u001b[0m \u001b[0mlist\u001b[0m\u001b[1;33m(\u001b[0m\u001b[0mvc\u001b[0m\u001b[1;33m)\u001b[0m\u001b[1;33m\n",
       "\u001b[0m        \u001b[1;32mif\u001b[0m \u001b[0mlen\u001b[0m\u001b[1;33m(\u001b[0m\u001b[0mvc\u001b[0m\u001b[1;33m)\u001b[0m \u001b[1;33m==\u001b[0m \u001b[1;36m1\u001b[0m\u001b[1;33m:\u001b[0m\u001b[1;33m\n",
       "\u001b[0m            \u001b[1;32mreturn\u001b[0m \u001b[1;33m[\u001b[0m\u001b[0mTuple\u001b[0m\u001b[1;33m(\u001b[0m\u001b[1;33m*\u001b[0m\u001b[0mvc\u001b[0m\u001b[1;33m[\u001b[0m\u001b[1;36m0\u001b[0m\u001b[1;33m]\u001b[0m\u001b[1;33m)\u001b[0m\u001b[1;33m]\u001b[0m\u001b[1;33m\n",
       "\u001b[0m        \u001b[0mV\u001b[0m \u001b[1;33m=\u001b[0m \u001b[0mlist\u001b[0m\u001b[1;33m(\u001b[0m\u001b[0mrange\u001b[0m\u001b[1;33m(\u001b[0m\u001b[0mlen\u001b[0m\u001b[1;33m(\u001b[0m\u001b[0mvc\u001b[0m\u001b[1;33m)\u001b[0m\u001b[1;33m)\u001b[0m\u001b[1;33m)\u001b[0m\u001b[1;33m\n",
       "\u001b[0m        \u001b[0mE\u001b[0m \u001b[1;33m=\u001b[0m \u001b[1;33m[\u001b[0m\u001b[1;33m]\u001b[0m\u001b[1;33m\n",
       "\u001b[0m        \u001b[0mv\u001b[0m \u001b[1;33m=\u001b[0m \u001b[1;32mlambda\u001b[0m \u001b[0mi\u001b[0m\u001b[1;33m:\u001b[0m \u001b[0mvc\u001b[0m\u001b[1;33m[\u001b[0m\u001b[0mi\u001b[0m\u001b[1;33m]\u001b[0m\u001b[1;33m[\u001b[0m\u001b[1;36m0\u001b[0m\u001b[1;33m]\u001b[0m\u001b[1;33m\n",
       "\u001b[0m        \u001b[0mD\u001b[0m \u001b[1;33m=\u001b[0m \u001b[0mDummy\u001b[0m\u001b[1;33m(\u001b[0m\u001b[1;33m)\u001b[0m\u001b[1;33m\n",
       "\u001b[0m        \u001b[1;32mdef\u001b[0m \u001b[0m_block\u001b[0m\u001b[1;33m(\u001b[0m\u001b[0md\u001b[0m\u001b[1;33m,\u001b[0m \u001b[0mv\u001b[0m\u001b[1;33m,\u001b[0m \u001b[0mwrt\u001b[0m\u001b[1;33m=\u001b[0m\u001b[1;32mFalse\u001b[0m\u001b[1;33m)\u001b[0m\u001b[1;33m:\u001b[0m\u001b[1;33m\n",
       "\u001b[0m            \u001b[1;31m# return True if v should not come before d else False\u001b[0m\u001b[1;33m\n",
       "\u001b[0m            \u001b[1;32mif\u001b[0m \u001b[0md\u001b[0m \u001b[1;33m==\u001b[0m \u001b[0mv\u001b[0m\u001b[1;33m:\u001b[0m\u001b[1;33m\n",
       "\u001b[0m                \u001b[1;32mreturn\u001b[0m \u001b[0mwrt\u001b[0m\u001b[1;33m\n",
       "\u001b[0m            \u001b[1;32mif\u001b[0m \u001b[0md\u001b[0m\u001b[1;33m.\u001b[0m\u001b[0mis_Symbol\u001b[0m\u001b[1;33m:\u001b[0m\u001b[1;33m\n",
       "\u001b[0m                \u001b[1;32mreturn\u001b[0m \u001b[1;32mFalse\u001b[0m\u001b[1;33m\n",
       "\u001b[0m            \u001b[1;32mif\u001b[0m \u001b[0misinstance\u001b[0m\u001b[1;33m(\u001b[0m\u001b[0md\u001b[0m\u001b[1;33m,\u001b[0m \u001b[0mDerivative\u001b[0m\u001b[1;33m)\u001b[0m\u001b[1;33m:\u001b[0m\u001b[1;33m\n",
       "\u001b[0m                \u001b[1;31m# a derivative blocks if any of it's variables contain\u001b[0m\u001b[1;33m\n",
       "\u001b[0m                \u001b[1;31m# v; the wrt flag will return True for an exact match\u001b[0m\u001b[1;33m\n",
       "\u001b[0m                \u001b[1;31m# and will cause an AppliedUndef to block if v is in\u001b[0m\u001b[1;33m\n",
       "\u001b[0m                \u001b[1;31m# the arguments\u001b[0m\u001b[1;33m\n",
       "\u001b[0m                \u001b[1;32mif\u001b[0m \u001b[0many\u001b[0m\u001b[1;33m(\u001b[0m\u001b[0m_block\u001b[0m\u001b[1;33m(\u001b[0m\u001b[0mk\u001b[0m\u001b[1;33m,\u001b[0m \u001b[0mv\u001b[0m\u001b[1;33m,\u001b[0m \u001b[0mwrt\u001b[0m\u001b[1;33m=\u001b[0m\u001b[1;32mTrue\u001b[0m\u001b[1;33m)\u001b[0m\u001b[1;33m\n",
       "\u001b[0m                        \u001b[1;32mfor\u001b[0m \u001b[0mk\u001b[0m \u001b[1;32min\u001b[0m \u001b[0md\u001b[0m\u001b[1;33m.\u001b[0m\u001b[0m_wrt_variables\u001b[0m\u001b[1;33m)\u001b[0m\u001b[1;33m:\u001b[0m\u001b[1;33m\n",
       "\u001b[0m                    \u001b[1;32mreturn\u001b[0m \u001b[1;32mTrue\u001b[0m\u001b[1;33m\n",
       "\u001b[0m                \u001b[1;32mreturn\u001b[0m \u001b[1;32mFalse\u001b[0m\u001b[1;33m\n",
       "\u001b[0m            \u001b[1;32mif\u001b[0m \u001b[1;32mnot\u001b[0m \u001b[0mwrt\u001b[0m \u001b[1;32mand\u001b[0m \u001b[0misinstance\u001b[0m\u001b[1;33m(\u001b[0m\u001b[0md\u001b[0m\u001b[1;33m,\u001b[0m \u001b[0mAppliedUndef\u001b[0m\u001b[1;33m)\u001b[0m\u001b[1;33m:\u001b[0m\u001b[1;33m\n",
       "\u001b[0m                \u001b[1;32mreturn\u001b[0m \u001b[1;32mFalse\u001b[0m\u001b[1;33m\n",
       "\u001b[0m            \u001b[1;32mif\u001b[0m \u001b[0mv\u001b[0m\u001b[1;33m.\u001b[0m\u001b[0mis_Symbol\u001b[0m\u001b[1;33m:\u001b[0m\u001b[1;33m\n",
       "\u001b[0m                \u001b[1;32mreturn\u001b[0m \u001b[0mv\u001b[0m \u001b[1;32min\u001b[0m \u001b[0md\u001b[0m\u001b[1;33m.\u001b[0m\u001b[0mfree_symbols\u001b[0m\u001b[1;33m\n",
       "\u001b[0m            \u001b[1;32mif\u001b[0m \u001b[0misinstance\u001b[0m\u001b[1;33m(\u001b[0m\u001b[0mv\u001b[0m\u001b[1;33m,\u001b[0m \u001b[0mAppliedUndef\u001b[0m\u001b[1;33m)\u001b[0m\u001b[1;33m:\u001b[0m\u001b[1;33m\n",
       "\u001b[0m                \u001b[1;32mreturn\u001b[0m \u001b[0m_block\u001b[0m\u001b[1;33m(\u001b[0m\u001b[0md\u001b[0m\u001b[1;33m.\u001b[0m\u001b[0mxreplace\u001b[0m\u001b[1;33m(\u001b[0m\u001b[1;33m{\u001b[0m\u001b[0mv\u001b[0m\u001b[1;33m:\u001b[0m \u001b[0mD\u001b[0m\u001b[1;33m}\u001b[0m\u001b[1;33m)\u001b[0m\u001b[1;33m,\u001b[0m \u001b[0mD\u001b[0m\u001b[1;33m)\u001b[0m\u001b[1;33m\n",
       "\u001b[0m            \u001b[1;32mreturn\u001b[0m \u001b[0md\u001b[0m\u001b[1;33m.\u001b[0m\u001b[0mfree_symbols\u001b[0m \u001b[1;33m&\u001b[0m \u001b[0mv\u001b[0m\u001b[1;33m.\u001b[0m\u001b[0mfree_symbols\u001b[0m\u001b[1;33m\n",
       "\u001b[0m        \u001b[1;32mfor\u001b[0m \u001b[0mi\u001b[0m \u001b[1;32min\u001b[0m \u001b[0mrange\u001b[0m\u001b[1;33m(\u001b[0m\u001b[0mlen\u001b[0m\u001b[1;33m(\u001b[0m\u001b[0mvc\u001b[0m\u001b[1;33m)\u001b[0m\u001b[1;33m)\u001b[0m\u001b[1;33m:\u001b[0m\u001b[1;33m\n",
       "\u001b[0m            \u001b[1;32mfor\u001b[0m \u001b[0mj\u001b[0m \u001b[1;32min\u001b[0m \u001b[0mrange\u001b[0m\u001b[1;33m(\u001b[0m\u001b[0mi\u001b[0m\u001b[1;33m)\u001b[0m\u001b[1;33m:\u001b[0m\u001b[1;33m\n",
       "\u001b[0m                \u001b[1;32mif\u001b[0m \u001b[0m_block\u001b[0m\u001b[1;33m(\u001b[0m\u001b[0mv\u001b[0m\u001b[1;33m(\u001b[0m\u001b[0mj\u001b[0m\u001b[1;33m)\u001b[0m\u001b[1;33m,\u001b[0m \u001b[0mv\u001b[0m\u001b[1;33m(\u001b[0m\u001b[0mi\u001b[0m\u001b[1;33m)\u001b[0m\u001b[1;33m)\u001b[0m\u001b[1;33m:\u001b[0m\u001b[1;33m\n",
       "\u001b[0m                    \u001b[0mE\u001b[0m\u001b[1;33m.\u001b[0m\u001b[0mappend\u001b[0m\u001b[1;33m(\u001b[0m\u001b[1;33m(\u001b[0m\u001b[0mj\u001b[0m\u001b[1;33m,\u001b[0m\u001b[0mi\u001b[0m\u001b[1;33m)\u001b[0m\u001b[1;33m)\u001b[0m\u001b[1;33m\n",
       "\u001b[0m        \u001b[1;31m# this is the default ordering to use in case of ties\u001b[0m\u001b[1;33m\n",
       "\u001b[0m        \u001b[0mO\u001b[0m \u001b[1;33m=\u001b[0m \u001b[0mdict\u001b[0m\u001b[1;33m(\u001b[0m\u001b[0mzip\u001b[0m\u001b[1;33m(\u001b[0m\u001b[0mordered\u001b[0m\u001b[1;33m(\u001b[0m\u001b[0muniq\u001b[0m\u001b[1;33m(\u001b[0m\u001b[1;33m[\u001b[0m\u001b[0mi\u001b[0m \u001b[1;32mfor\u001b[0m \u001b[0mi\u001b[0m\u001b[1;33m,\u001b[0m \u001b[0mc\u001b[0m \u001b[1;32min\u001b[0m \u001b[0mvc\u001b[0m\u001b[1;33m]\u001b[0m\u001b[1;33m)\u001b[0m\u001b[1;33m)\u001b[0m\u001b[1;33m,\u001b[0m \u001b[0mrange\u001b[0m\u001b[1;33m(\u001b[0m\u001b[0mlen\u001b[0m\u001b[1;33m(\u001b[0m\u001b[0mvc\u001b[0m\u001b[1;33m)\u001b[0m\u001b[1;33m)\u001b[0m\u001b[1;33m)\u001b[0m\u001b[1;33m)\u001b[0m\u001b[1;33m\n",
       "\u001b[0m        \u001b[0mix\u001b[0m \u001b[1;33m=\u001b[0m \u001b[0mtopological_sort\u001b[0m\u001b[1;33m(\u001b[0m\u001b[1;33m(\u001b[0m\u001b[0mV\u001b[0m\u001b[1;33m,\u001b[0m \u001b[0mE\u001b[0m\u001b[1;33m)\u001b[0m\u001b[1;33m,\u001b[0m \u001b[0mkey\u001b[0m\u001b[1;33m=\u001b[0m\u001b[1;32mlambda\u001b[0m \u001b[0mi\u001b[0m\u001b[1;33m:\u001b[0m \u001b[0mO\u001b[0m\u001b[1;33m[\u001b[0m\u001b[0mv\u001b[0m\u001b[1;33m(\u001b[0m\u001b[0mi\u001b[0m\u001b[1;33m)\u001b[0m\u001b[1;33m]\u001b[0m\u001b[1;33m)\u001b[0m\u001b[1;33m\n",
       "\u001b[0m        \u001b[1;31m# merge counts of contiguously identical items\u001b[0m\u001b[1;33m\n",
       "\u001b[0m        \u001b[0mmerged\u001b[0m \u001b[1;33m=\u001b[0m \u001b[1;33m[\u001b[0m\u001b[1;33m]\u001b[0m\u001b[1;33m\n",
       "\u001b[0m        \u001b[1;32mfor\u001b[0m \u001b[0mv\u001b[0m\u001b[1;33m,\u001b[0m \u001b[0mc\u001b[0m \u001b[1;32min\u001b[0m \u001b[1;33m[\u001b[0m\u001b[0mvc\u001b[0m\u001b[1;33m[\u001b[0m\u001b[0mi\u001b[0m\u001b[1;33m]\u001b[0m \u001b[1;32mfor\u001b[0m \u001b[0mi\u001b[0m \u001b[1;32min\u001b[0m \u001b[0mix\u001b[0m\u001b[1;33m]\u001b[0m\u001b[1;33m:\u001b[0m\u001b[1;33m\n",
       "\u001b[0m            \u001b[1;32mif\u001b[0m \u001b[0mmerged\u001b[0m \u001b[1;32mand\u001b[0m \u001b[0mmerged\u001b[0m\u001b[1;33m[\u001b[0m\u001b[1;33m-\u001b[0m\u001b[1;36m1\u001b[0m\u001b[1;33m]\u001b[0m\u001b[1;33m[\u001b[0m\u001b[1;36m0\u001b[0m\u001b[1;33m]\u001b[0m \u001b[1;33m==\u001b[0m \u001b[0mv\u001b[0m\u001b[1;33m:\u001b[0m\u001b[1;33m\n",
       "\u001b[0m                \u001b[0mmerged\u001b[0m\u001b[1;33m[\u001b[0m\u001b[1;33m-\u001b[0m\u001b[1;36m1\u001b[0m\u001b[1;33m]\u001b[0m\u001b[1;33m[\u001b[0m\u001b[1;36m1\u001b[0m\u001b[1;33m]\u001b[0m \u001b[1;33m+=\u001b[0m \u001b[0mc\u001b[0m\u001b[1;33m\n",
       "\u001b[0m            \u001b[1;32melse\u001b[0m\u001b[1;33m:\u001b[0m\u001b[1;33m\n",
       "\u001b[0m                \u001b[0mmerged\u001b[0m\u001b[1;33m.\u001b[0m\u001b[0mappend\u001b[0m\u001b[1;33m(\u001b[0m\u001b[1;33m[\u001b[0m\u001b[0mv\u001b[0m\u001b[1;33m,\u001b[0m \u001b[0mc\u001b[0m\u001b[1;33m]\u001b[0m\u001b[1;33m)\u001b[0m\u001b[1;33m\n",
       "\u001b[0m        \u001b[1;32mreturn\u001b[0m \u001b[1;33m[\u001b[0m\u001b[0mTuple\u001b[0m\u001b[1;33m(\u001b[0m\u001b[1;33m*\u001b[0m\u001b[0mi\u001b[0m\u001b[1;33m)\u001b[0m \u001b[1;32mfor\u001b[0m \u001b[0mi\u001b[0m \u001b[1;32min\u001b[0m \u001b[0mmerged\u001b[0m\u001b[1;33m]\u001b[0m\u001b[1;33m\n",
       "\u001b[0m\u001b[1;33m\n",
       "\u001b[0m    \u001b[1;32mdef\u001b[0m \u001b[0m_eval_is_commutative\u001b[0m\u001b[1;33m(\u001b[0m\u001b[0mself\u001b[0m\u001b[1;33m)\u001b[0m\u001b[1;33m:\u001b[0m\u001b[1;33m\n",
       "\u001b[0m        \u001b[1;32mreturn\u001b[0m \u001b[0mself\u001b[0m\u001b[1;33m.\u001b[0m\u001b[0mexpr\u001b[0m\u001b[1;33m.\u001b[0m\u001b[0mis_commutative\u001b[0m\u001b[1;33m\n",
       "\u001b[0m\u001b[1;33m\n",
       "\u001b[0m    \u001b[1;32mdef\u001b[0m \u001b[0m_eval_derivative\u001b[0m\u001b[1;33m(\u001b[0m\u001b[0mself\u001b[0m\u001b[1;33m,\u001b[0m \u001b[0mv\u001b[0m\u001b[1;33m)\u001b[0m\u001b[1;33m:\u001b[0m\u001b[1;33m\n",
       "\u001b[0m        \u001b[1;31m# If v (the variable of differentiation) is not in\u001b[0m\u001b[1;33m\n",
       "\u001b[0m        \u001b[1;31m# self.variables, we might be able to take the derivative.\u001b[0m\u001b[1;33m\n",
       "\u001b[0m        \u001b[1;32mif\u001b[0m \u001b[0mv\u001b[0m \u001b[1;32mnot\u001b[0m \u001b[1;32min\u001b[0m \u001b[0mself\u001b[0m\u001b[1;33m.\u001b[0m\u001b[0m_wrt_variables\u001b[0m\u001b[1;33m:\u001b[0m\u001b[1;33m\n",
       "\u001b[0m            \u001b[0mdedv\u001b[0m \u001b[1;33m=\u001b[0m \u001b[0mself\u001b[0m\u001b[1;33m.\u001b[0m\u001b[0mexpr\u001b[0m\u001b[1;33m.\u001b[0m\u001b[0mdiff\u001b[0m\u001b[1;33m(\u001b[0m\u001b[0mv\u001b[0m\u001b[1;33m)\u001b[0m\u001b[1;33m\n",
       "\u001b[0m            \u001b[1;32mif\u001b[0m \u001b[0misinstance\u001b[0m\u001b[1;33m(\u001b[0m\u001b[0mdedv\u001b[0m\u001b[1;33m,\u001b[0m \u001b[0mDerivative\u001b[0m\u001b[1;33m)\u001b[0m\u001b[1;33m:\u001b[0m\u001b[1;33m\n",
       "\u001b[0m                \u001b[1;32mreturn\u001b[0m \u001b[0mdedv\u001b[0m\u001b[1;33m.\u001b[0m\u001b[0mfunc\u001b[0m\u001b[1;33m(\u001b[0m\u001b[0mdedv\u001b[0m\u001b[1;33m.\u001b[0m\u001b[0mexpr\u001b[0m\u001b[1;33m,\u001b[0m \u001b[1;33m*\u001b[0m\u001b[1;33m(\u001b[0m\u001b[0mself\u001b[0m\u001b[1;33m.\u001b[0m\u001b[0mvariable_count\u001b[0m \u001b[1;33m+\u001b[0m \u001b[0mdedv\u001b[0m\u001b[1;33m.\u001b[0m\u001b[0mvariable_count\u001b[0m\u001b[1;33m)\u001b[0m\u001b[1;33m)\u001b[0m\u001b[1;33m\n",
       "\u001b[0m            \u001b[1;31m# dedv (d(self.expr)/dv) could have simplified things such that the\u001b[0m\u001b[1;33m\n",
       "\u001b[0m            \u001b[1;31m# derivative wrt things in self.variables can now be done. Thus,\u001b[0m\u001b[1;33m\n",
       "\u001b[0m            \u001b[1;31m# we set evaluate=True to see if there are any other derivatives\u001b[0m\u001b[1;33m\n",
       "\u001b[0m            \u001b[1;31m# that can be done. The most common case is when dedv is a simple\u001b[0m\u001b[1;33m\n",
       "\u001b[0m            \u001b[1;31m# number so that the derivative wrt anything else will vanish.\u001b[0m\u001b[1;33m\n",
       "\u001b[0m            \u001b[1;32mreturn\u001b[0m \u001b[0mself\u001b[0m\u001b[1;33m.\u001b[0m\u001b[0mfunc\u001b[0m\u001b[1;33m(\u001b[0m\u001b[0mdedv\u001b[0m\u001b[1;33m,\u001b[0m \u001b[1;33m*\u001b[0m\u001b[0mself\u001b[0m\u001b[1;33m.\u001b[0m\u001b[0mvariables\u001b[0m\u001b[1;33m,\u001b[0m \u001b[0mevaluate\u001b[0m\u001b[1;33m=\u001b[0m\u001b[1;32mTrue\u001b[0m\u001b[1;33m)\u001b[0m\u001b[1;33m\n",
       "\u001b[0m        \u001b[1;31m# In this case v was in self.variables so the derivative wrt v has\u001b[0m\u001b[1;33m\n",
       "\u001b[0m        \u001b[1;31m# already been attempted and was not computed, either because it\u001b[0m\u001b[1;33m\n",
       "\u001b[0m        \u001b[1;31m# couldn't be or evaluate=False originally.\u001b[0m\u001b[1;33m\n",
       "\u001b[0m        \u001b[0mvariable_count\u001b[0m \u001b[1;33m=\u001b[0m \u001b[0mlist\u001b[0m\u001b[1;33m(\u001b[0m\u001b[0mself\u001b[0m\u001b[1;33m.\u001b[0m\u001b[0mvariable_count\u001b[0m\u001b[1;33m)\u001b[0m\u001b[1;33m\n",
       "\u001b[0m        \u001b[0mvariable_count\u001b[0m\u001b[1;33m.\u001b[0m\u001b[0mappend\u001b[0m\u001b[1;33m(\u001b[0m\u001b[1;33m(\u001b[0m\u001b[0mv\u001b[0m\u001b[1;33m,\u001b[0m \u001b[1;36m1\u001b[0m\u001b[1;33m)\u001b[0m\u001b[1;33m)\u001b[0m\u001b[1;33m\n",
       "\u001b[0m        \u001b[1;32mreturn\u001b[0m \u001b[0mself\u001b[0m\u001b[1;33m.\u001b[0m\u001b[0mfunc\u001b[0m\u001b[1;33m(\u001b[0m\u001b[0mself\u001b[0m\u001b[1;33m.\u001b[0m\u001b[0mexpr\u001b[0m\u001b[1;33m,\u001b[0m \u001b[1;33m*\u001b[0m\u001b[0mvariable_count\u001b[0m\u001b[1;33m,\u001b[0m \u001b[0mevaluate\u001b[0m\u001b[1;33m=\u001b[0m\u001b[1;32mFalse\u001b[0m\u001b[1;33m)\u001b[0m\u001b[1;33m\n",
       "\u001b[0m\u001b[1;33m\n",
       "\u001b[0m    \u001b[1;32mdef\u001b[0m \u001b[0mdoit\u001b[0m\u001b[1;33m(\u001b[0m\u001b[0mself\u001b[0m\u001b[1;33m,\u001b[0m \u001b[1;33m**\u001b[0m\u001b[0mhints\u001b[0m\u001b[1;33m)\u001b[0m\u001b[1;33m:\u001b[0m\u001b[1;33m\n",
       "\u001b[0m        \u001b[0mexpr\u001b[0m \u001b[1;33m=\u001b[0m \u001b[0mself\u001b[0m\u001b[1;33m.\u001b[0m\u001b[0mexpr\u001b[0m\u001b[1;33m\n",
       "\u001b[0m        \u001b[1;32mif\u001b[0m \u001b[0mhints\u001b[0m\u001b[1;33m.\u001b[0m\u001b[0mget\u001b[0m\u001b[1;33m(\u001b[0m\u001b[1;34m'deep'\u001b[0m\u001b[1;33m,\u001b[0m \u001b[1;32mTrue\u001b[0m\u001b[1;33m)\u001b[0m\u001b[1;33m:\u001b[0m\u001b[1;33m\n",
       "\u001b[0m            \u001b[0mexpr\u001b[0m \u001b[1;33m=\u001b[0m \u001b[0mexpr\u001b[0m\u001b[1;33m.\u001b[0m\u001b[0mdoit\u001b[0m\u001b[1;33m(\u001b[0m\u001b[1;33m**\u001b[0m\u001b[0mhints\u001b[0m\u001b[1;33m)\u001b[0m\u001b[1;33m\n",
       "\u001b[0m        \u001b[0mhints\u001b[0m\u001b[1;33m[\u001b[0m\u001b[1;34m'evaluate'\u001b[0m\u001b[1;33m]\u001b[0m \u001b[1;33m=\u001b[0m \u001b[1;32mTrue\u001b[0m\u001b[1;33m\n",
       "\u001b[0m        \u001b[0mrv\u001b[0m \u001b[1;33m=\u001b[0m \u001b[0mself\u001b[0m\u001b[1;33m.\u001b[0m\u001b[0mfunc\u001b[0m\u001b[1;33m(\u001b[0m\u001b[0mexpr\u001b[0m\u001b[1;33m,\u001b[0m \u001b[1;33m*\u001b[0m\u001b[0mself\u001b[0m\u001b[1;33m.\u001b[0m\u001b[0mvariable_count\u001b[0m\u001b[1;33m,\u001b[0m \u001b[1;33m**\u001b[0m\u001b[0mhints\u001b[0m\u001b[1;33m)\u001b[0m\u001b[1;33m\n",
       "\u001b[0m        \u001b[1;32mif\u001b[0m \u001b[0mrv\u001b[0m\u001b[1;33m!=\u001b[0m \u001b[0mself\u001b[0m \u001b[1;32mand\u001b[0m \u001b[0mrv\u001b[0m\u001b[1;33m.\u001b[0m\u001b[0mhas\u001b[0m\u001b[1;33m(\u001b[0m\u001b[0mDerivative\u001b[0m\u001b[1;33m)\u001b[0m\u001b[1;33m:\u001b[0m\u001b[1;33m\n",
       "\u001b[0m            \u001b[0mrv\u001b[0m \u001b[1;33m=\u001b[0m  \u001b[0mrv\u001b[0m\u001b[1;33m.\u001b[0m\u001b[0mdoit\u001b[0m\u001b[1;33m(\u001b[0m\u001b[1;33m**\u001b[0m\u001b[0mhints\u001b[0m\u001b[1;33m)\u001b[0m\u001b[1;33m\n",
       "\u001b[0m        \u001b[1;32mreturn\u001b[0m \u001b[0mrv\u001b[0m\u001b[1;33m\n",
       "\u001b[0m\u001b[1;33m\n",
       "\u001b[0m    \u001b[1;33m@\u001b[0m\u001b[0m_sympifyit\u001b[0m\u001b[1;33m(\u001b[0m\u001b[1;34m'z0'\u001b[0m\u001b[1;33m,\u001b[0m \u001b[0mNotImplementedError\u001b[0m\u001b[1;33m)\u001b[0m\u001b[1;33m\n",
       "\u001b[0m    \u001b[1;32mdef\u001b[0m \u001b[0mdoit_numerically\u001b[0m\u001b[1;33m(\u001b[0m\u001b[0mself\u001b[0m\u001b[1;33m,\u001b[0m \u001b[0mz0\u001b[0m\u001b[1;33m)\u001b[0m\u001b[1;33m:\u001b[0m\u001b[1;33m\n",
       "\u001b[0m        \u001b[1;34m\"\"\"\n",
       "        Evaluate the derivative at z numerically.\n",
       "\n",
       "        When we can represent derivatives at a point, this should be folded\n",
       "        into the normal evalf. For now, we need a special method.\n",
       "        \"\"\"\u001b[0m\u001b[1;33m\n",
       "\u001b[0m        \u001b[1;32mif\u001b[0m \u001b[0mlen\u001b[0m\u001b[1;33m(\u001b[0m\u001b[0mself\u001b[0m\u001b[1;33m.\u001b[0m\u001b[0mfree_symbols\u001b[0m\u001b[1;33m)\u001b[0m \u001b[1;33m!=\u001b[0m \u001b[1;36m1\u001b[0m \u001b[1;32mor\u001b[0m \u001b[0mlen\u001b[0m\u001b[1;33m(\u001b[0m\u001b[0mself\u001b[0m\u001b[1;33m.\u001b[0m\u001b[0mvariables\u001b[0m\u001b[1;33m)\u001b[0m \u001b[1;33m!=\u001b[0m \u001b[1;36m1\u001b[0m\u001b[1;33m:\u001b[0m\u001b[1;33m\n",
       "\u001b[0m            \u001b[1;32mraise\u001b[0m \u001b[0mNotImplementedError\u001b[0m\u001b[1;33m(\u001b[0m\u001b[1;34m'partials and higher order derivatives'\u001b[0m\u001b[1;33m)\u001b[0m\u001b[1;33m\n",
       "\u001b[0m        \u001b[0mz\u001b[0m \u001b[1;33m=\u001b[0m \u001b[0mlist\u001b[0m\u001b[1;33m(\u001b[0m\u001b[0mself\u001b[0m\u001b[1;33m.\u001b[0m\u001b[0mfree_symbols\u001b[0m\u001b[1;33m)\u001b[0m\u001b[1;33m[\u001b[0m\u001b[1;36m0\u001b[0m\u001b[1;33m]\u001b[0m\u001b[1;33m\n",
       "\u001b[0m\u001b[1;33m\n",
       "\u001b[0m        \u001b[1;32mdef\u001b[0m \u001b[0meval\u001b[0m\u001b[1;33m(\u001b[0m\u001b[0mx\u001b[0m\u001b[1;33m)\u001b[0m\u001b[1;33m:\u001b[0m\u001b[1;33m\n",
       "\u001b[0m            \u001b[0mf0\u001b[0m \u001b[1;33m=\u001b[0m \u001b[0mself\u001b[0m\u001b[1;33m.\u001b[0m\u001b[0mexpr\u001b[0m\u001b[1;33m.\u001b[0m\u001b[0msubs\u001b[0m\u001b[1;33m(\u001b[0m\u001b[0mz\u001b[0m\u001b[1;33m,\u001b[0m \u001b[0mExpr\u001b[0m\u001b[1;33m.\u001b[0m\u001b[0m_from_mpmath\u001b[0m\u001b[1;33m(\u001b[0m\u001b[0mx\u001b[0m\u001b[1;33m,\u001b[0m \u001b[0mprec\u001b[0m\u001b[1;33m=\u001b[0m\u001b[0mmpmath\u001b[0m\u001b[1;33m.\u001b[0m\u001b[0mmp\u001b[0m\u001b[1;33m.\u001b[0m\u001b[0mprec\u001b[0m\u001b[1;33m)\u001b[0m\u001b[1;33m)\u001b[0m\u001b[1;33m\n",
       "\u001b[0m            \u001b[0mf0\u001b[0m \u001b[1;33m=\u001b[0m \u001b[0mf0\u001b[0m\u001b[1;33m.\u001b[0m\u001b[0mevalf\u001b[0m\u001b[1;33m(\u001b[0m\u001b[0mmlib\u001b[0m\u001b[1;33m.\u001b[0m\u001b[0mlibmpf\u001b[0m\u001b[1;33m.\u001b[0m\u001b[0mprec_to_dps\u001b[0m\u001b[1;33m(\u001b[0m\u001b[0mmpmath\u001b[0m\u001b[1;33m.\u001b[0m\u001b[0mmp\u001b[0m\u001b[1;33m.\u001b[0m\u001b[0mprec\u001b[0m\u001b[1;33m)\u001b[0m\u001b[1;33m)\u001b[0m\u001b[1;33m\n",
       "\u001b[0m            \u001b[1;32mreturn\u001b[0m \u001b[0mf0\u001b[0m\u001b[1;33m.\u001b[0m\u001b[0m_to_mpmath\u001b[0m\u001b[1;33m(\u001b[0m\u001b[0mmpmath\u001b[0m\u001b[1;33m.\u001b[0m\u001b[0mmp\u001b[0m\u001b[1;33m.\u001b[0m\u001b[0mprec\u001b[0m\u001b[1;33m)\u001b[0m\u001b[1;33m\n",
       "\u001b[0m        \u001b[1;32mreturn\u001b[0m \u001b[0mExpr\u001b[0m\u001b[1;33m.\u001b[0m\u001b[0m_from_mpmath\u001b[0m\u001b[1;33m(\u001b[0m\u001b[0mmpmath\u001b[0m\u001b[1;33m.\u001b[0m\u001b[0mdiff\u001b[0m\u001b[1;33m(\u001b[0m\u001b[0meval\u001b[0m\u001b[1;33m,\u001b[0m\u001b[1;33m\n",
       "\u001b[0m                                             \u001b[0mz0\u001b[0m\u001b[1;33m.\u001b[0m\u001b[0m_to_mpmath\u001b[0m\u001b[1;33m(\u001b[0m\u001b[0mmpmath\u001b[0m\u001b[1;33m.\u001b[0m\u001b[0mmp\u001b[0m\u001b[1;33m.\u001b[0m\u001b[0mprec\u001b[0m\u001b[1;33m)\u001b[0m\u001b[1;33m)\u001b[0m\u001b[1;33m,\u001b[0m\u001b[1;33m\n",
       "\u001b[0m                                 \u001b[0mmpmath\u001b[0m\u001b[1;33m.\u001b[0m\u001b[0mmp\u001b[0m\u001b[1;33m.\u001b[0m\u001b[0mprec\u001b[0m\u001b[1;33m)\u001b[0m\u001b[1;33m\n",
       "\u001b[0m\u001b[1;33m\n",
       "\u001b[0m    \u001b[1;33m@\u001b[0m\u001b[0mproperty\u001b[0m\u001b[1;33m\n",
       "\u001b[0m    \u001b[1;32mdef\u001b[0m \u001b[0mexpr\u001b[0m\u001b[1;33m(\u001b[0m\u001b[0mself\u001b[0m\u001b[1;33m)\u001b[0m\u001b[1;33m:\u001b[0m\u001b[1;33m\n",
       "\u001b[0m        \u001b[1;32mreturn\u001b[0m \u001b[0mself\u001b[0m\u001b[1;33m.\u001b[0m\u001b[0m_args\u001b[0m\u001b[1;33m[\u001b[0m\u001b[1;36m0\u001b[0m\u001b[1;33m]\u001b[0m\u001b[1;33m\n",
       "\u001b[0m\u001b[1;33m\n",
       "\u001b[0m    \u001b[1;33m@\u001b[0m\u001b[0mproperty\u001b[0m\u001b[1;33m\n",
       "\u001b[0m    \u001b[1;32mdef\u001b[0m \u001b[0m_wrt_variables\u001b[0m\u001b[1;33m(\u001b[0m\u001b[0mself\u001b[0m\u001b[1;33m)\u001b[0m\u001b[1;33m:\u001b[0m\u001b[1;33m\n",
       "\u001b[0m        \u001b[1;31m# return the variables of differentiation without\u001b[0m\u001b[1;33m\n",
       "\u001b[0m        \u001b[1;31m# respect to the type of count (int or symbolic)\u001b[0m\u001b[1;33m\n",
       "\u001b[0m        \u001b[1;32mreturn\u001b[0m \u001b[1;33m[\u001b[0m\u001b[0mi\u001b[0m\u001b[1;33m[\u001b[0m\u001b[1;36m0\u001b[0m\u001b[1;33m]\u001b[0m \u001b[1;32mfor\u001b[0m \u001b[0mi\u001b[0m \u001b[1;32min\u001b[0m \u001b[0mself\u001b[0m\u001b[1;33m.\u001b[0m\u001b[0mvariable_count\u001b[0m\u001b[1;33m]\u001b[0m\u001b[1;33m\n",
       "\u001b[0m\u001b[1;33m\n",
       "\u001b[0m    \u001b[1;33m@\u001b[0m\u001b[0mproperty\u001b[0m\u001b[1;33m\n",
       "\u001b[0m    \u001b[1;32mdef\u001b[0m \u001b[0mvariables\u001b[0m\u001b[1;33m(\u001b[0m\u001b[0mself\u001b[0m\u001b[1;33m)\u001b[0m\u001b[1;33m:\u001b[0m\u001b[1;33m\n",
       "\u001b[0m        \u001b[1;31m# TODO: deprecate?  YES, make this 'enumerated_variables' and\u001b[0m\u001b[1;33m\n",
       "\u001b[0m        \u001b[1;31m#       name _wrt_variables as variables\u001b[0m\u001b[1;33m\n",
       "\u001b[0m        \u001b[1;31m# TODO: support for `d^n`?\u001b[0m\u001b[1;33m\n",
       "\u001b[0m        \u001b[0mrv\u001b[0m \u001b[1;33m=\u001b[0m \u001b[1;33m[\u001b[0m\u001b[1;33m]\u001b[0m\u001b[1;33m\n",
       "\u001b[0m        \u001b[1;32mfor\u001b[0m \u001b[0mv\u001b[0m\u001b[1;33m,\u001b[0m \u001b[0mcount\u001b[0m \u001b[1;32min\u001b[0m \u001b[0mself\u001b[0m\u001b[1;33m.\u001b[0m\u001b[0mvariable_count\u001b[0m\u001b[1;33m:\u001b[0m\u001b[1;33m\n",
       "\u001b[0m            \u001b[1;32mif\u001b[0m \u001b[1;32mnot\u001b[0m \u001b[0mcount\u001b[0m\u001b[1;33m.\u001b[0m\u001b[0mis_Integer\u001b[0m\u001b[1;33m:\u001b[0m\u001b[1;33m\n",
       "\u001b[0m                \u001b[1;32mraise\u001b[0m \u001b[0mTypeError\u001b[0m\u001b[1;33m(\u001b[0m\u001b[0mfilldedent\u001b[0m\u001b[1;33m(\u001b[0m\u001b[1;34m'''\n",
       "                Cannot give expansion for symbolic count. If you just\n",
       "                want a list of all variables of differentiation, use\n",
       "                _wrt_variables.'''\u001b[0m\u001b[1;33m)\u001b[0m\u001b[1;33m)\u001b[0m\u001b[1;33m\n",
       "\u001b[0m            \u001b[0mrv\u001b[0m\u001b[1;33m.\u001b[0m\u001b[0mextend\u001b[0m\u001b[1;33m(\u001b[0m\u001b[1;33m[\u001b[0m\u001b[0mv\u001b[0m\u001b[1;33m]\u001b[0m\u001b[1;33m*\u001b[0m\u001b[0mcount\u001b[0m\u001b[1;33m)\u001b[0m\u001b[1;33m\n",
       "\u001b[0m        \u001b[1;32mreturn\u001b[0m \u001b[0mtuple\u001b[0m\u001b[1;33m(\u001b[0m\u001b[0mrv\u001b[0m\u001b[1;33m)\u001b[0m\u001b[1;33m\n",
       "\u001b[0m\u001b[1;33m\n",
       "\u001b[0m    \u001b[1;33m@\u001b[0m\u001b[0mproperty\u001b[0m\u001b[1;33m\n",
       "\u001b[0m    \u001b[1;32mdef\u001b[0m \u001b[0mvariable_count\u001b[0m\u001b[1;33m(\u001b[0m\u001b[0mself\u001b[0m\u001b[1;33m)\u001b[0m\u001b[1;33m:\u001b[0m\u001b[1;33m\n",
       "\u001b[0m        \u001b[1;32mreturn\u001b[0m \u001b[0mself\u001b[0m\u001b[1;33m.\u001b[0m\u001b[0m_args\u001b[0m\u001b[1;33m[\u001b[0m\u001b[1;36m1\u001b[0m\u001b[1;33m:\u001b[0m\u001b[1;33m]\u001b[0m\u001b[1;33m\n",
       "\u001b[0m\u001b[1;33m\n",
       "\u001b[0m    \u001b[1;33m@\u001b[0m\u001b[0mproperty\u001b[0m\u001b[1;33m\n",
       "\u001b[0m    \u001b[1;32mdef\u001b[0m \u001b[0mderivative_count\u001b[0m\u001b[1;33m(\u001b[0m\u001b[0mself\u001b[0m\u001b[1;33m)\u001b[0m\u001b[1;33m:\u001b[0m\u001b[1;33m\n",
       "\u001b[0m        \u001b[1;32mreturn\u001b[0m \u001b[0msum\u001b[0m\u001b[1;33m(\u001b[0m\u001b[1;33m[\u001b[0m\u001b[0mcount\u001b[0m \u001b[1;32mfor\u001b[0m \u001b[0mvar\u001b[0m\u001b[1;33m,\u001b[0m \u001b[0mcount\u001b[0m \u001b[1;32min\u001b[0m \u001b[0mself\u001b[0m\u001b[1;33m.\u001b[0m\u001b[0mvariable_count\u001b[0m\u001b[1;33m]\u001b[0m\u001b[1;33m,\u001b[0m \u001b[1;36m0\u001b[0m\u001b[1;33m)\u001b[0m\u001b[1;33m\n",
       "\u001b[0m\u001b[1;33m\n",
       "\u001b[0m    \u001b[1;33m@\u001b[0m\u001b[0mproperty\u001b[0m\u001b[1;33m\n",
       "\u001b[0m    \u001b[1;32mdef\u001b[0m \u001b[0mfree_symbols\u001b[0m\u001b[1;33m(\u001b[0m\u001b[0mself\u001b[0m\u001b[1;33m)\u001b[0m\u001b[1;33m:\u001b[0m\u001b[1;33m\n",
       "\u001b[0m        \u001b[1;32mreturn\u001b[0m \u001b[0mself\u001b[0m\u001b[1;33m.\u001b[0m\u001b[0mexpr\u001b[0m\u001b[1;33m.\u001b[0m\u001b[0mfree_symbols\u001b[0m\u001b[1;33m\n",
       "\u001b[0m\u001b[1;33m\n",
       "\u001b[0m    \u001b[1;32mdef\u001b[0m \u001b[0m_eval_subs\u001b[0m\u001b[1;33m(\u001b[0m\u001b[0mself\u001b[0m\u001b[1;33m,\u001b[0m \u001b[0mold\u001b[0m\u001b[1;33m,\u001b[0m \u001b[0mnew\u001b[0m\u001b[1;33m)\u001b[0m\u001b[1;33m:\u001b[0m\u001b[1;33m\n",
       "\u001b[0m        \u001b[1;31m# The substitution (old, new) cannot be done inside\u001b[0m\u001b[1;33m\n",
       "\u001b[0m        \u001b[1;31m# Derivative(expr, vars) for a variety of reasons\u001b[0m\u001b[1;33m\n",
       "\u001b[0m        \u001b[1;31m# as handled below.\u001b[0m\u001b[1;33m\n",
       "\u001b[0m        \u001b[1;32mif\u001b[0m \u001b[0mold\u001b[0m \u001b[1;32min\u001b[0m \u001b[0mself\u001b[0m\u001b[1;33m.\u001b[0m\u001b[0m_wrt_variables\u001b[0m\u001b[1;33m:\u001b[0m\u001b[1;33m\n",
       "\u001b[0m            \u001b[1;31m# first handle the counts\u001b[0m\u001b[1;33m\n",
       "\u001b[0m            \u001b[0mexpr\u001b[0m \u001b[1;33m=\u001b[0m \u001b[0mself\u001b[0m\u001b[1;33m.\u001b[0m\u001b[0mfunc\u001b[0m\u001b[1;33m(\u001b[0m\u001b[0mself\u001b[0m\u001b[1;33m.\u001b[0m\u001b[0mexpr\u001b[0m\u001b[1;33m,\u001b[0m \u001b[1;33m*\u001b[0m\u001b[1;33m[\u001b[0m\u001b[1;33m(\u001b[0m\u001b[0mv\u001b[0m\u001b[1;33m,\u001b[0m \u001b[0mc\u001b[0m\u001b[1;33m.\u001b[0m\u001b[0msubs\u001b[0m\u001b[1;33m(\u001b[0m\u001b[0mold\u001b[0m\u001b[1;33m,\u001b[0m \u001b[0mnew\u001b[0m\u001b[1;33m)\u001b[0m\u001b[1;33m)\u001b[0m\u001b[1;33m\n",
       "\u001b[0m                \u001b[1;32mfor\u001b[0m \u001b[0mv\u001b[0m\u001b[1;33m,\u001b[0m \u001b[0mc\u001b[0m \u001b[1;32min\u001b[0m \u001b[0mself\u001b[0m\u001b[1;33m.\u001b[0m\u001b[0mvariable_count\u001b[0m\u001b[1;33m]\u001b[0m\u001b[1;33m)\u001b[0m\u001b[1;33m\n",
       "\u001b[0m            \u001b[1;32mif\u001b[0m \u001b[0mexpr\u001b[0m \u001b[1;33m!=\u001b[0m \u001b[0mself\u001b[0m\u001b[1;33m:\u001b[0m\u001b[1;33m\n",
       "\u001b[0m                \u001b[1;32mreturn\u001b[0m \u001b[0mexpr\u001b[0m\u001b[1;33m.\u001b[0m\u001b[0m_eval_subs\u001b[0m\u001b[1;33m(\u001b[0m\u001b[0mold\u001b[0m\u001b[1;33m,\u001b[0m \u001b[0mnew\u001b[0m\u001b[1;33m)\u001b[0m\u001b[1;33m\n",
       "\u001b[0m            \u001b[1;31m# quick exit case\u001b[0m\u001b[1;33m\n",
       "\u001b[0m            \u001b[1;32mif\u001b[0m \u001b[1;32mnot\u001b[0m \u001b[0mgetattr\u001b[0m\u001b[1;33m(\u001b[0m\u001b[0mnew\u001b[0m\u001b[1;33m,\u001b[0m \u001b[1;34m'_diff_wrt'\u001b[0m\u001b[1;33m,\u001b[0m \u001b[1;32mFalse\u001b[0m\u001b[1;33m)\u001b[0m\u001b[1;33m:\u001b[0m\u001b[1;33m\n",
       "\u001b[0m                \u001b[1;31m# case (0): new is not a valid variable of\u001b[0m\u001b[1;33m\n",
       "\u001b[0m                \u001b[1;31m# differentiation\u001b[0m\u001b[1;33m\n",
       "\u001b[0m                \u001b[1;32mif\u001b[0m \u001b[0misinstance\u001b[0m\u001b[1;33m(\u001b[0m\u001b[0mold\u001b[0m\u001b[1;33m,\u001b[0m \u001b[0mSymbol\u001b[0m\u001b[1;33m)\u001b[0m\u001b[1;33m:\u001b[0m\u001b[1;33m\n",
       "\u001b[0m                    \u001b[1;31m# don't introduce a new symbol if the old will do\u001b[0m\u001b[1;33m\n",
       "\u001b[0m                    \u001b[1;32mreturn\u001b[0m \u001b[0mSubs\u001b[0m\u001b[1;33m(\u001b[0m\u001b[0mself\u001b[0m\u001b[1;33m,\u001b[0m \u001b[0mold\u001b[0m\u001b[1;33m,\u001b[0m \u001b[0mnew\u001b[0m\u001b[1;33m)\u001b[0m\u001b[1;33m\n",
       "\u001b[0m                \u001b[1;32melse\u001b[0m\u001b[1;33m:\u001b[0m\u001b[1;33m\n",
       "\u001b[0m                    \u001b[0mxi\u001b[0m \u001b[1;33m=\u001b[0m \u001b[0mDummy\u001b[0m\u001b[1;33m(\u001b[0m\u001b[1;34m'xi'\u001b[0m\u001b[1;33m)\u001b[0m\u001b[1;33m\n",
       "\u001b[0m                    \u001b[1;32mreturn\u001b[0m \u001b[0mSubs\u001b[0m\u001b[1;33m(\u001b[0m\u001b[0mself\u001b[0m\u001b[1;33m.\u001b[0m\u001b[0mxreplace\u001b[0m\u001b[1;33m(\u001b[0m\u001b[1;33m{\u001b[0m\u001b[0mold\u001b[0m\u001b[1;33m:\u001b[0m \u001b[0mxi\u001b[0m\u001b[1;33m}\u001b[0m\u001b[1;33m)\u001b[0m\u001b[1;33m,\u001b[0m \u001b[0mxi\u001b[0m\u001b[1;33m,\u001b[0m \u001b[0mnew\u001b[0m\u001b[1;33m)\u001b[0m\u001b[1;33m\n",
       "\u001b[0m\u001b[1;33m\n",
       "\u001b[0m        \u001b[1;31m# If both are Derivatives with the same expr, check if old is\u001b[0m\u001b[1;33m\n",
       "\u001b[0m        \u001b[1;31m# equivalent to self or if old is a subderivative of self.\u001b[0m\u001b[1;33m\n",
       "\u001b[0m        \u001b[1;32mif\u001b[0m \u001b[0mold\u001b[0m\u001b[1;33m.\u001b[0m\u001b[0mis_Derivative\u001b[0m \u001b[1;32mand\u001b[0m \u001b[0mold\u001b[0m\u001b[1;33m.\u001b[0m\u001b[0mexpr\u001b[0m \u001b[1;33m==\u001b[0m \u001b[0mself\u001b[0m\u001b[1;33m.\u001b[0m\u001b[0mexpr\u001b[0m\u001b[1;33m:\u001b[0m\u001b[1;33m\n",
       "\u001b[0m            \u001b[1;32mif\u001b[0m \u001b[0mself\u001b[0m\u001b[1;33m.\u001b[0m\u001b[0mcanonical\u001b[0m \u001b[1;33m==\u001b[0m \u001b[0mold\u001b[0m\u001b[1;33m.\u001b[0m\u001b[0mcanonical\u001b[0m\u001b[1;33m:\u001b[0m\u001b[1;33m\n",
       "\u001b[0m                \u001b[1;32mreturn\u001b[0m \u001b[0mnew\u001b[0m\u001b[1;33m\n",
       "\u001b[0m\u001b[1;33m\n",
       "\u001b[0m            \u001b[1;31m# collections.Counter doesn't have __le__\u001b[0m\u001b[1;33m\n",
       "\u001b[0m            \u001b[1;32mdef\u001b[0m \u001b[0m_subset\u001b[0m\u001b[1;33m(\u001b[0m\u001b[0ma\u001b[0m\u001b[1;33m,\u001b[0m \u001b[0mb\u001b[0m\u001b[1;33m)\u001b[0m\u001b[1;33m:\u001b[0m\u001b[1;33m\n",
       "\u001b[0m                \u001b[1;32mreturn\u001b[0m \u001b[0mall\u001b[0m\u001b[1;33m(\u001b[0m\u001b[1;33m(\u001b[0m\u001b[0ma\u001b[0m\u001b[1;33m[\u001b[0m\u001b[0mi\u001b[0m\u001b[1;33m]\u001b[0m \u001b[1;33m<=\u001b[0m \u001b[0mb\u001b[0m\u001b[1;33m[\u001b[0m\u001b[0mi\u001b[0m\u001b[1;33m]\u001b[0m\u001b[1;33m)\u001b[0m \u001b[1;33m==\u001b[0m \u001b[1;32mTrue\u001b[0m \u001b[1;32mfor\u001b[0m \u001b[0mi\u001b[0m \u001b[1;32min\u001b[0m \u001b[0ma\u001b[0m\u001b[1;33m)\u001b[0m\u001b[1;33m\n",
       "\u001b[0m\u001b[1;33m\n",
       "\u001b[0m            \u001b[0mold_vars\u001b[0m \u001b[1;33m=\u001b[0m \u001b[0mCounter\u001b[0m\u001b[1;33m(\u001b[0m\u001b[0mdict\u001b[0m\u001b[1;33m(\u001b[0m\u001b[0mreversed\u001b[0m\u001b[1;33m(\u001b[0m\u001b[0mold\u001b[0m\u001b[1;33m.\u001b[0m\u001b[0mvariable_count\u001b[0m\u001b[1;33m)\u001b[0m\u001b[1;33m)\u001b[0m\u001b[1;33m)\u001b[0m\u001b[1;33m\n",
       "\u001b[0m            \u001b[0mself_vars\u001b[0m \u001b[1;33m=\u001b[0m \u001b[0mCounter\u001b[0m\u001b[1;33m(\u001b[0m\u001b[0mdict\u001b[0m\u001b[1;33m(\u001b[0m\u001b[0mreversed\u001b[0m\u001b[1;33m(\u001b[0m\u001b[0mself\u001b[0m\u001b[1;33m.\u001b[0m\u001b[0mvariable_count\u001b[0m\u001b[1;33m)\u001b[0m\u001b[1;33m)\u001b[0m\u001b[1;33m)\u001b[0m\u001b[1;33m\n",
       "\u001b[0m            \u001b[1;32mif\u001b[0m \u001b[0m_subset\u001b[0m\u001b[1;33m(\u001b[0m\u001b[0mold_vars\u001b[0m\u001b[1;33m,\u001b[0m \u001b[0mself_vars\u001b[0m\u001b[1;33m)\u001b[0m\u001b[1;33m:\u001b[0m\u001b[1;33m\n",
       "\u001b[0m                \u001b[1;32mreturn\u001b[0m \u001b[0mDerivative\u001b[0m\u001b[1;33m(\u001b[0m\u001b[0mnew\u001b[0m\u001b[1;33m,\u001b[0m \u001b[1;33m*\u001b[0m\u001b[1;33m(\u001b[0m\u001b[0mself_vars\u001b[0m \u001b[1;33m-\u001b[0m \u001b[0mold_vars\u001b[0m\u001b[1;33m)\u001b[0m\u001b[1;33m.\u001b[0m\u001b[0mitems\u001b[0m\u001b[1;33m(\u001b[0m\u001b[1;33m)\u001b[0m\u001b[1;33m)\u001b[0m\u001b[1;33m.\u001b[0m\u001b[0mcanonical\u001b[0m\u001b[1;33m\n",
       "\u001b[0m\u001b[1;33m\n",
       "\u001b[0m        \u001b[0margs\u001b[0m \u001b[1;33m=\u001b[0m \u001b[0mlist\u001b[0m\u001b[1;33m(\u001b[0m\u001b[0mself\u001b[0m\u001b[1;33m.\u001b[0m\u001b[0margs\u001b[0m\u001b[1;33m)\u001b[0m\u001b[1;33m\n",
       "\u001b[0m        \u001b[0mnewargs\u001b[0m \u001b[1;33m=\u001b[0m \u001b[0mlist\u001b[0m\u001b[1;33m(\u001b[0m\u001b[0mx\u001b[0m\u001b[1;33m.\u001b[0m\u001b[0m_subs\u001b[0m\u001b[1;33m(\u001b[0m\u001b[0mold\u001b[0m\u001b[1;33m,\u001b[0m \u001b[0mnew\u001b[0m\u001b[1;33m)\u001b[0m \u001b[1;32mfor\u001b[0m \u001b[0mx\u001b[0m \u001b[1;32min\u001b[0m \u001b[0margs\u001b[0m\u001b[1;33m)\u001b[0m\u001b[1;33m\n",
       "\u001b[0m        \u001b[1;32mif\u001b[0m \u001b[0margs\u001b[0m\u001b[1;33m[\u001b[0m\u001b[1;36m0\u001b[0m\u001b[1;33m]\u001b[0m \u001b[1;33m==\u001b[0m \u001b[0mold\u001b[0m\u001b[1;33m:\u001b[0m\u001b[1;33m\n",
       "\u001b[0m            \u001b[1;31m# complete replacement of self.expr\u001b[0m\u001b[1;33m\n",
       "\u001b[0m            \u001b[1;31m# we already checked that the new is valid so we know\u001b[0m\u001b[1;33m\n",
       "\u001b[0m            \u001b[1;31m# it won't be a problem should it appear in variables\u001b[0m\u001b[1;33m\n",
       "\u001b[0m            \u001b[1;32mreturn\u001b[0m \u001b[0mDerivative\u001b[0m\u001b[1;33m(\u001b[0m\u001b[1;33m*\u001b[0m\u001b[0mnewargs\u001b[0m\u001b[1;33m)\u001b[0m\u001b[1;33m\n",
       "\u001b[0m\u001b[1;33m\n",
       "\u001b[0m        \u001b[1;32mif\u001b[0m \u001b[0mnewargs\u001b[0m\u001b[1;33m[\u001b[0m\u001b[1;36m0\u001b[0m\u001b[1;33m]\u001b[0m \u001b[1;33m!=\u001b[0m \u001b[0margs\u001b[0m\u001b[1;33m[\u001b[0m\u001b[1;36m0\u001b[0m\u001b[1;33m]\u001b[0m\u001b[1;33m:\u001b[0m\u001b[1;33m\n",
       "\u001b[0m            \u001b[1;31m# case (1) can't change expr by introducing something that is in\u001b[0m\u001b[1;33m\n",
       "\u001b[0m            \u001b[1;31m# the _wrt_variables if it was already in the expr\u001b[0m\u001b[1;33m\n",
       "\u001b[0m            \u001b[1;31m# e.g.\u001b[0m\u001b[1;33m\n",
       "\u001b[0m            \u001b[1;31m# for Derivative(f(x, g(y)), y), x cannot be replaced with\u001b[0m\u001b[1;33m\n",
       "\u001b[0m            \u001b[1;31m# anything that has y in it; for f(g(x), g(y)).diff(g(y))\u001b[0m\u001b[1;33m\n",
       "\u001b[0m            \u001b[1;31m# g(x) cannot be replaced with anything that has g(y)\u001b[0m\u001b[1;33m\n",
       "\u001b[0m            \u001b[0msyms\u001b[0m \u001b[1;33m=\u001b[0m \u001b[1;33m{\u001b[0m\u001b[0mvi\u001b[0m\u001b[1;33m:\u001b[0m \u001b[0mDummy\u001b[0m\u001b[1;33m(\u001b[0m\u001b[1;33m)\u001b[0m \u001b[1;32mfor\u001b[0m \u001b[0mvi\u001b[0m \u001b[1;32min\u001b[0m \u001b[0mself\u001b[0m\u001b[1;33m.\u001b[0m\u001b[0m_wrt_variables\u001b[0m\u001b[1;33m\n",
       "\u001b[0m                \u001b[1;32mif\u001b[0m \u001b[1;32mnot\u001b[0m \u001b[0mvi\u001b[0m\u001b[1;33m.\u001b[0m\u001b[0mis_Symbol\u001b[0m\u001b[1;33m}\u001b[0m\u001b[1;33m\n",
       "\u001b[0m            \u001b[0mwrt\u001b[0m \u001b[1;33m=\u001b[0m \u001b[0mset\u001b[0m\u001b[1;33m(\u001b[0m\u001b[0msyms\u001b[0m\u001b[1;33m.\u001b[0m\u001b[0mget\u001b[0m\u001b[1;33m(\u001b[0m\u001b[0mvi\u001b[0m\u001b[1;33m,\u001b[0m \u001b[0mvi\u001b[0m\u001b[1;33m)\u001b[0m \u001b[1;32mfor\u001b[0m \u001b[0mvi\u001b[0m \u001b[1;32min\u001b[0m \u001b[0mself\u001b[0m\u001b[1;33m.\u001b[0m\u001b[0m_wrt_variables\u001b[0m\u001b[1;33m)\u001b[0m\u001b[1;33m\n",
       "\u001b[0m            \u001b[0mforbidden\u001b[0m \u001b[1;33m=\u001b[0m \u001b[0margs\u001b[0m\u001b[1;33m[\u001b[0m\u001b[1;36m0\u001b[0m\u001b[1;33m]\u001b[0m\u001b[1;33m.\u001b[0m\u001b[0mxreplace\u001b[0m\u001b[1;33m(\u001b[0m\u001b[0msyms\u001b[0m\u001b[1;33m)\u001b[0m\u001b[1;33m.\u001b[0m\u001b[0mfree_symbols\u001b[0m \u001b[1;33m&\u001b[0m \u001b[0mwrt\u001b[0m\u001b[1;33m\n",
       "\u001b[0m            \u001b[0mnfree\u001b[0m \u001b[1;33m=\u001b[0m \u001b[0mnew\u001b[0m\u001b[1;33m.\u001b[0m\u001b[0mxreplace\u001b[0m\u001b[1;33m(\u001b[0m\u001b[0msyms\u001b[0m\u001b[1;33m)\u001b[0m\u001b[1;33m.\u001b[0m\u001b[0mfree_symbols\u001b[0m\u001b[1;33m\n",
       "\u001b[0m            \u001b[0mofree\u001b[0m \u001b[1;33m=\u001b[0m \u001b[0mold\u001b[0m\u001b[1;33m.\u001b[0m\u001b[0mxreplace\u001b[0m\u001b[1;33m(\u001b[0m\u001b[0msyms\u001b[0m\u001b[1;33m)\u001b[0m\u001b[1;33m.\u001b[0m\u001b[0mfree_symbols\u001b[0m\u001b[1;33m\n",
       "\u001b[0m            \u001b[1;32mif\u001b[0m \u001b[1;33m(\u001b[0m\u001b[0mnfree\u001b[0m \u001b[1;33m-\u001b[0m \u001b[0mofree\u001b[0m\u001b[1;33m)\u001b[0m \u001b[1;33m&\u001b[0m \u001b[0mforbidden\u001b[0m\u001b[1;33m:\u001b[0m\u001b[1;33m\n",
       "\u001b[0m                \u001b[1;32mreturn\u001b[0m \u001b[0mSubs\u001b[0m\u001b[1;33m(\u001b[0m\u001b[0mself\u001b[0m\u001b[1;33m,\u001b[0m \u001b[0mold\u001b[0m\u001b[1;33m,\u001b[0m \u001b[0mnew\u001b[0m\u001b[1;33m)\u001b[0m\u001b[1;33m\n",
       "\u001b[0m\u001b[1;33m\n",
       "\u001b[0m        \u001b[0mviter\u001b[0m \u001b[1;33m=\u001b[0m \u001b[1;33m(\u001b[0m\u001b[1;33m(\u001b[0m\u001b[0mi\u001b[0m\u001b[1;33m,\u001b[0m \u001b[0mj\u001b[0m\u001b[1;33m)\u001b[0m \u001b[1;32mfor\u001b[0m \u001b[1;33m(\u001b[0m\u001b[1;33m(\u001b[0m\u001b[0mi\u001b[0m\u001b[1;33m,\u001b[0m \u001b[0m_\u001b[0m\u001b[1;33m)\u001b[0m\u001b[1;33m,\u001b[0m \u001b[1;33m(\u001b[0m\u001b[0mj\u001b[0m\u001b[1;33m,\u001b[0m \u001b[0m_\u001b[0m\u001b[1;33m)\u001b[0m\u001b[1;33m)\u001b[0m \u001b[1;32min\u001b[0m \u001b[0mzip\u001b[0m\u001b[1;33m(\u001b[0m\u001b[0mnewargs\u001b[0m\u001b[1;33m[\u001b[0m\u001b[1;36m1\u001b[0m\u001b[1;33m:\u001b[0m\u001b[1;33m]\u001b[0m\u001b[1;33m,\u001b[0m \u001b[0margs\u001b[0m\u001b[1;33m[\u001b[0m\u001b[1;36m1\u001b[0m\u001b[1;33m:\u001b[0m\u001b[1;33m]\u001b[0m\u001b[1;33m)\u001b[0m\u001b[1;33m)\u001b[0m\u001b[1;33m\n",
       "\u001b[0m        \u001b[1;32mif\u001b[0m \u001b[0many\u001b[0m\u001b[1;33m(\u001b[0m\u001b[0mi\u001b[0m \u001b[1;33m!=\u001b[0m \u001b[0mj\u001b[0m \u001b[1;32mfor\u001b[0m \u001b[0mi\u001b[0m\u001b[1;33m,\u001b[0m \u001b[0mj\u001b[0m \u001b[1;32min\u001b[0m \u001b[0mviter\u001b[0m\u001b[1;33m)\u001b[0m\u001b[1;33m:\u001b[0m  \u001b[1;31m# a wrt-variable change\u001b[0m\u001b[1;33m\n",
       "\u001b[0m            \u001b[1;31m# case (2) can't change vars by introducing a variable\u001b[0m\u001b[1;33m\n",
       "\u001b[0m            \u001b[1;31m# that is contained in expr, e.g.\u001b[0m\u001b[1;33m\n",
       "\u001b[0m            \u001b[1;31m# for Derivative(f(z, g(h(x), y)), y), y cannot be changed to\u001b[0m\u001b[1;33m\n",
       "\u001b[0m            \u001b[1;31m# x, h(x), or g(h(x), y)\u001b[0m\u001b[1;33m\n",
       "\u001b[0m            \u001b[1;32mfor\u001b[0m \u001b[0ma\u001b[0m \u001b[1;32min\u001b[0m \u001b[0m_atomic\u001b[0m\u001b[1;33m(\u001b[0m\u001b[0mself\u001b[0m\u001b[1;33m.\u001b[0m\u001b[0mexpr\u001b[0m\u001b[1;33m,\u001b[0m \u001b[0mrecursive\u001b[0m\u001b[1;33m=\u001b[0m\u001b[1;32mTrue\u001b[0m\u001b[1;33m)\u001b[0m\u001b[1;33m:\u001b[0m\u001b[1;33m\n",
       "\u001b[0m                \u001b[1;32mfor\u001b[0m \u001b[0mi\u001b[0m \u001b[1;32min\u001b[0m \u001b[0mrange\u001b[0m\u001b[1;33m(\u001b[0m\u001b[1;36m1\u001b[0m\u001b[1;33m,\u001b[0m \u001b[0mlen\u001b[0m\u001b[1;33m(\u001b[0m\u001b[0mnewargs\u001b[0m\u001b[1;33m)\u001b[0m\u001b[1;33m)\u001b[0m\u001b[1;33m:\u001b[0m\u001b[1;33m\n",
       "\u001b[0m                    \u001b[0mvi\u001b[0m\u001b[1;33m,\u001b[0m \u001b[0m_\u001b[0m \u001b[1;33m=\u001b[0m \u001b[0mnewargs\u001b[0m\u001b[1;33m[\u001b[0m\u001b[0mi\u001b[0m\u001b[1;33m]\u001b[0m\u001b[1;33m\n",
       "\u001b[0m                    \u001b[1;32mif\u001b[0m \u001b[0ma\u001b[0m \u001b[1;33m==\u001b[0m \u001b[0mvi\u001b[0m \u001b[1;32mand\u001b[0m \u001b[0mvi\u001b[0m \u001b[1;33m!=\u001b[0m \u001b[0margs\u001b[0m\u001b[1;33m[\u001b[0m\u001b[0mi\u001b[0m\u001b[1;33m]\u001b[0m\u001b[1;33m[\u001b[0m\u001b[1;36m0\u001b[0m\u001b[1;33m]\u001b[0m\u001b[1;33m:\u001b[0m\u001b[1;33m\n",
       "\u001b[0m                        \u001b[1;32mreturn\u001b[0m \u001b[0mSubs\u001b[0m\u001b[1;33m(\u001b[0m\u001b[0mself\u001b[0m\u001b[1;33m,\u001b[0m \u001b[0mold\u001b[0m\u001b[1;33m,\u001b[0m \u001b[0mnew\u001b[0m\u001b[1;33m)\u001b[0m\u001b[1;33m\n",
       "\u001b[0m            \u001b[1;31m# more arg-wise checks\u001b[0m\u001b[1;33m\n",
       "\u001b[0m            \u001b[0mvc\u001b[0m \u001b[1;33m=\u001b[0m \u001b[0mnewargs\u001b[0m\u001b[1;33m[\u001b[0m\u001b[1;36m1\u001b[0m\u001b[1;33m:\u001b[0m\u001b[1;33m]\u001b[0m\u001b[1;33m\n",
       "\u001b[0m            \u001b[0moldv\u001b[0m \u001b[1;33m=\u001b[0m \u001b[0mself\u001b[0m\u001b[1;33m.\u001b[0m\u001b[0m_wrt_variables\u001b[0m\u001b[1;33m\n",
       "\u001b[0m            \u001b[0mnewe\u001b[0m \u001b[1;33m=\u001b[0m \u001b[0mself\u001b[0m\u001b[1;33m.\u001b[0m\u001b[0mexpr\u001b[0m\u001b[1;33m\n",
       "\u001b[0m            \u001b[0msubs\u001b[0m \u001b[1;33m=\u001b[0m \u001b[1;33m[\u001b[0m\u001b[1;33m]\u001b[0m\u001b[1;33m\n",
       "\u001b[0m            \u001b[1;32mfor\u001b[0m \u001b[0mi\u001b[0m\u001b[1;33m,\u001b[0m \u001b[1;33m(\u001b[0m\u001b[0mvi\u001b[0m\u001b[1;33m,\u001b[0m \u001b[0mci\u001b[0m\u001b[1;33m)\u001b[0m \u001b[1;32min\u001b[0m \u001b[0menumerate\u001b[0m\u001b[1;33m(\u001b[0m\u001b[0mvc\u001b[0m\u001b[1;33m)\u001b[0m\u001b[1;33m:\u001b[0m\u001b[1;33m\n",
       "\u001b[0m                \u001b[1;32mif\u001b[0m \u001b[1;32mnot\u001b[0m \u001b[0mvi\u001b[0m\u001b[1;33m.\u001b[0m\u001b[0m_diff_wrt\u001b[0m\u001b[1;33m:\u001b[0m\u001b[1;33m\n",
       "\u001b[0m                    \u001b[1;31m# case (3) invalid differentiation expression so\u001b[0m\u001b[1;33m\n",
       "\u001b[0m                    \u001b[1;31m# create a replacement dummy\u001b[0m\u001b[1;33m\n",
       "\u001b[0m                    \u001b[0mxi\u001b[0m \u001b[1;33m=\u001b[0m \u001b[0mDummy\u001b[0m\u001b[1;33m(\u001b[0m\u001b[1;34m'xi_%i'\u001b[0m \u001b[1;33m%\u001b[0m \u001b[0mi\u001b[0m\u001b[1;33m)\u001b[0m\u001b[1;33m\n",
       "\u001b[0m                    \u001b[1;31m# replace the old valid variable with the dummy\u001b[0m\u001b[1;33m\n",
       "\u001b[0m                    \u001b[1;31m# in the expression\u001b[0m\u001b[1;33m\n",
       "\u001b[0m                    \u001b[0mnewe\u001b[0m \u001b[1;33m=\u001b[0m \u001b[0mnewe\u001b[0m\u001b[1;33m.\u001b[0m\u001b[0mxreplace\u001b[0m\u001b[1;33m(\u001b[0m\u001b[1;33m{\u001b[0m\u001b[0moldv\u001b[0m\u001b[1;33m[\u001b[0m\u001b[0mi\u001b[0m\u001b[1;33m]\u001b[0m\u001b[1;33m:\u001b[0m \u001b[0mxi\u001b[0m\u001b[1;33m}\u001b[0m\u001b[1;33m)\u001b[0m\u001b[1;33m\n",
       "\u001b[0m                    \u001b[1;31m# and replace the bad variable with the dummy\u001b[0m\u001b[1;33m\n",
       "\u001b[0m                    \u001b[0mvc\u001b[0m\u001b[1;33m[\u001b[0m\u001b[0mi\u001b[0m\u001b[1;33m]\u001b[0m \u001b[1;33m=\u001b[0m \u001b[1;33m(\u001b[0m\u001b[0mxi\u001b[0m\u001b[1;33m,\u001b[0m \u001b[0mci\u001b[0m\u001b[1;33m)\u001b[0m\u001b[1;33m\n",
       "\u001b[0m                    \u001b[1;31m# and record the dummy with the new (invalid)\u001b[0m\u001b[1;33m\n",
       "\u001b[0m                    \u001b[1;31m# differentiation expression\u001b[0m\u001b[1;33m\n",
       "\u001b[0m                    \u001b[0msubs\u001b[0m\u001b[1;33m.\u001b[0m\u001b[0mappend\u001b[0m\u001b[1;33m(\u001b[0m\u001b[1;33m(\u001b[0m\u001b[0mxi\u001b[0m\u001b[1;33m,\u001b[0m \u001b[0mvi\u001b[0m\u001b[1;33m)\u001b[0m\u001b[1;33m)\u001b[0m\u001b[1;33m\n",
       "\u001b[0m\u001b[1;33m\n",
       "\u001b[0m            \u001b[1;32mif\u001b[0m \u001b[0msubs\u001b[0m\u001b[1;33m:\u001b[0m\u001b[1;33m\n",
       "\u001b[0m                \u001b[1;31m# handle any residual substitution in the expression\u001b[0m\u001b[1;33m\n",
       "\u001b[0m                \u001b[0mnewe\u001b[0m \u001b[1;33m=\u001b[0m \u001b[0mnewe\u001b[0m\u001b[1;33m.\u001b[0m\u001b[0m_subs\u001b[0m\u001b[1;33m(\u001b[0m\u001b[0mold\u001b[0m\u001b[1;33m,\u001b[0m \u001b[0mnew\u001b[0m\u001b[1;33m)\u001b[0m\u001b[1;33m\n",
       "\u001b[0m                \u001b[1;31m# return the Subs-wrapped derivative\u001b[0m\u001b[1;33m\n",
       "\u001b[0m                \u001b[1;32mreturn\u001b[0m \u001b[0mSubs\u001b[0m\u001b[1;33m(\u001b[0m\u001b[0mDerivative\u001b[0m\u001b[1;33m(\u001b[0m\u001b[0mnewe\u001b[0m\u001b[1;33m,\u001b[0m \u001b[1;33m*\u001b[0m\u001b[0mvc\u001b[0m\u001b[1;33m)\u001b[0m\u001b[1;33m,\u001b[0m \u001b[1;33m*\u001b[0m\u001b[0mzip\u001b[0m\u001b[1;33m(\u001b[0m\u001b[1;33m*\u001b[0m\u001b[0msubs\u001b[0m\u001b[1;33m)\u001b[0m\u001b[1;33m)\u001b[0m\u001b[1;33m\n",
       "\u001b[0m\u001b[1;33m\n",
       "\u001b[0m        \u001b[1;31m# everything was ok\u001b[0m\u001b[1;33m\n",
       "\u001b[0m        \u001b[1;32mreturn\u001b[0m \u001b[0mDerivative\u001b[0m\u001b[1;33m(\u001b[0m\u001b[1;33m*\u001b[0m\u001b[0mnewargs\u001b[0m\u001b[1;33m)\u001b[0m\u001b[1;33m\n",
       "\u001b[0m\u001b[1;33m\n",
       "\u001b[0m    \u001b[1;32mdef\u001b[0m \u001b[0m_eval_lseries\u001b[0m\u001b[1;33m(\u001b[0m\u001b[0mself\u001b[0m\u001b[1;33m,\u001b[0m \u001b[0mx\u001b[0m\u001b[1;33m,\u001b[0m \u001b[0mlogx\u001b[0m\u001b[1;33m)\u001b[0m\u001b[1;33m:\u001b[0m\u001b[1;33m\n",
       "\u001b[0m        \u001b[0mdx\u001b[0m \u001b[1;33m=\u001b[0m \u001b[0mself\u001b[0m\u001b[1;33m.\u001b[0m\u001b[0mvariables\u001b[0m\u001b[1;33m\n",
       "\u001b[0m        \u001b[1;32mfor\u001b[0m \u001b[0mterm\u001b[0m \u001b[1;32min\u001b[0m \u001b[0mself\u001b[0m\u001b[1;33m.\u001b[0m\u001b[0mexpr\u001b[0m\u001b[1;33m.\u001b[0m\u001b[0mlseries\u001b[0m\u001b[1;33m(\u001b[0m\u001b[0mx\u001b[0m\u001b[1;33m,\u001b[0m \u001b[0mlogx\u001b[0m\u001b[1;33m=\u001b[0m\u001b[0mlogx\u001b[0m\u001b[1;33m)\u001b[0m\u001b[1;33m:\u001b[0m\u001b[1;33m\n",
       "\u001b[0m            \u001b[1;32myield\u001b[0m \u001b[0mself\u001b[0m\u001b[1;33m.\u001b[0m\u001b[0mfunc\u001b[0m\u001b[1;33m(\u001b[0m\u001b[0mterm\u001b[0m\u001b[1;33m,\u001b[0m \u001b[1;33m*\u001b[0m\u001b[0mdx\u001b[0m\u001b[1;33m)\u001b[0m\u001b[1;33m\n",
       "\u001b[0m\u001b[1;33m\n",
       "\u001b[0m    \u001b[1;32mdef\u001b[0m \u001b[0m_eval_nseries\u001b[0m\u001b[1;33m(\u001b[0m\u001b[0mself\u001b[0m\u001b[1;33m,\u001b[0m \u001b[0mx\u001b[0m\u001b[1;33m,\u001b[0m \u001b[0mn\u001b[0m\u001b[1;33m,\u001b[0m \u001b[0mlogx\u001b[0m\u001b[1;33m)\u001b[0m\u001b[1;33m:\u001b[0m\u001b[1;33m\n",
       "\u001b[0m        \u001b[0marg\u001b[0m \u001b[1;33m=\u001b[0m \u001b[0mself\u001b[0m\u001b[1;33m.\u001b[0m\u001b[0mexpr\u001b[0m\u001b[1;33m.\u001b[0m\u001b[0mnseries\u001b[0m\u001b[1;33m(\u001b[0m\u001b[0mx\u001b[0m\u001b[1;33m,\u001b[0m \u001b[0mn\u001b[0m\u001b[1;33m=\u001b[0m\u001b[0mn\u001b[0m\u001b[1;33m,\u001b[0m \u001b[0mlogx\u001b[0m\u001b[1;33m=\u001b[0m\u001b[0mlogx\u001b[0m\u001b[1;33m)\u001b[0m\u001b[1;33m\n",
       "\u001b[0m        \u001b[0mo\u001b[0m \u001b[1;33m=\u001b[0m \u001b[0marg\u001b[0m\u001b[1;33m.\u001b[0m\u001b[0mgetO\u001b[0m\u001b[1;33m(\u001b[0m\u001b[1;33m)\u001b[0m\u001b[1;33m\n",
       "\u001b[0m        \u001b[0mdx\u001b[0m \u001b[1;33m=\u001b[0m \u001b[0mself\u001b[0m\u001b[1;33m.\u001b[0m\u001b[0mvariables\u001b[0m\u001b[1;33m\n",
       "\u001b[0m        \u001b[0mrv\u001b[0m \u001b[1;33m=\u001b[0m \u001b[1;33m[\u001b[0m\u001b[0mself\u001b[0m\u001b[1;33m.\u001b[0m\u001b[0mfunc\u001b[0m\u001b[1;33m(\u001b[0m\u001b[0ma\u001b[0m\u001b[1;33m,\u001b[0m \u001b[1;33m*\u001b[0m\u001b[0mdx\u001b[0m\u001b[1;33m)\u001b[0m \u001b[1;32mfor\u001b[0m \u001b[0ma\u001b[0m \u001b[1;32min\u001b[0m \u001b[0mAdd\u001b[0m\u001b[1;33m.\u001b[0m\u001b[0mmake_args\u001b[0m\u001b[1;33m(\u001b[0m\u001b[0marg\u001b[0m\u001b[1;33m.\u001b[0m\u001b[0mremoveO\u001b[0m\u001b[1;33m(\u001b[0m\u001b[1;33m)\u001b[0m\u001b[1;33m)\u001b[0m\u001b[1;33m]\u001b[0m\u001b[1;33m\n",
       "\u001b[0m        \u001b[1;32mif\u001b[0m \u001b[0mo\u001b[0m\u001b[1;33m:\u001b[0m\u001b[1;33m\n",
       "\u001b[0m            \u001b[0mrv\u001b[0m\u001b[1;33m.\u001b[0m\u001b[0mappend\u001b[0m\u001b[1;33m(\u001b[0m\u001b[0mo\u001b[0m\u001b[1;33m/\u001b[0m\u001b[0mx\u001b[0m\u001b[1;33m)\u001b[0m\u001b[1;33m\n",
       "\u001b[0m        \u001b[1;32mreturn\u001b[0m \u001b[0mAdd\u001b[0m\u001b[1;33m(\u001b[0m\u001b[1;33m*\u001b[0m\u001b[0mrv\u001b[0m\u001b[1;33m)\u001b[0m\u001b[1;33m\n",
       "\u001b[0m\u001b[1;33m\n",
       "\u001b[0m    \u001b[1;32mdef\u001b[0m \u001b[0m_eval_as_leading_term\u001b[0m\u001b[1;33m(\u001b[0m\u001b[0mself\u001b[0m\u001b[1;33m,\u001b[0m \u001b[0mx\u001b[0m\u001b[1;33m)\u001b[0m\u001b[1;33m:\u001b[0m\u001b[1;33m\n",
       "\u001b[0m        \u001b[0mseries_gen\u001b[0m \u001b[1;33m=\u001b[0m \u001b[0mself\u001b[0m\u001b[1;33m.\u001b[0m\u001b[0mexpr\u001b[0m\u001b[1;33m.\u001b[0m\u001b[0mlseries\u001b[0m\u001b[1;33m(\u001b[0m\u001b[0mx\u001b[0m\u001b[1;33m)\u001b[0m\u001b[1;33m\n",
       "\u001b[0m        \u001b[0md\u001b[0m \u001b[1;33m=\u001b[0m \u001b[0mS\u001b[0m\u001b[1;33m.\u001b[0m\u001b[0mZero\u001b[0m\u001b[1;33m\n",
       "\u001b[0m        \u001b[1;32mfor\u001b[0m \u001b[0mleading_term\u001b[0m \u001b[1;32min\u001b[0m \u001b[0mseries_gen\u001b[0m\u001b[1;33m:\u001b[0m\u001b[1;33m\n",
       "\u001b[0m            \u001b[0md\u001b[0m \u001b[1;33m=\u001b[0m \u001b[0mdiff\u001b[0m\u001b[1;33m(\u001b[0m\u001b[0mleading_term\u001b[0m\u001b[1;33m,\u001b[0m \u001b[1;33m*\u001b[0m\u001b[0mself\u001b[0m\u001b[1;33m.\u001b[0m\u001b[0mvariables\u001b[0m\u001b[1;33m)\u001b[0m\u001b[1;33m\n",
       "\u001b[0m            \u001b[1;32mif\u001b[0m \u001b[0md\u001b[0m \u001b[1;33m!=\u001b[0m \u001b[1;36m0\u001b[0m\u001b[1;33m:\u001b[0m\u001b[1;33m\n",
       "\u001b[0m                \u001b[1;32mbreak\u001b[0m\u001b[1;33m\n",
       "\u001b[0m        \u001b[1;32mreturn\u001b[0m \u001b[0md\u001b[0m\u001b[1;33m\n",
       "\u001b[0m\u001b[1;33m\n",
       "\u001b[0m    \u001b[1;32mdef\u001b[0m \u001b[0m_sage_\u001b[0m\u001b[1;33m(\u001b[0m\u001b[0mself\u001b[0m\u001b[1;33m)\u001b[0m\u001b[1;33m:\u001b[0m\u001b[1;33m\n",
       "\u001b[0m        \u001b[1;32mimport\u001b[0m \u001b[0msage\u001b[0m\u001b[1;33m.\u001b[0m\u001b[0mall\u001b[0m \u001b[1;32mas\u001b[0m \u001b[0msage\u001b[0m\u001b[1;33m\n",
       "\u001b[0m        \u001b[0margs\u001b[0m \u001b[1;33m=\u001b[0m \u001b[1;33m[\u001b[0m\u001b[0marg\u001b[0m\u001b[1;33m.\u001b[0m\u001b[0m_sage_\u001b[0m\u001b[1;33m(\u001b[0m\u001b[1;33m)\u001b[0m \u001b[1;32mfor\u001b[0m \u001b[0marg\u001b[0m \u001b[1;32min\u001b[0m \u001b[0mself\u001b[0m\u001b[1;33m.\u001b[0m\u001b[0margs\u001b[0m\u001b[1;33m]\u001b[0m\u001b[1;33m\n",
       "\u001b[0m        \u001b[1;32mreturn\u001b[0m \u001b[0msage\u001b[0m\u001b[1;33m.\u001b[0m\u001b[0mderivative\u001b[0m\u001b[1;33m(\u001b[0m\u001b[1;33m*\u001b[0m\u001b[0margs\u001b[0m\u001b[1;33m)\u001b[0m\u001b[1;33m\n",
       "\u001b[0m\u001b[1;33m\n",
       "\u001b[0m    \u001b[1;32mdef\u001b[0m \u001b[0mas_finite_difference\u001b[0m\u001b[1;33m(\u001b[0m\u001b[0mself\u001b[0m\u001b[1;33m,\u001b[0m \u001b[0mpoints\u001b[0m\u001b[1;33m=\u001b[0m\u001b[1;36m1\u001b[0m\u001b[1;33m,\u001b[0m \u001b[0mx0\u001b[0m\u001b[1;33m=\u001b[0m\u001b[1;32mNone\u001b[0m\u001b[1;33m,\u001b[0m \u001b[0mwrt\u001b[0m\u001b[1;33m=\u001b[0m\u001b[1;32mNone\u001b[0m\u001b[1;33m)\u001b[0m\u001b[1;33m:\u001b[0m\u001b[1;33m\n",
       "\u001b[0m        \u001b[1;34m\"\"\" Expresses a Derivative instance as a finite difference.\n",
       "\n",
       "        Parameters\n",
       "        ==========\n",
       "        points : sequence or coefficient, optional\n",
       "            If sequence: discrete values (length >= order+1) of the\n",
       "            independent variable used for generating the finite\n",
       "            difference weights.\n",
       "            If it is a coefficient, it will be used as the step-size\n",
       "            for generating an equidistant sequence of length order+1\n",
       "            centered around ``x0``. Default: 1 (step-size 1)\n",
       "        x0 : number or Symbol, optional\n",
       "            the value of the independent variable (``wrt``) at which the\n",
       "            derivative is to be approximated. Default: same as ``wrt``.\n",
       "        wrt : Symbol, optional\n",
       "            \"with respect to\" the variable for which the (partial)\n",
       "            derivative is to be approximated for. If not provided it\n",
       "            is required that the derivative is ordinary. Default: ``None``.\n",
       "\n",
       "\n",
       "        Examples\n",
       "        ========\n",
       "        >>> from sympy import symbols, Function, exp, sqrt, Symbol\n",
       "        >>> x, h = symbols('x h')\n",
       "        >>> f = Function('f')\n",
       "        >>> f(x).diff(x).as_finite_difference()\n",
       "        -f(x - 1/2) + f(x + 1/2)\n",
       "\n",
       "        The default step size and number of points are 1 and\n",
       "        ``order + 1`` respectively. We can change the step size by\n",
       "        passing a symbol as a parameter:\n",
       "\n",
       "        >>> f(x).diff(x).as_finite_difference(h)\n",
       "        -f(-h/2 + x)/h + f(h/2 + x)/h\n",
       "\n",
       "        We can also specify the discretized values to be used in a\n",
       "        sequence:\n",
       "\n",
       "        >>> f(x).diff(x).as_finite_difference([x, x+h, x+2*h])\n",
       "        -3*f(x)/(2*h) + 2*f(h + x)/h - f(2*h + x)/(2*h)\n",
       "\n",
       "        The algorithm is not restricted to use equidistant spacing, nor\n",
       "        do we need to make the approximation around ``x0``, but we can get\n",
       "        an expression estimating the derivative at an offset:\n",
       "\n",
       "        >>> e, sq2 = exp(1), sqrt(2)\n",
       "        >>> xl = [x-h, x+h, x+e*h]\n",
       "        >>> f(x).diff(x, 1).as_finite_difference(xl, x+h*sq2)  # doctest: +ELLIPSIS\n",
       "        2*h*((h + sqrt(2)*h)/(2*h) - (-sqrt(2)*h + h)/(2*h))*f(E*h + x)/...\n",
       "\n",
       "        Partial derivatives are also supported:\n",
       "\n",
       "        >>> y = Symbol('y')\n",
       "        >>> d2fdxdy=f(x,y).diff(x,y)\n",
       "        >>> d2fdxdy.as_finite_difference(wrt=x)\n",
       "        -Derivative(f(x - 1/2, y), y) + Derivative(f(x + 1/2, y), y)\n",
       "\n",
       "        We can apply ``as_finite_difference`` to ``Derivative`` instances in\n",
       "        compound expressions using ``replace``:\n",
       "\n",
       "        >>> (1 + 42**f(x).diff(x)).replace(lambda arg: arg.is_Derivative,\n",
       "        ...     lambda arg: arg.as_finite_difference())\n",
       "        42**(-f(x - 1/2) + f(x + 1/2)) + 1\n",
       "\n",
       "\n",
       "        See also\n",
       "        ========\n",
       "\n",
       "        sympy.calculus.finite_diff.apply_finite_diff\n",
       "        sympy.calculus.finite_diff.differentiate_finite\n",
       "        sympy.calculus.finite_diff.finite_diff_weights\n",
       "\n",
       "        \"\"\"\u001b[0m\u001b[1;33m\n",
       "\u001b[0m        \u001b[1;32mfrom\u001b[0m \u001b[1;33m.\u001b[0m\u001b[1;33m.\u001b[0m\u001b[0mcalculus\u001b[0m\u001b[1;33m.\u001b[0m\u001b[0mfinite_diff\u001b[0m \u001b[1;32mimport\u001b[0m \u001b[0m_as_finite_diff\u001b[0m\u001b[1;33m\n",
       "\u001b[0m        \u001b[1;32mreturn\u001b[0m \u001b[0m_as_finite_diff\u001b[0m\u001b[1;33m(\u001b[0m\u001b[0mself\u001b[0m\u001b[1;33m,\u001b[0m \u001b[0mpoints\u001b[0m\u001b[1;33m,\u001b[0m \u001b[0mx0\u001b[0m\u001b[1;33m,\u001b[0m \u001b[0mwrt\u001b[0m\u001b[1;33m)\u001b[0m\u001b[1;33m\u001b[0m\u001b[1;33m\u001b[0m\u001b[0m\n",
       "\u001b[1;31mFile:\u001b[0m           c:\\users\\ali.mohamed\\appdata\\local\\continuum\\anaconda3\\lib\\site-packages\\sympy\\core\\function.py\n",
       "\u001b[1;31mType:\u001b[0m           ManagedProperties\n",
       "\u001b[1;31mSubclasses:\u001b[0m     \n"
      ]
     },
     "metadata": {},
     "output_type": "display_data"
    }
   ],
   "source": [
    "sm.Derivative??"
   ]
  },
  {
   "cell_type": "code",
   "execution_count": 8,
   "metadata": {},
   "outputs": [
    {
     "data": {
      "text/latex": [
       "$\\displaystyle 2$"
      ],
      "text/plain": [
       "2"
      ]
     },
     "execution_count": 8,
     "metadata": {},
     "output_type": "execute_result"
    }
   ],
   "source": [
    "Ri.diff('t', 2)"
   ]
  },
  {
   "cell_type": "code",
   "execution_count": 14,
   "metadata": {},
   "outputs": [],
   "source": [
    "vsym = sm.MatrixSymbol('v', 3, 1)"
   ]
  },
  {
   "cell_type": "code",
   "execution_count": 18,
   "metadata": {},
   "outputs": [
    {
     "data": {
      "text/plain": [
       "\u001b[1;31mSignature:\u001b[0m \u001b[0mvsym\u001b[0m\u001b[1;33m.\u001b[0m\u001b[0m_eval_derivative\u001b[0m\u001b[1;33m(\u001b[0m\u001b[0mx\u001b[0m\u001b[1;33m)\u001b[0m\u001b[1;33m\u001b[0m\u001b[1;33m\u001b[0m\u001b[0m\n",
       "\u001b[1;31mDocstring:\u001b[0m <no docstring>\n",
       "\u001b[1;31mSource:\u001b[0m   \n",
       "    \u001b[1;32mdef\u001b[0m \u001b[0m_eval_derivative\u001b[0m\u001b[1;33m(\u001b[0m\u001b[0mself\u001b[0m\u001b[1;33m,\u001b[0m \u001b[0mx\u001b[0m\u001b[1;33m)\u001b[0m\u001b[1;33m:\u001b[0m\u001b[1;33m\n",
       "\u001b[0m        \u001b[1;32mreturn\u001b[0m \u001b[0m_matrix_derivative\u001b[0m\u001b[1;33m(\u001b[0m\u001b[0mself\u001b[0m\u001b[1;33m,\u001b[0m \u001b[0mx\u001b[0m\u001b[1;33m)\u001b[0m\u001b[1;33m\u001b[0m\u001b[1;33m\u001b[0m\u001b[0m\n",
       "\u001b[1;31mFile:\u001b[0m      c:\\users\\ali.mohamed\\appdata\\local\\continuum\\anaconda3\\lib\\site-packages\\sympy\\matrices\\expressions\\matexpr.py\n",
       "\u001b[1;31mType:\u001b[0m      method\n"
      ]
     },
     "metadata": {},
     "output_type": "display_data"
    }
   ],
   "source": [
    "vsym._eval_derivative??"
   ]
  },
  {
   "cell_type": "code",
   "execution_count": null,
   "metadata": {},
   "outputs": [],
   "source": []
  },
  {
   "cell_type": "code",
   "execution_count": null,
   "metadata": {},
   "outputs": [],
   "source": []
  },
  {
   "cell_type": "code",
   "execution_count": null,
   "metadata": {},
   "outputs": [],
   "source": []
  },
  {
   "cell_type": "code",
   "execution_count": null,
   "metadata": {},
   "outputs": [],
   "source": []
  },
  {
   "cell_type": "code",
   "execution_count": null,
   "metadata": {},
   "outputs": [],
   "source": []
  },
  {
   "cell_type": "code",
   "execution_count": null,
   "metadata": {},
   "outputs": [],
   "source": []
  },
  {
   "cell_type": "code",
   "execution_count": null,
   "metadata": {},
   "outputs": [],
   "source": []
  },
  {
   "cell_type": "code",
   "execution_count": null,
   "metadata": {},
   "outputs": [],
   "source": []
  },
  {
   "cell_type": "code",
   "execution_count": null,
   "metadata": {},
   "outputs": [],
   "source": []
  },
  {
   "cell_type": "code",
   "execution_count": null,
   "metadata": {},
   "outputs": [],
   "source": []
  },
  {
   "cell_type": "code",
   "execution_count": 113,
   "metadata": {},
   "outputs": [],
   "source": [
    "class mod_symbol(sm.Symbol):\n",
    "    \n",
    "    '''def __new__(cls, name, level=0, **assumptions):\n",
    "\n",
    "        cls._sanitize(assumptions, cls)\n",
    "        obj = sm.Symbol.__xnew__(cls, name, **assumptions)\n",
    "        \n",
    "        obj._func_symbol = sm.Function(name)('t')\n",
    "        obj.level = level\n",
    "        \n",
    "        return obj'''\n",
    "    \n",
    "    def diff(self, *symbols, **assumptions):\n",
    "        #assumptions.setdefault(\"evaluate\", True)\n",
    "        return sm.Derivative(self, *symbols, **assumptions)"
   ]
  },
  {
   "cell_type": "code",
   "execution_count": 114,
   "metadata": {},
   "outputs": [],
   "source": [
    "x = mod_symbol('x')"
   ]
  },
  {
   "cell_type": "code",
   "execution_count": 115,
   "metadata": {
    "collapsed": true,
    "jupyter": {
     "outputs_hidden": true
    }
   },
   "outputs": [
    {
     "data": {
      "text/latex": [
       "$\\displaystyle \\frac{d}{d t} x$"
      ],
      "text/plain": [
       "Derivative(x, t)"
      ]
     },
     "execution_count": 115,
     "metadata": {},
     "output_type": "execute_result"
    }
   ],
   "source": [
    "x2 = x.diff('t')\n",
    "x2"
   ]
  },
  {
   "cell_type": "code",
   "execution_count": 122,
   "metadata": {
    "collapsed": true,
    "jupyter": {
     "outputs_hidden": true
    }
   },
   "outputs": [
    {
     "data": {
      "text/latex": [
       "$\\displaystyle \\left( x, \\  \\left( t, \\  1\\right)\\right)$"
      ],
      "text/plain": [
       "(x, (t, 1))"
      ]
     },
     "execution_count": 122,
     "metadata": {},
     "output_type": "execute_result"
    }
   ],
   "source": [
    "x2.args"
   ]
  },
  {
   "cell_type": "code",
   "execution_count": 116,
   "metadata": {
    "collapsed": true,
    "jupyter": {
     "outputs_hidden": true
    }
   },
   "outputs": [
    {
     "data": {
      "text/latex": [
       "$\\displaystyle \\frac{d^{2}}{d t^{2}} x$"
      ],
      "text/plain": [
       "Derivative(x, (t, 2))"
      ]
     },
     "execution_count": 116,
     "metadata": {},
     "output_type": "execute_result"
    }
   ],
   "source": [
    "sm.Derivative(x2, 't')"
   ]
  },
  {
   "cell_type": "code",
   "execution_count": 117,
   "metadata": {
    "collapsed": true,
    "jupyter": {
     "outputs_hidden": true
    }
   },
   "outputs": [
    {
     "name": "stdout",
     "output_type": "stream",
     "text": [
      "Derivative(x, p)\n"
     ]
    }
   ],
   "source": [
    "print(sm.Derivative(x, 'p'))"
   ]
  },
  {
   "cell_type": "code",
   "execution_count": 120,
   "metadata": {},
   "outputs": [],
   "source": [
    "f = sm.symbols('f')"
   ]
  },
  {
   "cell_type": "code",
   "execution_count": 17,
   "metadata": {},
   "outputs": [],
   "source": [
    "symbols = dynamicsymbols"
   ]
  },
  {
   "cell_type": "code",
   "execution_count": 2,
   "metadata": {},
   "outputs": [],
   "source": [
    "def skew(v):\n",
    "    x, y, z = v\n",
    "    vs = sm.Matrix([[0, -z, y], [z, 0, -x], [-y, x, 0]])\n",
    "    return vs\n",
    "\n",
    "def A(p):\n",
    "    e0, e1, e2, e3 = p\n",
    "    \n",
    "    a00 = (e0**2+e1**2-e2**2-e3**2)\n",
    "    a01 = 2*((e1*e2)-(e0*e3))              \n",
    "    a02 = 2*((e1*e3)+(e0*e2))\n",
    "    \n",
    "    a10 = 2*((e1*e2)+(e0*e3))\n",
    "    a11 = e0**2-e1**2+e2**2-e3**2\n",
    "    a12 = 2*((e2*e3)-(e0*e1))\n",
    "    \n",
    "    a20 = 2*((e1*e3)-(e0*e2))\n",
    "    a21 = 2*((e2*e3)+(e0*e1))\n",
    "    a22 = e0**2-e1**2-e2**2+e3**2\n",
    "    \n",
    "    mat = sm.Matrix([[a00, a01, a02],\n",
    "                     [a10, a11, a12],\n",
    "                     [a20, a21, a22]])\n",
    "    return mat\n",
    "\n",
    "\n",
    "def B(p, u):\n",
    "    e0, e1, e2, e3 = p\n",
    "    ux, uy, uz = u\n",
    "    \n",
    "    a00 = 2*e0*ux + 2*e2*uz - 2*e3*uy\n",
    "    a01 = 2*e1*ux + 2*e2*uy + 2*e3*uz\n",
    "    a02 = 2*e0*uz + 2*e1*uy - 2*e2*ux\n",
    "    a03 = -2*e0*uy + 2*e1*uz - 2*e3*ux\n",
    "    \n",
    "    a10 = 2*e0*uy - 2*e1*uz + 2*e3*ux\n",
    "    a11 = -2*e0*uz - 2*e1*uy + 2*e2*ux\n",
    "    a12 = 2*e1*ux + 2*e2*uy + 2*e3*uz\n",
    "    a13 = 2*e0*ux + 2*e2*uz - 2*e3*uy\n",
    "    \n",
    "    a20 = 2*e0*uz + 2*e1*uy - 2*e2*ux\n",
    "    a21 = 2*e0*uy - 2*e1*uz + 2*e3*ux\n",
    "    a22 = -2*e0*ux - 2*e2*uz + 2*e3*uy\n",
    "    a23 = 2*e1*ux + 2*e2*uy + 2*e3*uz\n",
    "    \n",
    "    mat = sm.Matrix([[a00, a01, a02, a03],\n",
    "                     [a10, a11, a12, a13],\n",
    "                     [a20, a21, a22, a23]])\n",
    "    \n",
    "    return mat\n",
    "\n",
    "\n",
    "def E(p):\n",
    "    e0, e1, e2, e3 = p\n",
    "    mat = sm.Matrix([[-e1, e0,-e3, e2],\n",
    "                     [-e2, e3, e0,-e1],\n",
    "                     [-e3,-e2, e1, e0]])\n",
    "    return mat\n",
    "\n",
    "def G(p):\n",
    "    e0, e1, e2, e3 = p\n",
    "    mat = sm.Matrix([[-e1, e0, e3,-e2],\n",
    "                     [-e2,-e3, e0, e1],\n",
    "                     [-e3, e2,-e1, e0]])\n",
    "    return mat"
   ]
  },
  {
   "cell_type": "code",
   "execution_count": 24,
   "metadata": {},
   "outputs": [
    {
     "data": {
      "text/latex": [
       "$\\displaystyle \\left[\\begin{matrix}1 & 0 & 0 & 2 e_{0 i} ux_{i} + 2 e_{2 i} uz_{i} - 2 e_{3 i} uy_{i} & 2 e_{1 i} ux_{i} + 2 e_{2 i} uy_{i} + 2 e_{3 i} uz_{i} & 2 e_{0 i} uz_{i} + 2 e_{1 i} uy_{i} - 2 e_{2 i} ux_{i} & - 2 e_{0 i} uy_{i} + 2 e_{1 i} uz_{i} - 2 e_{3 i} ux_{i}\\\\0 & 1 & 0 & 2 e_{0 i} uy_{i} - 2 e_{1 i} uz_{i} + 2 e_{3 i} ux_{i} & - 2 e_{0 i} uz_{i} - 2 e_{1 i} uy_{i} + 2 e_{2 i} ux_{i} & 2 e_{1 i} ux_{i} + 2 e_{2 i} uy_{i} + 2 e_{3 i} uz_{i} & 2 e_{0 i} ux_{i} + 2 e_{2 i} uz_{i} - 2 e_{3 i} uy_{i}\\\\0 & 0 & 1 & 2 e_{0 i} uz_{i} + 2 e_{1 i} uy_{i} - 2 e_{2 i} ux_{i} & 2 e_{0 i} uy_{i} - 2 e_{1 i} uz_{i} + 2 e_{3 i} ux_{i} & - 2 e_{0 i} ux_{i} - 2 e_{2 i} uz_{i} + 2 e_{3 i} uy_{i} & 2 e_{1 i} ux_{i} + 2 e_{2 i} uy_{i} + 2 e_{3 i} uz_{i}\\end{matrix}\\right]$"
      ],
      "text/plain": [
       "Matrix([\n",
       "[1, 0, 0, 2*e0_i*ux_i + 2*e2_i*uz_i - 2*e3_i*uy_i,  2*e1_i*ux_i + 2*e2_i*uy_i + 2*e3_i*uz_i,  2*e0_i*uz_i + 2*e1_i*uy_i - 2*e2_i*ux_i, -2*e0_i*uy_i + 2*e1_i*uz_i - 2*e3_i*ux_i],\n",
       "[0, 1, 0, 2*e0_i*uy_i - 2*e1_i*uz_i + 2*e3_i*ux_i, -2*e0_i*uz_i - 2*e1_i*uy_i + 2*e2_i*ux_i,  2*e1_i*ux_i + 2*e2_i*uy_i + 2*e3_i*uz_i,  2*e0_i*ux_i + 2*e2_i*uz_i - 2*e3_i*uy_i],\n",
       "[0, 0, 1, 2*e0_i*uz_i + 2*e1_i*uy_i - 2*e2_i*ux_i,  2*e0_i*uy_i - 2*e1_i*uz_i + 2*e3_i*ux_i, -2*e0_i*ux_i - 2*e2_i*uz_i + 2*e3_i*uy_i,  2*e1_i*ux_i + 2*e2_i*uy_i + 2*e3_i*uz_i]])"
      ]
     },
     "execution_count": 24,
     "metadata": {},
     "output_type": "execute_result"
    }
   ],
   "source": [
    "Ri = sm.Matrix(['x_i', 'y_i', 'z_i'])\n",
    "Pi = sm.Matrix(['e0_i', 'e1_i', 'e2_i', 'e3_i'])\n",
    "ui = sm.Matrix(['ux_i', 'uy_i', 'uz_i'])\n",
    "\n",
    "Rj = sm.Matrix(['x_j', 'y_j', 'z_j'])\n",
    "Pj = sm.Matrix(['e0_j', 'e1_j', 'e2_j', 'e3_j'])\n",
    "uj = sm.Matrix(['ux_j', 'uy_j', 'uz_j'])\n",
    "\n",
    "dij = Ri + A(Pi)*ui - Rj - A(Pj)*uj\n",
    "dij.jacobian(sm.Matrix([*Ri, *Pi]))"
   ]
  },
  {
   "cell_type": "code",
   "execution_count": 27,
   "metadata": {},
   "outputs": [
    {
     "data": {
      "text/latex": [
       "$\\displaystyle \\left[\\begin{matrix}1 & 0 & 0 & 2 \\operatorname{e_{0 i}}{\\left(t \\right)} \\operatorname{ux_{i}}{\\left(t \\right)} + 2 \\operatorname{e_{2 i}}{\\left(t \\right)} \\operatorname{uz_{i}}{\\left(t \\right)} - 2 \\operatorname{e_{3 i}}{\\left(t \\right)} \\operatorname{uy_{i}}{\\left(t \\right)} & 2 \\operatorname{e_{1 i}}{\\left(t \\right)} \\operatorname{ux_{i}}{\\left(t \\right)} + 2 \\operatorname{e_{2 i}}{\\left(t \\right)} \\operatorname{uy_{i}}{\\left(t \\right)} + 2 \\operatorname{e_{3 i}}{\\left(t \\right)} \\operatorname{uz_{i}}{\\left(t \\right)} & 2 \\operatorname{e_{0 i}}{\\left(t \\right)} \\operatorname{uz_{i}}{\\left(t \\right)} + 2 \\operatorname{e_{1 i}}{\\left(t \\right)} \\operatorname{uy_{i}}{\\left(t \\right)} - 2 \\operatorname{e_{2 i}}{\\left(t \\right)} \\operatorname{ux_{i}}{\\left(t \\right)} & - 2 \\operatorname{e_{0 i}}{\\left(t \\right)} \\operatorname{uy_{i}}{\\left(t \\right)} + 2 \\operatorname{e_{1 i}}{\\left(t \\right)} \\operatorname{uz_{i}}{\\left(t \\right)} - 2 \\operatorname{e_{3 i}}{\\left(t \\right)} \\operatorname{ux_{i}}{\\left(t \\right)}\\\\0 & 1 & 0 & 2 \\operatorname{e_{0 i}}{\\left(t \\right)} \\operatorname{uy_{i}}{\\left(t \\right)} - 2 \\operatorname{e_{1 i}}{\\left(t \\right)} \\operatorname{uz_{i}}{\\left(t \\right)} + 2 \\operatorname{e_{3 i}}{\\left(t \\right)} \\operatorname{ux_{i}}{\\left(t \\right)} & - 2 \\operatorname{e_{0 i}}{\\left(t \\right)} \\operatorname{uz_{i}}{\\left(t \\right)} - 2 \\operatorname{e_{1 i}}{\\left(t \\right)} \\operatorname{uy_{i}}{\\left(t \\right)} + 2 \\operatorname{e_{2 i}}{\\left(t \\right)} \\operatorname{ux_{i}}{\\left(t \\right)} & 2 \\operatorname{e_{1 i}}{\\left(t \\right)} \\operatorname{ux_{i}}{\\left(t \\right)} + 2 \\operatorname{e_{2 i}}{\\left(t \\right)} \\operatorname{uy_{i}}{\\left(t \\right)} + 2 \\operatorname{e_{3 i}}{\\left(t \\right)} \\operatorname{uz_{i}}{\\left(t \\right)} & 2 \\operatorname{e_{0 i}}{\\left(t \\right)} \\operatorname{ux_{i}}{\\left(t \\right)} + 2 \\operatorname{e_{2 i}}{\\left(t \\right)} \\operatorname{uz_{i}}{\\left(t \\right)} - 2 \\operatorname{e_{3 i}}{\\left(t \\right)} \\operatorname{uy_{i}}{\\left(t \\right)}\\\\0 & 0 & 1 & 2 \\operatorname{e_{0 i}}{\\left(t \\right)} \\operatorname{uz_{i}}{\\left(t \\right)} + 2 \\operatorname{e_{1 i}}{\\left(t \\right)} \\operatorname{uy_{i}}{\\left(t \\right)} - 2 \\operatorname{e_{2 i}}{\\left(t \\right)} \\operatorname{ux_{i}}{\\left(t \\right)} & 2 \\operatorname{e_{0 i}}{\\left(t \\right)} \\operatorname{uy_{i}}{\\left(t \\right)} - 2 \\operatorname{e_{1 i}}{\\left(t \\right)} \\operatorname{uz_{i}}{\\left(t \\right)} + 2 \\operatorname{e_{3 i}}{\\left(t \\right)} \\operatorname{ux_{i}}{\\left(t \\right)} & - 2 \\operatorname{e_{0 i}}{\\left(t \\right)} \\operatorname{ux_{i}}{\\left(t \\right)} - 2 \\operatorname{e_{2 i}}{\\left(t \\right)} \\operatorname{uz_{i}}{\\left(t \\right)} + 2 \\operatorname{e_{3 i}}{\\left(t \\right)} \\operatorname{uy_{i}}{\\left(t \\right)} & 2 \\operatorname{e_{1 i}}{\\left(t \\right)} \\operatorname{ux_{i}}{\\left(t \\right)} + 2 \\operatorname{e_{2 i}}{\\left(t \\right)} \\operatorname{uy_{i}}{\\left(t \\right)} + 2 \\operatorname{e_{3 i}}{\\left(t \\right)} \\operatorname{uz_{i}}{\\left(t \\right)}\\end{matrix}\\right]$"
      ],
      "text/plain": [
       "Matrix([\n",
       "[1, 0, 0, 2*e0_i(t)*ux_i(t) + 2*e2_i(t)*uz_i(t) - 2*e3_i(t)*uy_i(t),  2*e1_i(t)*ux_i(t) + 2*e2_i(t)*uy_i(t) + 2*e3_i(t)*uz_i(t),  2*e0_i(t)*uz_i(t) + 2*e1_i(t)*uy_i(t) - 2*e2_i(t)*ux_i(t), -2*e0_i(t)*uy_i(t) + 2*e1_i(t)*uz_i(t) - 2*e3_i(t)*ux_i(t)],\n",
       "[0, 1, 0, 2*e0_i(t)*uy_i(t) - 2*e1_i(t)*uz_i(t) + 2*e3_i(t)*ux_i(t), -2*e0_i(t)*uz_i(t) - 2*e1_i(t)*uy_i(t) + 2*e2_i(t)*ux_i(t),  2*e1_i(t)*ux_i(t) + 2*e2_i(t)*uy_i(t) + 2*e3_i(t)*uz_i(t),  2*e0_i(t)*ux_i(t) + 2*e2_i(t)*uz_i(t) - 2*e3_i(t)*uy_i(t)],\n",
       "[0, 0, 1, 2*e0_i(t)*uz_i(t) + 2*e1_i(t)*uy_i(t) - 2*e2_i(t)*ux_i(t),  2*e0_i(t)*uy_i(t) - 2*e1_i(t)*uz_i(t) + 2*e3_i(t)*ux_i(t), -2*e0_i(t)*ux_i(t) - 2*e2_i(t)*uz_i(t) + 2*e3_i(t)*uy_i(t),  2*e1_i(t)*ux_i(t) + 2*e2_i(t)*uy_i(t) + 2*e3_i(t)*uz_i(t)]])"
      ]
     },
     "execution_count": 27,
     "metadata": {},
     "output_type": "execute_result"
    }
   ],
   "source": [
    "Ri = sm.Matrix(symbols('x_i, y_i, z_i'))\n",
    "Pi = sm.Matrix(symbols('e0_i, e1_i, e2_i, e3_i'))\n",
    "ui = sm.Matrix(symbols('ux_i, uy_i, uz_i'))\n",
    "\n",
    "Rj = sm.Matrix(symbols('x_j, y_j, z_j'))\n",
    "Pj = sm.Matrix(symbols('e0_j, e1_j, e2_j, e3_j'))\n",
    "uj = sm.Matrix(symbols('ux_j, uy_j, uz_j'))\n",
    "\n",
    "dij = Ri + A(Pi)*ui - Rj - A(Pj)*uj\n",
    "jac_i = dij.jacobian(sm.Matrix([*Ri, *Pi]))\n",
    "jac_i"
   ]
  },
  {
   "cell_type": "code",
   "execution_count": 30,
   "metadata": {},
   "outputs": [],
   "source": [
    "acc = dij.diff('t',2)"
   ]
  },
  {
   "cell_type": "code",
   "execution_count": 41,
   "metadata": {},
   "outputs": [],
   "source": [
    "syms = 'x_i2, y_i2, z_i2, e0_i2, e1_i2, e2_i2, e3_i2, x_j2, y_j2, z_j2, e0_j2, e1_j2, e2_j2, e3_j2'.split(', ')\n",
    "subs = dict(zip([*sm.Matrix([*(Ri.diff('t',2)), *(Pi.diff('t',2)), *(Rj.diff('t',2)), *(Pj.diff('t',2))])], syms))\n",
    "acc = acc.subs(subs)\n",
    "sys = sm.linear_eq_to_matrix(acc, sm.symbols(syms))"
   ]
  },
  {
   "cell_type": "code",
   "execution_count": 45,
   "metadata": {},
   "outputs": [
    {
     "data": {
      "text/latex": [
       "$\\displaystyle - 2 \\left(\\operatorname{e_{0 i}}{\\left(t \\right)} \\operatorname{e_{2 i}}{\\left(t \\right)} + \\operatorname{e_{1 i}}{\\left(t \\right)} \\operatorname{e_{3 i}}{\\left(t \\right)}\\right) \\frac{d^{2}}{d t^{2}} \\operatorname{uz_{i}}{\\left(t \\right)} + 2 \\left(\\operatorname{e_{0 i}}{\\left(t \\right)} \\operatorname{e_{3 i}}{\\left(t \\right)} - \\operatorname{e_{1 i}}{\\left(t \\right)} \\operatorname{e_{2 i}}{\\left(t \\right)}\\right) \\frac{d^{2}}{d t^{2}} \\operatorname{uy_{i}}{\\left(t \\right)} + 2 \\left(\\operatorname{e_{0 j}}{\\left(t \\right)} \\operatorname{e_{2 j}}{\\left(t \\right)} + \\operatorname{e_{1 j}}{\\left(t \\right)} \\operatorname{e_{3 j}}{\\left(t \\right)}\\right) \\frac{d^{2}}{d t^{2}} \\operatorname{uz_{j}}{\\left(t \\right)} - 2 \\left(\\operatorname{e_{0 j}}{\\left(t \\right)} \\operatorname{e_{3 j}}{\\left(t \\right)} - \\operatorname{e_{1 j}}{\\left(t \\right)} \\operatorname{e_{2 j}}{\\left(t \\right)}\\right) \\frac{d^{2}}{d t^{2}} \\operatorname{uy_{j}}{\\left(t \\right)} - 2 \\left(2 \\frac{d}{d t} \\operatorname{e_{0 i}}{\\left(t \\right)} \\frac{d}{d t} \\operatorname{e_{2 i}}{\\left(t \\right)} + 2 \\frac{d}{d t} \\operatorname{e_{1 i}}{\\left(t \\right)} \\frac{d}{d t} \\operatorname{e_{3 i}}{\\left(t \\right)}\\right) \\operatorname{uz_{i}}{\\left(t \\right)} + 2 \\left(2 \\frac{d}{d t} \\operatorname{e_{0 i}}{\\left(t \\right)} \\frac{d}{d t} \\operatorname{e_{3 i}}{\\left(t \\right)} - 2 \\frac{d}{d t} \\operatorname{e_{1 i}}{\\left(t \\right)} \\frac{d}{d t} \\operatorname{e_{2 i}}{\\left(t \\right)}\\right) \\operatorname{uy_{i}}{\\left(t \\right)} + 2 \\left(2 \\frac{d}{d t} \\operatorname{e_{0 j}}{\\left(t \\right)} \\frac{d}{d t} \\operatorname{e_{2 j}}{\\left(t \\right)} + 2 \\frac{d}{d t} \\operatorname{e_{1 j}}{\\left(t \\right)} \\frac{d}{d t} \\operatorname{e_{3 j}}{\\left(t \\right)}\\right) \\operatorname{uz_{j}}{\\left(t \\right)} - 2 \\left(2 \\frac{d}{d t} \\operatorname{e_{0 j}}{\\left(t \\right)} \\frac{d}{d t} \\operatorname{e_{3 j}}{\\left(t \\right)} - 2 \\frac{d}{d t} \\operatorname{e_{1 j}}{\\left(t \\right)} \\frac{d}{d t} \\operatorname{e_{2 j}}{\\left(t \\right)}\\right) \\operatorname{uy_{j}}{\\left(t \\right)} - 4 \\left(\\operatorname{e_{0 i}}{\\left(t \\right)} \\frac{d}{d t} \\operatorname{e_{0 i}}{\\left(t \\right)} + \\operatorname{e_{1 i}}{\\left(t \\right)} \\frac{d}{d t} \\operatorname{e_{1 i}}{\\left(t \\right)} - \\operatorname{e_{2 i}}{\\left(t \\right)} \\frac{d}{d t} \\operatorname{e_{2 i}}{\\left(t \\right)} - \\operatorname{e_{3 i}}{\\left(t \\right)} \\frac{d}{d t} \\operatorname{e_{3 i}}{\\left(t \\right)}\\right) \\frac{d}{d t} \\operatorname{ux_{i}}{\\left(t \\right)} - 4 \\left(\\operatorname{e_{0 i}}{\\left(t \\right)} \\frac{d}{d t} \\operatorname{e_{2 i}}{\\left(t \\right)} + \\operatorname{e_{1 i}}{\\left(t \\right)} \\frac{d}{d t} \\operatorname{e_{3 i}}{\\left(t \\right)} + \\operatorname{e_{2 i}}{\\left(t \\right)} \\frac{d}{d t} \\operatorname{e_{0 i}}{\\left(t \\right)} + \\operatorname{e_{3 i}}{\\left(t \\right)} \\frac{d}{d t} \\operatorname{e_{1 i}}{\\left(t \\right)}\\right) \\frac{d}{d t} \\operatorname{uz_{i}}{\\left(t \\right)} + 4 \\left(\\operatorname{e_{0 i}}{\\left(t \\right)} \\frac{d}{d t} \\operatorname{e_{3 i}}{\\left(t \\right)} - \\operatorname{e_{1 i}}{\\left(t \\right)} \\frac{d}{d t} \\operatorname{e_{2 i}}{\\left(t \\right)} - \\operatorname{e_{2 i}}{\\left(t \\right)} \\frac{d}{d t} \\operatorname{e_{1 i}}{\\left(t \\right)} + \\operatorname{e_{3 i}}{\\left(t \\right)} \\frac{d}{d t} \\operatorname{e_{0 i}}{\\left(t \\right)}\\right) \\frac{d}{d t} \\operatorname{uy_{i}}{\\left(t \\right)} + 4 \\left(\\operatorname{e_{0 j}}{\\left(t \\right)} \\frac{d}{d t} \\operatorname{e_{0 j}}{\\left(t \\right)} + \\operatorname{e_{1 j}}{\\left(t \\right)} \\frac{d}{d t} \\operatorname{e_{1 j}}{\\left(t \\right)} - \\operatorname{e_{2 j}}{\\left(t \\right)} \\frac{d}{d t} \\operatorname{e_{2 j}}{\\left(t \\right)} - \\operatorname{e_{3 j}}{\\left(t \\right)} \\frac{d}{d t} \\operatorname{e_{3 j}}{\\left(t \\right)}\\right) \\frac{d}{d t} \\operatorname{ux_{j}}{\\left(t \\right)} + 4 \\left(\\operatorname{e_{0 j}}{\\left(t \\right)} \\frac{d}{d t} \\operatorname{e_{2 j}}{\\left(t \\right)} + \\operatorname{e_{1 j}}{\\left(t \\right)} \\frac{d}{d t} \\operatorname{e_{3 j}}{\\left(t \\right)} + \\operatorname{e_{2 j}}{\\left(t \\right)} \\frac{d}{d t} \\operatorname{e_{0 j}}{\\left(t \\right)} + \\operatorname{e_{3 j}}{\\left(t \\right)} \\frac{d}{d t} \\operatorname{e_{1 j}}{\\left(t \\right)}\\right) \\frac{d}{d t} \\operatorname{uz_{j}}{\\left(t \\right)} - 4 \\left(\\operatorname{e_{0 j}}{\\left(t \\right)} \\frac{d}{d t} \\operatorname{e_{3 j}}{\\left(t \\right)} - \\operatorname{e_{1 j}}{\\left(t \\right)} \\frac{d}{d t} \\operatorname{e_{2 j}}{\\left(t \\right)} - \\operatorname{e_{2 j}}{\\left(t \\right)} \\frac{d}{d t} \\operatorname{e_{1 j}}{\\left(t \\right)} + \\operatorname{e_{3 j}}{\\left(t \\right)} \\frac{d}{d t} \\operatorname{e_{0 j}}{\\left(t \\right)}\\right) \\frac{d}{d t} \\operatorname{uy_{j}}{\\left(t \\right)} - \\left(\\operatorname{e_{0 i}}^{2}{\\left(t \\right)} + \\operatorname{e_{1 i}}^{2}{\\left(t \\right)} - \\operatorname{e_{2 i}}^{2}{\\left(t \\right)} - \\operatorname{e_{3 i}}^{2}{\\left(t \\right)}\\right) \\frac{d^{2}}{d t^{2}} \\operatorname{ux_{i}}{\\left(t \\right)} + \\left(\\operatorname{e_{0 j}}^{2}{\\left(t \\right)} + \\operatorname{e_{1 j}}^{2}{\\left(t \\right)} - \\operatorname{e_{2 j}}^{2}{\\left(t \\right)} - \\operatorname{e_{3 j}}^{2}{\\left(t \\right)}\\right) \\frac{d^{2}}{d t^{2}} \\operatorname{ux_{j}}{\\left(t \\right)} - 2 \\left(\\left(\\frac{d}{d t} \\operatorname{e_{0 i}}{\\left(t \\right)}\\right)^{2} + \\left(\\frac{d}{d t} \\operatorname{e_{1 i}}{\\left(t \\right)}\\right)^{2} - \\left(\\frac{d}{d t} \\operatorname{e_{2 i}}{\\left(t \\right)}\\right)^{2} - \\left(\\frac{d}{d t} \\operatorname{e_{3 i}}{\\left(t \\right)}\\right)^{2}\\right) \\operatorname{ux_{i}}{\\left(t \\right)} + 2 \\left(\\left(\\frac{d}{d t} \\operatorname{e_{0 j}}{\\left(t \\right)}\\right)^{2} + \\left(\\frac{d}{d t} \\operatorname{e_{1 j}}{\\left(t \\right)}\\right)^{2} - \\left(\\frac{d}{d t} \\operatorname{e_{2 j}}{\\left(t \\right)}\\right)^{2} - \\left(\\frac{d}{d t} \\operatorname{e_{3 j}}{\\left(t \\right)}\\right)^{2}\\right) \\operatorname{ux_{j}}{\\left(t \\right)}$"
      ],
      "text/plain": [
       "-2*(e0_i(t)*e2_i(t) + e1_i(t)*e3_i(t))*Derivative(uz_i(t), (t, 2)) + 2*(e0_i(t)*e3_i(t) - e1_i(t)*e2_i(t))*Derivative(uy_i(t), (t, 2)) + 2*(e0_j(t)*e2_j(t) + e1_j(t)*e3_j(t))*Derivative(uz_j(t), (t, 2)) - 2*(e0_j(t)*e3_j(t) - e1_j(t)*e2_j(t))*Derivative(uy_j(t), (t, 2)) - 2*(2*Derivative(e0_i(t), t)*Derivative(e2_i(t), t) + 2*Derivative(e1_i(t), t)*Derivative(e3_i(t), t))*uz_i(t) + 2*(2*Derivative(e0_i(t), t)*Derivative(e3_i(t), t) - 2*Derivative(e1_i(t), t)*Derivative(e2_i(t), t))*uy_i(t) + 2*(2*Derivative(e0_j(t), t)*Derivative(e2_j(t), t) + 2*Derivative(e1_j(t), t)*Derivative(e3_j(t), t))*uz_j(t) - 2*(2*Derivative(e0_j(t), t)*Derivative(e3_j(t), t) - 2*Derivative(e1_j(t), t)*Derivative(e2_j(t), t))*uy_j(t) - 4*(e0_i(t)*Derivative(e0_i(t), t) + e1_i(t)*Derivative(e1_i(t), t) - e2_i(t)*Derivative(e2_i(t), t) - e3_i(t)*Derivative(e3_i(t), t))*Derivative(ux_i(t), t) - 4*(e0_i(t)*Derivative(e2_i(t), t) + e1_i(t)*Derivative(e3_i(t), t) + e2_i(t)*Derivative(e0_i(t), t) + e3_i(t)*Derivative(e1_i(t), t))*Derivative(uz_i(t), t) + 4*(e0_i(t)*Derivative(e3_i(t), t) - e1_i(t)*Derivative(e2_i(t), t) - e2_i(t)*Derivative(e1_i(t), t) + e3_i(t)*Derivative(e0_i(t), t))*Derivative(uy_i(t), t) + 4*(e0_j(t)*Derivative(e0_j(t), t) + e1_j(t)*Derivative(e1_j(t), t) - e2_j(t)*Derivative(e2_j(t), t) - e3_j(t)*Derivative(e3_j(t), t))*Derivative(ux_j(t), t) + 4*(e0_j(t)*Derivative(e2_j(t), t) + e1_j(t)*Derivative(e3_j(t), t) + e2_j(t)*Derivative(e0_j(t), t) + e3_j(t)*Derivative(e1_j(t), t))*Derivative(uz_j(t), t) - 4*(e0_j(t)*Derivative(e3_j(t), t) - e1_j(t)*Derivative(e2_j(t), t) - e2_j(t)*Derivative(e1_j(t), t) + e3_j(t)*Derivative(e0_j(t), t))*Derivative(uy_j(t), t) - (e0_i(t)**2 + e1_i(t)**2 - e2_i(t)**2 - e3_i(t)**2)*Derivative(ux_i(t), (t, 2)) + (e0_j(t)**2 + e1_j(t)**2 - e2_j(t)**2 - e3_j(t)**2)*Derivative(ux_j(t), (t, 2)) - 2*(Derivative(e0_i(t), t)**2 + Derivative(e1_i(t), t)**2 - Derivative(e2_i(t), t)**2 - Derivative(e3_i(t), t)**2)*ux_i(t) + 2*(Derivative(e0_j(t), t)**2 + Derivative(e1_j(t), t)**2 - Derivative(e2_j(t), t)**2 - Derivative(e3_j(t), t)**2)*ux_j(t)"
      ]
     },
     "execution_count": 45,
     "metadata": {},
     "output_type": "execute_result"
    }
   ],
   "source": [
    "sys[1][0]"
   ]
  },
  {
   "cell_type": "code",
   "execution_count": 23,
   "metadata": {},
   "outputs": [
    {
     "data": {
      "text/latex": [
       "$\\displaystyle \\left[\\begin{matrix}\\frac{d}{d t} \\operatorname{x_{i}}{\\left(t \\right)}\\\\\\frac{d}{d t} \\operatorname{y_{i}}{\\left(t \\right)}\\\\\\frac{d}{d t} \\operatorname{z_{i}}{\\left(t \\right)}\\end{matrix}\\right]$"
      ],
      "text/plain": [
       "Matrix([\n",
       "[Derivative(x_i(t), t)],\n",
       "[Derivative(y_i(t), t)],\n",
       "[Derivative(z_i(t), t)]])"
      ]
     },
     "execution_count": 23,
     "metadata": {},
     "output_type": "execute_result"
    }
   ],
   "source": [
    "dij.diff('t')"
   ]
  },
  {
   "cell_type": "code",
   "execution_count": null,
   "metadata": {},
   "outputs": [],
   "source": []
  },
  {
   "cell_type": "code",
   "execution_count": null,
   "metadata": {},
   "outputs": [],
   "source": [
    "class spehrical_constraint(object):\n",
    "    \n",
    "    # Number of Scalar Constraint Equations\n",
    "    nc  = 3\n",
    "    \n",
    "    def __init__(self):\n",
    "        pass\n",
    "    \n",
    "    def construct(self, obj):\n",
    "        \n",
    "        e0_i, \n",
    "        \n",
    "        pos_level_equation = Matrix([[ux_i*(e0_i**2 + e1_i**2 - e2_i**2 - e3_i**2) - ux_j*(e0_j**2 + e1_j**2 - e2_j**2 - e3_j**2) + uy_i*(-2*e0_i*e3_i + 2*e1_i*e2_i) - uy_j*(-2*e0_j*e3_j + 2*e1_j*e2_j) + uz_i*(2*e0_i*e2_i + 2*e1_i*e3_i) - uz_j*(2*e0_j*e2_j + 2*e1_j*e3_j) + x_i - x_j], \n",
    "                                     [ux_i*(2*e0_i*e3_i + 2*e1_i*e2_i) - ux_j*(2*e0_j*e3_j + 2*e1_j*e2_j) + uy_i*(e0_i**2 - e1_i**2 + e2_i**2 - e3_i**2) - uy_j*(e0_j**2 - e1_j**2 + e2_j**2 - e3_j**2) + uz_i*(-2*e0_i*e1_i + 2*e2_i*e3_i) - uz_j*(-2*e0_j*e1_j + 2*e2_j*e3_j) + y_i - y_j], \n",
    "                                     [ux_i*(-2*e0_i*e2_i + 2*e1_i*e3_i) - ux_j*(-2*e0_j*e2_j + 2*e1_j*e3_j) + uy_i*(2*e0_i*e1_i + 2*e2_i*e3_i) - uy_j*(2*e0_j*e1_j + 2*e2_j*e3_j) + uz_i*(e0_i**2 - e1_i**2 - e2_i**2 + e3_i**2) - uz_j*(e0_j**2 - e1_j**2 - e2_j**2 + e3_j**2) + z_i - z_j]])\n",
    "        \n",
    "        vel_level_equation = zero_matrix(3,1)\n",
    "        acc_level_equation = B(obj.Pdi,obj.ui_bar)*obj.Pdi\\\n",
    "                            -B(obj.Pdj,obj.uj_bar)*obj.Pdj\n",
    "            \n",
    "        jacobian = ([ I,  obj.Bui] , [-I, -obj.Buj])\n",
    "        \n",
    "        obj._pos_level_equations.append(pos_level_equation)\n",
    "        obj._vel_level_equations.append(vel_level_equation)\n",
    "        obj._acc_level_equations.append(acc_level_equation)\n",
    "        \n",
    "        obj._jacobian_i.append(jacobian[0])\n",
    "        obj._jacobian_j.append(jacobian[1])"
   ]
  }
 ],
 "metadata": {
  "kernelspec": {
   "display_name": "Python 3",
   "language": "python",
   "name": "python3"
  },
  "language_info": {
   "codemirror_mode": {
    "name": "ipython",
    "version": 3
   },
   "file_extension": ".py",
   "mimetype": "text/x-python",
   "name": "python",
   "nbconvert_exporter": "python",
   "pygments_lexer": "ipython3",
   "version": "3.7.3"
  }
 },
 "nbformat": 4,
 "nbformat_minor": 4
}
