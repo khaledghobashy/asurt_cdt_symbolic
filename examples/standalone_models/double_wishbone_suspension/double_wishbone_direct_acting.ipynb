{
 "cells": [
  {
   "cell_type": "markdown",
   "metadata": {},
   "source": [
    "# STANDALONE STUDY"
   ]
  },
  {
   "cell_type": "markdown",
   "metadata": {},
   "source": [
    "## **SYSTEM DESCRIPTION**\n",
    "-------------------------"
   ]
  },
  {
   "cell_type": "code",
   "execution_count": 5,
   "metadata": {},
   "outputs": [
    {
     "data": {
      "text/markdown": [
       "# DOUBLE WISHBONE DIRECT ACTING\n",
       "\n",
       "**STANDALONE TOPOLOGY**\n",
       "\n",
       "------------------------------------------------\n",
       "\n",
       "### **Summary**\n",
       "\n",
       "A **double wishbone** mechanism is a type of  independent suspension mechanism used for automotive. It controls the motion of the wheel assembly via two control arms that are connected to the chassis from one end and to the wheel-carrier on the other end, which resembles a **four-bar linkage**, with the chassis being the ground, and the wheel-carrier being the coupler. The wheel-carrier is connected also to the chassis via a tie-rod that constrains the steering of the wheel-assembly as well. \n",
       "\n",
       "This kinematic chain is augmented with a another simple chain that controls the vertical motion of the wheel-assembly, this simple chain can be a direct-acting coil-over that is connected to either one of the control arms and the chassis, or can be a rocker-push/pull rod mechanism that is connected to the coil-over.\n",
       "\n",
       "![Figure 1 - System Layout](double_wishbone.png)\n",
       "\n",
       "*Figure 1 - Double Wishbone Layout*\n",
       "\n",
       "--------------------------------------\n",
       "\n",
       "### **Topology Layout**\n",
       "\n",
       "The mechanism consists of 8 Bodies + 1 Ground. Therefore, total system coordinates -including the ground- is $n=n_b\\times7 = 9\\times7 = 63$, where $n_b$ is the total number of bodies. [^1]\n",
       "\n",
       "The list of bodies is given below:\n",
       "\n",
       "- Upper Control Arm **(UCA)**.\n",
       "- Lower Control Arm **(LCA)**.\n",
       "- Upright.\n",
       "- Wheel Hub.\n",
       "- Tie-Rod.\n",
       "- CoilOver P1.\n",
       "- CoilOver P2.\n",
       "- Steering Rack.\n",
       "\n",
       "The system connectivity is given in the table below.\n",
       "\n",
       "<center>\n",
       "\n",
       "| Joint Name      | Body i        | Body j      |  Joint Type   | $n_c$ |\n",
       "| :-------------- | :------------ | :---------- | :-----------: | ----: |\n",
       "| UCA Outer Joint | UCA           | Upright     |   Spherical   |     3 |\n",
       "| LCA Outer Joint | LCA           | Upright     |   Spherical   |     3 |\n",
       "| Tie-Rod Outer   | Tie-Rod       | Upright     |   Spherical   |     3 |\n",
       "| UCA-Chassis     | UCA           | Chassis     |   Revolute    |     5 |\n",
       "| LCA-Chassis     | LCA           | Chassis     |   Revolute    |     5 |\n",
       "| Hub Bearing     | Wheel-Hub     | Upright     |   Revolute    |     5 |\n",
       "| Tie-Rod Inner   | Tie-Rod       | Chassis     |   Universal   |     4 |\n",
       "| CoilOver Top    | CoilOver P1   | Chassis     |   Universal   |     4 |\n",
       "| CoilOver Bottom | CoilOver P2   | UCA         |   Universal   |     4 |\n",
       "| CoilOver Cyl    | CoilOver P1   | CoilOver P2 |  Cylindrical  |     4 |\n",
       "| Rack-Chassis    | Steering Rack | Chassis     | Translational |     5 |\n",
       "| **Total**       |               |             |               |    45 |\n",
       "\n",
       "</center>\n",
       "\n",
       "</br>\n",
       "\n",
       "Hence, the total number of constraints equations is:\n",
       "$$ n_{c} = n_{c_j} + n_{c_p} + n_{c_g} = 45 + (9\\times 1) + 6 = 60 $$\n",
       "\n",
       "where:\n",
       "* $n_{c_j}$ is the joints constraints.\n",
       "* $n_{c_p}$ is the euler-parameters normalization constraints.\n",
       "* $n_{c_g}$ is the ground constraints.\n",
       "\n",
       "Therefore, the resulting **DOF** is:\n",
       "$$ n - n_c = 63 - 60 = 3 $$\n",
       "\n",
       "which can be interpreted in a convenient way that one DOF is the rotational motion of the wheel, one is the vertical motion and one for the rack travel.\n",
       "\n",
       "------------------------------------------------------\n",
       "<br/>\n",
       "\n",
       "[^1]: The tool uses [euler-parameters](https://en.wikibooks.org/wiki/Multibody_Mechanics/Euler_Parameters) -which is a 4D unit quaternion- to represents bodies orientation in space. This makes the generalized coordinates used to fully define a body in space to be **7,** instead of **6**, it also adds an algebraic equation to the constraints that ensures the unity/normalization of the body quaternion. This is an important remark as the calculations of the degrees-of-freedom depends on it.\n",
       "\n"
      ],
      "text/plain": [
       "<IPython.core.display.Markdown object>"
      ]
     },
     "metadata": {},
     "output_type": "display_data"
    }
   ],
   "source": [
    "from IPython.display import display, Markdown\n",
    "display(Markdown(filename='double_wishbone.md'))"
   ]
  },
  {
   "cell_type": "markdown",
   "metadata": {},
   "source": [
    "-------------------\n",
    "-------------------"
   ]
  },
  {
   "cell_type": "markdown",
   "metadata": {},
   "source": [
    "## Environment Setup\n",
    "--------------------"
   ]
  },
  {
   "cell_type": "markdown",
   "metadata": {},
   "source": [
    "### Colab Session\n",
    "*Run if in a Colab Session Only!*"
   ]
  },
  {
   "cell_type": "markdown",
   "metadata": {},
   "source": [
    "#### Setting-up Colab Virtual Machine\n",
    "This will install the needed modules into the Virtual Machine dedicated for the running notebook session."
   ]
  },
  {
   "cell_type": "code",
   "execution_count": null,
   "metadata": {},
   "outputs": [],
   "source": [
    "!pip install uraeus.smbd"
   ]
  },
  {
   "cell_type": "markdown",
   "metadata": {},
   "source": [
    "Creating a new directory, `/uraeus_smbd`, where we can store the model files and results."
   ]
  },
  {
   "cell_type": "code",
   "execution_count": null,
   "metadata": {},
   "outputs": [],
   "source": [
    "import os\n",
    "\n",
    "os.mkdir('uraeus_smbd')\n",
    "os.chdir('uraeus_smbd')"
   ]
  },
  {
   "cell_type": "markdown",
   "metadata": {},
   "source": [
    "#### Rendering SymPy in Colab\n",
    "Rendering SymPy equations in Colab requires the MathJax javascript library to be available within each cell output. The following defines an execution hook that loads it automatically each time you execute a cell."
   ]
  },
  {
   "cell_type": "code",
   "execution_count": null,
   "metadata": {},
   "outputs": [],
   "source": [
    "from IPython.display import Math, HTML\n",
    "\n",
    "def load_mathjax_in_cell_output():\n",
    "  display(HTML(\"<script src='https://www.gstatic.com/external_hosted/\"\n",
    "               \"mathjax/latest/MathJax.js?config=default'></script>\"))\n",
    "get_ipython().events.register('pre_run_cell', load_mathjax_in_cell_output)"
   ]
  },
  {
   "cell_type": "markdown",
   "metadata": {},
   "source": [
    "---------------------------------------------------------------"
   ]
  },
  {
   "cell_type": "markdown",
   "metadata": {},
   "source": [
    "### Local Session\n",
    "*Run if on your Local Machine!*</br>"
   ]
  },
  {
   "cell_type": "markdown",
   "metadata": {},
   "source": [
    "Creating Project Directories"
   ]
  },
  {
   "cell_type": "code",
   "execution_count": 1,
   "metadata": {},
   "outputs": [],
   "source": [
    "from uraeus.smbd.systems import standalone_project"
   ]
  },
  {
   "cell_type": "code",
   "execution_count": 2,
   "metadata": {},
   "outputs": [],
   "source": [
    "project = standalone_project()\n",
    "project.create()"
   ]
  },
  {
   "cell_type": "markdown",
   "metadata": {},
   "source": [
    "---------------------------------------------------------------\n",
    "---------------------------------------------------------------"
   ]
  },
  {
   "cell_type": "markdown",
   "metadata": {},
   "source": [
    "## SYSTEM MODELING"
   ]
  },
  {
   "cell_type": "markdown",
   "metadata": {},
   "source": [
    "## **SYMBOLIC TOPOLOGY**\n",
    "------------------------"
   ]
  },
  {
   "cell_type": "markdown",
   "metadata": {},
   "source": [
    "In this section, we create the symbolic topology that captures the topological layout that we just discussed.</br>\n",
    "Defining the topology is very simple. We start by creating an instance of the ```standalone_topology``` class that represents our symbolic model. Then we start adding the components we discussed earlier, starting by the bodies, then the joints, actuators and forces, and thats it.</br>\n",
    "These components will be represented symbolically, and therefore there is no need for any numerical inputs at this step.\n",
    "\n",
    "The system is stored in a form of a network graph that stores all the data needed for the assemblage of the system equations later. But even before the assemblage process, we can gain helpful insights about our system as well be shown.\n"
   ]
  },
  {
   "cell_type": "code",
   "execution_count": 3,
   "metadata": {},
   "outputs": [],
   "source": [
    "from uraeus.smbd.systems import standalone_topology, configuration"
   ]
  },
  {
   "cell_type": "code",
   "execution_count": 4,
   "metadata": {},
   "outputs": [],
   "source": [
    "project_name = 'dwb_direct_acting'"
   ]
  },
  {
   "cell_type": "code",
   "execution_count": 5,
   "metadata": {},
   "outputs": [],
   "source": [
    "sym_model = standalone_topology(project_name)"
   ]
  },
  {
   "cell_type": "markdown",
   "metadata": {},
   "source": [
    "### Adding Bodies"
   ]
  },
  {
   "cell_type": "code",
   "execution_count": 6,
   "metadata": {},
   "outputs": [],
   "source": [
    "# Adding Bodies\n",
    "# =============\n",
    "sym_model.add_body('uca', mirror=True)\n",
    "sym_model.add_body('lca', mirror=True)\n",
    "sym_model.add_body('upright', mirror=True)\n",
    "sym_model.add_body('upper_strut', mirror=True)\n",
    "sym_model.add_body('lower_strut' ,mirror=True)\n",
    "sym_model.add_body('tie_rod', mirror=True)\n",
    "sym_model.add_body('hub', mirror=True)\n",
    "sym_model.add_body('steer_rack')\n"
   ]
  },
  {
   "cell_type": "markdown",
   "metadata": {},
   "source": [
    "### Adding Joints"
   ]
  },
  {
   "cell_type": "code",
   "execution_count": 7,
   "metadata": {},
   "outputs": [],
   "source": [
    "# Adding Joints\n",
    "# =============\n",
    "\n",
    "# Upper Control Arm Joints\n",
    "sym_model.add_joint.spherical('uca_upright', 'rbr_uca', 'rbr_upright', mirror=True)\n",
    "sym_model.add_joint.revolute('uca_chassis', 'rbr_uca', 'ground', mirror=True)\n",
    "\n",
    "# Lower Control Arm Joints\n",
    "sym_model.add_joint.spherical('lca_upright', 'rbr_lca', 'rbr_upright', mirror=True)\n",
    "sym_model.add_joint.revolute('lca_chassis', 'rbr_lca', 'ground', mirror=True)\n",
    "\n",
    "# Tie-Rod Joints\n",
    "sym_model.add_joint.spherical('tie_upright', 'rbr_tie_rod', 'rbr_upright', mirror=True)\n",
    "sym_model.add_joint.universal('tie_steering', 'rbr_tie_rod', 'rbs_steer_rack', mirror=True)\n",
    "\n",
    "# Hub Bearing Joint\n",
    "sym_model.add_joint.revolute('hub_bearing', 'rbr_upright', 'rbr_hub', mirror=True)\n",
    "\n",
    "# Strut/Coilover Joints\n",
    "sym_model.add_joint.universal('strut_chassis', 'rbr_upper_strut', 'ground', mirror=True)\n",
    "sym_model.add_joint.universal('strut_uca', 'rbr_lower_strut', 'rbr_uca', mirror=True)\n",
    "sym_model.add_joint.cylinderical('strut', 'rbr_upper_strut', 'rbr_lower_strut', mirror=True)\n",
    "\n",
    "# Steering Rack Joint\n",
    "sym_model.add_joint.translational('rack', 'rbs_steer_rack', 'ground')\n"
   ]
  },
  {
   "cell_type": "markdown",
   "metadata": {},
   "source": [
    "### Adding Actuators"
   ]
  },
  {
   "cell_type": "code",
   "execution_count": 8,
   "metadata": {},
   "outputs": [],
   "source": [
    "# Adding Actuators\n",
    "# ================\n",
    "\n",
    "# Wheel Spin Lock\n",
    "sym_model.add_actuator.rotational_actuator('wheel_lock', 'jcr_hub_bearing', mirror=True)\n",
    "\n",
    "# Wheel Vertical Travel\n",
    "sym_model.add_actuator.absolute_locator('wheel_travel', 'rbr_upright', 'ground', 'z', mirror=True)\n",
    "\n",
    "# Steering-Rack Travel\n",
    "sym_model.add_actuator.translational_actuator('rack_travel', 'jcs_rack')\n"
   ]
  },
  {
   "cell_type": "markdown",
   "metadata": {},
   "source": [
    "### Adding Forces"
   ]
  },
  {
   "cell_type": "code",
   "execution_count": 9,
   "metadata": {},
   "outputs": [],
   "source": [
    "# Adding Forces\n",
    "# =============\n",
    "sym_model.add_force.internal_force('strut', 'rbr_upper_strut', 'rbr_lower_strut', mirror=True)"
   ]
  },
  {
   "cell_type": "markdown",
   "metadata": {
    "colab_type": "text",
    "id": "goKtOBuLd1Kh"
   },
   "source": [
    "### **SYMBOLIC CHARACTERISTICS**"
   ]
  },
  {
   "cell_type": "markdown",
   "metadata": {},
   "source": [
    "#### Topology Graph\n",
    "Visualizing the connectivity of the system as a network graph, where the nodes represent the bodies, and the edges represent the joints, forces and/or actuators between the bodies."
   ]
  },
  {
   "cell_type": "code",
   "execution_count": 10,
   "metadata": {},
   "outputs": [
    {
     "data": {
      "image/png": "[encoded data removed]",
      "text/plain": [
       "<Figure size 720x432 with 1 Axes>"
      ]
     },
     "metadata": {},
     "output_type": "display_data"
    }
   ],
   "source": [
    "sym_model.topology.draw_constraints_topology()"
   ]
  },
  {
   "cell_type": "markdown",
   "metadata": {},
   "source": [
    "Checking the system's number of generalized coordinates $n$ and number of constraints $n_c$."
   ]
  },
  {
   "cell_type": "code",
   "execution_count": 11,
   "metadata": {},
   "outputs": [
    {
     "data": {
      "text/latex": [
       "$\\displaystyle \\left( 112, \\  112\\right)$"
      ],
      "text/plain": [
       "(112, 112)"
      ]
     },
     "execution_count": 11,
     "metadata": {},
     "output_type": "execute_result"
    }
   ],
   "source": [
    "sym_model.topology.n, sym_model.topology.nc"
   ]
  },
  {
   "cell_type": "markdown",
   "metadata": {},
   "source": [
    "### **ASSEMBLING**"
   ]
  },
  {
   "cell_type": "markdown",
   "metadata": {},
   "source": [
    "This is the last step of the symbolic model building process, where the system starts the assemblage process of the governing equations, which will be used then in the code generation for the numerical simulation, and also can be used for further symbolic manipulations.</br>\n",
    "\n",
    "*Note: The equations' notations will be discussed in a separate documentation file.*"
   ]
  },
  {
   "cell_type": "code",
   "execution_count": 12,
   "metadata": {},
   "outputs": [],
   "source": [
    "sym_model.save('symenv')"
   ]
  },
  {
   "cell_type": "code",
   "execution_count": 13,
   "metadata": {},
   "outputs": [],
   "source": [
    "sym_model.assemble()"
   ]
  },
  {
   "cell_type": "markdown",
   "metadata": {},
   "source": [
    "---------------------------------------------------------------\n",
    "---------------------------------------------------------------"
   ]
  },
  {
   "cell_type": "markdown",
   "metadata": {},
   "source": [
    "## **SYSTEM CONFIGURATION**\n",
    "---------------------------"
   ]
  },
  {
   "cell_type": "markdown",
   "metadata": {},
   "source": [
    "In this step we define a symbolic configuration of our symbolic topology. As you may have noticed in the symbolic topology building step, we only cared about the **_topology_**, thats is the system bodies and their connectivity, and we did not care explicitly with how these components are configured in space.</br>\n",
    "\n",
    "In order to create a valid numerical simulation session, we have to provide the system with its numerical configuration needed, for example, the joints' locations and orientations. The symbolic topology in its raw form will require you to manually enter all these numerical arguments, which can be cumbersome even for smaller systems. This can be checked by checking the configuration inputs of the symbolic configuration as ```sym_config.config.input_nodes```\n",
    "\n",
    "Here we start by stating the symbolic inputs we wish to use instead of the default inputs set, and then we define the relation between these newly defined arguments and the original ones. \n",
    "\n",
    "**_The details of this process will be provided in the documentation._**"
   ]
  },
  {
   "cell_type": "code",
   "execution_count": 14,
   "metadata": {},
   "outputs": [],
   "source": [
    "# Symbolic configuration name.\n",
    "config_name = '%s_cfg'%project_name\n",
    "\n",
    "# Symbolic configuration instance.\n",
    "sym_config = configuration(config_name, sym_model)"
   ]
  },
  {
   "cell_type": "markdown",
   "metadata": {},
   "source": [
    "### CONFIGURATION INPUTS"
   ]
  },
  {
   "cell_type": "code",
   "execution_count": 15,
   "metadata": {},
   "outputs": [],
   "source": [
    "# Adding the desired set of UserInputs\n",
    "# ====================================\n",
    "\n",
    "sym_config.add_point.UserInput('ucaf', mirror=True)\n",
    "sym_config.add_point.UserInput('ucar', mirror=True)\n",
    "sym_config.add_point.UserInput('ucao', mirror=True)\n",
    "\n",
    "sym_config.add_point.UserInput('lcaf', mirror=True)\n",
    "sym_config.add_point.UserInput('lcar', mirror=True)\n",
    "sym_config.add_point.UserInput('lcao', mirror=True)\n",
    "\n",
    "sym_config.add_point.UserInput('tro', mirror=True)\n",
    "sym_config.add_point.UserInput('tri', mirror=True)\n",
    "\n",
    "sym_config.add_point.UserInput('strut_chassis', mirror=True)\n",
    "sym_config.add_point.UserInput('strut_arm', mirror=True)\n",
    "sym_config.add_point.UserInput('strut_mid', mirror=True)\n",
    "\n",
    "sym_config.add_point.UserInput('wc', mirror=True)\n",
    "sym_config.add_point.UserInput('wc1', mirror=True)\n",
    "sym_config.add_point.UserInput('wc2', mirror=True)\n",
    "\n",
    "sym_config.add_vector.UserInput('x')\n",
    "sym_config.add_vector.UserInput('y')\n",
    "sym_config.add_vector.UserInput('z')\n"
   ]
  },
  {
   "cell_type": "markdown",
   "metadata": {},
   "source": [
    "### CONFIGURATION RELATIONS"
   ]
  },
  {
   "cell_type": "code",
   "execution_count": 16,
   "metadata": {},
   "outputs": [],
   "source": [
    "# Defining Relations between original topology inputs\n",
    "# and our desired UserInputs.\n",
    "# ===================================================\n",
    "\n",
    "\n",
    "sym_config.add_point.Centered('strut_mid', ('hpr_strut_chassis', 'hpr_strut_arm'), mirror=True)\n",
    "\n",
    "# Spherical Joints:\n",
    "# =================\n",
    "sym_config.add_relation.Equal_to('pt1_jcr_uca_upright', ('hpr_ucao',), mirror=True)\n",
    "sym_config.add_relation.Equal_to('ax1_jcr_uca_upright', ('vcs_z',), mirror=True)\n",
    "\n",
    "sym_config.add_relation.Equal_to('pt1_jcr_lca_upright', ('hpr_lcao',), mirror=True)\n",
    "sym_config.add_relation.Equal_to('ax1_jcr_lca_upright', ('vcs_z',), mirror=True)\n",
    "\n",
    "sym_config.add_relation.Equal_to('pt1_jcr_tie_upright', ('hpr_tro',), mirror=True)\n",
    "sym_config.add_relation.Equal_to('ax1_jcr_tie_upright', ('vcs_z',), mirror=True)\n",
    "\n",
    "# Upper Control Arm Revolute Joint:\n",
    "# =================================\n",
    "sym_config.add_relation.Centered('pt1_jcr_uca_chassis', ('hpr_ucaf','hpr_ucar'), mirror=True)\n",
    "sym_config.add_relation.Oriented('ax1_jcr_uca_chassis', ('hpr_ucaf','hpr_ucar'), mirror=True)\n",
    "\n",
    "# Lower Control Arm Revolute Joint:\n",
    "# =================================\n",
    "sym_config.add_relation.Centered('pt1_jcr_lca_chassis', ('hpr_lcaf','hpr_lcar'), mirror=True)\n",
    "sym_config.add_relation.Oriented('ax1_jcr_lca_chassis', ('hpr_lcaf','hpr_lcar'), mirror=True)\n",
    "\n",
    "# Wheel Hub Revolute Joint:\n",
    "# =========================\n",
    "sym_config.add_relation.Equal_to('pt1_jcr_hub_bearing', ('hpr_wc',), mirror=True)\n",
    "sym_config.add_relation.Equal_to('ax1_jcr_hub_bearing', ('vcs_y',), mirror=True)\n",
    "\n",
    "# Strut-Chassis Universal Joint:\n",
    "# ==============================\n",
    "sym_config.add_relation.Equal_to('pt1_jcr_strut_chassis', ('hpr_strut_chassis',), mirror=True)\n",
    "sym_config.add_relation.Oriented('ax1_jcr_strut_chassis', ('hpr_strut_chassis','hpr_strut_arm'), mirror=True)\n",
    "sym_config.add_relation.Oriented('ax2_jcr_strut_chassis', ('hpr_strut_arm','hpr_strut_chassis'), mirror=True)\n",
    "\n",
    "# Strut-Control-Arm Universal Joint:\n",
    "# ==================================\n",
    "sym_config.add_relation.Equal_to('pt1_jcr_strut_uca', ('hpr_strut_arm',), mirror=True)\n",
    "sym_config.add_relation.Oriented('ax1_jcr_strut_uca', ('hpr_strut_chassis','hpr_strut_arm'), mirror=True)\n",
    "sym_config.add_relation.Oriented('ax2_jcr_strut_uca', ('hpr_strut_arm','hpr_strut_chassis'), mirror=True)\n",
    "\n",
    "# Tie-Steer Universal Joint:\n",
    "# ==========================\n",
    "sym_config.add_relation.Equal_to('pt1_jcr_tie_steering', ('hpr_tri',), mirror=True)\n",
    "sym_config.add_relation.Oriented('ax1_jcr_tie_steering', ('hpr_tri','hpr_tro'), mirror=True)\n",
    "sym_config.add_relation.Oriented('ax2_jcr_tie_steering', ('hpr_tro','hpr_tri'), mirror=True)\n",
    "\n",
    "# Strut Cylinderical Joint:\n",
    "# =========================\n",
    "sym_config.add_relation.Equal_to('pt1_jcr_strut', ('hpr_strut_mid',), mirror=True)\n",
    "sym_config.add_relation.Oriented('ax1_jcr_strut', ('hpr_strut_arm','hpr_strut_chassis'), mirror=True)\n",
    "\n",
    "# Rack Translational Joint:\n",
    "# =========================\n",
    "sym_config.add_relation.Centered('pt1_jcs_rack', ('hpr_tri', 'hpl_tri'))\n",
    "sym_config.add_relation.Oriented('ax1_jcs_rack', ('hpr_tri', 'hpl_tri'))\n"
   ]
  },
  {
   "cell_type": "markdown",
   "metadata": {},
   "source": [
    "### GEOMETRIES"
   ]
  },
  {
   "cell_type": "markdown",
   "metadata": {},
   "source": [
    "Here we start defining basic geometric shapes that can represents the shapes of the bodies in our system. This serves two points:\n",
    "- Visualization and Animation in blender.\n",
    "- Evaluating the bodies inertia properties from these basic geometries instead of explicit definition."
   ]
  },
  {
   "cell_type": "code",
   "execution_count": 17,
   "metadata": {},
   "outputs": [],
   "source": [
    "# ===================\n",
    "# Creating Geometries\n",
    "# ===================\n",
    "sym_config.add_scalar.UserInput('links_ro')\n",
    "sym_config.add_scalar.UserInput('strut_outer')\n",
    "sym_config.add_scalar.UserInput('strut_inner')\n",
    "sym_config.add_scalar.UserInput('thickness')\n",
    "sym_config.add_scalar.UserInput('hub_radius')\n",
    "\n",
    "\n",
    "# Upper Control Arm Geometry.\n",
    "sym_config.add_geometry.Triangular_Prism('uca', ('hpr_ucaf','hpr_ucar','hpr_ucao','s_thickness'), mirror=True)\n",
    "sym_config.assign_geometry_to_body('rbr_uca', 'gmr_uca', mirror=True)\n",
    "\n",
    "# Lower Control Arm Geometry.\n",
    "sym_config.add_geometry.Triangular_Prism('lca', ('hpr_lcaf','hpr_lcar','hpr_lcao','s_thickness'), mirror=True)\n",
    "sym_config.assign_geometry_to_body('rbr_lca', 'gmr_lca', mirror=True)\n",
    "\n",
    "# Upright (Wheel-Carrier) Geometry.\n",
    "sym_config.add_geometry.Triangular_Prism('upright', ('hpr_ucao','hpr_wc','hpr_lcao','s_thickness'), mirror=True)\n",
    "sym_config.assign_geometry_to_body('rbr_upright', 'gmr_upright', mirror=True)\n",
    "\n",
    "# Upper Strut Cylinder Geometry.\n",
    "sym_config.add_geometry.Cylinder_Geometry('upper_strut', ('hpr_strut_chassis','hpr_strut_mid','s_strut_outer'), mirror=True)\n",
    "sym_config.assign_geometry_to_body('rbr_upper_strut', 'gmr_upper_strut', mirror=True)\n",
    "\n",
    "# Lower Strut Cylinder Geometry.\n",
    "sym_config.add_geometry.Cylinder_Geometry('lower_strut', ('hpr_strut_mid','hpr_strut_arm','s_strut_inner'), mirror=True)\n",
    "sym_config.assign_geometry_to_body('rbr_lower_strut', 'gmr_lower_strut', mirror=True)\n",
    "\n",
    "# Tie-Rod Cylinder Geometry.\n",
    "sym_config.add_geometry.Cylinder_Geometry('tie_rod', ('hpr_tri','hpr_tro','s_links_ro'), mirror=True)\n",
    "sym_config.assign_geometry_to_body('rbr_tie_rod', 'gmr_tie_rod', mirror=True)\n",
    "\n",
    "# Tire/Hub Geometry.\n",
    "sym_config.add_geometry.Cylinder_Geometry('hub', ('hpr_wc1','hpr_wc2','s_hub_radius'), mirror=True)\n",
    "sym_config.assign_geometry_to_body('rbr_hub', 'gmr_hub', mirror=True)\n",
    "\n",
    "# Steering Rack Geometry\n",
    "sym_config.add_geometry.Cylinder_Geometry('steer_rack', ('hpr_tri', 'hpl_tri','s_links_ro'))\n",
    "sym_config.assign_geometry_to_body('rbs_steer_rack', 'gms_steer_rack')"
   ]
  },
  {
   "cell_type": "markdown",
   "metadata": {},
   "source": [
    "Exporting configuration into a JSON file"
   ]
  },
  {
   "cell_type": "code",
   "execution_count": 18,
   "metadata": {},
   "outputs": [],
   "source": [
    "sym_config.export_JSON_file('symenv')"
   ]
  },
  {
   "cell_type": "markdown",
   "metadata": {},
   "source": [
    "---------------------------------------------------------------\n",
    "---------------------------------------------------------------"
   ]
  },
  {
   "cell_type": "code",
   "execution_count": null,
   "metadata": {},
   "outputs": [],
   "source": []
  }
 ],
 "metadata": {
  "kernelspec": {
   "display_name": "uraeus",
   "language": "python",
   "name": "uraeus"
  },
  "language_info": {
   "codemirror_mode": {
    "name": "ipython",
    "version": 3
   },
   "file_extension": ".py",
   "mimetype": "text/x-python",
   "name": "python",
   "nbconvert_exporter": "python",
   "pygments_lexer": "ipython3",
   "version": "3.7.3"
  }
 },
 "nbformat": 4,
 "nbformat_minor": 4
}
