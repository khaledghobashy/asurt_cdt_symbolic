{
 "cells": [
  {
   "cell_type": "code",
   "execution_count": 1,
   "metadata": {},
   "outputs": [],
   "source": [
    "import sys\n",
    "import os\n",
    "\n",
    "import numpy as np\n",
    "import pandas as pd\n",
    "\n",
    "database_directory = r'C:\\Users\\khaled.ghobashy\\Desktop\\smbd\\examples\\notebooks\\fsae_car'\n",
    "pkg_path = r'C:\\Users\\khaled.ghobashy\\Desktop\\smbd'\n",
    "sys.path.append(pkg_path)"
   ]
  },
  {
   "cell_type": "code",
   "execution_count": 2,
   "metadata": {},
   "outputs": [],
   "source": [
    "from smbd.numenv.python.numerics.systems import multibody_system, simulation\n",
    "from smbd.utilities.numerics.euler_parameters import A"
   ]
  },
  {
   "cell_type": "code",
   "execution_count": 3,
   "metadata": {},
   "outputs": [],
   "source": [
    "try:\n",
    "    import fsae_car\n",
    "except ModuleNotFoundError:\n",
    "    import sys\n",
    "    sys.path.append(r'C:/Users/khaled.ghobashy/Desktop/smbd/examples/notebooks')\n",
    "\n",
    "\n",
    "from fsae_car.numenv.python.templates.dwb_bc_pushrod import dwb_bc_pushrod_cfg\n",
    "from fsae_car.numenv.python.templates.steering_rack import steering_rack_cfg\n",
    "from fsae_car.numenv.python.templates.chassis import chassis_cfg\n"
   ]
  },
  {
   "cell_type": "code",
   "execution_count": 4,
   "metadata": {},
   "outputs": [],
   "source": [
    "from fsae_car.numenv.python.assemblies import rolling_chassis as assembly\n",
    "num_model = multibody_system(assembly)"
   ]
  },
  {
   "cell_type": "code",
   "execution_count": 5,
   "metadata": {},
   "outputs": [],
   "source": [
    "AX1_config = dwb_bc_pushrod_cfg.configuration()\n",
    "AX2_config = dwb_bc_pushrod_cfg.configuration()\n",
    "ST1_config = steering_rack_cfg.configuration()\n",
    "CH_config  = chassis_cfg.configuration()\n",
    "\n",
    "num_model.Subsystems.AX1.config = AX1_config\n",
    "num_model.Subsystems.AX2.config = AX2_config\n",
    "num_model.Subsystems.ST1.config = ST1_config\n",
    "num_model.Subsystems.CH.config  = CH_config"
   ]
  },
  {
   "cell_type": "code",
   "execution_count": 10,
   "metadata": {},
   "outputs": [],
   "source": [
    "configuration_files = os.path.join(database_directory, 'symenv', 'templates', 'config_inputs')\n",
    "\n",
    "AX1_df = pd.read_csv(os.path.join(configuration_files, 'dwb_bc_pushrod_cfg.csv'), index_col=0)\n",
    "AX2_df = pd.read_csv(os.path.join(configuration_files, 'dwb_bc_pushrod_cfg.csv'), index_col=0)\n",
    "ST1_df = pd.read_csv(os.path.join(configuration_files, 'steering_rack_cfg.csv') , index_col=0)\n",
    "CH_df  = pd.read_csv(os.path.join(configuration_files, 'chassis_cfg.csv'), index_col=0)"
   ]
  },
  {
   "cell_type": "code",
   "execution_count": null,
   "metadata": {},
   "outputs": [],
   "source": [
    "WB = 3600\n",
    "TR = 546"
   ]
  },
  {
   "cell_type": "markdown",
   "metadata": {},
   "source": [
    "## AX1 Configuration Data"
   ]
  },
  {
   "cell_type": "code",
   "execution_count": null,
   "metadata": {},
   "outputs": [],
   "source": [
    "# Upper Control Arms\n",
    "AX1_df.loc['hpr_ucaf'] = [-131, 282, 180 + TR, 0]\n",
    "AX1_df.loc['hpr_ucar'] = [ 131, 282, 180 + TR, 0]\n",
    "AX1_df.loc['hpr_ucao'] = [   0, 722, 187 + TR, 0]\n",
    "\n",
    "# Lower Control Arms\n",
    "AX1_df.loc['hpr_lcaf'] = [-300, 245, -106 + TR, 0]\n",
    "AX1_df.loc['hpr_lcar'] = [ 300, 245, -106 + TR, 0]\n",
    "AX1_df.loc['hpr_lcao'] = [   0, 776, -181 + TR, 0]\n",
    "\n",
    "# Tie-Rod\n",
    "AX1_df.loc['hpr_tri'] = [ 402, 267, 108 + TR, 0]\n",
    "AX1_df.loc['hpr_tro'] = [ 399, 720, 110 + TR, 0]\n",
    "\n",
    "# Push-Rod\n",
    "AX1_df.loc['hpr_pushrod_rocker'] = [ 402, 267, 108 + TR, 0]\n",
    "AX1_df.loc['hpr_pushrod_uca'] = [ 399, 720, 110 + TR, 0]\n",
    "\n",
    "# Bell-Crank\n",
    "AX1_df.loc['hpr_rocker_chassis'] = [-165, 534, 639 + TR, 0]\n",
    "\n",
    "# Struts\n",
    "AX1_df.loc['hpr_strut_chassis'] = [ 402, 267, 108 + TR, 0]\n",
    "AX1_df.loc['hpr_strut_rocker']  = [ 399, 720, 110 + TR, 0]\n",
    "\n",
    "AX1_df.loc['pt1_far_strut'] = AX1_df.loc['hpr_strut_chassis']\n",
    "AX1_df.loc['pt2_far_strut'] = AX1_df.loc['hpr_strut_rocker']\n",
    "AX1_df.loc['far_strut_FL'] = [794.6, 0, 0, 0]\n",
    "\n",
    "\n",
    "# Wheel-Hub\n",
    "AX1_df.loc['hpr_wc']  = [0, 1032, 0 + TR, 0]\n",
    "AX1_df.loc['hpr_wc1'] = [0, 1164, 0 + TR, 0]\n",
    "AX1_df.loc['hpr_wc2'] = [0,  900, 0 + TR, 0]\n",
    "AX1_df.loc['pt1_far_tire'] = AX1_df.loc['hpr_wc']\n",
    "\n",
    "\n",
    "AX1_df.loc['vcs_x'] = [1, 0, 0, 0]\n",
    "AX1_df.loc['vcs_y'] = [0, 1, 0, 0]\n",
    "AX1_df.loc['vcs_z'] = [0, 0, 1, 0]\n",
    "\n",
    "# Geometry Scalars\n",
    "AX1_df.loc['s_tire_radius'] = [TR, 0, 0, 0]\n",
    "AX1_df.loc['s_links_ro'] = [25, 0, 0, 0]\n",
    "AX1_df.loc['s_strut_inner'] = [40, 0, 0, 0]\n",
    "AX1_df.loc['s_strut_outer'] = [60, 0, 0, 0]\n",
    "AX1_df.loc['s_thickness'] = [25, 0, 0, 0]\n",
    "\n",
    "# Loading data into the configuration instance\n",
    "AX1_config.load_from_dataframe(AX1_df)"
   ]
  },
  {
   "cell_type": "markdown",
   "metadata": {},
   "source": [
    "## AX2 Configuration Data"
   ]
  },
  {
   "cell_type": "code",
   "execution_count": null,
   "metadata": {},
   "outputs": [],
   "source": [
    "# Upper Control Arms\n",
    "AX2_df.loc['hpr_ucaf'] = [-131, 282, 180 + TR, 0]\n",
    "AX2_df.loc['hpr_ucar'] = [ 131, 282, 180 + TR, 0]\n",
    "AX2_df.loc['hpr_ucao'] = [   0, 722, 187 + TR, 0]\n",
    "\n",
    "# Lower Control Arms\n",
    "AX2_df.loc['hpr_lcaf'] = [-300, 245, -106 + TR, 0]\n",
    "AX2_df.loc['hpr_lcar'] = [ 300, 245, -106 + TR, 0]\n",
    "AX2_df.loc['hpr_lcao'] = [   0, 776, -181 + TR, 0]\n",
    "\n",
    "# Tie-Rod\n",
    "AX2_df.loc['hpr_tri'] = [ 402, 267, 108 + TR, 0]\n",
    "AX2_df.loc['hpr_tro'] = [ 399, 720, 110 + TR, 0]\n",
    "\n",
    "# Push-Rod\n",
    "AX2_df.loc['hpr_pushrod_rocker'] = [ 402, 267, 108 + TR, 0]\n",
    "AX2_df.loc['hpr_pushrod_uca'] = [ 399, 720, 110 + TR, 0]\n",
    "\n",
    "# Bell-Crank\n",
    "AX2_df.loc['hpr_rocker_chassis'] = [-165, 534, 639 + TR, 0]\n",
    "\n",
    "# Struts\n",
    "AX2_df.loc['hpr_strut_chassis'] = [ 402, 267, 108 + TR, 0]\n",
    "AX2_df.loc['hpr_strut_rocker']  = [ 399, 720, 110 + TR, 0]\n",
    "\n",
    "AX2_df.loc['pt1_far_strut'] = AX2_df.loc['hpr_strut_chassis']\n",
    "AX2_df.loc['pt2_far_strut'] = AX2_df.loc['hpr_strut_rocker']\n",
    "AX2_df.loc['far_strut_FL'] = [794.6, 0, 0, 0]\n",
    "\n",
    "\n",
    "# Wheel-Hub\n",
    "AX2_df.loc['hpr_wc']  = [0, 1032, 0 + TR, 0]\n",
    "AX2_df.loc['hpr_wc1'] = [0, 1164, 0 + TR, 0]\n",
    "AX2_df.loc['hpr_wc2'] = [0,  900, 0 + TR, 0]\n",
    "AX2_df.loc['pt1_far_tire'] = AX2_df.loc['hpr_wc']\n",
    "\n",
    "\n",
    "AX2_df.loc['vcs_x'] = [1, 0, 0, 0]\n",
    "AX2_df.loc['vcs_y'] = [0, 1, 0, 0]\n",
    "AX2_df.loc['vcs_z'] = [0, 0, 1, 0]\n",
    "\n",
    "# Geometry Scalars\n",
    "AX2_df.loc['s_tire_radius'] = [TR, 0, 0, 0]\n",
    "AX2_df.loc['s_links_ro'] = [25, 0, 0, 0]\n",
    "AX2_df.loc['s_strut_inner'] = [40, 0, 0, 0]\n",
    "AX2_df.loc['s_strut_outer'] = [60, 0, 0, 0]\n",
    "AX2_df.loc['s_thickness'] = [25, 0, 0, 0]\n",
    "\n",
    "# Loading data into the configuration instance\n",
    "AX2_config.load_from_dataframe(AX2_df)"
   ]
  },
  {
   "cell_type": "code",
   "execution_count": null,
   "metadata": {},
   "outputs": [],
   "source": []
  },
  {
   "cell_type": "markdown",
   "metadata": {},
   "source": [
    "## ST1 Configuration Data"
   ]
  },
  {
   "cell_type": "code",
   "execution_count": null,
   "metadata": {},
   "outputs": [],
   "source": []
  },
  {
   "cell_type": "markdown",
   "metadata": {},
   "source": [
    "## CH Configuration Data"
   ]
  },
  {
   "cell_type": "code",
   "execution_count": null,
   "metadata": {},
   "outputs": [],
   "source": []
  }
 ],
 "metadata": {
  "kernelspec": {
   "display_name": "Python 3",
   "language": "python",
   "name": "python3"
  },
  "language_info": {
   "codemirror_mode": {
    "name": "ipython",
    "version": 3
   },
   "file_extension": ".py",
   "mimetype": "text/x-python",
   "name": "python",
   "nbconvert_exporter": "python",
   "pygments_lexer": "ipython3",
   "version": "3.6.7"
  }
 },
 "nbformat": 4,
 "nbformat_minor": 2
}
