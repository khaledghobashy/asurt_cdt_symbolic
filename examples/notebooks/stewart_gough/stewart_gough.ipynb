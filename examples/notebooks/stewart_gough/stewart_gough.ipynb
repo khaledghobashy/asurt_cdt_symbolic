{
 "cells": [
  {
   "cell_type": "markdown",
   "metadata": {
    "colab_type": "text",
    "id": "dANNzOOKHN94"
   },
   "source": [
    "# STANDALONE STUDY\n",
    "## **STEWART GOUGH PLATFORM**\n",
    "-----------------------------"
   ]
  },
  {
   "cell_type": "markdown",
   "metadata": {},
   "source": [
    "### **IMPORTANT NOTES**\n",
    "#### **COLAB Machine Setup**\n",
    "If starting a new Colab session, Please open the [colab_setup.ipynb](https://colab.research.google.com/github/khaledghobashy/smbd/blob/master/examples/colab_setup.ipynb) and follow the instructions there.\n",
    "A new Colab session does not mean a new notebook session, you can have various notebook sessions on the same Colab session. The Colab session linked to your Google account expires in 12 hours, and so any data saved on that remote machine will be lost.</br>\n",
    "When you run the first cell, Colab will prompt a warning that *\"This notebook was not authored by Google.\"* and that it is loaded from GitHub. Un-check the **Reset all runtimes before running** then press **RUN ANYWAY**.\n",
    "\n",
    "#### **Package Path.**\n",
    "*This step is temporary unitll the package can be installed via conda and/or pip*\n",
    "- **Colab**. </br>\n",
    "For a Cloab session, the ```pkg_path``` variable is the one relevant to the repository path on the Colab remote machine. This should be used if you are running the notebook on Colab.\n",
    "- **Local Machine**. </br>\n",
    "The ```pkg_path``` variable is where I have the repository on my machine. You should change it to where you cloned the repository on your machine.\n",
    "\n",
    "#### **Projects Directory**\n",
    "- **Colab**.</br>\n",
    "The ```projects_dir``` variable should not be changed.\n",
    "- **Local Machine**. </br>\n",
    "The ```projects_dir``` should be changed to match your desired directory where you store your projects.\n",
    "\n",
    "--------------------------------------------------------------"
   ]
  },
  {
   "cell_type": "code",
   "execution_count": 1,
   "metadata": {},
   "outputs": [],
   "source": [
    "import sys"
   ]
  },
  {
   "cell_type": "markdown",
   "metadata": {},
   "source": [
    "### Colab Session\n",
    "*Run if in a Colab Session Only!*"
   ]
  },
  {
   "cell_type": "code",
   "execution_count": 2,
   "metadata": {},
   "outputs": [],
   "source": [
    "projects_dir = '/content/projects'\n",
    "pkg_path = '/content/smbd'\n",
    "sys.path.append(pkg_path)"
   ]
  },
  {
   "cell_type": "markdown",
   "metadata": {},
   "source": [
    "### Local Session\n",
    "*Run if on your Local Machine!*</br>\n",
    "*Do not forget to change the variables below as illustrated in the notes!*"
   ]
  },
  {
   "cell_type": "code",
   "execution_count": 2,
   "metadata": {},
   "outputs": [],
   "source": [
    "projects_dir = '/home/khaledghobashy/Documents/smbd/examples'\n",
    "pkg_path = '/home/khaledghobashy/Documents/smbd'\n",
    "sys.path.append(pkg_path)"
   ]
  },
  {
   "cell_type": "markdown",
   "metadata": {},
   "source": [
    "---------------------------------------------------------------\n",
    "---------------------------------------------------------------"
   ]
  },
  {
   "cell_type": "code",
   "execution_count": 3,
   "metadata": {},
   "outputs": [],
   "source": [
    "project_name = 'stewart_gough'"
   ]
  },
  {
   "cell_type": "code",
   "execution_count": 4,
   "metadata": {},
   "outputs": [],
   "source": [
    "from smbd.interfaces.projects import initialize_project"
   ]
  },
  {
   "cell_type": "code",
   "execution_count": 5,
   "metadata": {},
   "outputs": [
    {
     "name": "stdout",
     "output_type": "stream",
     "text": [
      "Current working dir : /home/khaledghobashy/Documents/smbd/examples/stewart_gough\n"
     ]
    }
   ],
   "source": [
    "initialize_project(project_name, projects_dir)"
   ]
  },
  {
   "cell_type": "markdown",
   "metadata": {},
   "source": [
    "---------------------------------------------------------------\n",
    "---------------------------------------------------------------"
   ]
  },
  {
   "cell_type": "markdown",
   "metadata": {},
   "source": [
    "## **SYSTEM DESCRIPTION**\n",
    "-------------------------"
   ]
  },
  {
   "cell_type": "markdown",
   "metadata": {},
   "source": [
    "### **Important Note**\n",
    "The tool uses [euler-parameters](https://en.wikibooks.org/wiki/Multibody_Mechanics/Euler_Parameters) -which is a 4D unit quaternion- to represents bodies orientation in space. This makes the generalized coordinates used to fully define a body in space to be **7,** instead of **6**, it also adds an algebraic equation to the constraints that ensures the unity/normalization of the body quaternion. This is an important remark as the calculations of the degrees-of-freedom depends on it."
   ]
  },
  {
   "cell_type": "markdown",
   "metadata": {},
   "source": [
    "### **Summary**\n",
    "A Stewart–Gough platform is a type of parallel manipulators. It consists mainly of a moving table that is supported to the ground through a set of prismatic actuators that can be actuatead directly, or a set of rigid links, where each link is connected to a rocker that can be actuated by a servo motor.</br>\n",
    "The platform exists in various topologies depending on the desired degrees-of-freedom (DOF) and the actuation method used. More information about the mechanism can be found on [wikipedia](https://en.wikipedia.org/wiki/Stewart_platform).</br>\n",
    "\n",
    "The modeled system is a **3-DOF** mechanism that allows the table to move freely in the Z-axis $z$ as well as to rotate freely about the X-axis and the Y-axis, pitch $\\phi$ and roll $\\theta$ respectively. These movements can be controlled through the angles of the servo motors used down at the rockers to give the desired motion path of the table.\n"
   ]
  },
  {
   "cell_type": "markdown",
   "metadata": {},
   "source": [
    "### **Topology Layout**\n",
    "The mechanism consists of 7 Bodies + 1 Ground. Therefore, total system coordinates -including the ground- is $$n=n_b\\times7 = 8\\times7 = 56$$ \n",
    "where $n_b$ is the total number of bodies. The list of bodies is given below:\n",
    "    - 1 Table.\n",
    "    - 3 Rockers.\n",
    "    - 3 Connecting-Rods.\n",
    "\n",
    "The system connectivity is as follows:\n",
    "- Each rocker is connected to the ground by a revolute joint. \n",
    "    - Total $3$ joints resulting in constraint equations $n_{c,rev} = 15$\n",
    "- Each connecting-rod is connected to the corresponding rocker by a spherical joint.\n",
    "    - Total $3$ joints resulting in constraint equations $n_{c,sph} = 9$\n",
    "- The table is connected to each connecting-rod by a universal joint.\n",
    "    - Total $3$ joints resulting in constraint equations $n_{c,uni} = 12$\n",
    "- The table is connected directly to the ground by a tripod joint.\n",
    "    - Total $1$ joints resulting in constraint equations $n_{c,tri} = 3$\n",
    "- Total free DOF is $$n-( n_{c,rev}+n_{c,sph}+n_{c,uni}+n_{c,tri}+n_{c,P}+n_{c,g}) = 56-(15+9+12+3+(7\\times1)+7) = 56-53 = 3$$, where the $n_{c,P}$ and $n_{c,g}$ represents the constraints due to euler-parameters normalization equations and the ground-constraints respectively.\n",
    "- The bottom revolute joints are actuated by a rotational actuators. \n",
    "    - Total $3$ actuators resulting in constraint equations $n_{c,act} = 3$"
   ]
  },
  {
   "cell_type": "markdown",
   "metadata": {},
   "source": [
    "---------------------------------------------------------------\n",
    "---------------------------------------------------------------"
   ]
  },
  {
   "cell_type": "markdown",
   "metadata": {},
   "source": [
    "## **SYMBOLIC TOPOLOGY**\n",
    "------------------------"
   ]
  },
  {
   "cell_type": "markdown",
   "metadata": {},
   "source": [
    "In this section, we create the symbolic topology that captures the topological layout that we just discussed.</br>\n",
    "Defining the topology is very simple. We start by importing the ```standalone_topology``` class and create a new instance that represents our symbolic model. Then we start adding the components we discussed earlier, starting by the bodies, then the joints, actuators and forces, and thats it.</br>\n",
    "These components will be represented symbolically, and therefore there is no need for any numerical inputs at this step.\n",
    "\n",
    "The system is stored in a form of a network graph that stores all the data needed for the assemblage of the system equations later. But even before the assemblage process, we can gain helpful insights about our system as well be shown.\n"
   ]
  },
  {
   "cell_type": "code",
   "execution_count": 6,
   "metadata": {
    "colab": {},
    "colab_type": "code",
    "id": "Ftrti9HXHSDo"
   },
   "outputs": [],
   "source": [
    "from smbd.interfaces.scripting import standalone_topology"
   ]
  },
  {
   "cell_type": "code",
   "execution_count": 7,
   "metadata": {
    "colab": {},
    "colab_type": "code",
    "id": "pF6coF54IJa9"
   },
   "outputs": [],
   "source": [
    "sym_model = standalone_topology(project_name)"
   ]
  },
  {
   "cell_type": "markdown",
   "metadata": {},
   "source": [
    "### Adding Bodies"
   ]
  },
  {
   "cell_type": "code",
   "execution_count": 8,
   "metadata": {
    "colab": {},
    "colab_type": "code",
    "id": "uYmGuMd-HUy3"
   },
   "outputs": [],
   "source": [
    "sym_model.add_body('table')\n",
    "\n",
    "sym_model.add_body('link_1')\n",
    "sym_model.add_body('link_2')\n",
    "sym_model.add_body('link_3')\n",
    "\n",
    "sym_model.add_body('rocker_1')\n",
    "sym_model.add_body('rocker_2')\n",
    "sym_model.add_body('rocker_3')\n"
   ]
  },
  {
   "cell_type": "markdown",
   "metadata": {},
   "source": [
    "### Adding Joints"
   ]
  },
  {
   "cell_type": "code",
   "execution_count": 9,
   "metadata": {
    "colab": {},
    "colab_type": "code",
    "id": "PYyJcrdSIQrs"
   },
   "outputs": [],
   "source": [
    "# Revolute joints connecting the rockers to the ground.\n",
    "sym_model.add_joint.revolute('rev_1', 'ground', 'rbs_rocker_1')\n",
    "sym_model.add_joint.revolute('rev_2', 'ground', 'rbs_rocker_2')\n",
    "sym_model.add_joint.revolute('rev_3', 'ground', 'rbs_rocker_3')\n",
    "\n",
    "# Sperical joints connecting the connecting-rods to the rockers.\n",
    "sym_model.add_joint.spherical('bottom_sph_1', 'rbs_rocker_1', 'rbs_link_1')\n",
    "sym_model.add_joint.spherical('bottom_sph_2', 'rbs_rocker_2', 'rbs_link_2')\n",
    "sym_model.add_joint.spherical('bottom_sph_3', 'rbs_rocker_3', 'rbs_link_3')\n",
    "\n",
    "# Universal joints connecting the moving-table to the connecting-rods.\n",
    "sym_model.add_joint.universal('upper_uni_1', 'rbs_link_1', 'rbs_table')\n",
    "sym_model.add_joint.universal('upper_uni_2', 'rbs_link_2', 'rbs_table')\n",
    "sym_model.add_joint.universal('upper_uni_3', 'rbs_link_3', 'rbs_table')\n",
    "\n",
    "# Tripod joint connecting the moving-table to the ground.\n",
    "sym_model.add_joint.tripod('tripod', 'rbs_table', 'ground')"
   ]
  },
  {
   "cell_type": "markdown",
   "metadata": {},
   "source": [
    "#### **Checking the system status so far.**"
   ]
  },
  {
   "cell_type": "code",
   "execution_count": 10,
   "metadata": {},
   "outputs": [
    {
     "data": {
      "text/latex": [
       "$\\displaystyle \\left( 56, \\  53\\right)$"
      ],
      "text/plain": [
       "(56, 53)"
      ]
     },
     "execution_count": 10,
     "metadata": {},
     "output_type": "execute_result"
    }
   ],
   "source": [
    "sym_model._mbs.n, sym_model._mbs.nc"
   ]
  },
  {
   "cell_type": "markdown",
   "metadata": {},
   "source": [
    "### Adding Actuators"
   ]
  },
  {
   "cell_type": "markdown",
   "metadata": {},
   "source": [
    "Here we add the desired actuators to drive the system, which will make the system fully defined kinematically."
   ]
  },
  {
   "cell_type": "code",
   "execution_count": 11,
   "metadata": {
    "colab": {},
    "colab_type": "code",
    "id": "yrGA1xURIT-0"
   },
   "outputs": [],
   "source": [
    "sym_model.add_actuator.rotational_actuator('act_1', 'jcs_rev_1')\n",
    "sym_model.add_actuator.rotational_actuator('act_2', 'jcs_rev_2')\n",
    "sym_model.add_actuator.rotational_actuator('act_3', 'jcs_rev_3')\n"
   ]
  },
  {
   "cell_type": "code",
   "execution_count": 12,
   "metadata": {},
   "outputs": [
    {
     "data": {
      "text/latex": [
       "$\\displaystyle \\left( 56, \\  56\\right)$"
      ],
      "text/plain": [
       "(56, 56)"
      ]
     },
     "execution_count": 12,
     "metadata": {},
     "output_type": "execute_result"
    }
   ],
   "source": [
    "sym_model._mbs.n, sym_model._mbs.nc"
   ]
  },
  {
   "cell_type": "markdown",
   "metadata": {},
   "source": [
    "### Adding Forces"
   ]
  },
  {
   "cell_type": "code",
   "execution_count": 10,
   "metadata": {},
   "outputs": [],
   "source": [
    "#model.add_force.internal_force('force_name', 'body_1', 'body_2', mirror=False)"
   ]
  },
  {
   "cell_type": "markdown",
   "metadata": {
    "colab_type": "text",
    "id": "goKtOBuLd1Kh"
   },
   "source": [
    "### **SYMBOLIC CHARACTERISTICS**"
   ]
  },
  {
   "cell_type": "markdown",
   "metadata": {},
   "source": [
    "#### Topology Graph\n",
    "Visualizing the connectivity of the system as a network graph, where the nodes represent the bodies, and the edges represent the joints, forces and/or actuators between the bodies."
   ]
  },
  {
   "cell_type": "code",
   "execution_count": 13,
   "metadata": {
    "colab": {
     "base_uri": "https://localhost:8080/",
     "height": 463
    },
    "colab_type": "code",
    "executionInfo": {
     "elapsed": 945,
     "status": "ok",
     "timestamp": 1557736740240,
     "user": {
      "displayName": "Khaled Ghobashy",
      "photoUrl": "",
      "userId": "05113177637222565845"
     },
     "user_tz": -120
    },
    "id": "JW3Y9sLMtPjD",
    "outputId": "afbc5380-578c-49c7-a515-ffd0a1019444"
   },
   "outputs": [
    {
     "data": {
      "image/png": "[encoded data removed]",
      "text/plain": [
       "<Figure size 720x432 with 1 Axes>"
      ]
     },
     "metadata": {},
     "output_type": "display_data"
    }
   ],
   "source": [
    "sym_model._mbs.draw_constraints_topology()"
   ]
  },
  {
   "cell_type": "markdown",
   "metadata": {
    "colab_type": "text",
    "id": "lg7CGjQZJpDR"
   },
   "source": [
    "### **ASSEMBLING**"
   ]
  },
  {
   "cell_type": "markdown",
   "metadata": {},
   "source": [
    "This is the last step of the symbolic building process, where we make the system starts the assemblage process of the governing equations, which will be used then in the code generation for the numerical simulation, and also can be used for further symbolic manipulations.</br>\n",
    "\n",
    "*Note: The equations' notations will be discussed in the tool documentation files.*"
   ]
  },
  {
   "cell_type": "code",
   "execution_count": 14,
   "metadata": {
    "colab": {},
    "colab_type": "code",
    "id": "9XkmdRCmJv0I"
   },
   "outputs": [],
   "source": [
    "sym_model.assemble()"
   ]
  },
  {
   "cell_type": "markdown",
   "metadata": {},
   "source": [
    "#### Checking the System Equations."
   ]
  },
  {
   "cell_type": "code",
   "execution_count": 15,
   "metadata": {
    "colab": {},
    "colab_type": "code",
    "id": "3fBmDyF_eInM"
   },
   "outputs": [
    {
     "data": {
      "text/latex": [
       "$\\displaystyle \\left[\\begin{matrix}{A({P_{ground}})} {\\bar{u}^{ground}_{jcs_rev_1}} - {A({P_{rbs_rocker_1}})} {\\bar{u}^{rbs_rocker_1}_{jcs_rev_1}} + {R_{ground}} - {R_{rbs_rocker_1}}\\\\\\left({\\hat{i}_{{\\bar{M}^{ground}_{jcs_rev_1}}}}\\right)^{T} \\left({A({P_{ground}})}\\right)^{T} {A({P_{rbs_rocker_1}})} {\\hat{k}_{{\\bar{M}^{rbs_rocker_1}_{jcs_rev_1}}}}\\\\\\left({\\hat{j}_{{\\bar{M}^{ground}_{jcs_rev_1}}}}\\right)^{T} \\left({A({P_{ground}})}\\right)^{T} {A({P_{rbs_rocker_1}})} {\\hat{k}_{{\\bar{M}^{rbs_rocker_1}_{jcs_rev_1}}}}\\\\- \\sin{\\left(\\operatorname{UF_{mcs act 1}}{\\left(t \\right)} \\right)} \\left({\\hat{i}_{{\\bar{M}^{ground}_{jcs_rev_1}}}}\\right)^{T} \\left({A({P_{ground}})}\\right)^{T} {A({P_{rbs_rocker_1}})} {\\hat{i}_{{\\bar{M}^{rbs_rocker_1}_{jcs_rev_1}}}} + \\cos{\\left(\\operatorname{UF_{mcs act 1}}{\\left(t \\right)} \\right)} \\left({\\hat{j}_{{\\bar{M}^{ground}_{jcs_rev_1}}}}\\right)^{T} \\left({A({P_{ground}})}\\right)^{T} {A({P_{rbs_rocker_1}})} {\\hat{i}_{{\\bar{M}^{rbs_rocker_1}_{jcs_rev_1}}}}\\\\{A({P_{ground}})} {\\bar{u}^{ground}_{jcs_rev_2}} - {A({P_{rbs_rocker_2}})} {\\bar{u}^{rbs_rocker_2}_{jcs_rev_2}} + {R_{ground}} - {R_{rbs_rocker_2}}\\\\\\left({\\hat{i}_{{\\bar{M}^{ground}_{jcs_rev_2}}}}\\right)^{T} \\left({A({P_{ground}})}\\right)^{T} {A({P_{rbs_rocker_2}})} {\\hat{k}_{{\\bar{M}^{rbs_rocker_2}_{jcs_rev_2}}}}\\\\\\left({\\hat{j}_{{\\bar{M}^{ground}_{jcs_rev_2}}}}\\right)^{T} \\left({A({P_{ground}})}\\right)^{T} {A({P_{rbs_rocker_2}})} {\\hat{k}_{{\\bar{M}^{rbs_rocker_2}_{jcs_rev_2}}}}\\\\- \\sin{\\left(\\operatorname{UF_{mcs act 2}}{\\left(t \\right)} \\right)} \\left({\\hat{i}_{{\\bar{M}^{ground}_{jcs_rev_2}}}}\\right)^{T} \\left({A({P_{ground}})}\\right)^{T} {A({P_{rbs_rocker_2}})} {\\hat{i}_{{\\bar{M}^{rbs_rocker_2}_{jcs_rev_2}}}} + \\cos{\\left(\\operatorname{UF_{mcs act 2}}{\\left(t \\right)} \\right)} \\left({\\hat{j}_{{\\bar{M}^{ground}_{jcs_rev_2}}}}\\right)^{T} \\left({A({P_{ground}})}\\right)^{T} {A({P_{rbs_rocker_2}})} {\\hat{i}_{{\\bar{M}^{rbs_rocker_2}_{jcs_rev_2}}}}\\\\{A({P_{ground}})} {\\bar{u}^{ground}_{jcs_rev_3}} - {A({P_{rbs_rocker_3}})} {\\bar{u}^{rbs_rocker_3}_{jcs_rev_3}} + {R_{ground}} - {R_{rbs_rocker_3}}\\\\\\left({\\hat{i}_{{\\bar{M}^{ground}_{jcs_rev_3}}}}\\right)^{T} \\left({A({P_{ground}})}\\right)^{T} {A({P_{rbs_rocker_3}})} {\\hat{k}_{{\\bar{M}^{rbs_rocker_3}_{jcs_rev_3}}}}\\\\\\left({\\hat{j}_{{\\bar{M}^{ground}_{jcs_rev_3}}}}\\right)^{T} \\left({A({P_{ground}})}\\right)^{T} {A({P_{rbs_rocker_3}})} {\\hat{k}_{{\\bar{M}^{rbs_rocker_3}_{jcs_rev_3}}}}\\\\- \\sin{\\left(\\operatorname{UF_{mcs act 3}}{\\left(t \\right)} \\right)} \\left({\\hat{i}_{{\\bar{M}^{ground}_{jcs_rev_3}}}}\\right)^{T} \\left({A({P_{ground}})}\\right)^{T} {A({P_{rbs_rocker_3}})} {\\hat{i}_{{\\bar{M}^{rbs_rocker_3}_{jcs_rev_3}}}} + \\cos{\\left(\\operatorname{UF_{mcs act 3}}{\\left(t \\right)} \\right)} \\left({\\hat{j}_{{\\bar{M}^{ground}_{jcs_rev_3}}}}\\right)^{T} \\left({A({P_{ground}})}\\right)^{T} {A({P_{rbs_rocker_3}})} {\\hat{i}_{{\\bar{M}^{rbs_rocker_3}_{jcs_rev_3}}}}\\\\\\left({\\hat{i}_{{\\bar{M}^{rbs_table}_{jcs_tripod}}}}\\right)^{T} \\left({A({P_{rbs_table}})}\\right)^{T} {A({P_{ground}})} {\\hat{j}_{{\\bar{M}^{ground}_{jcs_tripod}}}}\\\\\\left({\\hat{i}_{{\\bar{M}^{rbs_table}_{jcs_tripod}}}}\\right)^{T} \\left({A({P_{rbs_table}})}\\right)^{T} \\left(- {A({P_{ground}})} {\\bar{u}^{ground}_{jcs_tripod}} + {A({P_{rbs_table}})} {\\bar{u}^{rbs_table}_{jcs_tripod}} - {R_{ground}} + {R_{rbs_table}}\\right)\\\\\\left({\\hat{j}_{{\\bar{M}^{rbs_table}_{jcs_tripod}}}}\\right)^{T} \\left({A({P_{rbs_table}})}\\right)^{T} \\left(- {A({P_{ground}})} {\\bar{u}^{ground}_{jcs_tripod}} + {A({P_{rbs_table}})} {\\bar{u}^{rbs_table}_{jcs_tripod}} - {R_{ground}} + {R_{rbs_table}}\\right)\\\\{A({P_{rbs_link_1}})} {\\bar{u}^{rbs_link_1}_{jcs_upper_uni_1}} - {A({P_{rbs_table}})} {\\bar{u}^{rbs_table}_{jcs_upper_uni_1}} + {R_{rbs_link_1}} - {R_{rbs_table}}\\\\\\left({\\hat{i}_{{\\bar{M}^{rbs_link_1}_{jcs_upper_uni_1}}}}\\right)^{T} \\left({A({P_{rbs_link_1}})}\\right)^{T} {A({P_{rbs_table}})} {\\hat{i}_{{\\bar{M}^{rbs_table}_{jcs_upper_uni_1}}}}\\\\{A({P_{rbs_link_2}})} {\\bar{u}^{rbs_link_2}_{jcs_upper_uni_2}} - {A({P_{rbs_table}})} {\\bar{u}^{rbs_table}_{jcs_upper_uni_2}} + {R_{rbs_link_2}} - {R_{rbs_table}}\\\\\\left({\\hat{i}_{{\\bar{M}^{rbs_link_2}_{jcs_upper_uni_2}}}}\\right)^{T} \\left({A({P_{rbs_link_2}})}\\right)^{T} {A({P_{rbs_table}})} {\\hat{i}_{{\\bar{M}^{rbs_table}_{jcs_upper_uni_2}}}}\\\\{A({P_{rbs_link_3}})} {\\bar{u}^{rbs_link_3}_{jcs_upper_uni_3}} - {A({P_{rbs_table}})} {\\bar{u}^{rbs_table}_{jcs_upper_uni_3}} + {R_{rbs_link_3}} - {R_{rbs_table}}\\\\\\left({\\hat{i}_{{\\bar{M}^{rbs_link_3}_{jcs_upper_uni_3}}}}\\right)^{T} \\left({A({P_{rbs_link_3}})}\\right)^{T} {A({P_{rbs_table}})} {\\hat{i}_{{\\bar{M}^{rbs_table}_{jcs_upper_uni_3}}}}\\\\- {A({P_{rbs_link_1}})} {\\bar{u}^{rbs_link_1}_{jcs_bottom_sph_1}} + {A({P_{rbs_rocker_1}})} {\\bar{u}^{rbs_rocker_1}_{jcs_bottom_sph_1}} - {R_{rbs_link_1}} + {R_{rbs_rocker_1}}\\\\- {A({P_{rbs_link_2}})} {\\bar{u}^{rbs_link_2}_{jcs_bottom_sph_2}} + {A({P_{rbs_rocker_2}})} {\\bar{u}^{rbs_rocker_2}_{jcs_bottom_sph_2}} - {R_{rbs_link_2}} + {R_{rbs_rocker_2}}\\\\- {A({P_{rbs_link_3}})} {\\bar{u}^{rbs_link_3}_{jcs_bottom_sph_3}} + {A({P_{rbs_rocker_3}})} {\\bar{u}^{rbs_rocker_3}_{jcs_bottom_sph_3}} - {R_{rbs_link_3}} + {R_{rbs_rocker_3}}\\\\{R_{ground}}\\\\{P_{ground}} - {Pg_{ground}}\\\\- \\mathbb{I} + {P_{rbs_table}}^{T} {P_{rbs_table}}\\\\- \\mathbb{I} + {P_{rbs_link_1}}^{T} {P_{rbs_link_1}}\\\\- \\mathbb{I} + {P_{rbs_link_2}}^{T} {P_{rbs_link_2}}\\\\- \\mathbb{I} + {P_{rbs_link_3}}^{T} {P_{rbs_link_3}}\\\\- \\mathbb{I} + {P_{rbs_rocker_1}}^{T} {P_{rbs_rocker_1}}\\\\- \\mathbb{I} + {P_{rbs_rocker_2}}^{T} {P_{rbs_rocker_2}}\\\\- \\mathbb{I} + {P_{rbs_rocker_3}}^{T} {P_{rbs_rocker_3}}\\end{matrix}\\right]$"
      ],
      "text/plain": [
       "Matrix([\n",
       "[                                                                                                                               A({P_{ground}})*{\\bar{u}^{ground}_{jcs_rev_1}} - A({P_{rbs_rocker_1}})*{\\bar{u}^{rbs_rocker_1}_{jcs_rev_1}} + {R_{ground}} - {R_{rbs_rocker_1}}],\n",
       "[                                                                                                                                                               Mbar_ground_jcs_rev_1[:,(0, 1)].T*A({P_{ground}}).T*A({P_{rbs_rocker_1}})*Mbar_rbs_rocker_1_jcs_rev_1[:,(2, 3)]],\n",
       "[                                                                                                                                                               Mbar_ground_jcs_rev_1[:,(1, 2)].T*A({P_{ground}}).T*A({P_{rbs_rocker_1}})*Mbar_rbs_rocker_1_jcs_rev_1[:,(2, 3)]],\n",
       "[(-sin(UF_mcs_act_1(t)))*Mbar_ground_jcs_rev_1[:,(0, 1)].T*A({P_{ground}}).T*A({P_{rbs_rocker_1}})*Mbar_rbs_rocker_1_jcs_rev_1[:,(0, 1)] + cos(UF_mcs_act_1(t))*Mbar_ground_jcs_rev_1[:,(1, 2)].T*A({P_{ground}}).T*A({P_{rbs_rocker_1}})*Mbar_rbs_rocker_1_jcs_rev_1[:,(0, 1)]],\n",
       "[                                                                                                                               A({P_{ground}})*{\\bar{u}^{ground}_{jcs_rev_2}} - A({P_{rbs_rocker_2}})*{\\bar{u}^{rbs_rocker_2}_{jcs_rev_2}} + {R_{ground}} - {R_{rbs_rocker_2}}],\n",
       "[                                                                                                                                                               Mbar_ground_jcs_rev_2[:,(0, 1)].T*A({P_{ground}}).T*A({P_{rbs_rocker_2}})*Mbar_rbs_rocker_2_jcs_rev_2[:,(2, 3)]],\n",
       "[                                                                                                                                                               Mbar_ground_jcs_rev_2[:,(1, 2)].T*A({P_{ground}}).T*A({P_{rbs_rocker_2}})*Mbar_rbs_rocker_2_jcs_rev_2[:,(2, 3)]],\n",
       "[(-sin(UF_mcs_act_2(t)))*Mbar_ground_jcs_rev_2[:,(0, 1)].T*A({P_{ground}}).T*A({P_{rbs_rocker_2}})*Mbar_rbs_rocker_2_jcs_rev_2[:,(0, 1)] + cos(UF_mcs_act_2(t))*Mbar_ground_jcs_rev_2[:,(1, 2)].T*A({P_{ground}}).T*A({P_{rbs_rocker_2}})*Mbar_rbs_rocker_2_jcs_rev_2[:,(0, 1)]],\n",
       "[                                                                                                                               A({P_{ground}})*{\\bar{u}^{ground}_{jcs_rev_3}} - A({P_{rbs_rocker_3}})*{\\bar{u}^{rbs_rocker_3}_{jcs_rev_3}} + {R_{ground}} - {R_{rbs_rocker_3}}],\n",
       "[                                                                                                                                                               Mbar_ground_jcs_rev_3[:,(0, 1)].T*A({P_{ground}}).T*A({P_{rbs_rocker_3}})*Mbar_rbs_rocker_3_jcs_rev_3[:,(2, 3)]],\n",
       "[                                                                                                                                                               Mbar_ground_jcs_rev_3[:,(1, 2)].T*A({P_{ground}}).T*A({P_{rbs_rocker_3}})*Mbar_rbs_rocker_3_jcs_rev_3[:,(2, 3)]],\n",
       "[(-sin(UF_mcs_act_3(t)))*Mbar_ground_jcs_rev_3[:,(0, 1)].T*A({P_{ground}}).T*A({P_{rbs_rocker_3}})*Mbar_rbs_rocker_3_jcs_rev_3[:,(0, 1)] + cos(UF_mcs_act_3(t))*Mbar_ground_jcs_rev_3[:,(1, 2)].T*A({P_{ground}}).T*A({P_{rbs_rocker_3}})*Mbar_rbs_rocker_3_jcs_rev_3[:,(0, 1)]],\n",
       "[                                                                                                                                                                   Mbar_rbs_table_jcs_tripod[:,(0, 1)].T*A({P_{rbs_table}}).T*A({P_{ground}})*Mbar_ground_jcs_tripod[:,(1, 2)]],\n",
       "[                                                                        Mbar_rbs_table_jcs_tripod[:,(0, 1)].T*A({P_{rbs_table}}).T*(-A({P_{ground}})*{\\bar{u}^{ground}_{jcs_tripod}} + A({P_{rbs_table}})*{\\bar{u}^{rbs_table}_{jcs_tripod}} - {R_{ground}} + {R_{rbs_table}})],\n",
       "[                                                                        Mbar_rbs_table_jcs_tripod[:,(1, 2)].T*A({P_{rbs_table}}).T*(-A({P_{ground}})*{\\bar{u}^{ground}_{jcs_tripod}} + A({P_{rbs_table}})*{\\bar{u}^{rbs_table}_{jcs_tripod}} - {R_{ground}} + {R_{rbs_table}})],\n",
       "[                                                                                                                A({P_{rbs_link_1}})*{\\bar{u}^{rbs_link_1}_{jcs_upper_uni_1}} - A({P_{rbs_table}})*{\\bar{u}^{rbs_table}_{jcs_upper_uni_1}} + {R_{rbs_link_1}} - {R_{rbs_table}}],\n",
       "[                                                                                                                                                 Mbar_rbs_link_1_jcs_upper_uni_1[:,(0, 1)].T*A({P_{rbs_link_1}}).T*A({P_{rbs_table}})*Mbar_rbs_table_jcs_upper_uni_1[:,(0, 1)]],\n",
       "[                                                                                                                A({P_{rbs_link_2}})*{\\bar{u}^{rbs_link_2}_{jcs_upper_uni_2}} - A({P_{rbs_table}})*{\\bar{u}^{rbs_table}_{jcs_upper_uni_2}} + {R_{rbs_link_2}} - {R_{rbs_table}}],\n",
       "[                                                                                                                                                 Mbar_rbs_link_2_jcs_upper_uni_2[:,(0, 1)].T*A({P_{rbs_link_2}}).T*A({P_{rbs_table}})*Mbar_rbs_table_jcs_upper_uni_2[:,(0, 1)]],\n",
       "[                                                                                                                A({P_{rbs_link_3}})*{\\bar{u}^{rbs_link_3}_{jcs_upper_uni_3}} - A({P_{rbs_table}})*{\\bar{u}^{rbs_table}_{jcs_upper_uni_3}} + {R_{rbs_link_3}} - {R_{rbs_table}}],\n",
       "[                                                                                                                                                 Mbar_rbs_link_3_jcs_upper_uni_3[:,(0, 1)].T*A({P_{rbs_link_3}}).T*A({P_{rbs_table}})*Mbar_rbs_table_jcs_upper_uni_3[:,(0, 1)]],\n",
       "[                                                                                                    -A({P_{rbs_link_1}})*{\\bar{u}^{rbs_link_1}_{jcs_bottom_sph_1}} + A({P_{rbs_rocker_1}})*{\\bar{u}^{rbs_rocker_1}_{jcs_bottom_sph_1}} - {R_{rbs_link_1}} + {R_{rbs_rocker_1}}],\n",
       "[                                                                                                    -A({P_{rbs_link_2}})*{\\bar{u}^{rbs_link_2}_{jcs_bottom_sph_2}} + A({P_{rbs_rocker_2}})*{\\bar{u}^{rbs_rocker_2}_{jcs_bottom_sph_2}} - {R_{rbs_link_2}} + {R_{rbs_rocker_2}}],\n",
       "[                                                                                                    -A({P_{rbs_link_3}})*{\\bar{u}^{rbs_link_3}_{jcs_bottom_sph_3}} + A({P_{rbs_rocker_3}})*{\\bar{u}^{rbs_rocker_3}_{jcs_bottom_sph_3}} - {R_{rbs_link_3}} + {R_{rbs_rocker_3}}],\n",
       "[                                                                                                                                                                                                                                                                  {R_{ground}}],\n",
       "[                                                                                                                                                                                                                                                  {P_{ground}} - {Pg_{ground}}],\n",
       "[                                                                                                                                                                                                                                        -I + {P_{rbs_table}}.T*{P_{rbs_table}}],\n",
       "[                                                                                                                                                                                                                                      -I + {P_{rbs_link_1}}.T*{P_{rbs_link_1}}],\n",
       "[                                                                                                                                                                                                                                      -I + {P_{rbs_link_2}}.T*{P_{rbs_link_2}}],\n",
       "[                                                                                                                                                                                                                                      -I + {P_{rbs_link_3}}.T*{P_{rbs_link_3}}],\n",
       "[                                                                                                                                                                                                                                  -I + {P_{rbs_rocker_1}}.T*{P_{rbs_rocker_1}}],\n",
       "[                                                                                                                                                                                                                                  -I + {P_{rbs_rocker_2}}.T*{P_{rbs_rocker_2}}],\n",
       "[                                                                                                                                                                                                                                  -I + {P_{rbs_rocker_3}}.T*{P_{rbs_rocker_3}}]])"
      ]
     },
     "execution_count": 15,
     "metadata": {},
     "output_type": "execute_result"
    }
   ],
   "source": [
    "sym_model._mbs.pos_equations"
   ]
  },
  {
   "cell_type": "code",
   "execution_count": null,
   "metadata": {},
   "outputs": [],
   "source": []
  },
  {
   "cell_type": "markdown",
   "metadata": {},
   "source": [
    "---------------------------------------------------------------\n",
    "---------------------------------------------------------------"
   ]
  },
  {
   "cell_type": "markdown",
   "metadata": {
    "colab_type": "text",
    "id": "wdgCUvI3Ms9r"
   },
   "source": [
    "## **SYSTEM CONFIGURATION**\n",
    "---------------------------"
   ]
  },
  {
   "cell_type": "markdown",
   "metadata": {},
   "source": [
    "In this step we define a symbolic configuration of our symbolic topology. As you may have noticed in the symbolic topology building step, we only cared about the *'topology'*, thats is the system bodies and their connectivity, and we did not care explicitly with how these components are configured in space.</br>\n",
    "In order to create a valid numerical simulation session, we have to provide the system with its numerical configuration needed, for example, the joints' locations and orientations. The symbolic topology in its raw form will require you to manually enter all these numerical arguments, which can be cumbersome even for smaller systems. This can be checked by checking the configuration inputs of the symbolic configuration as ```config._config.input_nodes```\n",
    "\n",
    "Here we start by stating the symbolic inputs we wish to use instead of the default inputs set, and then we define the relation between these newly defined arguments and the original ones. The details of this process will be provided in the documentation."
   ]
  },
  {
   "cell_type": "code",
   "execution_count": 16,
   "metadata": {
    "colab": {},
    "colab_type": "code",
    "id": "mPXrv68xKoLk"
   },
   "outputs": [],
   "source": [
    "from smbd.interfaces.scripting import configuration"
   ]
  },
  {
   "cell_type": "code",
   "execution_count": 17,
   "metadata": {
    "colab": {},
    "colab_type": "code",
    "id": "i-VHwosjM8Qj"
   },
   "outputs": [],
   "source": [
    "config_name = 'stewart_gough_cfg'\n",
    "config = configuration(config_name, sym_model)"
   ]
  },
  {
   "cell_type": "code",
   "execution_count": 18,
   "metadata": {},
   "outputs": [
    {
     "data": {
      "text/plain": [
       "['ax1_jcs_rev_1',\n",
       " 'pt1_jcs_rev_1',\n",
       " 'UF_mcs_act_1',\n",
       " 'ax1_jcs_rev_2',\n",
       " 'pt1_jcs_rev_2',\n",
       " 'UF_mcs_act_2',\n",
       " 'ax1_jcs_rev_3',\n",
       " 'pt1_jcs_rev_3',\n",
       " 'UF_mcs_act_3',\n",
       " 'ax1_jcs_tripod',\n",
       " 'pt1_jcs_tripod',\n",
       " 'ax1_jcs_upper_uni_1',\n",
       " 'ax2_jcs_upper_uni_1',\n",
       " 'pt1_jcs_upper_uni_1',\n",
       " 'ax1_jcs_upper_uni_2',\n",
       " 'ax2_jcs_upper_uni_2',\n",
       " 'pt1_jcs_upper_uni_2',\n",
       " 'ax1_jcs_upper_uni_3',\n",
       " 'ax2_jcs_upper_uni_3',\n",
       " 'pt1_jcs_upper_uni_3',\n",
       " 'ax1_jcs_bottom_sph_1',\n",
       " 'pt1_jcs_bottom_sph_1',\n",
       " 'ax1_jcs_bottom_sph_2',\n",
       " 'pt1_jcs_bottom_sph_2',\n",
       " 'ax1_jcs_bottom_sph_3',\n",
       " 'pt1_jcs_bottom_sph_3',\n",
       " 'R_ground',\n",
       " 'P_ground',\n",
       " 'Rd_ground',\n",
       " 'Pd_ground',\n",
       " 'Rdd_ground',\n",
       " 'Pdd_ground',\n",
       " 'R_rbs_table',\n",
       " 'P_rbs_table',\n",
       " 'Rd_rbs_table',\n",
       " 'Pd_rbs_table',\n",
       " 'Rdd_rbs_table',\n",
       " 'Pdd_rbs_table',\n",
       " 'm_rbs_table',\n",
       " 'Jbar_rbs_table',\n",
       " 'R_rbs_link_1',\n",
       " 'P_rbs_link_1',\n",
       " 'Rd_rbs_link_1',\n",
       " 'Pd_rbs_link_1',\n",
       " 'Rdd_rbs_link_1',\n",
       " 'Pdd_rbs_link_1',\n",
       " 'm_rbs_link_1',\n",
       " 'Jbar_rbs_link_1',\n",
       " 'R_rbs_link_2',\n",
       " 'P_rbs_link_2',\n",
       " 'Rd_rbs_link_2',\n",
       " 'Pd_rbs_link_2',\n",
       " 'Rdd_rbs_link_2',\n",
       " 'Pdd_rbs_link_2',\n",
       " 'm_rbs_link_2',\n",
       " 'Jbar_rbs_link_2',\n",
       " 'R_rbs_link_3',\n",
       " 'P_rbs_link_3',\n",
       " 'Rd_rbs_link_3',\n",
       " 'Pd_rbs_link_3',\n",
       " 'Rdd_rbs_link_3',\n",
       " 'Pdd_rbs_link_3',\n",
       " 'm_rbs_link_3',\n",
       " 'Jbar_rbs_link_3',\n",
       " 'R_rbs_rocker_1',\n",
       " 'P_rbs_rocker_1',\n",
       " 'Rd_rbs_rocker_1',\n",
       " 'Pd_rbs_rocker_1',\n",
       " 'Rdd_rbs_rocker_1',\n",
       " 'Pdd_rbs_rocker_1',\n",
       " 'm_rbs_rocker_1',\n",
       " 'Jbar_rbs_rocker_1',\n",
       " 'R_rbs_rocker_2',\n",
       " 'P_rbs_rocker_2',\n",
       " 'Rd_rbs_rocker_2',\n",
       " 'Pd_rbs_rocker_2',\n",
       " 'Rdd_rbs_rocker_2',\n",
       " 'Pdd_rbs_rocker_2',\n",
       " 'm_rbs_rocker_2',\n",
       " 'Jbar_rbs_rocker_2',\n",
       " 'R_rbs_rocker_3',\n",
       " 'P_rbs_rocker_3',\n",
       " 'Rd_rbs_rocker_3',\n",
       " 'Pd_rbs_rocker_3',\n",
       " 'Rdd_rbs_rocker_3',\n",
       " 'Pdd_rbs_rocker_3',\n",
       " 'm_rbs_rocker_3',\n",
       " 'Jbar_rbs_rocker_3']"
      ]
     },
     "execution_count": 18,
     "metadata": {},
     "output_type": "execute_result"
    }
   ],
   "source": [
    "config._config.input_nodes"
   ]
  },
  {
   "cell_type": "markdown",
   "metadata": {
    "colab_type": "text",
    "id": "Aab43U2oNZ6Q"
   },
   "source": [
    "### CONFIGURATION INPUTS"
   ]
  },
  {
   "cell_type": "code",
   "execution_count": 19,
   "metadata": {
    "colab": {},
    "colab_type": "code",
    "id": "POolZLG9NU-x"
   },
   "outputs": [],
   "source": [
    "config.add_point.UserInput('bottom_1')\n",
    "config.add_point.UserInput('bottom_2')\n",
    "config.add_point.UserInput('bottom_3')\n",
    "config.add_point.UserInput('middle_1')\n",
    "config.add_point.UserInput('middle_2')\n",
    "config.add_point.UserInput('middle_3')\n",
    "config.add_point.UserInput('upper_1')\n",
    "config.add_point.UserInput('upper_2')\n",
    "config.add_point.UserInput('upper_3')\n",
    "config.add_point.UserInput('tripod')\n",
    "\n",
    "config.add_vector.UserInput('y')\n",
    "config.add_vector.UserInput('z')"
   ]
  },
  {
   "cell_type": "markdown",
   "metadata": {
    "colab_type": "text",
    "id": "9j9nSKi7NwGf"
   },
   "source": [
    "### CONFIGURATION RELATIONS"
   ]
  },
  {
   "cell_type": "code",
   "execution_count": 20,
   "metadata": {
    "colab": {},
    "colab_type": "code",
    "id": "4pYGoARzlyAj"
   },
   "outputs": [],
   "source": [
    "# Bottom Revolute Joints:\n",
    "config.add_relation.Equal_to('pt1_jcs_rev_1', ('hps_bottom_1',))\n",
    "config.add_relation.Equal_to('ax1_jcs_rev_1', ('vcs_y',))\n",
    "\n",
    "config.add_relation.Equal_to('pt1_jcs_rev_2', ('hps_bottom_2',))\n",
    "config.add_relation.Equal_to('ax1_jcs_rev_2', ('vcs_y',))\n",
    "\n",
    "config.add_relation.Equal_to('pt1_jcs_rev_3', ('hps_bottom_3',))\n",
    "config.add_relation.Equal_to('ax1_jcs_rev_3', ('vcs_y',))\n",
    "\n",
    "# Bottom Spherical Joints:\n",
    "config.add_relation.Equal_to('pt1_jcs_bottom_sph_1', ('hps_middle_1',))\n",
    "config.add_relation.Equal_to('ax1_jcs_bottom_sph_1', ('vcs_z',))\n",
    "\n",
    "config.add_relation.Equal_to('pt1_jcs_bottom_sph_2', ('hps_middle_2',))\n",
    "config.add_relation.Equal_to('ax1_jcs_bottom_sph_2', ('vcs_z',))\n",
    "\n",
    "config.add_relation.Equal_to('pt1_jcs_bottom_sph_3', ('hps_middle_3',))\n",
    "config.add_relation.Equal_to('ax1_jcs_bottom_sph_3', ('vcs_z',))\n",
    "\n",
    "# Upper Universal Joints:\n",
    "config.add_relation.Equal_to('pt1_jcs_upper_uni_1', ('hps_upper_1',))\n",
    "config.add_relation.Oriented('ax1_jcs_upper_uni_1', ('hps_middle_1', 'hps_upper_1'))\n",
    "config.add_relation.Equal_to('ax2_jcs_upper_uni_1', ('vcs_z',))\n",
    "\n",
    "config.add_relation.Equal_to('pt1_jcs_upper_uni_2', ('hps_upper_2',))\n",
    "config.add_relation.Oriented('ax1_jcs_upper_uni_2', ('hps_middle_2', 'hps_upper_2'))\n",
    "config.add_relation.Equal_to('ax2_jcs_upper_uni_2', ('vcs_z',))\n",
    "\n",
    "config.add_relation.Equal_to('pt1_jcs_upper_uni_3', ('hps_upper_3',))\n",
    "config.add_relation.Oriented('ax1_jcs_upper_uni_3', ('hps_middle_3', 'hps_upper_3'))\n",
    "config.add_relation.Equal_to('ax2_jcs_upper_uni_3', ('vcs_z',))\n",
    "\n",
    "# Upper Tripod Joint:\n",
    "config.add_relation.Equal_to('pt1_jcs_tripod', ('hps_tripod',))\n",
    "config.add_relation.Equal_to('ax1_jcs_tripod', ('vcs_z',))\n"
   ]
  },
  {
   "cell_type": "markdown",
   "metadata": {
    "colab_type": "text",
    "id": "GBDNEoICQMeN"
   },
   "source": [
    "### GEOMETRIES"
   ]
  },
  {
   "cell_type": "markdown",
   "metadata": {},
   "source": [
    "Here we start defining basic geometric shapes that can represents the shapes of the bodies in our system. This serves two points:\n",
    "- Visualization and Animation in blender.\n",
    "- Evaluating the bodies inertia properties from these basic geometries instead of explicit definition."
   ]
  },
  {
   "cell_type": "code",
   "execution_count": 21,
   "metadata": {
    "colab": {},
    "colab_type": "code",
    "id": "G231--NTNEyK"
   },
   "outputs": [],
   "source": [
    "config.add_scalar.UserInput('links_ro')\n",
    "config.add_scalar.UserInput('rockers_ro')\n",
    "\n",
    "config.add_geometry.Triangular_Prism('table', ('hps_upper_1','hps_upper_2','hps_upper_3','s_rockers_ro'))\n",
    "config.assign_geometry_to_body('rbs_table', 'gms_table')\n",
    "\n",
    "config.add_geometry.Cylinder_Geometry('rocker_1', ('hps_bottom_1','hps_middle_1','s_rockers_ro'))\n",
    "config.assign_geometry_to_body('rbs_rocker_1', 'gms_rocker_1')\n",
    "\n",
    "config.add_geometry.Cylinder_Geometry('rocker_2', ('hps_bottom_2','hps_middle_2','s_rockers_ro'))\n",
    "config.assign_geometry_to_body('rbs_rocker_2', 'gms_rocker_2')\n",
    "\n",
    "config.add_geometry.Cylinder_Geometry('rocker_3', ('hps_bottom_3','hps_middle_3','s_rockers_ro'))\n",
    "config.assign_geometry_to_body('rbs_rocker_3', 'gms_rocker_3')\n",
    "\n",
    "config.add_geometry.Cylinder_Geometry('link_1', ('hps_upper_1','hps_middle_1','s_links_ro'))\n",
    "config.assign_geometry_to_body('rbs_link_1', 'gms_link_1')\n",
    "\n",
    "config.add_geometry.Cylinder_Geometry('link_2', ('hps_upper_2','hps_middle_2','s_links_ro'))\n",
    "config.assign_geometry_to_body('rbs_link_2', 'gms_link_2')\n",
    "\n",
    "config.add_geometry.Cylinder_Geometry('link_3', ('hps_upper_3','hps_middle_3','s_links_ro'))\n",
    "config.assign_geometry_to_body('rbs_link_3', 'gms_link_3')\n"
   ]
  },
  {
   "cell_type": "markdown",
   "metadata": {},
   "source": [
    "Now lets check the current ```input_nodes```."
   ]
  },
  {
   "cell_type": "code",
   "execution_count": 22,
   "metadata": {},
   "outputs": [
    {
     "data": {
      "text/plain": [
       "['UF_mcs_act_1',\n",
       " 'UF_mcs_act_2',\n",
       " 'UF_mcs_act_3',\n",
       " 'R_ground',\n",
       " 'P_ground',\n",
       " 'Rd_ground',\n",
       " 'Pd_ground',\n",
       " 'Rdd_ground',\n",
       " 'Pdd_ground',\n",
       " 'Rd_rbs_table',\n",
       " 'Pd_rbs_table',\n",
       " 'Rdd_rbs_table',\n",
       " 'Pdd_rbs_table',\n",
       " 'Rd_rbs_link_1',\n",
       " 'Pd_rbs_link_1',\n",
       " 'Rdd_rbs_link_1',\n",
       " 'Pdd_rbs_link_1',\n",
       " 'Rd_rbs_link_2',\n",
       " 'Pd_rbs_link_2',\n",
       " 'Rdd_rbs_link_2',\n",
       " 'Pdd_rbs_link_2',\n",
       " 'Rd_rbs_link_3',\n",
       " 'Pd_rbs_link_3',\n",
       " 'Rdd_rbs_link_3',\n",
       " 'Pdd_rbs_link_3',\n",
       " 'Rd_rbs_rocker_1',\n",
       " 'Pd_rbs_rocker_1',\n",
       " 'Rdd_rbs_rocker_1',\n",
       " 'Pdd_rbs_rocker_1',\n",
       " 'Rd_rbs_rocker_2',\n",
       " 'Pd_rbs_rocker_2',\n",
       " 'Rdd_rbs_rocker_2',\n",
       " 'Pdd_rbs_rocker_2',\n",
       " 'Rd_rbs_rocker_3',\n",
       " 'Pd_rbs_rocker_3',\n",
       " 'Rdd_rbs_rocker_3',\n",
       " 'Pdd_rbs_rocker_3',\n",
       " 'hps_bottom_1',\n",
       " 'hps_bottom_2',\n",
       " 'hps_bottom_3',\n",
       " 'hps_middle_1',\n",
       " 'hps_middle_2',\n",
       " 'hps_middle_3',\n",
       " 'hps_upper_1',\n",
       " 'hps_upper_2',\n",
       " 'hps_upper_3',\n",
       " 'hps_tripod',\n",
       " 'vcs_y',\n",
       " 'vcs_z',\n",
       " 's_links_ro',\n",
       " 's_rockers_ro']"
      ]
     },
     "execution_count": 22,
     "metadata": {},
     "output_type": "execute_result"
    }
   ],
   "source": [
    "config._config.input_nodes"
   ]
  },
  {
   "cell_type": "markdown",
   "metadata": {
    "colab_type": "text",
    "id": "7W4E4M4CRa68"
   },
   "source": [
    "### ASSEMBLING"
   ]
  },
  {
   "cell_type": "markdown",
   "metadata": {},
   "source": [
    "Finally we assemble the system and extract the inputs' nodes to a .csv file that can be used to fill in the numerical values for a numerical simulation."
   ]
  },
  {
   "cell_type": "code",
   "execution_count": 23,
   "metadata": {
    "colab": {},
    "colab_type": "code",
    "id": "loJxG25CRbVE"
   },
   "outputs": [],
   "source": [
    "config.assemble()\n",
    "config.extract_inputs_to_csv()"
   ]
  },
  {
   "cell_type": "markdown",
   "metadata": {},
   "source": [
    "---------------------------------------------------------------\n",
    "---------------------------------------------------------------"
   ]
  },
  {
   "cell_type": "markdown",
   "metadata": {},
   "source": [
    "## **CODE GENERATION**\n",
    "----------------------"
   ]
  },
  {
   "cell_type": "markdown",
   "metadata": {},
   "source": [
    "This step aims to create a valid code that can be used for numerical simulation. We will use the ***python code generators*** to create a valid numerical simulation environment in python.</br>\n",
    "Theoretically, the symbolic environment is uncoupled from the simulation environment, which opens the door to create various simulation environments that can be in any language."
   ]
  },
  {
   "cell_type": "markdown",
   "metadata": {
    "colab_type": "text",
    "id": "udnBb6lvi9fo"
   },
   "source": [
    "### Importing Python Code Generators"
   ]
  },
  {
   "cell_type": "code",
   "execution_count": 24,
   "metadata": {
    "colab": {},
    "colab_type": "code",
    "id": "Gigw7exKP7aK"
   },
   "outputs": [],
   "source": [
    "from smbd.numenv.python.codegen import generators"
   ]
  },
  {
   "cell_type": "markdown",
   "metadata": {
    "colab_type": "text",
    "id": "w-KSwTyjjN5P"
   },
   "source": [
    "### Generating Files"
   ]
  },
  {
   "cell_type": "code",
   "execution_count": 25,
   "metadata": {
    "colab": {
     "base_uri": "https://localhost:8080/",
     "height": 34
    },
    "colab_type": "code",
    "executionInfo": {
     "elapsed": 583,
     "status": "ok",
     "timestamp": 1557736954280,
     "user": {
      "displayName": "Khaled Ghobashy",
      "photoUrl": "",
      "userId": "05113177637222565845"
     },
     "user_tz": -120
    },
    "id": "LJS5-cw_UShy",
    "outputId": "df55acd6-f75e-46ea-b6e3-8db1050860bf"
   },
   "outputs": [
    {
     "name": "stdout",
     "output_type": "stream",
     "text": [
      "File full path : stewart_gough.py\n"
     ]
    }
   ],
   "source": [
    "model_generator = generators.template_codegen(sym_model._mbs)\n",
    "model_generator.write_code_file()"
   ]
  },
  {
   "cell_type": "code",
   "execution_count": 26,
   "metadata": {
    "colab": {
     "base_uri": "https://localhost:8080/",
     "height": 34
    },
    "colab_type": "code",
    "executionInfo": {
     "elapsed": 807,
     "status": "ok",
     "timestamp": 1557736956747,
     "user": {
      "displayName": "Khaled Ghobashy",
      "photoUrl": "",
      "userId": "05113177637222565845"
     },
     "user_tz": -120
    },
    "id": "I7wTNxhmUimC",
    "outputId": "9f75f4e4-f14a-4060-873b-3dc57fa0f065"
   },
   "outputs": [
    {
     "name": "stdout",
     "output_type": "stream",
     "text": [
      "File full path : stewart_gough_cfg.py\n"
     ]
    }
   ],
   "source": [
    "config_generator = generators.configuration_codegen(config._config)\n",
    "config_generator.write_code_file()"
   ]
  },
  {
   "cell_type": "markdown",
   "metadata": {},
   "source": [
    "### Generating Blender Script"
   ]
  },
  {
   "cell_type": "code",
   "execution_count": 27,
   "metadata": {},
   "outputs": [],
   "source": [
    "from smbd.utilities.blender import codegen"
   ]
  },
  {
   "cell_type": "code",
   "execution_count": 28,
   "metadata": {},
   "outputs": [],
   "source": [
    "blender_code = codegen.script_generator(config._config)\n",
    "blender_code.write_code_file()"
   ]
  },
  {
   "cell_type": "markdown",
   "metadata": {},
   "source": [
    "---------------------------------------------------------------\n",
    "---------------------------------------------------------------"
   ]
  },
  {
   "cell_type": "markdown",
   "metadata": {},
   "source": [
    "## **NUMERICAL SIMULATION**\n",
    "---------------------------"
   ]
  },
  {
   "cell_type": "markdown",
   "metadata": {},
   "source": [
    "The **numerical simulation** step is also a straight forward one. We start by importing helper libraries like **numpy** and **pandas**, then we import the ```multibody_system``` class and ```simulation``` class that will be used to create a numerical system and a simulation instance respectively. And finally we import the generated code files from the previous step.\n",
    "\n",
    "The steps then can be summarized as follows:\n",
    "1. Create a numerical model instance by passing the generated topology code to the ```multibody_system``` class.\n",
    "2. Make the configuration of that instance refers to the generated configuration code.\n",
    "3. Setting the numerical data of the configuration, either directly here or via filling in the generated csv file.\n",
    "4. Setting the **user-defined functions** that will be used for the actuators.\n",
    "5. Creating a **simulation instance**, set the desired time-sampling and run the simulation.\n",
    "6. Plotting the results."
   ]
  },
  {
   "cell_type": "markdown",
   "metadata": {
    "colab_type": "text",
    "id": "w-7fcrPBjUie"
   },
   "source": [
    "###  Imports"
   ]
  },
  {
   "cell_type": "code",
   "execution_count": 29,
   "metadata": {
    "colab": {},
    "colab_type": "code",
    "id": "k-OHyJ25V2_2"
   },
   "outputs": [],
   "source": [
    "import numpy as np\n",
    "import pandas as pd"
   ]
  },
  {
   "cell_type": "code",
   "execution_count": 30,
   "metadata": {},
   "outputs": [],
   "source": [
    "from smbd.numenv.python.interfaces.scripting import multibody_system, simulation"
   ]
  },
  {
   "cell_type": "code",
   "execution_count": 31,
   "metadata": {
    "colab": {
     "base_uri": "https://localhost:8080/",
     "height": 86
    },
    "colab_type": "code",
    "executionInfo": {
     "elapsed": 520,
     "status": "ok",
     "timestamp": 1557736970805,
     "user": {
      "displayName": "Khaled Ghobashy",
      "photoUrl": "",
      "userId": "05113177637222565845"
     },
     "user_tz": -120
    },
    "id": "gVGfI0prVtb-",
    "outputId": "f489c7d1-07d2-48e3-c12d-1e2959b53cb8"
   },
   "outputs": [],
   "source": [
    "import stewart_gough, stewart_gough_cfg"
   ]
  },
  {
   "cell_type": "markdown",
   "metadata": {
    "colab_type": "text",
    "id": "vkHoR9CCjb6u"
   },
   "source": [
    "### Creating Numerical Model"
   ]
  },
  {
   "cell_type": "code",
   "execution_count": 32,
   "metadata": {
    "colab": {},
    "colab_type": "code",
    "id": "bS9zE2usXu3X"
   },
   "outputs": [],
   "source": [
    "num_model = multibody_system(stewart_gough)\n",
    "num_model.topology.config = stewart_gough_cfg.configuration()"
   ]
  },
  {
   "cell_type": "markdown",
   "metadata": {
    "colab_type": "text",
    "id": "85ZRAWmRjitu"
   },
   "source": [
    "### Setting Configuration Numerical Data"
   ]
  },
  {
   "cell_type": "code",
   "execution_count": 33,
   "metadata": {},
   "outputs": [],
   "source": [
    "inputs_df = pd.read_csv('csv_files/stewart_gough_cfg.csv', index_col=0)"
   ]
  },
  {
   "cell_type": "code",
   "execution_count": 34,
   "metadata": {
    "colab": {},
    "colab_type": "code",
    "id": "F6KpPR4z7xUL"
   },
   "outputs": [],
   "source": [
    "inputs_df.loc['P_ground'] = [1, 0, 0, 0]\n",
    "\n",
    "inputs_df.loc['hps_tripod'] = [0, 0, 390, 0]\n",
    "\n",
    "inputs_df.loc['hps_bottom_1'] = [0, -430, 0, 0]\n",
    "inputs_df.loc['hps_bottom_2'] = [139,  215, 0, 0]\n",
    "inputs_df.loc['hps_bottom_3'] = [-139, 215, 0, 0]\n",
    "\n",
    "inputs_df.loc['hps_middle_1'] = [-100, -430, 0, 0]\n",
    "inputs_df.loc['hps_middle_2'] = [39, 215, 0, 0]\n",
    "inputs_df.loc['hps_middle_3'] = [-39, 215, 0, 0]\n",
    "\n",
    "inputs_df.loc['hps_upper_1'] = [0,  -430, 430, 0]\n",
    "inputs_df.loc['hps_upper_2'] = [139, 215, 430, 0]\n",
    "inputs_df.loc['hps_upper_3'] = [-139, 215, 430, 0]\n",
    "\n",
    "inputs_df.loc['vcs_y'] = [0,1,0,0]\n",
    "inputs_df.loc['vcs_z'] = [0,0,1,0]\n",
    "\n",
    "inputs_df.loc['s_links_ro'] = [20,0,0,0]\n",
    "inputs_df.loc['s_rockers_ro'] = [20,0,0,0]\n"
   ]
  },
  {
   "cell_type": "code",
   "execution_count": 35,
   "metadata": {},
   "outputs": [],
   "source": [
    "# Saving the numerical data to a new csv file\n",
    "inputs_df.to_csv('csv_files/stewart_gough_v1.csv')"
   ]
  },
  {
   "cell_type": "code",
   "execution_count": 36,
   "metadata": {
    "colab": {},
    "colab_type": "code",
    "id": "0sZEcd8bX2uG"
   },
   "outputs": [],
   "source": [
    "num_model.topology.config.load_from_dataframe(inputs_df)"
   ]
  },
  {
   "cell_type": "markdown",
   "metadata": {},
   "source": [
    "### Setting User Functions."
   ]
  },
  {
   "cell_type": "markdown",
   "metadata": {},
   "source": [
    "#### Actuators"
   ]
  },
  {
   "cell_type": "markdown",
   "metadata": {},
   "source": [
    "Here we set the actuation functions of the system actuators."
   ]
  },
  {
   "cell_type": "code",
   "execution_count": 37,
   "metadata": {
    "colab": {},
    "colab_type": "code",
    "id": "J5Aexk5igheY"
   },
   "outputs": [],
   "source": [
    "num_model.topology.config.UF_mcs_act_1 = lambda t :  np.deg2rad(360)*t\n",
    "num_model.topology.config.UF_mcs_act_2 = lambda t :  np.deg2rad(360)*t\n",
    "num_model.topology.config.UF_mcs_act_3 = lambda t : -np.deg2rad(360)*t"
   ]
  },
  {
   "cell_type": "markdown",
   "metadata": {
    "colab_type": "text",
    "id": "APxcuvdMjq4-"
   },
   "source": [
    "### Creating Simulation Instance"
   ]
  },
  {
   "cell_type": "markdown",
   "metadata": {},
   "source": [
    "A simulation instance takes in three arguments, the simulation ```name```, the numerical ```model``` and the simulation ```typ```. The simulation ```typ``` argument should be either *kds* for kinematically driven systems or *dds* for dynamically driven systems. For our case, the system is fully defined kinematically, and therefore we will set the ```typ``` as *kds*."
   ]
  },
  {
   "cell_type": "code",
   "execution_count": 38,
   "metadata": {
    "colab": {
     "base_uri": "https://localhost:8080/",
     "height": 69
    },
    "colab_type": "code",
    "executionInfo": {
     "elapsed": 16693,
     "status": "ok",
     "timestamp": 1557737279456,
     "user": {
      "displayName": "Khaled Ghobashy",
      "photoUrl": "",
      "userId": "05113177637222565845"
     },
     "user_tz": -120
    },
    "id": "-TQlCPthclMA",
    "outputId": "2a7f819d-52ff-4da4-8db9-c92f17546cd4"
   },
   "outputs": [
    {
     "name": "stdout",
     "output_type": "stream",
     "text": [
      "\n",
      "Running System Kinematic Analysis:\n",
      "Progress: [=========================] 100%, (299/299) steps."
     ]
    }
   ],
   "source": [
    "sim1 = simulation('sim1', num_model, 'kds')\n",
    "sim1.set_time_array(3, 300)\n",
    "sim1.solve()"
   ]
  },
  {
   "cell_type": "markdown",
   "metadata": {
    "colab_type": "text",
    "id": "MRUUucP1jwdF"
   },
   "source": [
    "### Plotting Results"
   ]
  },
  {
   "cell_type": "code",
   "execution_count": 39,
   "metadata": {
    "colab": {
     "base_uri": "https://localhost:8080/",
     "height": 774
    },
    "colab_type": "code",
    "executionInfo": {
     "elapsed": 1319,
     "status": "ok",
     "timestamp": 1557737282414,
     "user": {
      "displayName": "Khaled Ghobashy",
      "photoUrl": "",
      "userId": "05113177637222565845"
     },
     "user_tz": -120
    },
    "id": "FbEdPSzWfBQs",
    "outputId": "6b2b60b7-caff-4c97-a024-2751adfdec6c"
   },
   "outputs": [
    {
     "data": {
      "text/plain": [
       "<matplotlib.axes._subplots.AxesSubplot at 0x7f408bdc67b8>"
      ]
     },
     "execution_count": 39,
     "metadata": {},
     "output_type": "execute_result"
    },
    {
     "data": {
      "image/png": "[encoded data removed]",
      "text/plain": [
       "<Figure size 720x288 with 1 Axes>"
      ]
     },
     "metadata": {
      "needs_background": "light"
     },
     "output_type": "display_data"
    },
    {
     "data": {
      "image/png": "[encoded data removed]",
      "text/plain": [
       "<Figure size 720x288 with 1 Axes>"
      ]
     },
     "metadata": {
      "needs_background": "light"
     },
     "output_type": "display_data"
    },
    {
     "data": {
      "image/png": "[encoded data removed]",
      "text/plain": [
       "<Figure size 720x288 with 1 Axes>"
      ]
     },
     "metadata": {
      "needs_background": "light"
     },
     "output_type": "display_data"
    }
   ],
   "source": [
    "sim1.soln.pos_dataframe.plot(x='time', y='rbs_table.z', grid=True, figsize=(10,4))\n",
    "sim1.soln.vel_dataframe.plot(x='time', y='rbs_table.z', grid=True, figsize=(10,4))\n",
    "sim1.soln.acc_dataframe.plot(x='time', y='rbs_table.z', grid=True, figsize=(10,4))"
   ]
  },
  {
   "cell_type": "markdown",
   "metadata": {},
   "source": [
    "### Evaluating System Reactions"
   ]
  },
  {
   "cell_type": "markdown",
   "metadata": {},
   "source": [
    "Here we take the simulation a step further by making it an inverse dynamics problem and evaluating the reactions resulted due the imposed constraints, either by joints or actuators. This step is only valid if you have defined the numerical values of the inertia properties of the system."
   ]
  },
  {
   "cell_type": "code",
   "execution_count": 40,
   "metadata": {
    "colab": {},
    "colab_type": "code",
    "id": "rqS1av3HgQTz"
   },
   "outputs": [
    {
     "name": "stdout",
     "output_type": "stream",
     "text": [
      "\n",
      "Evaluating System Constraints Reactions:\n",
      "Progress: [=========================] 100%, (300/300) steps."
     ]
    }
   ],
   "source": [
    "sim1.eval_reactions()"
   ]
  },
  {
   "cell_type": "code",
   "execution_count": 41,
   "metadata": {},
   "outputs": [
    {
     "data": {
      "text/plain": [
       "<matplotlib.axes._subplots.AxesSubplot at 0x7f408b9100b8>"
      ]
     },
     "execution_count": 41,
     "metadata": {},
     "output_type": "execute_result"
    },
    {
     "data": {
      "image/png": "[encoded data removed]",
      "text/plain": [
       "<Figure size 720x288 with 1 Axes>"
      ]
     },
     "metadata": {
      "needs_background": "light"
     },
     "output_type": "display_data"
    },
    {
     "data": {
      "image/png": "[encoded data removed]",
      "text/plain": [
       "<Figure size 720x288 with 1 Axes>"
      ]
     },
     "metadata": {
      "needs_background": "light"
     },
     "output_type": "display_data"
    },
    {
     "data": {
      "image/png": "[encoded data removed]",
      "text/plain": [
       "<Figure size 720x288 with 1 Axes>"
      ]
     },
     "metadata": {
      "needs_background": "light"
     },
     "output_type": "display_data"
    }
   ],
   "source": [
    "sim1.soln.reactions_dataframe.plot(x='time', y='T_ground_mcs_act_1.y', grid=True, figsize=(10,4))\n",
    "sim1.soln.reactions_dataframe.plot(x='time', y='T_ground_mcs_act_2.y', grid=True, figsize=(10,4))\n",
    "sim1.soln.reactions_dataframe.plot(x='time', y='T_ground_mcs_act_3.y', grid=True, figsize=(10,4))"
   ]
  },
  {
   "cell_type": "code",
   "execution_count": null,
   "metadata": {},
   "outputs": [],
   "source": []
  }
 ],
 "metadata": {
  "colab": {
   "collapsed_sections": [
    "XoGQt6KfpT6W",
    "RpJj74Bp85kj",
    "H4cDiuwl9GhC",
    "xEIGTW2xU__C",
    "CdSxgX5g12iy",
    "kij6eQQ82RMh",
    "6xG8vWUJ2Tk-"
   ],
   "name": "stewart_gough.ipynb",
   "provenance": [],
   "toc_visible": true,
   "version": "0.3.2"
  },
  "kernelspec": {
   "display_name": "Python 3",
   "language": "python",
   "name": "python3"
  },
  "language_info": {
   "codemirror_mode": {
    "name": "ipython",
    "version": 3
   },
   "file_extension": ".py",
   "mimetype": "text/x-python",
   "name": "python",
   "nbconvert_exporter": "python",
   "pygments_lexer": "ipython3",
   "version": "3.7.3"
  }
 },
 "nbformat": 4,
 "nbformat_minor": 2
}
