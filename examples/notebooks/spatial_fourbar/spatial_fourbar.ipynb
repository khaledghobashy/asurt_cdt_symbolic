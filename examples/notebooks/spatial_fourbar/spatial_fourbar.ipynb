{
 "cells": [
  {
   "cell_type": "markdown",
   "metadata": {},
   "source": [
    "# STANDALONE STUDY\n",
    "## **SPATIAL FOURBAR**\n",
    "-----------------"
   ]
  },
  {
   "cell_type": "markdown",
   "metadata": {},
   "source": [
    "### **IMPORTANT NOTES**\n",
    "#### **COLAB Machine Setup**\n",
    "If starting a new Colab session, Please open the [colab_setup.ipynb](https://colab.research.google.com/github/khaledghobashy/smbd/blob/master/examples/notebooks/colab_setup.ipynb) and follow the instructions there.\n",
    "A new Colab session does not mean a new notebook session, you can have various notebook sessions on the same Colab session. The Colab session linked to your Google account expires in 12 hours, and so any data saved on that remote machine will be lost.</br>\n",
    "When you run the first cell, Colab will prompt a warning that *\"This notebook was not authored by Google.\"* and that it is loaded from GitHub. Un-check the **Reset all runtimes before running** then press **RUN ANYWAY**.\n",
    "\n",
    "#### **Package Path.**\n",
    "*This step is temporary unitll the package can be installed via conda and/or pip*\n",
    "- **Colab**. </br>\n",
    "For a Cloab session, the ```pkg_path``` variable is the one relevant to the repository path on the Colab remote machine. This should be used if you are running the notebook on Colab.\n",
    "- **Local Machine**. </br>\n",
    "The ```pkg_path``` variable is where I have the repository on my machine. You should change it to where you cloned the repository on your machine.\n",
    "\n",
    "#### **Projects Directory**\n",
    "- **Colab**.</br>\n",
    "The ```projects_dir``` variable should not be changed.\n",
    "- **Local Machine**. </br>\n",
    "The ```projects_dir``` should be changed to match your desired directory where you store your projects.\n",
    "\n",
    "--------------------------------------------------------------"
   ]
  },
  {
   "cell_type": "code",
   "execution_count": 1,
   "metadata": {},
   "outputs": [],
   "source": [
    "import sys"
   ]
  },
  {
   "cell_type": "code",
   "execution_count": 2,
   "metadata": {},
   "outputs": [],
   "source": [
    "project_name = 'spatial_fourbar'"
   ]
  },
  {
   "cell_type": "markdown",
   "metadata": {},
   "source": [
    "### Colab Session\n",
    "*Run if in a Colab Session Only!*"
   ]
  },
  {
   "cell_type": "code",
   "execution_count": 2,
   "metadata": {},
   "outputs": [],
   "source": [
    "project_dir = '/content/projects/%s'%project_name\n",
    "pkg_path = '/content/smbd'\n",
    "sys.path.append(pkg_path)"
   ]
  },
  {
   "cell_type": "markdown",
   "metadata": {},
   "source": [
    "### Local Session\n",
    "*Run if on your Local Machine!*</br>\n",
    "*Do not forget to change the variables below as illustrated in the notes!*"
   ]
  },
  {
   "cell_type": "code",
   "execution_count": 3,
   "metadata": {},
   "outputs": [],
   "source": [
    "project_dir = ''\n",
    "pkg_path = '/home/khaledghobashy/Documents/smbd'\n",
    "sys.path.append(pkg_path)"
   ]
  },
  {
   "cell_type": "markdown",
   "metadata": {},
   "source": [
    "---------------------------------------------------------------\n",
    "---------------------------------------------------------------"
   ]
  },
  {
   "cell_type": "code",
   "execution_count": 4,
   "metadata": {},
   "outputs": [],
   "source": [
    "from smbd.systems import standalone_project, standalone_topology, configuration"
   ]
  },
  {
   "cell_type": "code",
   "execution_count": 5,
   "metadata": {},
   "outputs": [],
   "source": [
    "project = standalone_project(project_dir)\n",
    "project.create()"
   ]
  },
  {
   "cell_type": "markdown",
   "metadata": {},
   "source": [
    "---------------------------------------------------------------\n",
    "---------------------------------------------------------------"
   ]
  },
  {
   "cell_type": "markdown",
   "metadata": {},
   "source": [
    "## **SYSTEM DESCRIPTION**\n",
    "-------------------------"
   ]
  },
  {
   "cell_type": "markdown",
   "metadata": {},
   "source": [
    "### **Important Note**\n",
    "The tool uses [euler-parameters](https://en.wikibooks.org/wiki/Multibody_Mechanics/Euler_Parameters) -which is a 4D unit quaternion- to represents bodies orientation in space. This makes the generalized coordinates used to fully define a body in space to be **7,** instead of **6**, it also adds an algebraic equation to the constraints that ensures the unity/normalization of the body quaternion. This is an important remark as the calculations of the degrees-of-freedom depends on it."
   ]
  },
  {
   "cell_type": "markdown",
   "metadata": {},
   "source": [
    "### **Summary**\n",
    "A four-bar linkage is the simplest movable closed chain linkage. It consists of four bodies, called bars or links, connected in a loop by four joints that gives the mechanism only 1 degree-of-freedom. More general information can be found on [wikipedia](https://en.wikipedia.org/wiki/Four-bar_linkage)."
   ]
  },
  {
   "cell_type": "markdown",
   "metadata": {},
   "source": [
    "### **Topology Layout**\n",
    "The mechanism consists of 3 Bodies + 1 Ground. Therefore, total system coordinates -including the ground- is $$n=n_b\\times7 = 4\\times7 = 28$$ \n",
    "where $n_b$ is the total number of bodies. The list of bodies is given below:\n",
    "- Crank $l_1$.\n",
    "- Connecting-Rod $l_2$.\n",
    "- Rocker $l_3$.\n",
    "\n",
    "The system connectivity is as follows:\n",
    "- Crank $l_1$ is connected to the ground by a revolute joint, resulting in constraint equations $n_{c,rev} = 5$\n",
    "- Connecting-Rod $l_2$ is connected to the Crank $l_1$ by a spherical joint, resulting in constraint equations $n_{c,sph} = 3$\n",
    "- Rocker $l_3$ is connected to Connecting-Rod $l_2$ by a universal joint, resulting in constraint equations $n_{c,uni} = 4$\n",
    "- Rocker $l_3$ is connected to the ground by a revolute joint, resulting in constraint equations $n_{c,tri} = 5$\n",
    "- Total free DOF is $$n-( n_{c,rev}+n_{c,sph}+n_{c,uni}+n_{c,P}+n_{c,g}) = 28-(10+3+4+(3\\times1)+7) = 28-27 = 1$$, where the $n_{c,P}$ and $n_{c,g}$ represents the constraints due to euler-parameters normalization equations and the ground-constraints respectively.\n",
    "- The Crank revolute joint is actuated by a rotational actuator, resulting in constraint equations $n_{c,act} = 1$\n",
    "\n",
    "| Joint Name  | Body i         | Body j         | Joint Type | $n_c$ |\n",
    "|:-----------:|:-------------- |:-------------- | ---------- | ----- |\n",
    "| a           | Ground         | Crank          | Revolute   | 5     |\n",
    "| b           | Crank          | Connecting-Rod | Spherical  | 3     |\n",
    "| c           | Connecting-Rod | Rocker         | Universal  | 4     |\n",
    "| d           | Rocker         | Ground         | Revolute   | 5     |"
   ]
  },
  {
   "cell_type": "markdown",
   "metadata": {},
   "source": [
    "---------------------------------------------------------------\n",
    "---------------------------------------------------------------"
   ]
  },
  {
   "cell_type": "markdown",
   "metadata": {},
   "source": [
    "## **SYMBOLIC TOPOLOGY**\n",
    "------------------------"
   ]
  },
  {
   "cell_type": "markdown",
   "metadata": {},
   "source": [
    "In this section, we create the symbolic topology that captures the topological layout that we just discussed.</br>\n",
    "Defining the topology is very simple. We start by importing the ```standalone_topology``` class and create a new instance that represents our symbolic model. Then we start adding the components we discussed earlier, starting by the bodies, then the joints, actuators and forces, and thats it.</br>\n",
    "These components will be represented symbolically, and therefore there is no need for any numerical inputs at this step.\n",
    "\n",
    "The system is stored in a form of a network graph that stores all the data needed for the assemblage of the system equations later. But even before the assemblage process, we can gain helpful insights about our system as well be shown.\n"
   ]
  },
  {
   "cell_type": "code",
   "execution_count": 6,
   "metadata": {},
   "outputs": [],
   "source": [
    "sym_model = standalone_topology(project_name)"
   ]
  },
  {
   "cell_type": "markdown",
   "metadata": {},
   "source": [
    "### Adding Bodies"
   ]
  },
  {
   "cell_type": "code",
   "execution_count": 7,
   "metadata": {},
   "outputs": [],
   "source": [
    "sym_model.add_body('l1')\n",
    "sym_model.add_body('l2')\n",
    "sym_model.add_body('l3')"
   ]
  },
  {
   "cell_type": "markdown",
   "metadata": {},
   "source": [
    "### Adding Joints"
   ]
  },
  {
   "cell_type": "code",
   "execution_count": 8,
   "metadata": {},
   "outputs": [],
   "source": [
    "sym_model.add_joint.revolute('a','ground','rbs_l1')\n",
    "sym_model.add_joint.spherical('b','rbs_l1','rbs_l2')\n",
    "sym_model.add_joint.universal('c','rbs_l2','rbs_l3')\n",
    "sym_model.add_joint.revolute('d','rbs_l3','ground')"
   ]
  },
  {
   "cell_type": "markdown",
   "metadata": {},
   "source": [
    "### Adding Actuators"
   ]
  },
  {
   "cell_type": "code",
   "execution_count": 9,
   "metadata": {},
   "outputs": [],
   "source": [
    "sym_model.add_actuator.rotational_actuator('act', 'jcs_a')"
   ]
  },
  {
   "cell_type": "markdown",
   "metadata": {},
   "source": [
    "### Adding Forces"
   ]
  },
  {
   "cell_type": "code",
   "execution_count": 11,
   "metadata": {},
   "outputs": [],
   "source": [
    "#model.add_force.internal_force('force_name', 'body_1', 'body_2', mirror=False)"
   ]
  },
  {
   "cell_type": "markdown",
   "metadata": {
    "colab_type": "text",
    "id": "goKtOBuLd1Kh"
   },
   "source": [
    "### **SYMBOLIC CHARACTERISTICS**"
   ]
  },
  {
   "cell_type": "markdown",
   "metadata": {},
   "source": [
    "#### Topology Graph\n",
    "Visualizing the connectivity of the system as a network graph, where the nodes represent the bodies, and the edges represent the joints, forces and/or actuators between the bodies."
   ]
  },
  {
   "cell_type": "code",
   "execution_count": 10,
   "metadata": {},
   "outputs": [
    {
     "name": "stderr",
     "output_type": "stream",
     "text": [
      "/home/khaledghobashy/anaconda3/lib/python3.7/site-packages/networkx/drawing/nx_pylab.py:579: MatplotlibDeprecationWarning: \n",
      "The iterable function was deprecated in Matplotlib 3.1 and will be removed in 3.3. Use np.iterable instead.\n",
      "  if not cb.iterable(width):\n"
     ]
    },
    {
     "data": {
      "image/png": "[encoded data removed]",
      "text/plain": [
       "<Figure size 720x432 with 1 Axes>"
      ]
     },
     "metadata": {},
     "output_type": "display_data"
    }
   ],
   "source": [
    "sym_model.topology.draw_constraints_topology()"
   ]
  },
  {
   "cell_type": "markdown",
   "metadata": {},
   "source": [
    "### **ASSEMBLING**"
   ]
  },
  {
   "cell_type": "markdown",
   "metadata": {},
   "source": [
    "This is the last step of the symbolic building process, where we make the system starts the assemblage process of the governing equations, which will be used then in the code generation for the numerical simulation, and also can be used for further symbolic manipulations.</br>\n",
    "\n",
    "*Note: The equations' notations will be discussed in the tool documentation files.*"
   ]
  },
  {
   "cell_type": "code",
   "execution_count": 11,
   "metadata": {},
   "outputs": [],
   "source": [
    "sym_model.assemble()"
   ]
  },
  {
   "cell_type": "markdown",
   "metadata": {},
   "source": [
    "#### Checking the System Equations"
   ]
  },
  {
   "cell_type": "code",
   "execution_count": 12,
   "metadata": {},
   "outputs": [
    {
     "data": {
      "text/latex": [
       "$\\displaystyle \\left[\\begin{matrix}{A({P_{ground}})} {\\bar{u}^{ground}_{jcs_a}} - {A({P_{rbs_l1}})} {\\bar{u}^{rbs_l1}_{jcs_a}} + {R_{ground}} - {R_{rbs_l1}}\\\\\\left({\\hat{i}_{{\\bar{M}^{ground}_{jcs_a}}}}\\right)^{T} \\left({A({P_{ground}})}\\right)^{T} {A({P_{rbs_l1}})} {\\hat{k}_{{\\bar{M}^{rbs_l1}_{jcs_a}}}}\\\\\\left({\\hat{j}_{{\\bar{M}^{ground}_{jcs_a}}}}\\right)^{T} \\left({A({P_{ground}})}\\right)^{T} {A({P_{rbs_l1}})} {\\hat{k}_{{\\bar{M}^{rbs_l1}_{jcs_a}}}}\\\\- \\sin{\\left(\\operatorname{UF_{mcs act}}{\\left(t \\right)} \\right)} \\left({\\hat{i}_{{\\bar{M}^{ground}_{jcs_a}}}}\\right)^{T} \\left({A({P_{ground}})}\\right)^{T} {A({P_{rbs_l1}})} {\\hat{i}_{{\\bar{M}^{rbs_l1}_{jcs_a}}}} + \\cos{\\left(\\operatorname{UF_{mcs act}}{\\left(t \\right)} \\right)} \\left({\\hat{j}_{{\\bar{M}^{ground}_{jcs_a}}}}\\right)^{T} \\left({A({P_{ground}})}\\right)^{T} {A({P_{rbs_l1}})} {\\hat{i}_{{\\bar{M}^{rbs_l1}_{jcs_a}}}}\\\\{A({P_{rbs_l1}})} {\\bar{u}^{rbs_l1}_{jcs_b}} - {A({P_{rbs_l2}})} {\\bar{u}^{rbs_l2}_{jcs_b}} + {R_{rbs_l1}} - {R_{rbs_l2}}\\\\{A({P_{rbs_l2}})} {\\bar{u}^{rbs_l2}_{jcs_c}} - {A({P_{rbs_l3}})} {\\bar{u}^{rbs_l3}_{jcs_c}} + {R_{rbs_l2}} - {R_{rbs_l3}}\\\\\\left({\\hat{i}_{{\\bar{M}^{rbs_l2}_{jcs_c}}}}\\right)^{T} \\left({A({P_{rbs_l2}})}\\right)^{T} {A({P_{rbs_l3}})} {\\hat{i}_{{\\bar{M}^{rbs_l3}_{jcs_c}}}}\\\\- {A({P_{ground}})} {\\bar{u}^{ground}_{jcs_d}} + {A({P_{rbs_l3}})} {\\bar{u}^{rbs_l3}_{jcs_d}} - {R_{ground}} + {R_{rbs_l3}}\\\\\\left({\\hat{i}_{{\\bar{M}^{rbs_l3}_{jcs_d}}}}\\right)^{T} \\left({A({P_{rbs_l3}})}\\right)^{T} {A({P_{ground}})} {\\hat{k}_{{\\bar{M}^{ground}_{jcs_d}}}}\\\\\\left({\\hat{j}_{{\\bar{M}^{rbs_l3}_{jcs_d}}}}\\right)^{T} \\left({A({P_{rbs_l3}})}\\right)^{T} {A({P_{ground}})} {\\hat{k}_{{\\bar{M}^{ground}_{jcs_d}}}}\\\\{R_{ground}}\\\\{P_{ground}} - {Pg_{ground}}\\\\- \\mathbb{I} + {P_{rbs_l1}}^{T} {P_{rbs_l1}}\\\\- \\mathbb{I} + {P_{rbs_l2}}^{T} {P_{rbs_l2}}\\\\- \\mathbb{I} + {P_{rbs_l3}}^{T} {P_{rbs_l3}}\\end{matrix}\\right]$"
      ],
      "text/plain": [
       "Matrix([\n",
       "[                                                                                                             A({P_{ground}})*{\\bar{u}^{ground}_{jcs_a}} - A({P_{rbs_l1}})*{\\bar{u}^{rbs_l1}_{jcs_a}} + {R_{ground}} - {R_{rbs_l1}}],\n",
       "[                                                                                                                                       Mbar_ground_jcs_a[:,(0, 1)].T*A({P_{ground}}).T*A({P_{rbs_l1}})*Mbar_rbs_l1_jcs_a[:,(2, 3)]],\n",
       "[                                                                                                                                       Mbar_ground_jcs_a[:,(1, 2)].T*A({P_{ground}}).T*A({P_{rbs_l1}})*Mbar_rbs_l1_jcs_a[:,(2, 3)]],\n",
       "[(-sin(UF_mcs_act(t)))*Mbar_ground_jcs_a[:,(0, 1)].T*A({P_{ground}}).T*A({P_{rbs_l1}})*Mbar_rbs_l1_jcs_a[:,(0, 1)] + cos(UF_mcs_act(t))*Mbar_ground_jcs_a[:,(1, 2)].T*A({P_{ground}}).T*A({P_{rbs_l1}})*Mbar_rbs_l1_jcs_a[:,(0, 1)]],\n",
       "[                                                                                                             A({P_{rbs_l1}})*{\\bar{u}^{rbs_l1}_{jcs_b}} - A({P_{rbs_l2}})*{\\bar{u}^{rbs_l2}_{jcs_b}} + {R_{rbs_l1}} - {R_{rbs_l2}}],\n",
       "[                                                                                                             A({P_{rbs_l2}})*{\\bar{u}^{rbs_l2}_{jcs_c}} - A({P_{rbs_l3}})*{\\bar{u}^{rbs_l3}_{jcs_c}} + {R_{rbs_l2}} - {R_{rbs_l3}}],\n",
       "[                                                                                                                                       Mbar_rbs_l2_jcs_c[:,(0, 1)].T*A({P_{rbs_l2}}).T*A({P_{rbs_l3}})*Mbar_rbs_l3_jcs_c[:,(0, 1)]],\n",
       "[                                                                                                            -A({P_{ground}})*{\\bar{u}^{ground}_{jcs_d}} + A({P_{rbs_l3}})*{\\bar{u}^{rbs_l3}_{jcs_d}} - {R_{ground}} + {R_{rbs_l3}}],\n",
       "[                                                                                                                                       Mbar_rbs_l3_jcs_d[:,(0, 1)].T*A({P_{rbs_l3}}).T*A({P_{ground}})*Mbar_ground_jcs_d[:,(2, 3)]],\n",
       "[                                                                                                                                       Mbar_rbs_l3_jcs_d[:,(1, 2)].T*A({P_{rbs_l3}}).T*A({P_{ground}})*Mbar_ground_jcs_d[:,(2, 3)]],\n",
       "[                                                                                                                                                                                                                      {R_{ground}}],\n",
       "[                                                                                                                                                                                                      {P_{ground}} - {Pg_{ground}}],\n",
       "[                                                                                                                                                                                                  -I + {P_{rbs_l1}}.T*{P_{rbs_l1}}],\n",
       "[                                                                                                                                                                                                  -I + {P_{rbs_l2}}.T*{P_{rbs_l2}}],\n",
       "[                                                                                                                                                                                                  -I + {P_{rbs_l3}}.T*{P_{rbs_l3}}]])"
      ]
     },
     "execution_count": 12,
     "metadata": {},
     "output_type": "execute_result"
    }
   ],
   "source": [
    "sym_model.topology.pos_equations"
   ]
  },
  {
   "cell_type": "code",
   "execution_count": null,
   "metadata": {},
   "outputs": [],
   "source": []
  },
  {
   "cell_type": "markdown",
   "metadata": {},
   "source": [
    "---------------------------------------------------------------\n",
    "---------------------------------------------------------------"
   ]
  },
  {
   "cell_type": "markdown",
   "metadata": {},
   "source": [
    "## **SYSTEM CONFIGURATION**\n",
    "---------------------------"
   ]
  },
  {
   "cell_type": "markdown",
   "metadata": {},
   "source": [
    "In this step we define a symbolic configuration of our symbolic topology. As you may have noticed in the symbolic topology building step, we only cared about the *'topology'*, thats is the system bodies and their connectivity, and we did not care explicitly with how these components are configured in space.</br>\n",
    "In order to create a valid numerical simulation session, we have to provide the system with its numerical configuration needed, for example, the joints' locations and orientations. The symbolic topology in its raw form will require you to manually enter all these numerical arguments, which can be cumbersome even for smaller systems. This can be checked by checking the configuration inputs of the symbolic configuration as ```config._config.input_nodes```\n",
    "\n",
    "Here we start by stating the symbolic inputs we wish to use instead of the default inputs set, and then we define the relation between these newly defined arguments and the original ones. The details of this process will be provided in the documentation."
   ]
  },
  {
   "cell_type": "code",
   "execution_count": 13,
   "metadata": {},
   "outputs": [],
   "source": [
    "config_name = '%s_cfg'%project_name\n",
    "config = configuration(config_name, sym_model)"
   ]
  },
  {
   "cell_type": "code",
   "execution_count": 14,
   "metadata": {},
   "outputs": [
    {
     "data": {
      "text/plain": [
       "['ax1_jcs_a',\n",
       " 'pt1_jcs_a',\n",
       " 'UF_mcs_act',\n",
       " 'ax1_jcs_b',\n",
       " 'pt1_jcs_b',\n",
       " 'ax1_jcs_c',\n",
       " 'ax2_jcs_c',\n",
       " 'pt1_jcs_c',\n",
       " 'ax1_jcs_d',\n",
       " 'pt1_jcs_d',\n",
       " 'R_ground',\n",
       " 'P_ground',\n",
       " 'Rd_ground',\n",
       " 'Pd_ground',\n",
       " 'Rdd_ground',\n",
       " 'Pdd_ground',\n",
       " 'R_rbs_l1',\n",
       " 'P_rbs_l1',\n",
       " 'Rd_rbs_l1',\n",
       " 'Pd_rbs_l1',\n",
       " 'Rdd_rbs_l1',\n",
       " 'Pdd_rbs_l1',\n",
       " 'm_rbs_l1',\n",
       " 'Jbar_rbs_l1',\n",
       " 'R_rbs_l2',\n",
       " 'P_rbs_l2',\n",
       " 'Rd_rbs_l2',\n",
       " 'Pd_rbs_l2',\n",
       " 'Rdd_rbs_l2',\n",
       " 'Pdd_rbs_l2',\n",
       " 'm_rbs_l2',\n",
       " 'Jbar_rbs_l2',\n",
       " 'R_rbs_l3',\n",
       " 'P_rbs_l3',\n",
       " 'Rd_rbs_l3',\n",
       " 'Pd_rbs_l3',\n",
       " 'Rdd_rbs_l3',\n",
       " 'Pdd_rbs_l3',\n",
       " 'm_rbs_l3',\n",
       " 'Jbar_rbs_l3']"
      ]
     },
     "execution_count": 14,
     "metadata": {},
     "output_type": "execute_result"
    }
   ],
   "source": [
    "config.config.input_nodes"
   ]
  },
  {
   "cell_type": "markdown",
   "metadata": {},
   "source": [
    "### CONFIGURATION INPUTS"
   ]
  },
  {
   "cell_type": "code",
   "execution_count": 15,
   "metadata": {},
   "outputs": [],
   "source": [
    "config.add_point.UserInput('a')\n",
    "config.add_point.UserInput('b')\n",
    "config.add_point.UserInput('c')\n",
    "config.add_point.UserInput('d')\n",
    "\n",
    "config.add_vector.UserInput('x')\n",
    "config.add_vector.UserInput('y')\n",
    "config.add_vector.UserInput('z')"
   ]
  },
  {
   "cell_type": "markdown",
   "metadata": {},
   "source": [
    "### CONFIGURATION RELATIONS"
   ]
  },
  {
   "cell_type": "code",
   "execution_count": 16,
   "metadata": {},
   "outputs": [],
   "source": [
    "config.add_relation.Equal_to('pt1_jcs_a', ('hps_a',))\n",
    "config.add_relation.Equal_to('pt1_jcs_b', ('hps_b',))\n",
    "config.add_relation.Equal_to('pt1_jcs_c', ('hps_c',))\n",
    "config.add_relation.Equal_to('pt1_jcs_d', ('hps_d',))\n",
    "\n",
    "config.add_relation.Oriented('ax1_jcs_c', ('hps_b', 'hps_c'))\n",
    "config.add_relation.Oriented('ax2_jcs_c', ('hps_c', 'hps_b'))\n",
    "\n",
    "config.add_relation.Equal_to('ax1_jcs_a', ('vcs_x',))\n",
    "config.add_relation.Equal_to('ax1_jcs_b', ('vcs_z',))\n",
    "config.add_relation.Equal_to('ax1_jcs_d', ('vcs_y',))\n"
   ]
  },
  {
   "cell_type": "markdown",
   "metadata": {},
   "source": [
    "### GEOMETRIES"
   ]
  },
  {
   "cell_type": "markdown",
   "metadata": {},
   "source": [
    "Here we start defining basic geometric shapes that can represents the shapes of the bodies in our system. This serves two points:\n",
    "- Visualization and Animation in blender.\n",
    "- Evaluating the bodies inertia properties from these basic geometries instead of explicit definition."
   ]
  },
  {
   "cell_type": "code",
   "execution_count": 17,
   "metadata": {},
   "outputs": [],
   "source": [
    "config.add_scalar.UserInput('links_ro')\n",
    "\n",
    "config.add_geometry.Cylinder_Geometry('l1', ('hps_a','hps_b','s_links_ro'))\n",
    "config.assign_geometry_to_body('rbs_l1', 'gms_l1')\n",
    "\n",
    "config.add_geometry.Cylinder_Geometry('l2', ('hps_b','hps_c','s_links_ro'))\n",
    "config.assign_geometry_to_body('rbs_l2', 'gms_l2')\n",
    "\n",
    "config.add_geometry.Cylinder_Geometry('l3', ('hps_c','hps_d','s_links_ro'))\n",
    "config.assign_geometry_to_body('rbs_l3', 'gms_l3')"
   ]
  },
  {
   "cell_type": "markdown",
   "metadata": {},
   "source": [
    "Now lets check the current ```input_nodes```."
   ]
  },
  {
   "cell_type": "code",
   "execution_count": 18,
   "metadata": {},
   "outputs": [
    {
     "data": {
      "text/plain": [
       "['UF_mcs_act',\n",
       " 'R_ground',\n",
       " 'P_ground',\n",
       " 'Rd_ground',\n",
       " 'Pd_ground',\n",
       " 'Rdd_ground',\n",
       " 'Pdd_ground',\n",
       " 'Rd_rbs_l1',\n",
       " 'Pd_rbs_l1',\n",
       " 'Rdd_rbs_l1',\n",
       " 'Pdd_rbs_l1',\n",
       " 'Rd_rbs_l2',\n",
       " 'Pd_rbs_l2',\n",
       " 'Rdd_rbs_l2',\n",
       " 'Pdd_rbs_l2',\n",
       " 'Rd_rbs_l3',\n",
       " 'Pd_rbs_l3',\n",
       " 'Rdd_rbs_l3',\n",
       " 'Pdd_rbs_l3',\n",
       " 'hps_a',\n",
       " 'hps_b',\n",
       " 'hps_c',\n",
       " 'hps_d',\n",
       " 'vcs_x',\n",
       " 'vcs_y',\n",
       " 'vcs_z',\n",
       " 's_links_ro']"
      ]
     },
     "execution_count": 18,
     "metadata": {},
     "output_type": "execute_result"
    }
   ],
   "source": [
    "config.config.input_nodes"
   ]
  },
  {
   "cell_type": "markdown",
   "metadata": {},
   "source": [
    "### ASSEMBLING"
   ]
  },
  {
   "cell_type": "code",
   "execution_count": 19,
   "metadata": {},
   "outputs": [],
   "source": [
    "config.assemble()\n",
    "config.extract_inputs_to_csv('config_inputs/')"
   ]
  },
  {
   "cell_type": "markdown",
   "metadata": {},
   "source": [
    "---------------------------------------------------------------\n",
    "---------------------------------------------------------------"
   ]
  },
  {
   "cell_type": "markdown",
   "metadata": {},
   "source": [
    "## **CODE GENERATION**\n",
    "----------------------"
   ]
  },
  {
   "cell_type": "markdown",
   "metadata": {},
   "source": [
    "This step aims to create a valid code that can be used for numerical simulation. We will use the ***python code generators*** to create a valid numerical simulation environment in python.</br>\n",
    "Theoretically, the symbolic environment is uncoupled from the simulation environment, which opens the door to create various simulation environments that can be in any language."
   ]
  },
  {
   "cell_type": "markdown",
   "metadata": {
    "colab_type": "text",
    "id": "udnBb6lvi9fo"
   },
   "source": [
    "### Generating Python Numerical Environment"
   ]
  },
  {
   "cell_type": "code",
   "execution_count": 20,
   "metadata": {},
   "outputs": [],
   "source": [
    "from smbd.numenv.python.codegen import projects as py_numenv"
   ]
  },
  {
   "cell_type": "code",
   "execution_count": 21,
   "metadata": {},
   "outputs": [
    {
     "name": "stdout",
     "output_type": "stream",
     "text": [
      "File full path : numenv/python/src/spatial_fourbar.py\n",
      "File full path : numenv/python/src/spatial_fourbar_cfg.py\n",
      "File full path : numenv/python/main.py\n"
     ]
    }
   ],
   "source": [
    "py_project = py_numenv.standalone_project(parent_dir='')\n",
    "py_project.create_dirs()\n",
    "py_project.write_topology_code(sym_model.topology)\n",
    "py_project.write_configuration_code(config.config)\n",
    "py_project.write_mainfile()"
   ]
  },
  {
   "cell_type": "markdown",
   "metadata": {
    "colab_type": "text",
    "id": "udnBb6lvi9fo"
   },
   "source": [
    "### Generating C++ Numerical Environment"
   ]
  },
  {
   "cell_type": "code",
   "execution_count": 22,
   "metadata": {},
   "outputs": [],
   "source": [
    "from smbd.numenv.cpp_eigen.codegen import projects as cpp_numenv"
   ]
  },
  {
   "cell_type": "code",
   "execution_count": 23,
   "metadata": {},
   "outputs": [
    {
     "name": "stdout",
     "output_type": "stream",
     "text": [
      "File full path : numenv/cpp_eigen/src/spatial_fourbar.hpp\n",
      "File full path : numenv/cpp_eigen/src/spatial_fourbar.cpp\n",
      "File full path : numenv/cpp_eigen/src/spatial_fourbar_cfg.hpp\n",
      "File full path : numenv/cpp_eigen/main.cpp\n",
      "File full path : numenv/cpp_eigen/Makefile\n"
     ]
    }
   ],
   "source": [
    "cpp_project = cpp_numenv.standalone_project(parent_dir='')\n",
    "cpp_project.create_dirs()\n",
    "cpp_project.write_topology_code(sym_model.topology)\n",
    "cpp_project.write_configuration_code(config.config)\n",
    "cpp_project.write_mainfile()\n",
    "cpp_project.write_makefile()"
   ]
  },
  {
   "cell_type": "markdown",
   "metadata": {},
   "source": [
    "### Generating Blender Script"
   ]
  },
  {
   "cell_type": "code",
   "execution_count": 24,
   "metadata": {},
   "outputs": [],
   "source": [
    "from smbd.utilities.blender import codegen"
   ]
  },
  {
   "cell_type": "code",
   "execution_count": 25,
   "metadata": {},
   "outputs": [],
   "source": [
    "blender_code = codegen.script_generator(config.config)\n",
    "blender_code.write_code_file('numenv/')"
   ]
  },
  {
   "cell_type": "markdown",
   "metadata": {},
   "source": [
    "---------------------------------------------------------------\n",
    "---------------------------------------------------------------"
   ]
  },
  {
   "cell_type": "markdown",
   "metadata": {},
   "source": [
    "## **PYTHON NUMERICAL SIMULATION**\n",
    "---------------------------"
   ]
  },
  {
   "cell_type": "markdown",
   "metadata": {},
   "source": [
    "The **numerical simulation** step is also a straight forward one. We start by importing helper libraries like **numpy** and **pandas**, then we import the ```multibody_system``` class and ```simulation``` class that will be used to create a numerical system and a simulation instance respectively. And finally we import the generated code files from the previous step.\n",
    "\n",
    "The steps then can be summarized as follows:\n",
    "1. Create a numerical model instance by passing the generated topology code to the ```multibody_system``` class.\n",
    "2. Make the configuration of that instance refers to the generated configuration code.\n",
    "3. Setting the numerical data of the configuration, either directly here or via filling in the generated csv file.\n",
    "4. Setting the **user-defined functions** that will be used for the actuators.\n",
    "5. Creating a **simulation instance**, set the desired time-sampling and run the simulation.\n",
    "6. Plotting the results."
   ]
  },
  {
   "cell_type": "markdown",
   "metadata": {
    "colab_type": "text",
    "id": "w-7fcrPBjUie"
   },
   "source": [
    "###  Imports"
   ]
  },
  {
   "cell_type": "code",
   "execution_count": 26,
   "metadata": {},
   "outputs": [],
   "source": [
    "import numpy as np\n",
    "import pandas as pd"
   ]
  },
  {
   "cell_type": "code",
   "execution_count": 27,
   "metadata": {},
   "outputs": [],
   "source": [
    "from smbd.numenv.python.numerics.systems import multibody_system, simulation"
   ]
  },
  {
   "cell_type": "code",
   "execution_count": 28,
   "metadata": {},
   "outputs": [],
   "source": [
    "from numenv.python.src import spatial_fourbar, spatial_fourbar_cfg"
   ]
  },
  {
   "cell_type": "markdown",
   "metadata": {
    "colab_type": "text",
    "id": "vkHoR9CCjb6u"
   },
   "source": [
    "### Creating Numerical Model"
   ]
  },
  {
   "cell_type": "code",
   "execution_count": 29,
   "metadata": {},
   "outputs": [],
   "source": [
    "num_model = multibody_system(spatial_fourbar)\n",
    "num_model.topology.config = spatial_fourbar_cfg.configuration()"
   ]
  },
  {
   "cell_type": "markdown",
   "metadata": {
    "colab_type": "text",
    "id": "85ZRAWmRjitu"
   },
   "source": [
    "### Setting Configuration Numerical Data"
   ]
  },
  {
   "cell_type": "code",
   "execution_count": 30,
   "metadata": {},
   "outputs": [],
   "source": [
    "inputs_df = pd.read_csv('config_inputs/spatial_fourbar_cfg.csv', index_col=0)"
   ]
  },
  {
   "cell_type": "code",
   "execution_count": 31,
   "metadata": {},
   "outputs": [],
   "source": [
    "inputs_df.loc['P_ground'] = [1, 0, 0, 0]\n",
    "\n",
    "inputs_df.loc['hps_a'] = [0, 0, 0, 0]\n",
    "inputs_df.loc['hps_b'] = [0, 0, 200, 0]\n",
    "inputs_df.loc['hps_c'] = [-750, -850, 650,0]\n",
    "inputs_df.loc['hps_d'] = [-400, -850, 0  ,0]\n",
    "\n",
    "inputs_df.loc['vcs_x'] = [1,0,0,0]\n",
    "inputs_df.loc['vcs_y'] = [0,1,0,0]\n",
    "inputs_df.loc['vcs_z'] = [0,0,1,0]\n",
    "\n",
    "inputs_df.loc['s_links_ro'] = [20,0,0,0]"
   ]
  },
  {
   "cell_type": "code",
   "execution_count": 32,
   "metadata": {},
   "outputs": [],
   "source": [
    "# Saving the numerical data to a new csv file\n",
    "inputs_df.to_csv('config_inputs/spatial_fourbar_cfg_v1.csv')"
   ]
  },
  {
   "cell_type": "code",
   "execution_count": 33,
   "metadata": {},
   "outputs": [],
   "source": [
    "num_model.topology.config.load_from_dataframe(inputs_df)"
   ]
  },
  {
   "cell_type": "markdown",
   "metadata": {},
   "source": [
    "### Setting User Functions."
   ]
  },
  {
   "cell_type": "markdown",
   "metadata": {},
   "source": [
    "#### Actuators"
   ]
  },
  {
   "cell_type": "markdown",
   "metadata": {},
   "source": [
    "Here we set the actuation functions of the system actuators."
   ]
  },
  {
   "cell_type": "code",
   "execution_count": 34,
   "metadata": {},
   "outputs": [],
   "source": [
    "num_model.topology.config.UF_mcs_act = lambda t : -np.deg2rad(360)*t"
   ]
  },
  {
   "cell_type": "markdown",
   "metadata": {
    "colab_type": "text",
    "id": "APxcuvdMjq4-"
   },
   "source": [
    "### Creating Simulation Instance"
   ]
  },
  {
   "cell_type": "markdown",
   "metadata": {},
   "source": [
    "A simulation instance takes in three arguments, the simulation ```name```, the numerical ```model``` and the simulation ```typ```. The simulation ```typ``` argument should be either *kds* for kinematically driven systems or *dds* for dynamically driven systems. For our case, the system is fully defined kinematically, and therefore we will set the ```typ``` as *kds*."
   ]
  },
  {
   "cell_type": "code",
   "execution_count": 35,
   "metadata": {},
   "outputs": [
    {
     "name": "stdout",
     "output_type": "stream",
     "text": [
      "\n",
      "Running System Kinematic Analysis:\n",
      "[=========================] 100%, (99/99) steps.\n",
      "\n"
     ]
    }
   ],
   "source": [
    "sim = simulation('sim', num_model, 'kds')\n",
    "sim.set_time_array(1, 100)\n",
    "sim.solve()"
   ]
  },
  {
   "cell_type": "code",
   "execution_count": 36,
   "metadata": {},
   "outputs": [
    {
     "data": {
      "text/plain": [
       "<matplotlib.axes._subplots.AxesSubplot at 0x7f5a00f901d0>"
      ]
     },
     "execution_count": 36,
     "metadata": {},
     "output_type": "execute_result"
    },
    {
     "data": {
      "image/png": "[encoded data removed]",
      "text/plain": [
       "<Figure size 720x288 with 1 Axes>"
      ]
     },
     "metadata": {
      "needs_background": "light"
     },
     "output_type": "display_data"
    },
    {
     "data": {
      "image/png": "[encoded data removed]",
      "text/plain": [
       "<Figure size 720x288 with 1 Axes>"
      ]
     },
     "metadata": {
      "needs_background": "light"
     },
     "output_type": "display_data"
    },
    {
     "data": {
      "image/png": "[encoded data removed]",
      "text/plain": [
       "<Figure size 720x288 with 1 Axes>"
      ]
     },
     "metadata": {
      "needs_background": "light"
     },
     "output_type": "display_data"
    }
   ],
   "source": [
    "sim.soln.pos_dataframe.plot(x='time', y='rbs_l3.x', grid=True, figsize=(10,4))\n",
    "sim.soln.vel_dataframe.plot(x='time', y='rbs_l3.x', grid=True, figsize=(10,4))\n",
    "sim.soln.acc_dataframe.plot(x='time', y='rbs_l3.x', grid=True, figsize=(10,4))\n"
   ]
  },
  {
   "cell_type": "markdown",
   "metadata": {},
   "source": [
    "### Evaluating System Reactions"
   ]
  },
  {
   "cell_type": "markdown",
   "metadata": {},
   "source": [
    "Here we take the simulation a step further by making it an inverse dynamics problem and evaluating the reactions resulted due the imposed constraints, either by joints or actuators. This step is only valid if you have defined the numerical values of the inertia properties of the system."
   ]
  },
  {
   "cell_type": "code",
   "execution_count": 37,
   "metadata": {},
   "outputs": [
    {
     "name": "stdout",
     "output_type": "stream",
     "text": [
      "\n",
      "Evaluating System Constraints Reactions:\n",
      "[=========================] 100%, (100/100) steps."
     ]
    }
   ],
   "source": [
    "sim.eval_reactions()"
   ]
  },
  {
   "cell_type": "code",
   "execution_count": 38,
   "metadata": {},
   "outputs": [
    {
     "data": {
      "text/plain": [
       "<matplotlib.axes._subplots.AxesSubplot at 0x7f5a00f626a0>"
      ]
     },
     "execution_count": 38,
     "metadata": {},
     "output_type": "execute_result"
    },
    {
     "data": {
      "image/png": "[encoded data removed]",
      "text/plain": [
       "<Figure size 720x288 with 1 Axes>"
      ]
     },
     "metadata": {
      "needs_background": "light"
     },
     "output_type": "display_data"
    }
   ],
   "source": [
    "sim.soln.reactions_dataframe.plot(x='time', y=['T_ground_mcs_act.x', 'T_ground_jcs_a.x'],\n",
    "                                   grid=True, figsize=(10,4))"
   ]
  },
  {
   "cell_type": "markdown",
   "metadata": {},
   "source": [
    "---------------------------------------------------------------\n",
    "---------------------------------------------------------------"
   ]
  },
  {
   "cell_type": "markdown",
   "metadata": {},
   "source": [
    "## **C++ NUMERICAL SIMULATION**\n",
    "-------------------------------"
   ]
  },
  {
   "cell_type": "markdown",
   "metadata": {},
   "source": [
    "***TO DO BRIEF***"
   ]
  },
  {
   "cell_type": "markdown",
   "metadata": {},
   "source": [
    "The C++ numerical environment provides samples of **Makefile** and **main.cpp** files that can be used to create, compile and run an executable of the created model.\n",
    "\n",
    "In order to create a valid environment, we have to edit the **Makefile** and the **main.cpp** files to match the model variables as shown below. These edits can be carried out on the text files using any text editor normally, but for completeness and compatibility with the **Jupyter Notebook** environment the files can be edited here locally using the *Jupyter magic functions*.\n",
    "\n",
    "First, we check the current working directory, it should be the parent directory that contains [numenv, config_inputs, results, ..], then we use the command```%cd numenv/cpp_eigen/``` to change the working directory."
   ]
  },
  {
   "cell_type": "code",
   "execution_count": 39,
   "metadata": {},
   "outputs": [
    {
     "name": "stdout",
     "output_type": "stream",
     "text": [
      "/home/khaledghobashy/Documents/smbd/examples/notebooks/spatial_fourbar/numenv/cpp_eigen\n"
     ]
    }
   ],
   "source": [
    "# Changing the current working directory to 'numenv/cpp_eigen/'\n",
    "%cd numenv/cpp_eigen/"
   ]
  },
  {
   "cell_type": "markdown",
   "metadata": {},
   "source": [
    "---------------------------------------------------"
   ]
  },
  {
   "cell_type": "markdown",
   "metadata": {},
   "source": [
    "### **Editing the main.cpp file**\n",
    "#### Using the ```%load ``` magic function.\n",
    "-------------------------------------------\n",
    "Then we use the command ```%load main.cpp```, this will load the generated **main.cpp** content in the current cell where we can edit the content. The edits are as follows:\n",
    "- Remove the first line ```# %load main.cpp``` and insert the line ```%%writefile new_main.cpp```.\n",
    "- Change the variables topology and configuration in the include directive to match the names of the model generated source files.\n",
    "- Start specifying the configuration numerical data via the ```Config``` class.\n",
    "    \n",
    "After these edits, just run the cell like any normal cell via Shift+Enter."
   ]
  },
  {
   "cell_type": "markdown",
   "metadata": {},
   "source": [
    "#### Using the ```%cat ``` magic function.\n",
    "-------------------------------------------\n",
    "Then we use the command ```%cat main.cpp```, this will load the generated **main.cpp** content as the output of the current cell, we can then copy the content and past and edit it in another cell. The edits are as follows:\n",
    "- Insert the line ```%%writefile new_main.cpp``` at the top of the cell.\n",
    "- Change the variables topology and configuration in the include directive to match the names of the model generated source files.\n",
    "- Start specifying the configuration numerical data via the ```Config``` class.\n",
    "    \n",
    "After these edits, just run the cell like any normal cell via Shift+Enter."
   ]
  },
  {
   "cell_type": "code",
   "execution_count": 40,
   "metadata": {},
   "outputs": [
    {
     "name": "stdout",
     "output_type": "stream",
     "text": [
      "\n",
      "#include <iostream>\n",
      "\n",
      "#include \"smbd/solvers.hpp\"\n",
      "\n",
      "#include \"src/topology.hpp\"\n",
      "#include \"src/configuration.hpp\"\n",
      "\n",
      "\n",
      "int main()\n",
      "{\n",
      "    Topology model(\"\");\n",
      "    auto Config = ConfigurationInputs<Configuration>(model.config);\n",
      "\n",
      "    // assign the configuration inputs needed ...\n",
      "\n",
      "    Config.assemble();\n",
      "\n",
      "    Solver<Topology> Soln(model);\n",
      "    Soln.set_time_array(1, 100);\n",
      "    Soln.Solve();\n",
      "    Soln.ExportResultsCSV(\"../results/\", 0);\n",
      "\n",
      "};\n"
     ]
    }
   ],
   "source": [
    "%cat main.cpp"
   ]
  },
  {
   "cell_type": "code",
   "execution_count": 41,
   "metadata": {},
   "outputs": [
    {
     "name": "stdout",
     "output_type": "stream",
     "text": [
      "Overwriting new_main.cpp\n"
     ]
    }
   ],
   "source": [
    "%%writefile new_main.cpp\n",
    "\n",
    "#include <iostream>\n",
    "\n",
    "#include \"smbd/solvers.hpp\"\n",
    "\n",
    "#include \"src/spatial_fourbar.hpp\"\n",
    "#include \"src/spatial_fourbar_cfg.hpp\"\n",
    "\n",
    "\n",
    "int main()\n",
    "{\n",
    "    Topology model(\"\");\n",
    "    auto Config = ConfigurationInputs<Configuration>(model.config);\n",
    "\n",
    "    // assign the configuration inputs needed ...\n",
    "    \n",
    "    Config.R_ground << 0, 0, 0 ;\n",
    "\tConfig.P_ground << 1, 0, 0, 0 ;\n",
    "\n",
    "\tConfig.hps_a << 0, 0, 0 ;\n",
    "\tConfig.hps_b << 0, 0, 200 ;\n",
    "\tConfig.hps_c << -750, -850, 650 ;\n",
    "\tConfig.hps_d << -400, -850, 0 ;\n",
    "\n",
    "\tConfig.vcs_x << 1, 0, 0 ;\n",
    "\tConfig.vcs_y << 0, 1, 0 ;\n",
    "\tConfig.vcs_z << 0, 0, 1 ;\n",
    "\n",
    "\tConfig.s_links_ro = 20 ;\n",
    "\tConfig.UF_mcs_act = [](double t)->double{return 2*(22/7)*t;};\n",
    "\n",
    "    Config.assemble();\n",
    "\n",
    "    Solver<Topology> Soln(model);\n",
    "    Soln.set_time_array(1, 100);\n",
    "    Soln.Solve();\n",
    "    Soln.ExportResultsCSV(\"../../results/\", 0);\n",
    "\n",
    "};\n"
   ]
  },
  {
   "cell_type": "markdown",
   "metadata": {},
   "source": [
    "---------------------------------------------------"
   ]
  },
  {
   "cell_type": "markdown",
   "metadata": {},
   "source": [
    "### **Editing the Makefile file**\n",
    "Following the same steps done for the main.cpp file, then apply the following edits:\n",
    "- Change the variables MODEL, CONFIG and MAIN to match the generated source files of the topology, configuration and the edited new_main.cpp file.\n",
    "    \n",
    "After these edits, just run the cell like any normal cell via Shift+Enter."
   ]
  },
  {
   "cell_type": "code",
   "execution_count": 42,
   "metadata": {},
   "outputs": [
    {
     "name": "stdout",
     "output_type": "stream",
     "text": [
      "\n",
      "# Change MODEL, CONFG and MAIN to match the source files you want to build\n",
      "# ========================================================================\n",
      "MODEL := topology\n",
      "CONFG := configuration\n",
      "MAIN := main.cpp\n",
      "# ========================================================================\n",
      "\n",
      "\n",
      "M_BUILD := build/\n",
      "M_SRC := src/\n",
      "M_BIN := bin/\n",
      "\n",
      "NUM_DIR := /home/khaledghobashy/Documents/smbd/smbd/numenv/cpp_eigen/numerics\n",
      "\n",
      "SMBD_SRC := $(NUM_DIR)/src\n",
      "SMBD_BUILD := $(NUM_DIR)/build\n",
      "\n",
      "SMBD_OBJS = $(SMBD_BUILD)/*.o\n",
      "\n",
      "DEPS := $(M_BUILD)$(MODEL).o $(MAIN) $(M_SRC)$(CONFG).hpp $(SMBD_SRC)/smbd/solvers.hpp\n",
      "\n",
      "INC := -I $(SMBD_SRC)\n",
      "CC := g++\n",
      "\n",
      "\n",
      "$(M_BIN)$(MODEL): $(DEPS) $(SMBD_OBJS)\n",
      "\t$(CC) $(INC) $(M_BUILD)$(MODEL).o $(MAIN) $(SMBD_OBJS) -o $@\n",
      "\n",
      "$(M_BUILD)$(MODEL).o: $(M_SRC)$(MODEL).cpp $(M_SRC)$(MODEL).hpp\n",
      "\t$(CC) $(INC) -c -o $@ $<\n",
      "\n",
      "\n",
      "$(SMBD_BUILD)/%.o: $(SMBD_SRC)/smbd/%.cpp $(SMBD_SRC)/smbd/%.hpp\n",
      "\tcd $(SMBD_SRC)/../ && make\n",
      "\n",
      "\n",
      "clear:\n",
      "\trm $(M_BUILD)*.o $(M_BIN)$(MODEL)\n"
     ]
    }
   ],
   "source": [
    "%cat Makefile"
   ]
  },
  {
   "cell_type": "code",
   "execution_count": 43,
   "metadata": {},
   "outputs": [
    {
     "name": "stdout",
     "output_type": "stream",
     "text": [
      "Overwriting Makefile\n"
     ]
    }
   ],
   "source": [
    "%%writefile Makefile\n",
    "\n",
    "# Change MODEL, CONFG and MAIN to match the source files you want to build\n",
    "# ========================================================================\n",
    "MODEL := spatial_fourbar\n",
    "CONFG := spatial_fourbar_cfg\n",
    "MAIN := new_main.cpp\n",
    "# ========================================================================\n",
    "\n",
    "M_BUILD := build/\n",
    "M_SRC := src/\n",
    "M_BIN := bin/\n",
    "\n",
    "NUM_DIR := /home/khaledghobashy/Documents/smbd/smbd/numenv/cpp_eigen/numerics\n",
    "\n",
    "SMBD_SRC := $(NUM_DIR)/src\n",
    "SMBD_BUILD := $(NUM_DIR)/build\n",
    "\n",
    "SMBD_OBJS = $(SMBD_BUILD)/*.o\n",
    "\n",
    "DEPS := $(M_BUILD)$(MODEL).o $(MAIN) $(M_SRC)$(CONFG).hpp $(SMBD_SRC)/smbd/solvers.hpp\n",
    "\n",
    "INC := -I $(SMBD_SRC)\n",
    "CC := g++\n",
    "\n",
    "\n",
    "$(M_BIN)$(MODEL): $(DEPS) $(SMBD_OBJS)\n",
    "\t$(CC) $(INC) $(M_BUILD)$(MODEL).o $(MAIN) $(SMBD_OBJS) -o $@\n",
    "\n",
    "$(M_BUILD)$(MODEL).o: $(M_SRC)$(MODEL).cpp $(M_SRC)$(MODEL).hpp\n",
    "\t$(CC) $(INC) -c -o $@ $<\n",
    "\n",
    "\n",
    "$(SMBD_BUILD)/%.o: $(SMBD_SRC)/smbd/%.cpp $(SMBD_SRC)/smbd/%.hpp\n",
    "\tcd $(SMBD_SRC)/../ && make\n",
    "\n",
    "\n",
    "clear:\n",
    "\trm $(M_BUILD)*.o $(M_BIN)$(MODEL)"
   ]
  },
  {
   "cell_type": "markdown",
   "metadata": {},
   "source": [
    "### Running ```make``` command"
   ]
  },
  {
   "cell_type": "code",
   "execution_count": 44,
   "metadata": {},
   "outputs": [
    {
     "name": "stdout",
     "output_type": "stream",
     "text": [
      "g++ -I /home/khaledghobashy/Documents/smbd/smbd/numenv/cpp_eigen/numerics/src -c -o build/spatial_fourbar.o src/spatial_fourbar.cpp\n",
      "g++ -I /home/khaledghobashy/Documents/smbd/smbd/numenv/cpp_eigen/numerics/src build/spatial_fourbar.o new_main.cpp /home/khaledghobashy/Documents/smbd/smbd/numenv/cpp_eigen/numerics/build/*.o -o bin/spatial_fourbar\n"
     ]
    }
   ],
   "source": [
    "!make"
   ]
  },
  {
   "cell_type": "markdown",
   "metadata": {},
   "source": [
    "### Running the executable."
   ]
  },
  {
   "cell_type": "code",
   "execution_count": 45,
   "metadata": {},
   "outputs": [
    {
     "name": "stdout",
     "output_type": "stream",
     "text": [
      "Starting Solver ...\n",
      "[=================================================>] 99 \n",
      "\n",
      "Positions results saved as : ../../results/Positions.csv\n"
     ]
    }
   ],
   "source": [
    "!bin/spatial_fourbar"
   ]
  },
  {
   "cell_type": "markdown",
   "metadata": {},
   "source": [
    "### Loading and Plotting Results."
   ]
  },
  {
   "cell_type": "code",
   "execution_count": 45,
   "metadata": {},
   "outputs": [],
   "source": [
    "import pandas as pd\n",
    "import matplotlib.pyplot as plt"
   ]
  },
  {
   "cell_type": "code",
   "execution_count": 46,
   "metadata": {},
   "outputs": [],
   "source": [
    "data = pd.read_csv('../../results/Positions.csv')"
   ]
  },
  {
   "cell_type": "code",
   "execution_count": 47,
   "metadata": {},
   "outputs": [
    {
     "data": {
      "text/plain": [
       "<matplotlib.axes._subplots.AxesSubplot at 0x7ff2c95ae518>"
      ]
     },
     "execution_count": 47,
     "metadata": {},
     "output_type": "execute_result"
    },
    {
     "data": {
      "image/png": "[encoded data removed]",
      "text/plain": [
       "<Figure size 720x288 with 1 Axes>"
      ]
     },
     "metadata": {
      "needs_background": "light"
     },
     "output_type": "display_data"
    },
    {
     "data": {
      "image/png": "[encoded data removed]",
      "text/plain": [
       "<Figure size 720x288 with 1 Axes>"
      ]
     },
     "metadata": {
      "needs_background": "light"
     },
     "output_type": "display_data"
    }
   ],
   "source": [
    "data.plot(x='time', y='rbs_l3.x', grid=True, figsize=(10,4))\n",
    "data.plot(x='time', y='rbs_l1.y', grid=True, figsize=(10,4))"
   ]
  },
  {
   "cell_type": "code",
   "execution_count": null,
   "metadata": {},
   "outputs": [],
   "source": []
  }
 ],
 "metadata": {
  "kernelspec": {
   "display_name": "Python 3",
   "language": "python",
   "name": "python3"
  },
  "language_info": {
   "codemirror_mode": {
    "name": "ipython",
    "version": 3
   },
   "file_extension": ".py",
   "mimetype": "text/x-python",
   "name": "python",
   "nbconvert_exporter": "python",
   "pygments_lexer": "ipython3",
   "version": "3.7.3"
  }
 },
 "nbformat": 4,
 "nbformat_minor": 2
}
