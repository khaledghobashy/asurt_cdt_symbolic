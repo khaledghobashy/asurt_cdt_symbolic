{
 "cells": [
  {
   "cell_type": "markdown",
   "metadata": {},
   "source": [
    "# Colab Machine Setup.\n",
    "This notebook is responsible of setting up the virtual machine session linked to your google account to create a valid environment for the tool.\n",
    "It clones the [repository](https://github.com/khaledghobashy/smbd) and updates SymPy to version 1.4. It also creates a directory called ***Projects*** that will hold the projects' files you are working on.\n",
    "\n",
    "When you run the cell below, Colab will prompt a warning that *\"This notebook was not authored by Google.\"* and that it is loaded from GitHub. You can check the **Reset all runtimes before running** then press **RUN ANYWAY**.</br>\n",
    "Resetting all runtimes will reset the virtual machine and delete any data you have previously stored there, this includes any installed packages or cloned repositories. Therefore, when prompted the same warning while running a project notebook, you should **UNCHECK** the **Reset all runtimes before running**\n",
    "in order to keep the cloned repository and the updated python libraries."
   ]
  },
  {
   "cell_type": "code",
   "execution_count": null,
   "metadata": {},
   "outputs": [],
   "source": [
    "def setup_colab_machine():\n",
    "    import os\n",
    "    projects_dir = '/content/projects'\n",
    "    \n",
    "    try:\n",
    "        import google.colab\n",
    "    except:\n",
    "        print('Not a Colab Machine!')\n",
    "        print('Exiting.')\n",
    "        return None\n",
    "    \n",
    "    if 'smbd' not in os.listdir():\n",
    "        os.system('git clone https://github.com/khaledghobashy/smbd.git')\n",
    "        os.system('pip install sympy==1.4')\n",
    "        print('Installed required packages!')\n",
    "        \n",
    "        os.makedirs(projects_dir)\n",
    "        with open(os.path.join(projects_dir, '__init__.py'), 'w') as file:\n",
    "            file.write('#')\n",
    "        print('Created the \"projects\" directory')\n",
    "    else:\n",
    "        print('Machine is already setup.')\n"
   ]
  },
  {
   "cell_type": "code",
   "execution_count": null,
   "metadata": {},
   "outputs": [],
   "source": [
    "setup_colab_machine()"
   ]
  },
  {
   "cell_type": "code",
   "execution_count": null,
   "metadata": {},
   "outputs": [],
   "source": []
  }
 ],
 "metadata": {
  "kernelspec": {
   "display_name": "Python 3",
   "language": "python",
   "name": "python3"
  },
  "language_info": {
   "codemirror_mode": {
    "name": "ipython",
    "version": 3
   },
   "file_extension": ".py",
   "mimetype": "text/x-python",
   "name": "python",
   "nbconvert_exporter": "python",
   "pygments_lexer": "ipython3",
   "version": "3.7.3"
  }
 },
 "nbformat": 4,
 "nbformat_minor": 2
}
