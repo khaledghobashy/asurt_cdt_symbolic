{
 "cells": [
  {
   "cell_type": "markdown",
   "metadata": {},
   "source": [
    "# SYMBOLIC STUDY\n",
    "## **DOUBLE WISHBONE DIRECT ACTING**\n",
    "------------------------------------"
   ]
  },
  {
   "cell_type": "markdown",
   "metadata": {},
   "source": [
    "### **IMPORTANT NOTES**\n",
    "#### **COLAB Machine Setup**\n",
    "If starting a new Colab session, Please open the [colab_setup.ipynb](https://colab.research.google.com/github/khaledghobashy/smbd/blob/master/examples/colab_setup.ipynb) and follow the instructions there.\n",
    "A new Colab session does not mean a new notebook session, you can have various notebook sessions on the same Colab session. The Colab session linked to your Google account expires in 12 hours, and so any data saved on that remote machine will be lost.</br>\n",
    "When you run the first cell, Colab will prompt a warning that *\"This notebook was not authored by Google.\"* and that it is loaded from GitHub. Un-check the **Reset all runtimes before running** then press **RUN ANYWAY**.\n",
    "\n",
    "#### **Package Path.**\n",
    "*This step is temporary unitll the package can be installed via conda and/or pip*\n",
    "- **Colab**. </br>\n",
    "For a Cloab session, the ```pkg_path``` variable is the one relevant to the repository path on the Colab remote machine. This should be used if you are running the notebook on Colab.\n",
    "- **Local Machine**. </br>\n",
    "The ```pkg_path``` variable is where I have the repository on my machine. You should change it to where you cloned the repository on your machine.\n",
    "\n",
    "#### **Projects Directory**\n",
    "- **Colab**.</br>\n",
    "The ```projects_dir``` variable should not be changed.\n",
    "- **Local Machine**. </br>\n",
    "The ```projects_dir``` should be changed to match your desired directory where you store your projects.\n",
    "\n",
    "--------------------------------------------------------------"
   ]
  },
  {
   "cell_type": "code",
   "execution_count": 1,
   "metadata": {},
   "outputs": [],
   "source": [
    "import sys"
   ]
  },
  {
   "cell_type": "markdown",
   "metadata": {},
   "source": [
    "### Colab Session\n",
    "*Run if in a Colab Session Only!*"
   ]
  },
  {
   "cell_type": "code",
   "execution_count": 2,
   "metadata": {},
   "outputs": [],
   "source": [
    "projects_dir = '/content/projects'\n",
    "pkg_path = '/content/smbd'\n",
    "sys.path.append(pkg_path)"
   ]
  },
  {
   "cell_type": "markdown",
   "metadata": {},
   "source": [
    "### Local Session\n",
    "*Run if on your Local Machine!*</br>\n",
    "*Do not forget to change the variables below as illustrated in the notes!*"
   ]
  },
  {
   "cell_type": "code",
   "execution_count": 2,
   "metadata": {},
   "outputs": [],
   "source": [
    "projects_dir = '/home/khaledghobashy/Documents/smbd/examples'\n",
    "pkg_path = '/home/khaledghobashy/Documents/smbd'\n",
    "sys.path.append(pkg_path)"
   ]
  },
  {
   "cell_type": "markdown",
   "metadata": {},
   "source": [
    "---------------------------------------------------------------\n",
    "---------------------------------------------------------------"
   ]
  },
  {
   "cell_type": "code",
   "execution_count": 3,
   "metadata": {},
   "outputs": [],
   "source": [
    "project_name = 'double_wishbone_direct_acting'"
   ]
  },
  {
   "cell_type": "markdown",
   "metadata": {},
   "source": [
    "---------------------------------------------------------------\n",
    "---------------------------------------------------------------"
   ]
  },
  {
   "cell_type": "markdown",
   "metadata": {},
   "source": [
    "## **SYSTEM DESCRIPTION**\n",
    "-------------------------"
   ]
  },
  {
   "cell_type": "markdown",
   "metadata": {},
   "source": [
    "### **Important Note**\n",
    "The tool uses [euler-parameters](https://en.wikibooks.org/wiki/Multibody_Mechanics/Euler_Parameters) -which is a 4D unit quaternion- to represents bodies orientation in space. This makes the generalized coordinates used to fully define a body in space to be **7,** instead of **6**, it also adds an algebraic equation to the constraints that ensures the unity/normalization of the body quaternion. This is an important remark as the calculations of the degrees-of-freedom depends on it."
   ]
  },
  {
   "cell_type": "markdown",
   "metadata": {},
   "source": [
    "### **Summary**"
   ]
  },
  {
   "cell_type": "markdown",
   "metadata": {},
   "source": [
    "### **Topology Layout**"
   ]
  },
  {
   "cell_type": "markdown",
   "metadata": {},
   "source": [
    "---------------------------------------------------------------\n",
    "---------------------------------------------------------------"
   ]
  },
  {
   "cell_type": "markdown",
   "metadata": {},
   "source": [
    "## **SYMBOLIC TOPOLOGY**\n",
    "------------------------"
   ]
  },
  {
   "cell_type": "markdown",
   "metadata": {},
   "source": [
    "In this section, we create the symbolic topology that captures the topological layout that we just discussed.</br>\n",
    "Defining the topology is very simple. We start by importing the ```template_topology``` class and create a new instance that represents our symbolic model. Then we start adding the components we discussed earlier, starting by the bodies, then the joints, actuators and forces, and thats it.</br>\n",
    "These components will be represented symbolically, and therefore there is no need for any numerical inputs at this step.\n",
    "\n",
    "The system is stored in a form of a network graph that stores all the data needed for the assemblage of the system equations later. But even before the assemblage process, we can gain helpful insights about our system as well be shown.\n"
   ]
  },
  {
   "cell_type": "code",
   "execution_count": 4,
   "metadata": {},
   "outputs": [],
   "source": [
    "from smbd.interfaces.scripting import template_topology"
   ]
  },
  {
   "cell_type": "code",
   "execution_count": 5,
   "metadata": {},
   "outputs": [],
   "source": [
    "sym_model = template_topology(project_name)"
   ]
  },
  {
   "cell_type": "markdown",
   "metadata": {},
   "source": [
    "### Adding Bodies"
   ]
  },
  {
   "cell_type": "code",
   "execution_count": 6,
   "metadata": {},
   "outputs": [],
   "source": [
    "sym_model.add_body('uca', mirrored=True)\n",
    "sym_model.add_body('lca', mirrored=True)\n",
    "sym_model.add_body('upright', mirrored=True)\n",
    "sym_model.add_body('upper_strut', mirrored=True)\n",
    "sym_model.add_body('lower_strut' ,mirrored=True)\n",
    "sym_model.add_body('tie_rod', mirrored=True)\n",
    "sym_model.add_body('hub', mirrored=True)\n",
    "sym_model.add_body('steer', mirrored=True, virtual=True)\n",
    "sym_model.add_body('chassis', virtual=True)"
   ]
  },
  {
   "cell_type": "markdown",
   "metadata": {},
   "source": [
    "### Adding Joints"
   ]
  },
  {
   "cell_type": "code",
   "execution_count": 7,
   "metadata": {},
   "outputs": [],
   "source": [
    "sym_model.add_joint.spherical('uca_upright', 'rbr_uca', 'rbr_upright', mirrored=True)\n",
    "sym_model.add_joint.spherical('lca_upright', 'rbr_lca', 'rbr_upright', mirrored=True)\n",
    "sym_model.add_joint.spherical('tie_upright', 'rbr_tie_rod', 'rbr_upright', mirrored=True)\n",
    "sym_model.add_joint.revolute('uca_chassis', 'rbr_uca', 'vbs_chassis', mirrored=True)\n",
    "sym_model.add_joint.revolute('lca_chassis', 'rbr_lca', 'vbs_chassis', mirrored=True)\n",
    "sym_model.add_joint.revolute('hub_bearing', 'rbr_upright', 'rbr_hub', mirrored=True)\n",
    "sym_model.add_joint.universal('strut_chassis', 'rbr_upper_strut', 'vbs_chassis', mirrored=True)\n",
    "sym_model.add_joint.universal('strut_lca', 'rbr_lower_strut', 'rbr_lca', mirrored=True)\n",
    "sym_model.add_joint.universal('tie_steering', 'rbr_tie_rod', 'vbr_steer', mirrored=True)\n",
    "sym_model.add_joint.cylinderical('strut', 'rbr_upper_strut', 'rbr_lower_strut', mirrored=True)"
   ]
  },
  {
   "cell_type": "markdown",
   "metadata": {},
   "source": [
    "### Adding Actuators"
   ]
  },
  {
   "cell_type": "code",
   "execution_count": null,
   "metadata": {},
   "outputs": [],
   "source": [
    "#template.actuator.rotational_actuator('actuator_name', 'joint_name', mirror=False)"
   ]
  },
  {
   "cell_type": "markdown",
   "metadata": {},
   "source": [
    "### Adding Forces"
   ]
  },
  {
   "cell_type": "code",
   "execution_count": 8,
   "metadata": {},
   "outputs": [],
   "source": [
    "sym_model.add_force.internal_force('strut', 'rbr_upper_strut', 'rbr_lower_strut', mirrored=True)"
   ]
  },
  {
   "cell_type": "markdown",
   "metadata": {
    "colab_type": "text",
    "id": "goKtOBuLd1Kh"
   },
   "source": [
    "### **SYMBOLIC CHARACTERISTICS**"
   ]
  },
  {
   "cell_type": "code",
   "execution_count": 9,
   "metadata": {},
   "outputs": [
    {
     "data": {
      "image/png": "[encoded data removed]",
      "text/plain": [
       "<Figure size 720x432 with 1 Axes>"
      ]
     },
     "metadata": {},
     "output_type": "display_data"
    }
   ],
   "source": [
    "sym_model._mbs.draw_constraints_topology()"
   ]
  },
  {
   "cell_type": "markdown",
   "metadata": {},
   "source": [
    "### **ASSEMBLING**"
   ]
  },
  {
   "cell_type": "markdown",
   "metadata": {},
   "source": [
    "This is the last step of the symbolic building process, where we make the system starts the assemblage process of the governing equations, which will be used then in the code generation for the numerical simulation, and also can be used for further symbolic manipulations.</br>\n",
    "\n",
    "*Note: The equations' notations will be discussed in the tool documentation files.*"
   ]
  },
  {
   "cell_type": "code",
   "execution_count": 10,
   "metadata": {},
   "outputs": [],
   "source": [
    "sym_model.assemble()"
   ]
  },
  {
   "cell_type": "markdown",
   "metadata": {},
   "source": [
    "### SAVING"
   ]
  },
  {
   "cell_type": "code",
   "execution_count": 11,
   "metadata": {},
   "outputs": [],
   "source": [
    "sym_model.save()"
   ]
  },
  {
   "cell_type": "markdown",
   "metadata": {},
   "source": [
    "---------------------------------------------------------------\n",
    "---------------------------------------------------------------"
   ]
  },
  {
   "cell_type": "markdown",
   "metadata": {},
   "source": [
    "## **SYSTEM CONFIGURATION**\n",
    "---------------------------"
   ]
  },
  {
   "cell_type": "markdown",
   "metadata": {},
   "source": [
    "In this step we define a symbolic configuration of our symbolic topology. As you may have noticed in the symbolic topology building step, we only cared about the *'topology'*, thats is the system bodies and their connectivity, and we did not care explicitly with how these components are configured in space.</br>\n",
    "In order to create a valid numerical simulation session, we have to provide the system with its numerical configuration needed, for example, the joints' locations and orientations. The symbolic topology in its raw form will require you to manually enter all these numerical arguments, which can be cumbersome even for smaller systems. This can be checked by checking the configuration inputs of the symbolic configuration as ```config._config.input_nodes```\n",
    "\n",
    "Here we start by stating the symbolic inputs we wish to use instead of the default inputs set, and then we define the relation between these newly defined arguments and the original ones. The details of this process will be provided in the documentation."
   ]
  },
  {
   "cell_type": "code",
   "execution_count": 12,
   "metadata": {},
   "outputs": [],
   "source": [
    "from smbd.interfaces.scripting import configuration"
   ]
  },
  {
   "cell_type": "code",
   "execution_count": 13,
   "metadata": {},
   "outputs": [],
   "source": [
    "config_name = '%s_cfg'%project_name\n",
    "config = configuration(config_name, sym_model)"
   ]
  },
  {
   "cell_type": "markdown",
   "metadata": {},
   "source": [
    "### CONFIGURATION INPUTS"
   ]
  },
  {
   "cell_type": "code",
   "execution_count": 14,
   "metadata": {},
   "outputs": [],
   "source": [
    "config.add_point.UserInput('ucaf', mirror=True)\n",
    "config.add_point.UserInput('ucar', mirror=True)\n",
    "config.add_point.UserInput('ucao', mirror=True)\n",
    "config.add_point.UserInput('lcaf', mirror=True)\n",
    "config.add_point.UserInput('lcar', mirror=True)\n",
    "config.add_point.UserInput('lcao', mirror=True)\n",
    "config.add_point.UserInput('tro', mirror=True)\n",
    "config.add_point.UserInput('tri', mirror=True)\n",
    "config.add_point.UserInput('strut_chassis', mirror=True)\n",
    "config.add_point.UserInput('strut_lca', mirror=True)\n",
    "config.add_point.UserInput('strut_mid', mirror=True)\n",
    "config.add_point.UserInput('wc', mirror=True)\n",
    "config.add_point.UserInput('wc1', mirror=True)\n",
    "config.add_point.UserInput('wc2', mirror=True)\n",
    "\n",
    "\n",
    "config.add_vector.UserInput('x')\n",
    "config.add_vector.UserInput('y')\n",
    "config.add_vector.UserInput('z')"
   ]
  },
  {
   "cell_type": "markdown",
   "metadata": {},
   "source": [
    "### CONFIGURATION RELATIONS"
   ]
  },
  {
   "cell_type": "code",
   "execution_count": 15,
   "metadata": {},
   "outputs": [],
   "source": [
    "config.add_point.Centered('strut_mid', ('hpr_strut_chassis', 'hpr_strut_lca'), mirror=True)\n",
    "\n",
    "# Spherical Joints:\n",
    "config.add_relation.Equal_to('pt1_jcr_uca_upright', ('hpr_ucao',), mirror=True)\n",
    "config.add_relation.Equal_to('ax1_jcr_uca_upright', ('vcs_z',), mirror=True)\n",
    "\n",
    "config.add_relation.Equal_to('pt1_jcr_lca_upright', ('hpr_lcao',), mirror=True)\n",
    "config.add_relation.Equal_to('ax1_jcr_lca_upright', ('vcs_z',), mirror=True)\n",
    "\n",
    "config.add_relation.Equal_to('pt1_jcr_tie_upright', ('hpr_tro',), mirror=True)\n",
    "config.add_relation.Equal_to('ax1_jcr_tie_upright', ('vcs_z',), mirror=True)\n",
    "\n",
    "# Upper Control Arm Revolute Joint:\n",
    "config.add_relation.Centered('pt1_jcr_uca_chassis', ('hpr_ucaf','hpr_ucar'), mirror=True)\n",
    "config.add_relation.Oriented('ax1_jcr_uca_chassis', ('hpr_ucaf','hpr_ucar'), mirror=True)\n",
    "\n",
    "# Lower Control Arm Revolute Joint:\n",
    "config.add_relation.Centered('pt1_jcr_lca_chassis', ('hpr_lcaf','hpr_lcar'), mirror=True)\n",
    "config.add_relation.Oriented('ax1_jcr_lca_chassis', ('hpr_lcaf','hpr_lcar'), mirror=True)\n",
    "\n",
    "# Wheel Hub Revolute Joint:\n",
    "config.add_relation.Equal_to('pt1_jcr_hub_bearing', ('hpr_wc',), mirror=True)\n",
    "config.add_relation.Equal_to('ax1_jcr_hub_bearing', ('vcs_y',), mirror=True)\n",
    "\n",
    "# Strut-Chassis Universal Joint:\n",
    "config.add_relation.Equal_to('pt1_jcr_strut_chassis', ('hpr_strut_chassis',), mirror=True)\n",
    "config.add_relation.Oriented('ax1_jcr_strut_chassis', ('hpr_strut_chassis','hpr_strut_lca'), mirror=True)\n",
    "config.add_relation.Oriented('ax2_jcr_strut_chassis', ('hpr_strut_lca','hpr_strut_chassis'), mirror=True)\n",
    "\n",
    "# Strut-LCA Universal Joint:\n",
    "config.add_relation.Equal_to('pt1_jcr_strut_lca', ('hpr_strut_lca',), mirror=True)\n",
    "config.add_relation.Oriented('ax1_jcr_strut_lca', ('hpr_strut_chassis','hpr_strut_lca'), mirror=True)\n",
    "config.add_relation.Oriented('ax2_jcr_strut_lca', ('hpr_strut_lca','hpr_strut_chassis'), mirror=True)\n",
    "\n",
    "# Tie-Steer Universal Joint:\n",
    "config.add_relation.Equal_to('pt1_jcr_tie_steering', ('hpr_tri',), mirror=True)\n",
    "config.add_relation.Oriented('ax1_jcr_tie_steering', ('hpr_tri','hpr_tro'), mirror=True)\n",
    "config.add_relation.Oriented('ax2_jcr_tie_steering', ('hpr_tro','hpr_tri'), mirror=True)\n",
    "\n",
    "# Strut Cylinderical Joint:\n",
    "config.add_relation.Equal_to('pt1_jcr_strut', ('hpr_strut_mid',), mirror=True)\n",
    "config.add_relation.Oriented('ax1_jcr_strut', ('hpr_strut_lca','hpr_strut_chassis'), mirror=True)"
   ]
  },
  {
   "cell_type": "markdown",
   "metadata": {},
   "source": [
    "### GEOMETRIES"
   ]
  },
  {
   "cell_type": "markdown",
   "metadata": {},
   "source": [
    "Here we start defining basic geometric shapes that can represents the shapes of the bodies in our system. This serves two points:\n",
    "- Visualization and Animation in blender.\n",
    "- Evaluating the bodies inertia properties from these basic geometries instead of explicit definition."
   ]
  },
  {
   "cell_type": "code",
   "execution_count": 16,
   "metadata": {},
   "outputs": [],
   "source": [
    "config.add_scalar.UserInput('links_ro')\n",
    "config.add_scalar.UserInput('strut_outer')\n",
    "config.add_scalar.UserInput('strut_inner')\n",
    "config.add_scalar.UserInput('thickness')\n",
    "config.add_scalar.UserInput('hub_radius')\n",
    "\n",
    "config.add_geometry.Triangular_Prism('uca', ('hpr_ucaf','hpr_ucar','hpr_ucao','s_thickness'), mirror=True)\n",
    "config.assign_geometry_to_body('rbr_uca', 'gmr_uca', mirror=True)\n",
    "\n",
    "config.add_geometry.Triangular_Prism('lca', ('hpr_lcaf','hpr_lcar','hpr_lcao','s_thickness'), mirror=True)\n",
    "config.assign_geometry_to_body('rbr_lca', 'gmr_lca', mirror=True)\n",
    "\n",
    "config.add_geometry.Triangular_Prism('upright', ('hpr_ucao','hpr_wc','hpr_lcao','s_thickness'), mirror=True)\n",
    "config.assign_geometry_to_body('rbr_upright', 'gmr_upright', mirror=True)\n",
    "\n",
    "config.add_geometry.Cylinder_Geometry('upper_strut', ('hpr_strut_chassis','hpr_strut_mid','s_strut_outer'), mirror=True)\n",
    "config.assign_geometry_to_body('rbr_upper_strut', 'gmr_upper_strut', mirror=True)\n",
    "\n",
    "config.add_geometry.Cylinder_Geometry('lower_strut', ('hpr_strut_mid','hpr_strut_lca','s_strut_inner'), mirror=True)\n",
    "config.assign_geometry_to_body('rbr_lower_strut', 'gmr_lower_strut', mirror=True)\n",
    "\n",
    "config.add_geometry.Cylinder_Geometry('tie_rod', ('hpr_tri','hpr_tro','s_links_ro'), mirror=True)\n",
    "config.assign_geometry_to_body('rbr_tie_rod', 'gmr_tie_rod', mirror=True)\n",
    "\n",
    "config.add_geometry.Cylinder_Geometry('hub', ('hpr_wc1','hpr_wc2','s_hub_radius'), mirror=True)\n",
    "config.assign_geometry_to_body('rbr_hub', 'gmr_hub', mirror=True)"
   ]
  },
  {
   "cell_type": "markdown",
   "metadata": {},
   "source": [
    "### ASSEMBLING"
   ]
  },
  {
   "cell_type": "code",
   "execution_count": 17,
   "metadata": {},
   "outputs": [],
   "source": [
    "config.assemble()\n",
    "config.extract_inputs_to_csv()"
   ]
  },
  {
   "cell_type": "markdown",
   "metadata": {},
   "source": [
    "---------------------------------------------------------------\n",
    "---------------------------------------------------------------"
   ]
  },
  {
   "cell_type": "markdown",
   "metadata": {},
   "source": [
    "## **CODE GENERATION**\n",
    "----------------------"
   ]
  },
  {
   "cell_type": "markdown",
   "metadata": {},
   "source": [
    "This step aims to create a valid code that can be used for numerical simulation. We will use the ***python code generators*** to create a valid numerical simulation environment in python.</br>\n",
    "Theoretically, the symbolic environment is uncoupled from the simulation environment, which opens the door to create various simulation environments that can be in any language."
   ]
  },
  {
   "cell_type": "code",
   "execution_count": 18,
   "metadata": {},
   "outputs": [],
   "source": [
    "from smbd.numenv.python.codegen import generators"
   ]
  },
  {
   "cell_type": "code",
   "execution_count": 19,
   "metadata": {},
   "outputs": [
    {
     "name": "stdout",
     "output_type": "stream",
     "text": [
      "File full path : numenv/templates/double_wishbone_direct_acting.py\n"
     ]
    }
   ],
   "source": [
    "model_code = generators.template_codegen(sym_model._mbs)\n",
    "model_code.write_code_file('numenv/templates')"
   ]
  },
  {
   "cell_type": "code",
   "execution_count": 20,
   "metadata": {},
   "outputs": [
    {
     "name": "stdout",
     "output_type": "stream",
     "text": [
      "File full path : numenv/configurations/double_wishbone_direct_acting_cfg.py\n"
     ]
    }
   ],
   "source": [
    "config_code = generators.configuration_codegen(config._config)\n",
    "config_code.write_code_file('numenv/configurations')"
   ]
  },
  {
   "cell_type": "markdown",
   "metadata": {},
   "source": [
    "### Generating Blender Script"
   ]
  },
  {
   "cell_type": "code",
   "execution_count": 21,
   "metadata": {},
   "outputs": [],
   "source": [
    "from smbd.utilities.blender.codegen import script_generator"
   ]
  },
  {
   "cell_type": "code",
   "execution_count": 22,
   "metadata": {},
   "outputs": [],
   "source": [
    "bpy_code = script_generator(config._config)\n",
    "bpy_code.write_code_file('numenv/blender')"
   ]
  },
  {
   "cell_type": "code",
   "execution_count": null,
   "metadata": {},
   "outputs": [],
   "source": []
  }
 ],
 "metadata": {
  "kernelspec": {
   "display_name": "Python 3",
   "language": "python",
   "name": "python3"
  },
  "language_info": {
   "codemirror_mode": {
    "name": "ipython",
    "version": 3
   },
   "file_extension": ".py",
   "mimetype": "text/x-python",
   "name": "python",
   "nbconvert_exporter": "python",
   "pygments_lexer": "ipython3",
   "version": "3.7.3"
  }
 },
 "nbformat": 4,
 "nbformat_minor": 2
}
